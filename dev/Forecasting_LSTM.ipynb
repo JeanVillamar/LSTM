{
  "cells": [
    {
      "cell_type": "markdown",
      "metadata": {
        "id": "nSO5WF14g-Sp"
      },
      "source": [
        "# *FORECASTING* CON REDES LSTM - PARTE 1: PREPARACIÓN DE LOS DATOS"
      ]
    },
    {
      "cell_type": "markdown",
      "metadata": {
        "id": "Am94BXzEg-Sq"
      },
      "source": [
        "## Contenido\n",
        "\n",
        "1. [Introducción]\n",
        "2. [El set de datos]\n",
        "3. [El problema a resolver]\n",
        "4. [Lectura del set de datos]\n",
        "5. [Procesamiento inicial del dataset]\n",
        "6. [Análisis exploratorio]\n",
        "7. [Pre-procesamiento]\n",
        "8. [Conclusión]"
      ]
    },
    {
      "cell_type": "markdown",
      "metadata": {
        "id": "pBfAmqbIg-Sq"
      },
      "source": [
        "## 1. Lectura del set de datos"
      ]
    },
    {
      "cell_type": "code",
      "execution_count": 1624,
      "metadata": {
        "colab": {
          "base_uri": "https://localhost:8080/",
          "height": 223
        },
        "id": "Dh2uWAOPg-Sr",
        "outputId": "f295f22a-4ead-46ed-f706-a95743f16e17"
      },
      "outputs": [
        {
          "data": {
            "text/html": [
              "<div>\n",
              "<style scoped>\n",
              "    .dataframe tbody tr th:only-of-type {\n",
              "        vertical-align: middle;\n",
              "    }\n",
              "\n",
              "    .dataframe tbody tr th {\n",
              "        vertical-align: top;\n",
              "    }\n",
              "\n",
              "    .dataframe thead th {\n",
              "        text-align: right;\n",
              "    }\n",
              "</style>\n",
              "<table border=\"1\" class=\"dataframe\">\n",
              "  <thead>\n",
              "    <tr style=\"text-align: right;\">\n",
              "      <th></th>\n",
              "      <th>Fecha</th>\n",
              "      <th>Codigo</th>\n",
              "      <th>POS</th>\n",
              "      <th>id_item</th>\n",
              "      <th>Descripcion_larga</th>\n",
              "      <th>cantidad_unid</th>\n",
              "      <th>cantidad_frac</th>\n",
              "      <th>latitud</th>\n",
              "      <th>longitud</th>\n",
              "      <th>provincia</th>\n",
              "    </tr>\n",
              "  </thead>\n",
              "  <tbody>\n",
              "    <tr>\n",
              "      <th>0</th>\n",
              "      <td>7/1/2016 18:49</td>\n",
              "      <td>PG009</td>\n",
              "      <td>PH GYE PUERTO AZUL</td>\n",
              "      <td>13887.0</td>\n",
              "      <td>JERINGA MEGA INSUL 1MLx29Gx1/2x100</td>\n",
              "      <td>0.0</td>\n",
              "      <td>1.0</td>\n",
              "      <td>-2.187093496</td>\n",
              "      <td>-79.96705627</td>\n",
              "      <td>Guayas</td>\n",
              "    </tr>\n",
              "    <tr>\n",
              "      <th>1</th>\n",
              "      <td>10/1/2016 18:27</td>\n",
              "      <td>CO017</td>\n",
              "      <td>CA STA SUCRE Y ELOY ALFAR</td>\n",
              "      <td>13887.0</td>\n",
              "      <td>JERINGA MEGA INSUL 1MLx29Gx1/2x100</td>\n",
              "      <td>0.0</td>\n",
              "      <td>2.0</td>\n",
              "      <td>-3.44791</td>\n",
              "      <td>-79.96053</td>\n",
              "      <td>El Oro</td>\n",
              "    </tr>\n",
              "    <tr>\n",
              "      <th>2</th>\n",
              "      <td>11/1/2016 15:12</td>\n",
              "      <td>PP007</td>\n",
              "      <td>PH UIO FLORIDA</td>\n",
              "      <td>13887.0</td>\n",
              "      <td>JERINGA MEGA INSUL 1MLx29Gx1/2x100</td>\n",
              "      <td>0.0</td>\n",
              "      <td>6.0</td>\n",
              "      <td>-0.141401</td>\n",
              "      <td>-78.492718</td>\n",
              "      <td>Pichincha</td>\n",
              "    </tr>\n",
              "    <tr>\n",
              "      <th>3</th>\n",
              "      <td>16/1/2016 10:21</td>\n",
              "      <td>PG009</td>\n",
              "      <td>PH GYE PUERTO AZUL</td>\n",
              "      <td>13887.0</td>\n",
              "      <td>JERINGA MEGA INSUL 1MLx29Gx1/2x100</td>\n",
              "      <td>0.0</td>\n",
              "      <td>3.0</td>\n",
              "      <td>-2.187093496</td>\n",
              "      <td>-79.96705627</td>\n",
              "      <td>Guayas</td>\n",
              "    </tr>\n",
              "    <tr>\n",
              "      <th>4</th>\n",
              "      <td>12/1/2016 18:53</td>\n",
              "      <td>PP007</td>\n",
              "      <td>PH UIO FLORIDA</td>\n",
              "      <td>13887.0</td>\n",
              "      <td>JERINGA MEGA INSUL 1MLx29Gx1/2x100</td>\n",
              "      <td>0.0</td>\n",
              "      <td>2.0</td>\n",
              "      <td>-0.141401</td>\n",
              "      <td>-78.492718</td>\n",
              "      <td>Pichincha</td>\n",
              "    </tr>\n",
              "  </tbody>\n",
              "</table>\n",
              "</div>"
            ],
            "text/plain": [
              "             Fecha Codigo                        POS  id_item  \\\n",
              "0   7/1/2016 18:49  PG009         PH GYE PUERTO AZUL  13887.0   \n",
              "1  10/1/2016 18:27  CO017  CA STA SUCRE Y ELOY ALFAR  13887.0   \n",
              "2  11/1/2016 15:12  PP007             PH UIO FLORIDA  13887.0   \n",
              "3  16/1/2016 10:21  PG009         PH GYE PUERTO AZUL  13887.0   \n",
              "4  12/1/2016 18:53  PP007             PH UIO FLORIDA  13887.0   \n",
              "\n",
              "                    Descripcion_larga  cantidad_unid  cantidad_frac  \\\n",
              "0  JERINGA MEGA INSUL 1MLx29Gx1/2x100            0.0            1.0   \n",
              "1  JERINGA MEGA INSUL 1MLx29Gx1/2x100            0.0            2.0   \n",
              "2  JERINGA MEGA INSUL 1MLx29Gx1/2x100            0.0            6.0   \n",
              "3  JERINGA MEGA INSUL 1MLx29Gx1/2x100            0.0            3.0   \n",
              "4  JERINGA MEGA INSUL 1MLx29Gx1/2x100            0.0            2.0   \n",
              "\n",
              "        latitud      longitud  provincia  \n",
              "0  -2.187093496  -79.96705627     Guayas  \n",
              "1      -3.44791     -79.96053     El Oro  \n",
              "2     -0.141401    -78.492718  Pichincha  \n",
              "3  -2.187093496  -79.96705627     Guayas  \n",
              "4     -0.141401    -78.492718  Pichincha  "
            ]
          },
          "execution_count": 1624,
          "metadata": {},
          "output_type": "execute_result"
        }
      ],
      "source": [
        "#from google.colab import drive\n",
        "import pandas as pd \n",
        "import matplotlib.pyplot as plt\n",
        "import numpy as np\n",
        "\n",
        "# Montar Google Drive\n",
        "#drive.mount('/gdrive')\n",
        "\n",
        "# Leer set de datos\n",
        "ruta = './'\n",
        "datos = pd.read_csv(ruta+'Ventas_Total2.csv', delimiter=';')\n",
        "#datos = pd.read_csv(ruta+'Ventas_SENSODYNEBLANQ_2016_2024.csv', delimiter=';')\n",
        "#datos = pd.read_csv(ruta+'Ventas_XARELTO_2016_2024.csv', delimiter=';')\n",
        "\n",
        "datos.head()\n",
        "\n"
      ]
    },
    {
      "cell_type": "code",
      "execution_count": 1625,
      "metadata": {
        "colab": {
          "base_uri": "https://localhost:8080/"
        },
        "id": "PgGZOGv_59S_",
        "outputId": "e947767f-e9ed-44c3-f10b-176760cc4d5a"
      },
      "outputs": [],
      "source": [
        "idItem = 88275"
      ]
    },
    {
      "cell_type": "markdown",
      "metadata": {
        "id": "pAWkO-x2g-Ss"
      },
      "source": [
        "## 2. Procesamiento inicial del dataset"
      ]
    },
    {
      "cell_type": "code",
      "execution_count": 1626,
      "metadata": {
        "id": "_pbAFnPK8CpM"
      },
      "outputs": [],
      "source": [
        "# Suponiendo que df es tu DataFrame original y quieres seleccionar solo ciertas columnas\n",
        "columnas_especificas = ['Fecha', 'id_item','cantidad_unid', 'cantidad_frac']\n",
        "datos = datos[columnas_especificas]\n",
        "datos = datos[datos['id_item'] == idItem]\n"
      ]
    },
    {
      "cell_type": "code",
      "execution_count": 1627,
      "metadata": {
        "id": "elKLa4oQZM8Z"
      },
      "outputs": [],
      "source": [
        "def validar_y_actualizar(fila):\n",
        "    if  fila[\"cantidad_unid\"] >= 1:\n",
        "        if (fila['id_item'] == 13887): #JERINGA MEGA INSUL 1MLx29Gx1/2x100\n",
        "          fila[\"cantidad_frac\"] += 100 * int(fila[\"cantidad_unid\"])\n",
        "          #datos = datos = datos.rename(columns={'cantidad_unid': 'cantidad_frac'})\n",
        "          #fila[\"cantidad_unid\"] = 0\n",
        "        elif fila['id_item'] in {90765, 79680, 27112, 1669, 101609}: #x'unidad  \n",
        "          fila[\"cantidad_frac\"] += int(fila[\"cantidad_unid\"])\n",
        "\n",
        "        elif(fila['id_item'] == 54122): #XARELTO COM-RECx10MGx10\n",
        "          fila[\"cantidad_frac\"] += 10 * int(fila[\"cantidad_unid\"])\n",
        "        \n",
        "        elif(fila['id_item'] == 88275): #MICARDIX\n",
        "           fila['cantidad_frac'] += 28 * int(fila[\"cantidad_unid\"])  \n",
        "\n",
        "    return fila\n",
        "\n",
        "\n",
        "# Aplicar la función a cada fila\n",
        "datos = datos.apply(validar_y_actualizar, axis=1)\n",
        "datos = datos.drop(columns = [\"cantidad_unid\"])"
      ]
    },
    {
      "cell_type": "markdown",
      "metadata": {
        "id": "MroaROOZctAI"
      },
      "source": [
        "### 2.1 Manipulación de fechas"
      ]
    },
    {
      "cell_type": "code",
      "execution_count": 1628,
      "metadata": {
        "colab": {
          "base_uri": "https://localhost:8080/"
        },
        "id": "v4_Hg2rOg-Ss",
        "outputId": "d3a3bbc0-3a94-497f-d288-e150959b837c"
      },
      "outputs": [
        {
          "data": {
            "text/plain": [
              "dtype('O')"
            ]
          },
          "execution_count": 1628,
          "metadata": {},
          "output_type": "execute_result"
        }
      ],
      "source": [
        "# verificar que el tipo de dato es object 'O'\n",
        "datos[\"Fecha\"].dtype"
      ]
    },
    {
      "cell_type": "code",
      "execution_count": 1629,
      "metadata": {
        "id": "utieDtbEg-St"
      },
      "outputs": [],
      "source": [
        "# Pasar la columna de Fecha al formato datetime\n",
        "datos['Fecha'] = pd.to_datetime(datos['Fecha'], format='%d/%m/%Y %H:%M')\n",
        "# Establecer la hora y el minuto a 0\n",
        "datos['Fecha'] = datos['Fecha'].apply(lambda dt: dt.replace(hour=0, minute=0, second=0))\n",
        "datos = datos.groupby(['Fecha', 'id_item'], as_index= False).sum()\n",
        "# Ordenemos el dataset de forma ascendente según \"fecha\"\n",
        "datos.sort_index(inplace=False)\n",
        "datos.set_index('Fecha', inplace= True)\n",
        "df = datos\n"
      ]
    },
    {
      "cell_type": "code",
      "execution_count": 1630,
      "metadata": {
        "colab": {
          "base_uri": "https://localhost:8080/",
          "height": 237
        },
        "id": "ATmUwVMmNzGA",
        "outputId": "6adb6e31-6a15-4bfb-96e1-cf39f6df3a18"
      },
      "outputs": [
        {
          "data": {
            "text/html": [
              "<div>\n",
              "<style scoped>\n",
              "    .dataframe tbody tr th:only-of-type {\n",
              "        vertical-align: middle;\n",
              "    }\n",
              "\n",
              "    .dataframe tbody tr th {\n",
              "        vertical-align: top;\n",
              "    }\n",
              "\n",
              "    .dataframe thead th {\n",
              "        text-align: right;\n",
              "    }\n",
              "</style>\n",
              "<table border=\"1\" class=\"dataframe\">\n",
              "  <thead>\n",
              "    <tr style=\"text-align: right;\">\n",
              "      <th></th>\n",
              "      <th>id_item</th>\n",
              "      <th>cantidad_frac</th>\n",
              "    </tr>\n",
              "    <tr>\n",
              "      <th>Fecha</th>\n",
              "      <th></th>\n",
              "      <th></th>\n",
              "    </tr>\n",
              "  </thead>\n",
              "  <tbody>\n",
              "    <tr>\n",
              "      <th>2016-01-01</th>\n",
              "      <td>88275.0</td>\n",
              "      <td>380.0</td>\n",
              "    </tr>\n",
              "    <tr>\n",
              "      <th>2016-01-02</th>\n",
              "      <td>88275.0</td>\n",
              "      <td>989.0</td>\n",
              "    </tr>\n",
              "    <tr>\n",
              "      <th>2016-01-03</th>\n",
              "      <td>88275.0</td>\n",
              "      <td>807.0</td>\n",
              "    </tr>\n",
              "    <tr>\n",
              "      <th>2016-01-04</th>\n",
              "      <td>88275.0</td>\n",
              "      <td>1387.0</td>\n",
              "    </tr>\n",
              "    <tr>\n",
              "      <th>2016-01-05</th>\n",
              "      <td>88275.0</td>\n",
              "      <td>1250.0</td>\n",
              "    </tr>\n",
              "  </tbody>\n",
              "</table>\n",
              "</div>"
            ],
            "text/plain": [
              "            id_item  cantidad_frac\n",
              "Fecha                             \n",
              "2016-01-01  88275.0          380.0\n",
              "2016-01-02  88275.0          989.0\n",
              "2016-01-03  88275.0          807.0\n",
              "2016-01-04  88275.0         1387.0\n",
              "2016-01-05  88275.0         1250.0"
            ]
          },
          "execution_count": 1630,
          "metadata": {},
          "output_type": "execute_result"
        }
      ],
      "source": [
        "df.head()\n"
      ]
    },
    {
      "cell_type": "markdown",
      "metadata": {
        "id": "_cOy3GuHP6nr"
      },
      "source": [
        "## 3. Pre-procesamiento"
      ]
    },
    {
      "cell_type": "markdown",
      "metadata": {
        "id": "gcoxFaWKQFRC"
      },
      "source": [
        "**Se tiene 6 variables**\n",
        "- *Fecha*: Fecha de compra del producto\n",
        "- *codigo*: codigo de la farmacia donde se compro el producto\n",
        "- *POS*: nombre de la farmacia\n",
        "- *id_item*: codigo del producto\n",
        "- *Descripcion_larga*: nombre del producto\n",
        "- *cantidad_uni*: cantidad de producto comprada\n",
        "\n",
        "\n",
        "**Tendremos dos tipos de variables al momento de implementar los modelos LSTM:**\n",
        "- Variable a predecir: la variable a pronosticar (salida del modelo LSTM). En este caso es *cantidad_unid*\n",
        "\n",
        "- Variables predictoras (o covariables): las variables de entrada al modelo LSTM a partir de las cuales se realizará la predicción.\n",
        "  - Puede incluir la variable a predecir (*cantidad_unid*)\n",
        "  - Puede incluir la variable tiempo (columna *Fecha*)\n",
        "\n",
        "\n",
        "---\n",
        "\n"
      ]
    },
    {
      "cell_type": "code",
      "execution_count": 1631,
      "metadata": {
        "colab": {
          "base_uri": "https://localhost:8080/",
          "height": 390
        },
        "id": "LI_gNC25pfq6",
        "outputId": "89a51241-3774-4971-e580-2f35fa62b6ee"
      },
      "outputs": [
        {
          "data": {
            "image/png": "[encoded data removed]",
            "text/plain": [
              "<Figure size 800x400 with 1 Axes>"
            ]
          },
          "metadata": {},
          "output_type": "display_data"
        }
      ],
      "source": [
        "df['cantidad_frac'].plot(kind='line', figsize=(8, 4), title='cantidad_frac')\n",
        "plt.gca().spines[['top', 'right']].set_visible(False)"
      ]
    },
    {
      "cell_type": "markdown",
      "metadata": {
        "id": "3iMCDY-XVMAf"
      },
      "source": [
        "**Observaciones:**\n",
        "Al parecer hay varios outliers, en específico el que está a mediados del año 2022. Otro punto a considerar es que no se encuentran registros del año 2021 por motivos de pandemia es un año que se presta a valores atipicos.\n",
        "\n",
        "\n",
        "---\n",
        "\n"
      ]
    },
    {
      "cell_type": "code",
      "execution_count": 1632,
      "metadata": {
        "colab": {
          "base_uri": "https://localhost:8080/"
        },
        "id": "d-jH4-zKg-St",
        "outputId": "4082aab2-7865-4fac-9b12-0a9b014bdeea"
      },
      "outputs": [
        {
          "name": "stdout",
          "output_type": "stream",
          "text": [
            "Cantidad de NaNs:\n",
            "\tColumna id_item: 0\n",
            "\tColumna cantidad_frac: 0\n"
          ]
        }
      ],
      "source": [
        "# verficar datos faltantes\n",
        "print('Cantidad de NaNs:')\n",
        "for column in df:\n",
        "    nans = df[column].isna().sum()\n",
        "\n",
        "    print(f'\\tColumna {column}: {nans}')"
      ]
    },
    {
      "cell_type": "markdown",
      "metadata": {
        "id": "09RH-piIg-St"
      },
      "source": [
        "garantizar que la periodicidad de las muestras es exactamente de 1 día:"
      ]
    },
    {
      "cell_type": "code",
      "execution_count": 1633,
      "metadata": {
        "colab": {
          "base_uri": "https://localhost:8080/"
        },
        "id": "Fi8zH-5dg-St",
        "outputId": "f279b51f-288e-4a97-db6d-9f9faad0a92d"
      },
      "outputs": [
        {
          "name": "stdout",
          "output_type": "stream",
          "text": [
            "Fecha\n",
            "1.0    3108\n",
            "2.0       8\n",
            "Name: count, dtype: int64\n"
          ]
        }
      ],
      "source": [
        "# Convertir el índice a fecha y hora si aún no lo está\n",
        "df.index = pd.to_datetime(df.index)\n",
        "\n",
        "# Calcular diferencias (en días) entre cada par de datos consecutivos\n",
        "df_time_diffs = df.index.to_series().diff().dt.days\n",
        "\n",
        "# Contar las ocurrencias de cada diferencia\n",
        "print(df_time_diffs.value_counts())"
      ]
    },
    {
      "cell_type": "markdown",
      "metadata": {
        "id": "ceVlCcRog-St"
      },
      "source": [
        "\n",
        "Por lo tanto vemos que:\n",
        "\n",
        "- hay 2178 pares de registro con una diferencia de 1 día.\n",
        "- hay 4 pares de registro con una diferencia de 2 días.\n",
        "- hay 1 par de registros con una diferencia de 368 días. (la fecha de pandemia)"
      ]
    },
    {
      "cell_type": "code",
      "execution_count": 1634,
      "metadata": {
        "colab": {
          "base_uri": "https://localhost:8080/",
          "height": 912
        },
        "id": "Iy-8NIJtg-Su",
        "outputId": "5a76fb2b-93c5-4c30-ca20-3e4df1d3e76b"
      },
      "outputs": [
        {
          "data": {
            "image/png": "[encoded data removed]",
            "text/plain": [
              "<Figure size 1600x1200 with 2 Axes>"
            ]
          },
          "metadata": {},
          "output_type": "display_data"
        }
      ],
      "source": [
        "# Dibujemos nuestras variables\n",
        "cols = df.columns\n",
        "\n",
        "# N = 24*30*12 # Dibujar 1 año continuo\n",
        "N = df.shape[0]\n",
        "plots = df[cols][0:N]\n",
        "plots.index = df.index[0:N]\n",
        "_ = plots.plot(subplots=True, figsize=(16,12))"
      ]
    },
    {
      "cell_type": "markdown",
      "metadata": {
        "id": "Hso0szYNs9zl"
      },
      "source": [
        "No hay datos faltantes\n",
        "Pero debemos mejorar la perioricidad del dataset"
      ]
    },
    {
      "cell_type": "markdown",
      "metadata": {
        "id": "wpDqTjF2tjUP"
      },
      "source": [
        "### 3.1. Ajuste de la periodicidad del dataset\n"
      ]
    },
    {
      "cell_type": "code",
      "execution_count": 1635,
      "metadata": {},
      "outputs": [
        {
          "name": "stdout",
          "output_type": "stream",
          "text": [
            "Fecha\n",
            "1.0    3124\n",
            "Name: count, dtype: int64\n"
          ]
        }
      ],
      "source": [
        "# Reinterpolar el dataset con una periodicidad de 1 día\n",
        "#df2 = df.asfreq(freq='D', method='bfill')\n",
        "#df2 = df.asfreq(freq='D', method='ffill')\n",
        "df2 = df.asfreq(freq='D', fill_value=0)\n",
        "\n",
        "\n",
        "# Y verificar que la totalidad del dataset tiene esta periodicidad\n",
        "df_time_diffs = df2.index.to_series().diff().dt.days\n",
        "print(df_time_diffs.value_counts())"
      ]
    },
    {
      "cell_type": "code",
      "execution_count": 1636,
      "metadata": {
        "id": "vgYjbHNhb_eH"
      },
      "outputs": [],
      "source": [
        "# Función para eliminar outliers y reemplazarlos por el valor promedio\n",
        "def eliminar_outliers(df, columnas):\n",
        "    for columna in columnas:\n",
        "        Q1 = df[columna].quantile(0.25)\n",
        "        Q3 = df[columna].quantile(0.75)\n",
        "        IQR = Q3 - Q1\n",
        "        limite_inferior = Q1 - 1.5 * IQR\n",
        "        limite_superior = Q3 + 1.5 * IQR\n",
        "\n",
        "        # Calcular el promedio sin outliers\n",
        "        promedio_sin_outliers = df[(df[columna] >= limite_inferior) & (df[columna] <= limite_superior)][columna].mean()\n",
        "\n",
        "        # Reemplazar los outliers por el promedio\n",
        "        df[columna] = df[columna].apply(lambda x: promedio_sin_outliers if (x < limite_inferior or x > limite_superior) else x)\n",
        "\n",
        "    return df\n",
        "\n",
        "#Seleccionar las columnas que deseas procesar\n",
        "columnas_a_procesar = ['cantidad_frac']  # Ajusta según tus necesidades\n",
        "\n",
        "# Aplicar la función\n",
        "df2 = eliminar_outliers(df2, columnas_a_procesar)\n",
        "\n",
        "\n"
      ]
    },
    {
      "cell_type": "code",
      "execution_count": null,
      "metadata": {
        "colab": {
          "base_uri": "https://localhost:8080/"
        },
        "id": "26NFDOBCg-Su",
        "outputId": "eacd9a5a-3700-4994-d35d-7ca01441d01f"
      },
      "outputs": [],
      "source": []
    },
    {
      "cell_type": "code",
      "execution_count": 1637,
      "metadata": {
        "colab": {
          "base_uri": "https://localhost:8080/"
        },
        "id": "dyFT263ig-Su",
        "outputId": "aac33e3c-3b72-4b5b-959a-4fbda83dd99e"
      },
      "outputs": [
        {
          "name": "stdout",
          "output_type": "stream",
          "text": [
            "Cantidad de NaNs:\n",
            "\tColumna id_item: 0\n",
            "\tColumna cantidad_frac: 0\n"
          ]
        }
      ],
      "source": [
        "# Verificar que el dataset resultante no contiene NaNs:\n",
        "print('Cantidad de NaNs:')\n",
        "for column in df:\n",
        "    nans = df2[column].isna().sum()\n",
        "    print(f'\\tColumna {column}: {nans}')"
      ]
    },
    {
      "cell_type": "code",
      "execution_count": 1638,
      "metadata": {
        "colab": {
          "base_uri": "https://localhost:8080/"
        },
        "id": "YNVDaZtQg-Su",
        "outputId": "a98ca301-f96e-47cf-932d-296ecf6fbd26"
      },
      "outputs": [
        {
          "name": "stdout",
          "output_type": "stream",
          "text": [
            "Promedios original/modificado: 88049.02/88049.02\n",
            "Promedios original/modificado: 1301.80/1301.80\n"
          ]
        }
      ],
      "source": [
        "# Y finalmente verificar las columnas originales y modificadas\n",
        "# para constatar que los valores promedio no cambian\n",
        "\n",
        "for column in df:\n",
        "  # Verificar si la columna actual es de tipo flotante\n",
        "  if pd.api.types.is_numeric_dtype(df2[column]):\n",
        "    # Calcular y imprimir promedios solo para columnas flotantes\n",
        "    print(f'Promedios original/modificado: {df2[column].mean():.2f}/{df2[column].mean():.2f}')\n"
      ]
    },
    {
      "cell_type": "code",
      "execution_count": 1639,
      "metadata": {
        "id": "V0z2wgBu7WVm"
      },
      "outputs": [],
      "source": [
        "df = df2"
      ]
    },
    {
      "cell_type": "markdown",
      "metadata": {
        "id": "ZeAAHRLU5clc"
      },
      "source": [
        "### En este punto ya contamos con un dataset íntegro (no contiene datos faltantes ni *outliers* y tiene una periodicidad de 1 día).\n",
        "---\n",
        "\n"
      ]
    },
    {
      "cell_type": "markdown",
      "metadata": {
        "id": "tuUo30jRg-Sv"
      },
      "source": [
        "### 3.2. Partición del set de entrenamiento y prueba"
      ]
    },
    {
      "cell_type": "markdown",
      "metadata": {
        "id": "7nWRWMQcg-Su"
      },
      "source": [
        "1. Partición en train/val/test (80%, 10%, 10%)\n",
        "2. Generación del dataset supervisado: entrada y salida del modelo\n",
        "3. Escalamiento"
      ]
    },
    {
      "cell_type": "markdown",
      "metadata": {
        "id": "VbYUlHaig-Sv"
      },
      "source": [
        "A diferencia de otros modelos de Machine Learning, en el caso de series de tiempo **se debe garantizar que se generan las particiones sin mezclar aleatoriamente los datos**.\n",
        "\n",
        "Recordemos además que:\n",
        "- El set de entrenamiento (*train*) se usará para encontrar los parámetros del modelo\n",
        "- El set de validación (*val*) para verificar que no haya *under/over-fitting* del modelo y para ajustar sus hiperparámetros\n",
        "- El set de prueba (*test*) para poner a prueba el mejor modelo encontrado durante el entrenamiento/validación"
      ]
    },
    {
      "cell_type": "markdown",
      "metadata": {
        "id": "pyhCXyksg-Sv"
      },
      "source": []
    },
    {
      "cell_type": "code",
      "execution_count": 1640,
      "metadata": {
        "colab": {
          "base_uri": "https://localhost:8080/"
        },
        "id": "I1qi1yePg-Sv",
        "outputId": "4a464cb6-e8e2-4072-edb2-d4155383fac7"
      },
      "outputs": [
        {
          "name": "stdout",
          "output_type": "stream",
          "text": [
            "Tamaño set de entrenamiento: (2500,)\n",
            "Tamaño set de validación: (312,)\n",
            "Tamaño set de prueba: (313,)\n"
          ]
        }
      ],
      "source": [
        "# Función para generar las particiones preservando las características\n",
        "# de la serie de tiempo\n",
        "\n",
        "#tr_size = 0.8 80% para el entrenamiento\n",
        "#vl_size = 0.1 10% para la validación\n",
        "#ts_size = 0.1 10% para el test\n",
        "\n",
        "\n",
        "def train_val_test_split(serie, tr_size=0.8, vl_size=0.1, ts_size=0.1 ):\n",
        "    # Definir número de datos en cada subserie\n",
        "    N = serie.shape[0]\n",
        "    Ntrain = int(tr_size*N)  # Número de datos de entrenamiento\n",
        "    Nval = int(vl_size*N)    # Número de datos de validación\n",
        "    Ntst = N - Ntrain - Nval # Número de datos de prueba\n",
        "\n",
        "    # Realizar partición\n",
        "    train = serie[0:Ntrain]\n",
        "    val = serie[Ntrain:Ntrain+Nval]\n",
        "    test = serie[Ntrain+Nval:]\n",
        "\n",
        "    return train, val, test\n",
        "\n",
        "# Prueba de la función\n",
        "tr, vl, ts = train_val_test_split(df['cantidad_frac'])\n",
        "\n",
        "print(f'Tamaño set de entrenamiento: {tr.shape}')\n",
        "print(f'Tamaño set de validación: {vl.shape}')\n",
        "print(f'Tamaño set de prueba: {ts.shape}')"
      ]
    },
    {
      "cell_type": "code",
      "execution_count": 1641,
      "metadata": {
        "colab": {
          "base_uri": "https://localhost:8080/",
          "height": 445
        },
        "id": "ETUaEISRg-Sv",
        "outputId": "5b6aded4-0e26-40c4-b37d-2a946049a66d"
      },
      "outputs": [
        {
          "data": {
            "image/png": "[encoded data removed]",
            "text/plain": [
              "<Figure size 1600x500 with 1 Axes>"
            ]
          },
          "metadata": {},
          "output_type": "display_data"
        }
      ],
      "source": [
        "# Dibujemos los subsets\n",
        "fig, ax = plt.subplots(figsize = (16,5))\n",
        "ax.plot(tr, label='Train')\n",
        "ax.plot(vl, label='Val')\n",
        "ax.plot(ts, label='Test')\n",
        "plt.legend();"
      ]
    },
    {
      "cell_type": "markdown",
      "metadata": {
        "id": "zjNs7cnQg-Sv"
      },
      "source": [
        "### 3.3. Generación del dataset supervisado (entrada y salida del modelo)\n",
        "\n",
        "Debemos ajustar nuestro set de datos de acuerdo a lo especificado en la [documentación de las Redes LSTM en TensorFlow/Keras](https://www.tensorflow.)"
      ]
    },
    {
      "cell_type": "markdown",
      "metadata": {
        "id": "ebqf1hz_kgE0"
      },
      "source": [
        "![](https://drive.google.com/file/d/1ij9pIsJrWVYbwKrZZHY8KtNTlUs1o6AJ/view?usp=sharing)\n"
      ]
    },
    {
      "cell_type": "markdown",
      "metadata": {
        "id": "nDWtlND3g-Sv"
      },
      "source": [
        "se tiene 3 dimensiones para la entrada y salida. Como se puede ver en la figura se tiene n cantidad registros(BATCHES) que representan bloques, en la cual cada registro tiene 24 horas como periodo.\n",
        "\n",
        "Output_lenght: numero de horas que queremos predecir a futuro.\n",
        "\n",
        "Features(caracteristica) en este caso solo es 1 dado que nuestro modelo es univariado\n",
        "\n",
        "Output_lenght como es un modelo unistep solo es 1\n"
      ]
    },
    {
      "cell_type": "markdown",
      "metadata": {
        "id": "1z4WokL1g-Sw"
      },
      "source": [
        "![image-3.png](attachment:image-3.png)"
      ]
    },
    {
      "cell_type": "code",
      "execution_count": 1642,
      "metadata": {
        "id": "pwF3ewLqg-Sw"
      },
      "outputs": [],
      "source": [
        "def crear_dataset_supervisado(array, input_length, output_length):\n",
        "    '''Permite crear un dataset con las entradas (X) y salidas (Y)\n",
        "    requeridas por la Red LSTM.\n",
        "\n",
        "    Parámetros:\n",
        "    - array: arreglo numpy de tamaño N x features (N: cantidad de datos,\n",
        "      f: cantidad de features)\n",
        "    - input_length: instantes de tiempo consecutivos de la(s) serie(s) de tiempo\n",
        "      usados para alimentar el modelo\n",
        "    - output_length: instantes de tiempo a pronosticar (salida del modelo)\n",
        "    '''\n",
        "\n",
        "    # Inicialización\n",
        "    X, Y = [], []    # Listados que contendrán los datos de entrada y salida del modelo\n",
        "    shape = array.shape\n",
        "    if len(shape)==1: # Si tenemos sólo una serie (univariado)\n",
        "        fils, cols = array.shape[0], 1\n",
        "        array = array.reshape(fils,cols)\n",
        "    else: # Multivariado\n",
        "        fils, cols = array.shape\n",
        "\n",
        "    # Generar los arreglos\n",
        "    for i in range(fils-input_length-output_length):\n",
        "        X.append(array[i:i+INPUT_LENGTH,0:cols])\n",
        "        Y.append(array[i+input_length:i+input_length+output_length,-1].reshape(output_length,1))\n",
        "\n",
        "    # Convertir listas a arreglos de NumPy\n",
        "    X = np.array(X)\n",
        "    Y = np.array(Y)\n",
        "\n",
        "    return X, Y"
      ]
    },
    {
      "cell_type": "code",
      "execution_count": 1643,
      "metadata": {
        "colab": {
          "base_uri": "https://localhost:8080/"
        },
        "id": "nVRmVkivg-Sw",
        "outputId": "b10b86a4-ba2a-4e25-a361-f5fdebd3440e"
      },
      "outputs": [
        {
          "name": "stdout",
          "output_type": "stream",
          "text": [
            "Tamaños entrada (BATCHES x INPUT_LENGTH x FEATURES) y de salida (BATCHES x OUTPUT_LENGTH x FEATURES)\n",
            "Set de entrenamiento - x_tr: (2471, 24, 1), y_tr: (2471, 5, 1)\n",
            "Set de validación - x_vl: (283, 24, 1), y_vl: (283, 5, 1)\n",
            "Set de prueba - x_ts: (284, 24, 1), y_ts: (284, 5, 1)\n"
          ]
        }
      ],
      "source": [
        "# Crear los datasets de entrenamiento, prueba y validación y verificar sus tamaños\n",
        "INPUT_LENGTH = 24    # Posteriormente afinaremos este hiperparámetro\n",
        "OUTPUT_LENGTH = 5    # Modelo uni-step\n",
        "\n",
        "x_tr, y_tr = crear_dataset_supervisado(tr.values, INPUT_LENGTH, OUTPUT_LENGTH)\n",
        "x_vl, y_vl = crear_dataset_supervisado(vl.values, INPUT_LENGTH, OUTPUT_LENGTH)\n",
        "x_ts, y_ts = crear_dataset_supervisado(ts.values, INPUT_LENGTH, OUTPUT_LENGTH)\n",
        "\n",
        "# Imprimir información en pantalla\n",
        "print('Tamaños entrada (BATCHES x INPUT_LENGTH x FEATURES) y de salida (BATCHES x OUTPUT_LENGTH x FEATURES)')\n",
        "print(f'Set de entrenamiento - x_tr: {x_tr.shape}, y_tr: {y_tr.shape}')\n",
        "print(f'Set de validación - x_vl: {x_vl.shape}, y_vl: {y_vl.shape}')\n",
        "print(f'Set de prueba - x_ts: {x_ts.shape}, y_ts: {y_ts.shape}')"
      ]
    },
    {
      "cell_type": "markdown",
      "metadata": {
        "id": "1-7dr2pqg-Sw"
      },
      "source": [
        "### 3.4. Escalamiento\n",
        "Es requerido para garantizar que todas las características se encuentran en el mismo rango de valores, lo que facilita el entrenamiento del modelo y las predicciones:"
      ]
    },
    {
      "cell_type": "markdown",
      "metadata": {
        "id": "3VIQEn1MtwAM"
      },
      "source": [
        "#### Detección de valores extremos usando el método de la desviación estándar\n",
        "La distribución Gaussiana se caracteriza por la media (𝜇) y la desviación estándar (𝜎). Conociendo los parámetros de esta distribución podemos establecer una serie de umbrales dentro de los cuales se encontrarán distriubidos nuestros datos, así:\n",
        "\n",
        "En el rango 𝜇±𝜎 tendremos el 68% de los datos\n",
        "En el rango 𝜇±2𝜎 tendremos el 95% de los datos\n",
        "En el rango 𝜇±3𝜎 tendremos el 99.7% de los datos\n"
      ]
    },
    {
      "cell_type": "code",
      "execution_count": 1644,
      "metadata": {
        "colab": {
          "base_uri": "https://localhost:8080/",
          "height": 542
        },
        "collapsed": true,
        "id": "TRFt5JxsrHl4",
        "outputId": "2ccb494c-8375-4817-f706-5e62e48a7bf9"
      },
      "outputs": [],
      "source": [
        "# import plotly.express as px\n",
        "# #Primero vamos a identificar el comportamiento de los outliers mediante una campana gaussiana para observar como está la distribución\n",
        "# fig = px.histogram(df, x='cantidad_frac', nbins=100)\n",
        "# fig.show()"
      ]
    },
    {
      "cell_type": "markdown",
      "metadata": {
        "id": "ucRLLNXnK1ZA"
      },
      "source": [
        "### STANDARSCALER"
      ]
    },
    {
      "cell_type": "code",
      "execution_count": 1645,
      "metadata": {
        "id": "X3Ll5XM0Kipe"
      },
      "outputs": [],
      "source": [
        "from sklearn.preprocessing import StandardScaler\n",
        "\n",
        "def escalar_dataset(data_input):\n",
        "    '''Escala el dataset en el rango de -1 a 1.\n",
        "\n",
        "    Entradas:\n",
        "    data_input: diccionario con los dataset de entrada y salida del modelo\n",
        "    (data_input = {'x_tr':x_tr, 'y_tr':y_tr, 'x_vl':x_vl, 'y_vl':y_vl,\n",
        "                    'y_ts':y_ts})\n",
        "\n",
        "    Retorna:\n",
        "    - data_scaled: diccionario con los datasets de entrada y salida escalados\n",
        "      (tiene la misma estructura del diccionario de entrada)\n",
        "    - scaler: el escalador usado (requerido para las predicciones)\n",
        "    '''\n",
        "\n",
        "    NFEATS = data_input['x_tr'].shape[2]\n",
        "\n",
        "\n",
        "    # Generar listado con \"scalers\" (en este caso, por ser sólo 1 característica\n",
        "    # se tendrá sólo 1 escalador)\n",
        "    scalers = [StandardScaler() for i in range(NFEATS)]  # Remove feature_range\n",
        "    # Arreglos que contendrán los datasets escalados\n",
        "    x_tr_s = np.zeros(data_input['x_tr'].shape)\n",
        "    x_vl_s = np.zeros(data_input['x_vl'].shape)\n",
        "    x_ts_s = np.zeros(data_input['x_ts'].shape)\n",
        "    y_tr_s = np.zeros(data_input['y_tr'].shape)\n",
        "    y_vl_s = np.zeros(data_input['y_vl'].shape)\n",
        "    y_ts_s = np.zeros(data_input['y_ts'].shape)\n",
        "\n",
        "    # Escalamiento: se usarán los min/max del set de entrenamiento para\n",
        "    # escalar la totalidad de los datasets\n",
        "\n",
        "    # Escalamiento Xs: en este caso debemos garantizar que cada dato de entrada\n",
        "    # a fit_transform o transform debe ser de tamaño nsamples x nfeatures\n",
        "    # (en este caso 24x13)\n",
        "    print('NFEATS: '+ str(NFEATS))\n",
        "    for i in range(NFEATS):\n",
        "        x_tr_s[:,:,i] = scalers[i].fit_transform(x_tr[:,:,i])\n",
        "        x_vl_s[:,:,i] = scalers[i].transform(x_vl[:,:,i])\n",
        "        x_ts_s[:,:,i] = scalers[i].transform(x_ts[:,:,i])\n",
        "\n",
        "    # Escalamiento Ys\n",
        "    y_tr_s[:,:,0] = scalers[-1].fit_transform(y_tr[:,:,0].reshape(-1,1))\n",
        "    y_vl_s[:,:,0] = scalers[-1].transform(y_vl[:,:,0])\n",
        "    y_ts_s[:,:,0] = scalers[-1].transform(y_ts[:,:,0])\n",
        "\n",
        "    # Conformar diccionario de salida\n",
        "    data_scaled = {\n",
        "        'x_tr_s': x_tr_s, 'y_tr_s': y_tr_s,\n",
        "        'x_vl_s': x_vl_s, 'y_vl_s': y_vl_s,\n",
        "        'x_ts_s': x_ts_s, 'y_ts_s': y_ts_s,\n",
        "    }\n",
        "\n",
        "\n",
        "\n",
        "    return data_scaled, scalers[0]"
      ]
    },
    {
      "cell_type": "markdown",
      "metadata": {
        "id": "wKZvFSShSXxr"
      },
      "source": [
        "### ROBUSTSCALER"
      ]
    },
    {
      "cell_type": "code",
      "execution_count": 1646,
      "metadata": {
        "collapsed": true,
        "id": "GrugRy9PU3T-"
      },
      "outputs": [],
      "source": [
        "from sklearn.preprocessing import RobustScaler\n",
        "import numpy as np\n",
        "\n",
        "def escalar_dataset(data_input):\n",
        "    '''Escala el dataset usando RobustScaler.\n",
        "\n",
        "    Entradas:\n",
        "    data_input: diccionario con los dataset de entrada y salida del modelo\n",
        "    (data_input = {'x_tr':x_tr, 'y_tr':y_tr, 'x_vl':x_vl, 'y_vl':y_vl,\n",
        "                    'y_ts':y_ts})\n",
        "\n",
        "    Retorna:\n",
        "    - data_scaled: diccionario con los datasets de entrada y salida escalados\n",
        "      (tiene la misma estructura del diccionario de entrada)\n",
        "    - scaler: el escalador usado (requerido para las predicciones)\n",
        "    '''\n",
        "\n",
        "    NFEATS = data_input['x_tr'].shape[2]\n",
        "\n",
        "    # Generar listado con \"scalers\" (en este caso, por ser sólo 1 característica\n",
        "    # se tendrá sólo 1 escalador)\n",
        "    scalers = [RobustScaler() for i in range(NFEATS)]\n",
        "\n",
        "    # Arreglos que contendrán los datasets escalados\n",
        "    x_tr_s = np.zeros(data_input['x_tr'].shape)\n",
        "    x_vl_s = np.zeros(data_input['x_vl'].shape)\n",
        "    x_ts_s = np.zeros(data_input['x_ts'].shape)\n",
        "    y_tr_s = np.zeros(data_input['y_tr'].shape)\n",
        "    y_vl_s = np.zeros(data_input['y_vl'].shape)\n",
        "    y_ts_s = np.zeros(data_input['y_ts'].shape)\n",
        "\n",
        "\n",
        "    # Escalamiento Xs: en este caso debemos garantizar que cada dato de entrada\n",
        "    # a fit_transform o transform debe ser de tamaño nsamples x nfeatures\n",
        "    # (en este caso 30x1)\n",
        "    for i in range(NFEATS):\n",
        "        x_tr_s[:,:,i] = scalers[i].fit_transform(data_input['x_tr'][:,:,i])\n",
        "        x_vl_s[:,:,i] = scalers[i].transform(data_input['x_vl'][:,:,i])\n",
        "        x_ts_s[:,:,i] = scalers[i].transform(data_input['x_ts'][:,:,i])\n",
        "\n",
        "    # Escalamiento Ys\n",
        "    y_tr_s[:,:,0] = scalers[-1].fit_transform(data_input['y_tr'][:,:,0].reshape(-1,1))\n",
        "    y_vl_s[:,:,0] = scalers[-1].transform(data_input['y_vl'][:,:,0])\n",
        "    y_ts_s[:,:,0] = scalers[-1].transform(data_input['y_ts'][:,:,0])\n",
        "\n",
        "    # Conformar diccionario de salida\n",
        "    data_scaled = {\n",
        "        'x_tr_s': x_tr_s, 'y_tr_s': y_tr_s,\n",
        "        'x_vl_s': x_vl_s, 'y_vl_s': y_vl_s,\n",
        "        'x_ts_s': x_ts_s, 'y_ts_s': y_ts_s,\n",
        "    }\n",
        "\n",
        "    return data_scaled, scalers[0]\n"
      ]
    },
    {
      "cell_type": "markdown",
      "metadata": {
        "id": "lOS0FqmQKjB5"
      },
      "source": [
        "### MIN MAX SCALER"
      ]
    },
    {
      "cell_type": "code",
      "execution_count": 1647,
      "metadata": {
        "id": "CHlG3AN9g-Sw"
      },
      "outputs": [],
      "source": [
        "from sklearn.preprocessing import MinMaxScaler\n",
        "\n",
        "def escalar_dataset(data_input):\n",
        "    '''Escala el dataset en el rango de -1 a 1.\n",
        "\n",
        "    Entradas:\n",
        "    data_input: diccionario con los dataset de entrada y salida del modelo\n",
        "    (data_input = {'x_tr':x_tr, 'y_tr':y_tr, 'x_vl':x_vl, 'y_vl':y_vl,\n",
        "                    'y_ts':y_ts})\n",
        "\n",
        "    Retorna:\n",
        "    - data_scaled: diccionario con los datasets de entrada y salida escalados\n",
        "      (tiene la misma estructura del diccionario de entrada)\n",
        "    - scaler: el escalador usado (requerido para las predicciones)\n",
        "    '''\n",
        "\n",
        "    NFEATS = data_input['x_tr'].shape[2]\n",
        "\n",
        "\n",
        "    # Generar listado con \"scalers\" (en este caso, por ser sólo 1 característica\n",
        "    # se tendrá sólo 1 escalador)\n",
        "    scalers = [MinMaxScaler(feature_range=(-1,1)) for i in range(NFEATS)]\n",
        "\n",
        "    # Arreglos que contendrán los datasets escalados\n",
        "    x_tr_s = np.zeros(data_input['x_tr'].shape)\n",
        "    x_vl_s = np.zeros(data_input['x_vl'].shape)\n",
        "    x_ts_s = np.zeros(data_input['x_ts'].shape)\n",
        "    y_tr_s = np.zeros(data_input['y_tr'].shape)\n",
        "    y_vl_s = np.zeros(data_input['y_vl'].shape)\n",
        "    y_ts_s = np.zeros(data_input['y_ts'].shape)\n",
        "\n",
        "    # Escalamiento: se usarán los min/max del set de entrenamiento para\n",
        "    # escalar la totalidad de los datasets\n",
        "\n",
        "    # Escalamiento Xs: en este caso debemos garantizar que cada dato de entrada\n",
        "    # a fit_transform o transform debe ser de tamaño nsamples x nfeatures\n",
        "    # (en este caso 24x13)\n",
        "    for i in range(NFEATS):\n",
        "        x_tr_s[:,:,i] = scalers[i].fit_transform(x_tr[:,:,i])\n",
        "        x_vl_s[:,:,i] = scalers[i].transform(x_vl[:,:,i])\n",
        "        x_ts_s[:,:,i] = scalers[i].transform(x_ts[:,:,i])\n",
        "\n",
        "    # Escalamiento Ys\n",
        "    y_tr_s[:,:,0] = scalers[-1].fit_transform(y_tr[:,:,0])\n",
        "    y_vl_s[:,:,0] = scalers[-1].transform(y_vl[:,:,0])\n",
        "    y_ts_s[:,:,0] = scalers[-1].transform(y_ts[:,:,0])\n",
        "\n",
        "    # Conformar diccionario de salida\n",
        "    data_scaled = {\n",
        "        'x_tr_s': x_tr_s, 'y_tr_s': y_tr_s,\n",
        "        'x_vl_s': x_vl_s, 'y_vl_s': y_vl_s,\n",
        "        'x_ts_s': x_ts_s, 'y_ts_s': y_ts_s,\n",
        "    }\n",
        "\n",
        "    return data_scaled, scalers[0]"
      ]
    },
    {
      "cell_type": "code",
      "execution_count": 1648,
      "metadata": {
        "colab": {
          "base_uri": "https://localhost:8080/"
        },
        "id": "O-SHU-1Vg-Sw",
        "outputId": "13a72852-b113-4a72-dee2-1c6f6068483e"
      },
      "outputs": [
        {
          "name": "stdout",
          "output_type": "stream",
          "text": [
            "Min x_tr/x_vl/x_ts sin escalamiento: 304.0/274.0/646.0\n",
            "Min x_tr/x_vl/x_ts con escalamiento: -1.0/-1.0284629981024669/-0.6755218216318787\n",
            "\n",
            "Min y_tr/y_vl/y_ts sin escalamiento: 304.0/274.0/694.0\n",
            "Min y_tr/y_vl/y_ts con escalamiento: -1.0/-1.0284629981024669/-0.6299810246679318\n",
            "\n",
            "Max x_tr/x_vl/x_ts sin escalamiento: 2412.0/2418.0/2413.0\n",
            "Max x_tr/x_vl/x_ts con escalamiento: 1.0/1.005692599620493/1.0009487666034156\n",
            "\n",
            "Max y_tr/y_vl/y_ts sin escalamiento: 2412.0/2418.0/2413.0\n",
            "Max y_tr/y_vl/y_ts con escalamiento: 1.0/1.005692599620493/1.0009487666034156\n"
          ]
        }
      ],
      "source": [
        "# Escalamiento del dataset con la función anterior\n",
        "\n",
        "# Crear diccionario de entrada\n",
        "data_in = {\n",
        "    'x_tr': x_tr, 'y_tr': y_tr,\n",
        "    'x_vl': x_vl, 'y_vl': y_vl,\n",
        "    'x_ts': x_ts, 'y_ts': y_ts,\n",
        "}\n",
        "\n",
        "# Y escalar\n",
        "data_s, scaler = escalar_dataset(data_in)\n",
        "\n",
        "# Extraer subsets escalados\n",
        "x_tr_s, y_tr_s = data_s['x_tr_s'], data_s['y_tr_s']\n",
        "x_vl_s, y_vl_s = data_s['x_vl_s'], data_s['y_vl_s']\n",
        "x_ts_s, y_ts_s = data_s['x_ts_s'], data_s['y_ts_s']\n",
        "\n",
        "# Verificación\n",
        "print(f'Min x_tr/x_vl/x_ts sin escalamiento: {x_tr.min()}/{x_vl.min()}/{x_ts.min()}')\n",
        "print(f'Min x_tr/x_vl/x_ts con escalamiento: {x_tr_s.min()}/{x_vl_s.min()}/{x_ts_s.min()}')\n",
        "\n",
        "print(f'\\nMin y_tr/y_vl/y_ts sin escalamiento: {y_tr.min()}/{y_vl.min()}/{y_ts.min()}')\n",
        "print(f'Min y_tr/y_vl/y_ts con escalamiento: {y_tr_s.min()}/{y_vl_s.min()}/{y_ts_s.min()}')\n",
        "\n",
        "print(f'\\nMax x_tr/x_vl/x_ts sin escalamiento: {x_tr.max()}/{x_vl.max()}/{x_ts.max()}')\n",
        "print(f'Max x_tr/x_vl/x_ts con escalamiento: {x_tr_s.max()}/{x_vl_s.max()}/{x_ts_s.max()}')\n",
        "\n",
        "print(f'\\nMax y_tr/y_vl/y_ts sin escalamiento: {y_tr.max()}/{y_vl.max()}/{y_ts.max()}')\n",
        "print(f'Max y_tr/y_vl/y_ts con escalamiento: {y_tr_s.max()}/{y_vl_s.max()}/{y_ts_s.max()}')"
      ]
    },
    {
      "cell_type": "code",
      "execution_count": 1649,
      "metadata": {
        "id": "_YlZUl4RDOAG"
      },
      "outputs": [],
      "source": [
        "import pickle\n",
        "\n",
        "# Escalamiento del dataset\n",
        "data_s, scaler = escalar_dataset(data_in)\n",
        "\n",
        "# Guardar el scaler en un archivo .pkl\n",
        "with open(f'scaler_{idItem}.pkl', 'wb') as f:\n",
        "    pickle.dump(scaler, f)"
      ]
    },
    {
      "cell_type": "markdown",
      "metadata": {
        "id": "9Soq6m0Zg-Sx"
      },
      "source": [
        "## 4. Creación y entrenamieto del Modelo"
      ]
    },
    {
      "cell_type": "markdown",
      "metadata": {
        "id": "2d6qSH5yZqHI"
      },
      "source": [
        "### 4.1 DROPOUT"
      ]
    },
    {
      "cell_type": "code",
      "execution_count": 1650,
      "metadata": {
        "colab": {
          "base_uri": "https://localhost:8080/",
          "height": 303
        },
        "id": "tO3ywPxtg-Sx",
        "outputId": "50b7df6d-a848-4b4b-9141-6fa2f3a0c0c6"
      },
      "outputs": [
        {
          "name": "stderr",
          "output_type": "stream",
          "text": [
            "c:\\Users\\jeanf\\miniconda3\\envs\\streamlit\\lib\\site-packages\\keras\\src\\layers\\rnn\\rnn.py:204: UserWarning: Do not pass an `input_shape`/`input_dim` argument to a layer. When using Sequential models, prefer using an `Input(shape)` object as the first layer in the model instead.\n",
            "  super().__init__(**kwargs)\n"
          ]
        },
        {
          "data": {
            "text/html": [
              "<pre style=\"white-space:pre;overflow-x:auto;line-height:normal;font-family:Menlo,'DejaVu Sans Mono',consolas,'Courier New',monospace\"><span style=\"font-weight: bold\">Model: \"sequential_76\"</span>\n",
              "</pre>\n"
            ],
            "text/plain": [
              "\u001b[1mModel: \"sequential_76\"\u001b[0m\n"
            ]
          },
          "metadata": {},
          "output_type": "display_data"
        },
        {
          "data": {
            "text/html": [
              "<pre style=\"white-space:pre;overflow-x:auto;line-height:normal;font-family:Menlo,'DejaVu Sans Mono',consolas,'Courier New',monospace\">┏━━━━━━━━━━━━━━━━━━━━━━━━━━━━━━━━━┳━━━━━━━━━━━━━━━━━━━━━━━━┳━━━━━━━━━━━━━━━┓\n",
              "┃<span style=\"font-weight: bold\"> Layer (type)                    </span>┃<span style=\"font-weight: bold\"> Output Shape           </span>┃<span style=\"font-weight: bold\">       Param # </span>┃\n",
              "┡━━━━━━━━━━━━━━━━━━━━━━━━━━━━━━━━━╇━━━━━━━━━━━━━━━━━━━━━━━━╇━━━━━━━━━━━━━━━┩\n",
              "│ lstm_76 (<span style=\"color: #0087ff; text-decoration-color: #0087ff\">LSTM</span>)                  │ (<span style=\"color: #00d7ff; text-decoration-color: #00d7ff\">None</span>, <span style=\"color: #00af00; text-decoration-color: #00af00\">129</span>)            │        <span style=\"color: #00af00; text-decoration-color: #00af00\">67,596</span> │\n",
              "├─────────────────────────────────┼────────────────────────┼───────────────┤\n",
              "│ dropout_40 (<span style=\"color: #0087ff; text-decoration-color: #0087ff\">Dropout</span>)            │ (<span style=\"color: #00d7ff; text-decoration-color: #00d7ff\">None</span>, <span style=\"color: #00af00; text-decoration-color: #00af00\">129</span>)            │             <span style=\"color: #00af00; text-decoration-color: #00af00\">0</span> │\n",
              "├─────────────────────────────────┼────────────────────────┼───────────────┤\n",
              "│ dense_76 (<span style=\"color: #0087ff; text-decoration-color: #0087ff\">Dense</span>)                │ (<span style=\"color: #00d7ff; text-decoration-color: #00d7ff\">None</span>, <span style=\"color: #00af00; text-decoration-color: #00af00\">5</span>)              │           <span style=\"color: #00af00; text-decoration-color: #00af00\">650</span> │\n",
              "└─────────────────────────────────┴────────────────────────┴───────────────┘\n",
              "</pre>\n"
            ],
            "text/plain": [
              "┏━━━━━━━━━━━━━━━━━━━━━━━━━━━━━━━━━┳━━━━━━━━━━━━━━━━━━━━━━━━┳━━━━━━━━━━━━━━━┓\n",
              "┃\u001b[1m \u001b[0m\u001b[1mLayer (type)                   \u001b[0m\u001b[1m \u001b[0m┃\u001b[1m \u001b[0m\u001b[1mOutput Shape          \u001b[0m\u001b[1m \u001b[0m┃\u001b[1m \u001b[0m\u001b[1m      Param #\u001b[0m\u001b[1m \u001b[0m┃\n",
              "┡━━━━━━━━━━━━━━━━━━━━━━━━━━━━━━━━━╇━━━━━━━━━━━━━━━━━━━━━━━━╇━━━━━━━━━━━━━━━┩\n",
              "│ lstm_76 (\u001b[38;5;33mLSTM\u001b[0m)                  │ (\u001b[38;5;45mNone\u001b[0m, \u001b[38;5;34m129\u001b[0m)            │        \u001b[38;5;34m67,596\u001b[0m │\n",
              "├─────────────────────────────────┼────────────────────────┼───────────────┤\n",
              "│ dropout_40 (\u001b[38;5;33mDropout\u001b[0m)            │ (\u001b[38;5;45mNone\u001b[0m, \u001b[38;5;34m129\u001b[0m)            │             \u001b[38;5;34m0\u001b[0m │\n",
              "├─────────────────────────────────┼────────────────────────┼───────────────┤\n",
              "│ dense_76 (\u001b[38;5;33mDense\u001b[0m)                │ (\u001b[38;5;45mNone\u001b[0m, \u001b[38;5;34m5\u001b[0m)              │           \u001b[38;5;34m650\u001b[0m │\n",
              "└─────────────────────────────────┴────────────────────────┴───────────────┘\n"
            ]
          },
          "metadata": {},
          "output_type": "display_data"
        },
        {
          "data": {
            "text/html": [
              "<pre style=\"white-space:pre;overflow-x:auto;line-height:normal;font-family:Menlo,'DejaVu Sans Mono',consolas,'Courier New',monospace\"><span style=\"font-weight: bold\"> Total params: </span><span style=\"color: #00af00; text-decoration-color: #00af00\">68,246</span> (266.59 KB)\n",
              "</pre>\n"
            ],
            "text/plain": [
              "\u001b[1m Total params: \u001b[0m\u001b[38;5;34m68,246\u001b[0m (266.59 KB)\n"
            ]
          },
          "metadata": {},
          "output_type": "display_data"
        },
        {
          "data": {
            "text/html": [
              "<pre style=\"white-space:pre;overflow-x:auto;line-height:normal;font-family:Menlo,'DejaVu Sans Mono',consolas,'Courier New',monospace\"><span style=\"font-weight: bold\"> Trainable params: </span><span style=\"color: #00af00; text-decoration-color: #00af00\">68,246</span> (266.59 KB)\n",
              "</pre>\n"
            ],
            "text/plain": [
              "\u001b[1m Trainable params: \u001b[0m\u001b[38;5;34m68,246\u001b[0m (266.59 KB)\n"
            ]
          },
          "metadata": {},
          "output_type": "display_data"
        },
        {
          "data": {
            "text/html": [
              "<pre style=\"white-space:pre;overflow-x:auto;line-height:normal;font-family:Menlo,'DejaVu Sans Mono',consolas,'Courier New',monospace\"><span style=\"font-weight: bold\"> Non-trainable params: </span><span style=\"color: #00af00; text-decoration-color: #00af00\">0</span> (0.00 B)\n",
              "</pre>\n"
            ],
            "text/plain": [
              "\u001b[1m Non-trainable params: \u001b[0m\u001b[38;5;34m0\u001b[0m (0.00 B)\n"
            ]
          },
          "metadata": {},
          "output_type": "display_data"
        }
      ],
      "source": [
        "# Creación del modelo\n",
        "from tensorflow.keras.models import Sequential\n",
        "from tensorflow.keras.layers import LSTM, Dense\n",
        "from tensorflow.keras.optimizers import RMSprop\n",
        "from tensorflow.keras.layers import Dense, Dropout\n",
        "\n",
        "import tensorflow as tf\n",
        "\n",
        "# Ajustar parámetros para reproducibilidad del entrenamiento\n",
        "tf.random.set_seed(123)\n",
        "tf.config.experimental.enable_op_determinism()\n",
        "\n",
        "# El modelo\n",
        "N_UNITS = 129 # Tamaño del estado oculto (h) y de la celda de memoria (c)\n",
        "INPUT_SHAPE = (x_tr_s.shape[1], x_tr_s.shape[2]) # 30 (días) x 1 (feature)\n",
        "DROPOUT_RATE = 0.5  # Tasa de dropout (ajústala según tus necesidades)\n",
        "\n",
        "\n",
        "modelo = Sequential()\n",
        "modelo.add(LSTM(N_UNITS, input_shape=INPUT_SHAPE))\n",
        "modelo.add(Dropout(DROPOUT_RATE))  # Agregar capa Dropout\n",
        "modelo.add(Dense(OUTPUT_LENGTH, activation='linear')) # activation = 'linear' pues queremos pronosticar (regresión)\n",
        "\n",
        "# Pérdida: se usará el RMSE (root mean squared error) para el entrenamiento\n",
        "# pues permite tener errores en las mismas unidades de la temperatura\n",
        "def root_mean_squared_error(y_true, y_pred):\n",
        "    rmse = tf.math.sqrt(tf.math.reduce_mean(tf.square(y_pred-y_true)))\n",
        "    return rmse\n",
        "\n",
        "# Pérdida: se usará el MAE (mean absolute error) para el entrenamiento\n",
        "# pues permite medir el error absoluto promedio\n",
        "def mean_absolute_error(y_true, y_pred):\n",
        "    mae = tf.math.reduce_mean(tf.abs(y_pred - y_true))\n",
        "    return mae\n",
        "\n",
        "\n",
        "# Compilación\n",
        "optimizador = RMSprop(learning_rate=5e-5)\n",
        "modelo.compile(\n",
        "    optimizer = optimizador,\n",
        "    loss = root_mean_squared_error\n",
        ")\n",
        "\n",
        "# Mostrar la estructura del modelo\n",
        "modelo.summary()\n"
      ]
    },
    {
      "cell_type": "code",
      "execution_count": 1651,
      "metadata": {
        "colab": {
          "base_uri": "https://localhost:8080/"
        },
        "id": "qMpCFSU5u2Lj",
        "outputId": "90ec4d6f-72d1-4407-9bc6-47a4ddc2fc4d"
      },
      "outputs": [
        {
          "name": "stdout",
          "output_type": "stream",
          "text": [
            "Epoch 1/50\n",
            "10/10 - 2s - 157ms/step - loss: 0.3263 - val_loss: 0.4150\n",
            "Epoch 2/50\n",
            "10/10 - 0s - 34ms/step - loss: 0.3250 - val_loss: 0.4143\n",
            "Epoch 3/50\n",
            "10/10 - 0s - 39ms/step - loss: 0.3244 - val_loss: 0.4137\n",
            "Epoch 4/50\n",
            "10/10 - 0s - 34ms/step - loss: 0.3234 - val_loss: 0.4131\n",
            "Epoch 5/50\n",
            "10/10 - 0s - 33ms/step - loss: 0.3230 - val_loss: 0.4127\n",
            "Epoch 6/50\n",
            "10/10 - 0s - 37ms/step - loss: 0.3225 - val_loss: 0.4122\n",
            "Epoch 7/50\n",
            "10/10 - 0s - 34ms/step - loss: 0.3217 - val_loss: 0.4118\n",
            "Epoch 8/50\n",
            "10/10 - 0s - 33ms/step - loss: 0.3213 - val_loss: 0.4115\n",
            "Epoch 9/50\n",
            "10/10 - 0s - 39ms/step - loss: 0.3207 - val_loss: 0.4112\n",
            "Epoch 10/50\n",
            "10/10 - 0s - 34ms/step - loss: 0.3206 - val_loss: 0.4109\n",
            "Epoch 11/50\n",
            "10/10 - 0s - 33ms/step - loss: 0.3205 - val_loss: 0.4107\n",
            "Epoch 12/50\n",
            "10/10 - 0s - 33ms/step - loss: 0.3200 - val_loss: 0.4105\n",
            "Epoch 13/50\n",
            "10/10 - 0s - 36ms/step - loss: 0.3199 - val_loss: 0.4104\n",
            "Epoch 14/50\n",
            "10/10 - 0s - 33ms/step - loss: 0.3197 - val_loss: 0.4103\n",
            "Epoch 15/50\n",
            "10/10 - 0s - 38ms/step - loss: 0.3197 - val_loss: 0.4102\n",
            "Epoch 16/50\n",
            "10/10 - 0s - 35ms/step - loss: 0.3195 - val_loss: 0.4101\n",
            "Epoch 17/50\n",
            "10/10 - 0s - 33ms/step - loss: 0.3195 - val_loss: 0.4101\n",
            "Epoch 18/50\n",
            "10/10 - 0s - 33ms/step - loss: 0.3193 - val_loss: 0.4100\n",
            "Epoch 19/50\n",
            "10/10 - 0s - 38ms/step - loss: 0.3192 - val_loss: 0.4099\n",
            "Epoch 20/50\n",
            "10/10 - 0s - 37ms/step - loss: 0.3193 - val_loss: 0.4098\n",
            "Epoch 21/50\n",
            "10/10 - 0s - 37ms/step - loss: 0.3194 - val_loss: 0.4098\n",
            "Epoch 22/50\n",
            "10/10 - 0s - 34ms/step - loss: 0.3192 - val_loss: 0.4097\n",
            "Epoch 23/50\n",
            "10/10 - 0s - 34ms/step - loss: 0.3193 - val_loss: 0.4096\n",
            "Epoch 24/50\n",
            "10/10 - 0s - 33ms/step - loss: 0.3193 - val_loss: 0.4096\n",
            "Epoch 25/50\n",
            "10/10 - 0s - 34ms/step - loss: 0.3192 - val_loss: 0.4095\n",
            "Epoch 26/50\n",
            "10/10 - 0s - 38ms/step - loss: 0.3193 - val_loss: 0.4094\n",
            "Epoch 27/50\n",
            "10/10 - 0s - 35ms/step - loss: 0.3191 - val_loss: 0.4094\n",
            "Epoch 28/50\n",
            "10/10 - 0s - 33ms/step - loss: 0.3191 - val_loss: 0.4093\n",
            "Epoch 29/50\n",
            "10/10 - 0s - 37ms/step - loss: 0.3192 - val_loss: 0.4093\n",
            "Epoch 30/50\n",
            "10/10 - 0s - 35ms/step - loss: 0.3188 - val_loss: 0.4092\n",
            "Epoch 31/50\n",
            "10/10 - 0s - 34ms/step - loss: 0.3191 - val_loss: 0.4092\n",
            "Epoch 32/50\n",
            "10/10 - 0s - 37ms/step - loss: 0.3195 - val_loss: 0.4091\n",
            "Epoch 33/50\n",
            "10/10 - 0s - 36ms/step - loss: 0.3191 - val_loss: 0.4090\n",
            "Epoch 34/50\n",
            "10/10 - 0s - 33ms/step - loss: 0.3190 - val_loss: 0.4090\n",
            "Epoch 35/50\n",
            "10/10 - 0s - 34ms/step - loss: 0.3190 - val_loss: 0.4089\n",
            "Epoch 36/50\n",
            "10/10 - 0s - 35ms/step - loss: 0.3193 - val_loss: 0.4088\n",
            "Epoch 37/50\n",
            "10/10 - 0s - 34ms/step - loss: 0.3189 - val_loss: 0.4088\n",
            "Epoch 38/50\n",
            "10/10 - 0s - 38ms/step - loss: 0.3190 - val_loss: 0.4087\n",
            "Epoch 39/50\n",
            "10/10 - 0s - 36ms/step - loss: 0.3190 - val_loss: 0.4087\n",
            "Epoch 40/50\n",
            "10/10 - 0s - 33ms/step - loss: 0.3186 - val_loss: 0.4086\n",
            "Epoch 41/50\n",
            "10/10 - 0s - 34ms/step - loss: 0.3188 - val_loss: 0.4086\n",
            "Epoch 42/50\n",
            "10/10 - 0s - 34ms/step - loss: 0.3191 - val_loss: 0.4085\n",
            "Epoch 43/50\n",
            "10/10 - 0s - 38ms/step - loss: 0.3189 - val_loss: 0.4085\n",
            "Epoch 44/50\n",
            "10/10 - 0s - 35ms/step - loss: 0.3191 - val_loss: 0.4084\n",
            "Epoch 45/50\n",
            "10/10 - 0s - 33ms/step - loss: 0.3190 - val_loss: 0.4084\n",
            "Epoch 46/50\n",
            "10/10 - 0s - 36ms/step - loss: 0.3191 - val_loss: 0.4083\n",
            "Epoch 47/50\n",
            "10/10 - 0s - 33ms/step - loss: 0.3191 - val_loss: 0.4083\n",
            "Epoch 48/50\n",
            "10/10 - 0s - 37ms/step - loss: 0.3189 - val_loss: 0.4082\n",
            "Epoch 49/50\n",
            "10/10 - 0s - 39ms/step - loss: 0.3189 - val_loss: 0.4082\n",
            "Epoch 50/50\n",
            "10/10 - 0s - 35ms/step - loss: 0.3188 - val_loss: 0.4082\n"
          ]
        }
      ],
      "source": [
        "# Entrenamiento (aproximadamente 1 min usando GPU)\n",
        "EPOCHS = 50 # Hiperparámetro\n",
        "BATCH_SIZE = 256 # Hiperparámetro\n",
        "historia = modelo.fit(\n",
        "    x = x_tr_s,\n",
        "    y = y_tr_s,\n",
        "    batch_size = BATCH_SIZE,\n",
        "    epochs = EPOCHS,\n",
        "    validation_data = (x_vl_s, y_vl_s),\n",
        "    verbose=2\n",
        ")"
      ]
    },
    {
      "cell_type": "code",
      "execution_count": 1652,
      "metadata": {
        "colab": {
          "base_uri": "https://localhost:8080/",
          "height": 449
        },
        "id": "EEHyeQL-ufjm",
        "outputId": "3db2b19a-d5c8-4999-8705-17b77663c3ef"
      },
      "outputs": [
        {
          "data": {
            "image/png": "[encoded data removed]",
            "text/plain": [
              "<Figure size 640x480 with 1 Axes>"
            ]
          },
          "metadata": {},
          "output_type": "display_data"
        }
      ],
      "source": [
        " # Graficar curvas de entrenamiento y validación\n",
        " # para verificar que no existe overfitting\n",
        "plt.plot(historia.history['loss'],label=f'Train Loss with Dropout, item= {idItem}')\n",
        "plt.plot(historia.history['val_loss'],label=f'Val Loss with Dropout, item= {idItem}')\n",
        "plt.xlabel('Iteración')\n",
        "plt.ylabel('RMSE')\n",
        "plt.legend();"
      ]
    },
    {
      "cell_type": "markdown",
      "metadata": {
        "id": "dY1Uq-QsJiEu"
      },
      "source": [
        "### 4.2 SIN DROPOUT"
      ]
    },
    {
      "cell_type": "code",
      "execution_count": 1653,
      "metadata": {
        "colab": {
          "base_uri": "https://localhost:8080/",
          "height": 200
        },
        "id": "O3ZqTpgkJkoh",
        "outputId": "9d6a1d55-ac04-495a-d009-973e13551d04"
      },
      "outputs": [
        {
          "data": {
            "text/html": [
              "<pre style=\"white-space:pre;overflow-x:auto;line-height:normal;font-family:Menlo,'DejaVu Sans Mono',consolas,'Courier New',monospace\"><span style=\"font-weight: bold\">Model: \"sequential_77\"</span>\n",
              "</pre>\n"
            ],
            "text/plain": [
              "\u001b[1mModel: \"sequential_77\"\u001b[0m\n"
            ]
          },
          "metadata": {},
          "output_type": "display_data"
        },
        {
          "data": {
            "text/html": [
              "<pre style=\"white-space:pre;overflow-x:auto;line-height:normal;font-family:Menlo,'DejaVu Sans Mono',consolas,'Courier New',monospace\">┏━━━━━━━━━━━━━━━━━━━━━━━━━━━━━━━━━┳━━━━━━━━━━━━━━━━━━━━━━━━┳━━━━━━━━━━━━━━━┓\n",
              "┃<span style=\"font-weight: bold\"> Layer (type)                    </span>┃<span style=\"font-weight: bold\"> Output Shape           </span>┃<span style=\"font-weight: bold\">       Param # </span>┃\n",
              "┡━━━━━━━━━━━━━━━━━━━━━━━━━━━━━━━━━╇━━━━━━━━━━━━━━━━━━━━━━━━╇━━━━━━━━━━━━━━━┩\n",
              "│ lstm_77 (<span style=\"color: #0087ff; text-decoration-color: #0087ff\">LSTM</span>)                  │ (<span style=\"color: #00d7ff; text-decoration-color: #00d7ff\">None</span>, <span style=\"color: #00af00; text-decoration-color: #00af00\">229</span>)            │       <span style=\"color: #00af00; text-decoration-color: #00af00\">211,596</span> │\n",
              "├─────────────────────────────────┼────────────────────────┼───────────────┤\n",
              "│ dense_77 (<span style=\"color: #0087ff; text-decoration-color: #0087ff\">Dense</span>)                │ (<span style=\"color: #00d7ff; text-decoration-color: #00d7ff\">None</span>, <span style=\"color: #00af00; text-decoration-color: #00af00\">5</span>)              │         <span style=\"color: #00af00; text-decoration-color: #00af00\">1,150</span> │\n",
              "└─────────────────────────────────┴────────────────────────┴───────────────┘\n",
              "</pre>\n"
            ],
            "text/plain": [
              "┏━━━━━━━━━━━━━━━━━━━━━━━━━━━━━━━━━┳━━━━━━━━━━━━━━━━━━━━━━━━┳━━━━━━━━━━━━━━━┓\n",
              "┃\u001b[1m \u001b[0m\u001b[1mLayer (type)                   \u001b[0m\u001b[1m \u001b[0m┃\u001b[1m \u001b[0m\u001b[1mOutput Shape          \u001b[0m\u001b[1m \u001b[0m┃\u001b[1m \u001b[0m\u001b[1m      Param #\u001b[0m\u001b[1m \u001b[0m┃\n",
              "┡━━━━━━━━━━━━━━━━━━━━━━━━━━━━━━━━━╇━━━━━━━━━━━━━━━━━━━━━━━━╇━━━━━━━━━━━━━━━┩\n",
              "│ lstm_77 (\u001b[38;5;33mLSTM\u001b[0m)                  │ (\u001b[38;5;45mNone\u001b[0m, \u001b[38;5;34m229\u001b[0m)            │       \u001b[38;5;34m211,596\u001b[0m │\n",
              "├─────────────────────────────────┼────────────────────────┼───────────────┤\n",
              "│ dense_77 (\u001b[38;5;33mDense\u001b[0m)                │ (\u001b[38;5;45mNone\u001b[0m, \u001b[38;5;34m5\u001b[0m)              │         \u001b[38;5;34m1,150\u001b[0m │\n",
              "└─────────────────────────────────┴────────────────────────┴───────────────┘\n"
            ]
          },
          "metadata": {},
          "output_type": "display_data"
        },
        {
          "data": {
            "text/html": [
              "<pre style=\"white-space:pre;overflow-x:auto;line-height:normal;font-family:Menlo,'DejaVu Sans Mono',consolas,'Courier New',monospace\"><span style=\"font-weight: bold\"> Total params: </span><span style=\"color: #00af00; text-decoration-color: #00af00\">212,746</span> (831.04 KB)\n",
              "</pre>\n"
            ],
            "text/plain": [
              "\u001b[1m Total params: \u001b[0m\u001b[38;5;34m212,746\u001b[0m (831.04 KB)\n"
            ]
          },
          "metadata": {},
          "output_type": "display_data"
        },
        {
          "data": {
            "text/html": [
              "<pre style=\"white-space:pre;overflow-x:auto;line-height:normal;font-family:Menlo,'DejaVu Sans Mono',consolas,'Courier New',monospace\"><span style=\"font-weight: bold\"> Trainable params: </span><span style=\"color: #00af00; text-decoration-color: #00af00\">212,746</span> (831.04 KB)\n",
              "</pre>\n"
            ],
            "text/plain": [
              "\u001b[1m Trainable params: \u001b[0m\u001b[38;5;34m212,746\u001b[0m (831.04 KB)\n"
            ]
          },
          "metadata": {},
          "output_type": "display_data"
        },
        {
          "data": {
            "text/html": [
              "<pre style=\"white-space:pre;overflow-x:auto;line-height:normal;font-family:Menlo,'DejaVu Sans Mono',consolas,'Courier New',monospace\"><span style=\"font-weight: bold\"> Non-trainable params: </span><span style=\"color: #00af00; text-decoration-color: #00af00\">0</span> (0.00 B)\n",
              "</pre>\n"
            ],
            "text/plain": [
              "\u001b[1m Non-trainable params: \u001b[0m\u001b[38;5;34m0\u001b[0m (0.00 B)\n"
            ]
          },
          "metadata": {},
          "output_type": "display_data"
        }
      ],
      "source": [
        "# Creación del modelo\n",
        "from tensorflow.keras.models import Sequential\n",
        "from tensorflow.keras.layers import LSTM, Dense\n",
        "from tensorflow.keras.optimizers import RMSprop\n",
        "\n",
        "\n",
        "import tensorflow as tf\n",
        "\n",
        "# Ajustar parámetros para reproducibilidad del entrenamiento\n",
        "tf.random.set_seed(123)\n",
        "tf.config.experimental.enable_op_determinism()\n",
        "\n",
        "# El modelo\n",
        "N_UNITS = 229 # Tamaño del estado oculto (h) y de la celda de memoria (c)\n",
        "INPUT_SHAPE = (x_tr_s.shape[1], x_tr_s.shape[2]) # 30 (días) x 1 (feature)\n",
        "\n",
        "\n",
        "\n",
        "modelo_sin_dropout = Sequential()\n",
        "modelo_sin_dropout.add(LSTM(N_UNITS, input_shape=INPUT_SHAPE))\n",
        "\n",
        "modelo_sin_dropout.add(Dense(OUTPUT_LENGTH, activation='linear')) # activation = 'linear' pues queremos pronosticar (regresión)\n",
        "\n",
        "# Pérdida: se usará el RMSE (root mean squared error) para el entrenamiento\n",
        "# pues permite tener errores en las mismas unidades de la temperatura\n",
        "def root_mean_squared_error(y_true, y_pred):\n",
        "    rmse = tf.math.sqrt(tf.math.reduce_mean(tf.square(y_pred-y_true)))\n",
        "    return rmse\n",
        "\n",
        "# Pérdida: se usará el MAE (mean absolute error) para el entrenamiento\n",
        "# pues permite medir el error absoluto promedio\n",
        "def mean_absolute_error(y_true, y_pred):\n",
        "    mae = tf.math.reduce_mean(tf.abs(y_pred - y_true))\n",
        "    return mae\n",
        "\n",
        "\n",
        "\n",
        "# Compilación\n",
        "optimizador = RMSprop(learning_rate=5e-5)\n",
        "modelo_sin_dropout.compile(\n",
        "    optimizer = optimizador,\n",
        "    loss = root_mean_squared_error\n",
        ")\n",
        "\n",
        "# Mostrar la estructura del modelo\n",
        "modelo_sin_dropout.summary()"
      ]
    },
    {
      "cell_type": "code",
      "execution_count": 1654,
      "metadata": {
        "colab": {
          "base_uri": "https://localhost:8080/"
        },
        "collapsed": true,
        "id": "fLtTqgiWNktP",
        "outputId": "526531ad-bba3-41b8-8a95-ede13be2bb54"
      },
      "outputs": [
        {
          "name": "stdout",
          "output_type": "stream",
          "text": [
            "Epoch 1/50\n",
            "10/10 - 2s - 180ms/step - loss: 0.3255 - val_loss: 0.4143\n",
            "Epoch 2/50\n",
            "10/10 - 1s - 59ms/step - loss: 0.3241 - val_loss: 0.4135\n",
            "Epoch 3/50\n",
            "10/10 - 1s - 61ms/step - loss: 0.3232 - val_loss: 0.4128\n",
            "Epoch 4/50\n",
            "10/10 - 1s - 64ms/step - loss: 0.3223 - val_loss: 0.4122\n",
            "Epoch 5/50\n",
            "10/10 - 1s - 62ms/step - loss: 0.3216 - val_loss: 0.4117\n",
            "Epoch 6/50\n",
            "10/10 - 1s - 59ms/step - loss: 0.3209 - val_loss: 0.4113\n",
            "Epoch 7/50\n",
            "10/10 - 1s - 66ms/step - loss: 0.3204 - val_loss: 0.4110\n",
            "Epoch 8/50\n",
            "10/10 - 1s - 59ms/step - loss: 0.3199 - val_loss: 0.4107\n",
            "Epoch 9/50\n",
            "10/10 - 1s - 62ms/step - loss: 0.3196 - val_loss: 0.4106\n",
            "Epoch 10/50\n",
            "10/10 - 1s - 60ms/step - loss: 0.3193 - val_loss: 0.4105\n",
            "Epoch 11/50\n",
            "10/10 - 1s - 64ms/step - loss: 0.3191 - val_loss: 0.4104\n",
            "Epoch 12/50\n",
            "10/10 - 1s - 59ms/step - loss: 0.3190 - val_loss: 0.4104\n",
            "Epoch 13/50\n",
            "10/10 - 1s - 74ms/step - loss: 0.3190 - val_loss: 0.4103\n",
            "Epoch 14/50\n",
            "10/10 - 1s - 65ms/step - loss: 0.3189 - val_loss: 0.4103\n",
            "Epoch 15/50\n",
            "10/10 - 1s - 59ms/step - loss: 0.3189 - val_loss: 0.4102\n",
            "Epoch 16/50\n",
            "10/10 - 1s - 60ms/step - loss: 0.3189 - val_loss: 0.4101\n",
            "Epoch 17/50\n",
            "10/10 - 1s - 63ms/step - loss: 0.3188 - val_loss: 0.4101\n",
            "Epoch 18/50\n",
            "10/10 - 1s - 61ms/step - loss: 0.3188 - val_loss: 0.4100\n",
            "Epoch 19/50\n",
            "10/10 - 1s - 59ms/step - loss: 0.3188 - val_loss: 0.4099\n",
            "Epoch 20/50\n",
            "10/10 - 1s - 65ms/step - loss: 0.3188 - val_loss: 0.4098\n",
            "Epoch 21/50\n",
            "10/10 - 1s - 59ms/step - loss: 0.3188 - val_loss: 0.4097\n",
            "Epoch 22/50\n",
            "10/10 - 1s - 62ms/step - loss: 0.3187 - val_loss: 0.4096\n",
            "Epoch 23/50\n",
            "10/10 - 1s - 61ms/step - loss: 0.3187 - val_loss: 0.4095\n",
            "Epoch 24/50\n",
            "10/10 - 1s - 63ms/step - loss: 0.3187 - val_loss: 0.4094\n",
            "Epoch 25/50\n",
            "10/10 - 1s - 58ms/step - loss: 0.3187 - val_loss: 0.4094\n",
            "Epoch 26/50\n",
            "10/10 - 1s - 61ms/step - loss: 0.3187 - val_loss: 0.4093\n",
            "Epoch 27/50\n",
            "10/10 - 1s - 62ms/step - loss: 0.3186 - val_loss: 0.4092\n",
            "Epoch 28/50\n",
            "10/10 - 1s - 61ms/step - loss: 0.3186 - val_loss: 0.4091\n",
            "Epoch 29/50\n",
            "10/10 - 1s - 58ms/step - loss: 0.3186 - val_loss: 0.4090\n",
            "Epoch 30/50\n",
            "10/10 - 1s - 66ms/step - loss: 0.3186 - val_loss: 0.4090\n",
            "Epoch 31/50\n",
            "10/10 - 1s - 59ms/step - loss: 0.3186 - val_loss: 0.4089\n",
            "Epoch 32/50\n",
            "10/10 - 1s - 60ms/step - loss: 0.3185 - val_loss: 0.4088\n",
            "Epoch 33/50\n",
            "10/10 - 1s - 61ms/step - loss: 0.3185 - val_loss: 0.4087\n",
            "Epoch 34/50\n",
            "10/10 - 1s - 62ms/step - loss: 0.3185 - val_loss: 0.4087\n",
            "Epoch 35/50\n",
            "10/10 - 1s - 59ms/step - loss: 0.3185 - val_loss: 0.4086\n",
            "Epoch 36/50\n",
            "10/10 - 1s - 61ms/step - loss: 0.3185 - val_loss: 0.4085\n",
            "Epoch 37/50\n",
            "10/10 - 1s - 63ms/step - loss: 0.3184 - val_loss: 0.4085\n",
            "Epoch 38/50\n",
            "10/10 - 1s - 60ms/step - loss: 0.3184 - val_loss: 0.4084\n",
            "Epoch 39/50\n",
            "10/10 - 1s - 61ms/step - loss: 0.3184 - val_loss: 0.4083\n",
            "Epoch 40/50\n",
            "10/10 - 1s - 62ms/step - loss: 0.3184 - val_loss: 0.4083\n",
            "Epoch 41/50\n",
            "10/10 - 1s - 63ms/step - loss: 0.3184 - val_loss: 0.4082\n",
            "Epoch 42/50\n",
            "10/10 - 1s - 58ms/step - loss: 0.3184 - val_loss: 0.4081\n",
            "Epoch 43/50\n",
            "10/10 - 1s - 64ms/step - loss: 0.3183 - val_loss: 0.4081\n",
            "Epoch 44/50\n",
            "10/10 - 1s - 60ms/step - loss: 0.3183 - val_loss: 0.4080\n",
            "Epoch 45/50\n",
            "10/10 - 1s - 61ms/step - loss: 0.3183 - val_loss: 0.4080\n",
            "Epoch 46/50\n",
            "10/10 - 1s - 58ms/step - loss: 0.3183 - val_loss: 0.4079\n",
            "Epoch 47/50\n",
            "10/10 - 1s - 65ms/step - loss: 0.3183 - val_loss: 0.4079\n",
            "Epoch 48/50\n",
            "10/10 - 1s - 59ms/step - loss: 0.3183 - val_loss: 0.4078\n",
            "Epoch 49/50\n",
            "10/10 - 1s - 61ms/step - loss: 0.3183 - val_loss: 0.4077\n",
            "Epoch 50/50\n",
            "10/10 - 1s - 63ms/step - loss: 0.3182 - val_loss: 0.4077\n"
          ]
        }
      ],
      "source": [
        "# Entrenamiento (aproximadamente 1 min usando GPU)\n",
        "EPOCHS = 50 # Hiperparámetro\n",
        "BATCH_SIZE = 256 # Hiperparámetro\n",
        "historia_sin_dropout = modelo_sin_dropout.fit(\n",
        "    x = x_tr_s,\n",
        "    y = y_tr_s,\n",
        "    batch_size = BATCH_SIZE,\n",
        "    epochs = EPOCHS,\n",
        "    validation_data = (x_vl_s, y_vl_s),\n",
        "    verbose=2\n",
        ")"
      ]
    },
    {
      "cell_type": "code",
      "execution_count": 1655,
      "metadata": {
        "colab": {
          "base_uri": "https://localhost:8080/",
          "height": 566
        },
        "id": "ESMTN_uUx332",
        "outputId": "f3888b59-4369-4888-d611-ebe28eeb0306"
      },
      "outputs": [
        {
          "data": {
            "image/png": "[encoded data removed]",
            "text/plain": [
              "<Figure size 1400x600 with 1 Axes>"
            ]
          },
          "metadata": {},
          "output_type": "display_data"
        }
      ],
      "source": [
        "import matplotlib.pyplot as plt\n",
        "\n",
        "# Graficar el error de entrenamiento y validación para el modelo con Dropout\n",
        "plt.figure(figsize=(14, 6))\n",
        "\n",
        "# Gráfico de la pérdida\n",
        "plt.subplot(1, 2, 1)\n",
        "plt.plot(historia_sin_dropout.history['loss'], label=f'Train Loss without Dropout, iditem={idItem}')\n",
        "plt.plot(historia_sin_dropout.history['val_loss'], label=f'Val Loss without Dropout, iditem={idItem}')\n",
        "plt.title('Pérdida durante el Entrenamiento')\n",
        "plt.xlabel('Época')\n",
        "plt.ylabel('Pérdida')\n",
        "plt.legend()\n",
        "\n",
        "plt.show()\n"
      ]
    },
    {
      "cell_type": "markdown",
      "metadata": {
        "id": "nTkl1nl6nHde"
      },
      "source": [
        "## GUARDAR MODELO"
      ]
    },
    {
      "cell_type": "code",
      "execution_count": 1656,
      "metadata": {
        "id": "Q3az-Nz_nGsT"
      },
      "outputs": [],
      "source": [
        "# Guardar el modelo entrenado\n",
        "modelo.save(f'modelo_{idItem}.keras')\n",
        "#modelo.save(f'modelo_{idItem}.keras')"
      ]
    },
    {
      "cell_type": "markdown",
      "metadata": {
        "id": "0INtyfPvLgL1"
      },
      "source": [
        "# CARGAR MODELO 1"
      ]
    },
    {
      "cell_type": "code",
      "execution_count": 1657,
      "metadata": {
        "id": "e4EnKypAI7Ls"
      },
      "outputs": [],
      "source": [
        "# def preparar_datos_para_prediccion(df, id_item, input_length, output_length, scaler, modelo):\n",
        "#     \"\"\"\n",
        "#     Predice los valores de los próximos días a partir del último registro en el DataFrame.\n",
        "\n",
        "#     Args:\n",
        "#     df (pd.DataFrame): DataFrame que contiene las columnas 'fecha', 'id_item', 'cantidad_frac'.\n",
        "#     id_item (int/str): El ID del item para el cual se quieren hacer predicciones.\n",
        "#     input_length (int): El número de registros que el modelo necesita como entrada.\n",
        "#     output_length (int): El número de días a predecir.\n",
        "#     scaler: El objeto MinMaxScaler que se usó para escalar los datos durante el entrenamiento.\n",
        "#     modelo: El modelo LSTM cargado para hacer predicciones.\n",
        "\n",
        "#     Returns:\n",
        "#     np.array: Predicciones desescaladas para los próximos días.\n",
        "#     \"\"\"\n",
        "#     # Suponiendo que df es tu DataFrame original y quieres seleccionar solo ciertas columnas\n",
        "#     columnas_especificas = ['Fecha', 'id_item','cantidad_unid', 'cantidad_frac']\n",
        "#     df = df[columnas_especificas]\n",
        "\n",
        "\n",
        "#     # Filtrar el DataFrame para el id_item deseado\n",
        "#     df_item = df[df['id_item'] == id_item].copy()\n",
        "\n",
        "#     # Ordenar por fecha y tomar los últimos 'input_length' registros\n",
        "#     df_item = df_item.sort_values(by='Fecha').tail(input_length)\n",
        "\n",
        "#     # Asegurarse de que los datos estén en el formato correcto (n_samples, input_length, n_features)\n",
        "#     datos = df_item['cantidad_frac'].values.reshape(-1, 1)\n",
        "\n",
        "#     # Crear un array con las características que espera el scaler (relleno con ceros)\n",
        "#     datos_expandidos = np.zeros((input_length, scaler.n_features_in_))\n",
        "#     datos_expandidos[:, 0] = datos[:, 0]  # Copiar los valores en la primera columna\n",
        "\n",
        "#     # Escalar los datos\n",
        "#     datos_escalados = scaler.transform(datos_expandidos)\n",
        "\n",
        "#     # Seleccionar solo la primera columna escalada para la predicción\n",
        "#     datos_escalados = datos_escalados[:, 0].reshape(1, input_length, 1)\n",
        "\n",
        "#     predicciones = []\n",
        "\n",
        "#     # Iterativamente predecir los próximos días\n",
        "#     for _ in range(output_length):\n",
        "#         # Hacer la predicción\n",
        "#         prediccion = modelo.predict(datos_escalados)\n",
        "\n",
        "#         # Crear un array expandido para desescalado\n",
        "#         prediccion_expandidas = np.zeros((prediccion.shape[0], scaler.n_features_in_))\n",
        "#         prediccion_expandidas[:, 0] = prediccion[:, 0]\n",
        "\n",
        "#         # Invertir el escalado de la predicción\n",
        "#         prediccion_invertida = scaler.inverse_transform(prediccion_expandidas)\n",
        "\n",
        "#         # Agregar la primera columna a las predicciones finales\n",
        "#         predicciones.append(prediccion_invertida[0, 0])\n",
        "\n",
        "#         # Añadir la nueva predicción a los datos para predecir el siguiente día\n",
        "#         nueva_entrada = prediccion[0, 0].reshape(1, 1, 1)\n",
        "#         datos_escalados = np.append(datos_escalados[:, 1:, :], nueva_entrada, axis=1)\n",
        "\n",
        "#     return np.array(predicciones)\n"
      ]
    },
    {
      "cell_type": "code",
      "execution_count": 1658,
      "metadata": {
        "id": "4yH7l_k9JM5f"
      },
      "outputs": [],
      "source": [
        "\n",
        "# # Ejemplo de uso:\n",
        "# id_item = 13887  # Reemplaza con tu id_item específico\n",
        "# input_length = 24  # Este es el valor que usaste para entrenar tu modelo\n",
        "# output_length = 5  # Los 5 días que quieres predecir\n",
        "\n",
        "# # Realizar las predicciones\n",
        "# predicciones_5_dias = preparar_datos_para_prediccion(df3, id_item, input_length, output_length, scaler_cargado, modelo_cargado)\n",
        "\n",
        "# print(\"Predicciones para los próximos 5 días:\", predicciones_5_dias)"
      ]
    },
    {
      "cell_type": "markdown",
      "metadata": {
        "id": "vwqPscfVomH1"
      },
      "source": [
        "# CARGAR MODELO 2"
      ]
    },
    {
      "cell_type": "code",
      "execution_count": 1659,
      "metadata": {
        "id": "y_evkIyfolc5"
      },
      "outputs": [
        {
          "data": {
            "text/html": [
              "<div>\n",
              "<style scoped>\n",
              "    .dataframe tbody tr th:only-of-type {\n",
              "        vertical-align: middle;\n",
              "    }\n",
              "\n",
              "    .dataframe tbody tr th {\n",
              "        vertical-align: top;\n",
              "    }\n",
              "\n",
              "    .dataframe thead th {\n",
              "        text-align: right;\n",
              "    }\n",
              "</style>\n",
              "<table border=\"1\" class=\"dataframe\">\n",
              "  <thead>\n",
              "    <tr style=\"text-align: right;\">\n",
              "      <th></th>\n",
              "      <th>Fecha</th>\n",
              "      <th>Predicción</th>\n",
              "    </tr>\n",
              "  </thead>\n",
              "  <tbody>\n",
              "    <tr>\n",
              "      <th>0</th>\n",
              "      <td>2024-07-22</td>\n",
              "      <td>2385.467041</td>\n",
              "    </tr>\n",
              "    <tr>\n",
              "      <th>1</th>\n",
              "      <td>2024-07-23</td>\n",
              "      <td>2386.330322</td>\n",
              "    </tr>\n",
              "    <tr>\n",
              "      <th>2</th>\n",
              "      <td>2024-07-24</td>\n",
              "      <td>2386.050537</td>\n",
              "    </tr>\n",
              "    <tr>\n",
              "      <th>3</th>\n",
              "      <td>2024-07-25</td>\n",
              "      <td>2381.819580</td>\n",
              "    </tr>\n",
              "  </tbody>\n",
              "</table>\n",
              "</div>"
            ],
            "text/plain": [
              "       Fecha   Predicción\n",
              "0 2024-07-22  2385.467041\n",
              "1 2024-07-23  2386.330322\n",
              "2 2024-07-24  2386.050537\n",
              "3 2024-07-25  2381.819580"
            ]
          },
          "execution_count": 1659,
          "metadata": {},
          "output_type": "execute_result"
        }
      ],
      "source": [
        "from tensorflow.keras.models import load_model\n",
        "from datetime import timedelta\n",
        "\n",
        "\n",
        "# Cargar el modelo guardado en formato Keras\n",
        "modelo_cargado = load_model('modelo_88275.keras', custom_objects={'root_mean_squared_error': root_mean_squared_error})\n",
        "\n",
        "# Ahora puedes usar el modelo cargado para hacer predicciones\n",
        "# Por ejemplo, utilizando el mismo código que tenías antes para predecir futuros valores\n",
        "def predecir(x, model, scaler):\n",
        "    '''Genera la predicción de OUTPUT_LENGTH instantes\n",
        "    de tiempo a futuro con el modelo entrenado.\n",
        "\n",
        "    Entrada:\n",
        "    - x: batch (o batches) de datos para ingresar al modelo\n",
        "      (tamaño: BATCHES X INPUT_LENGTH X FEATURES)\n",
        "    - model: Red LSTM entrenada\n",
        "    - scaler: escalador (requerido para llevar la predicción a la escala original)\n",
        "\n",
        "    Salida:\n",
        "    - y_pred: la predicción en la escala original (tamaño: BATCHES X OUTPUT_LENGTH X FEATURES)\n",
        "    '''\n",
        "\n",
        "    # Calcular predicción escalada en el rango de -1 a 1\n",
        "    y_pred_s = model.predict(x, verbose=0)\n",
        "\n",
        "    # Llevar la predicción a la escala original\n",
        "    y_pred = scaler.inverse_transform(y_pred_s)\n",
        "\n",
        "    return y_pred.flatten()\n",
        "\n",
        "# Obtener la última fecha del conjunto de datos\n",
        "ultima_fecha = df.index[-1]\n",
        "\n",
        "# Generar un rango de fechas futuras\n",
        "num_predicciones = 4  # Número de días a predecir\n",
        "fechas_futuras = [ultima_fecha + timedelta(days=i) for i in range(1, num_predicciones + 1)]\n",
        "\n",
        "# Preparar el último segmento del conjunto de datos de entrada desde el conjunto de test\n",
        "ultimo_segmento = ts[-INPUT_LENGTH:].values\n",
        "ultimo_segmento = ultimo_segmento.reshape((1, INPUT_LENGTH, 1))\n",
        "\n",
        "# Obtener las predicciones futuras usando el modelo cargado\n",
        "predicciones_futuras = []\n",
        "segmento_actual = ultimo_segmento\n",
        "\n",
        "for _ in range(num_predicciones):\n",
        "    prediccion = predecir(segmento_actual, modelo_cargado, scaler)\n",
        "    predicciones_futuras.append(prediccion[0])\n",
        "\n",
        "    # Actualizar el segmento actual\n",
        "    nuevo_valor = np.array(prediccion[0]).reshape(1, 1, 1)\n",
        "    segmento_actual = np.append(segmento_actual[:, 1:, :], nuevo_valor, axis=1)\n",
        "\n",
        "\n",
        "# Crear un DataFrame con las predicciones futuras y sus fechas\n",
        "resultados_futuros = pd.DataFrame({\n",
        "    'Fecha': fechas_futuras,\n",
        "    'Predicción': predicciones_futuras\n",
        "})\n",
        "\n",
        "\n",
        "resultados_futuros"
      ]
    },
    {
      "cell_type": "code",
      "execution_count": 1660,
      "metadata": {
        "id": "iceZb4SZMYHD"
      },
      "outputs": [
        {
          "name": "stdout",
          "output_type": "stream",
          "text": [
            "       Fecha   Predicción\n",
            "0 2024-07-22  2385.467041\n",
            "1 2024-07-23  2386.330322\n",
            "2 2024-07-24  2386.050537\n",
            "3 2024-07-25  2381.819580\n"
          ]
        }
      ],
      "source": [
        "# from tensorflow.keras.models import load_model\n",
        "# from datetime import timedelta\n",
        "# import pandas as pd\n",
        "# import numpy as np\n",
        "\n",
        "# def predecir_con_modelo(df, modelo, scaler, input_length, num_predicciones, id_item):\n",
        "#     \"\"\"\n",
        "#     Transforma un DataFrame y genera predicciones futuras utilizando un modelo LSTM cargado.\n",
        "\n",
        "#     Args:\n",
        "#     df (pd.DataFrame): DataFrame que contiene las columnas 'fecha', 'id_item', 'cantidad_frac'.\n",
        "#     modelo: Modelo LSTM cargado desde un archivo .keras.\n",
        "#     scaler: Objeto MinMaxScaler utilizado para escalar los datos.\n",
        "#     input_length (int): Número de registros que el modelo necesita como entrada.\n",
        "#     num_predicciones (int): Número de días a predecir.\n",
        "#     id_item (int/str): El ID del item para el cual se quieren hacer predicciones.\n",
        "\n",
        "#     Returns:\n",
        "#     pd.DataFrame: DataFrame con las fechas futuras y sus correspondientes predicciones.\n",
        "#     \"\"\"\n",
        "\n",
        "#     # Filtrar el DataFrame para el id_item deseado\n",
        "#     df_item = df[df['id_item'] == id_item].copy()\n",
        "\n",
        "#     # Obtener la última fecha del conjunto de datos\n",
        "#     ultima_fecha = df_item['Fecha'].max()\n",
        "\n",
        "#     # Asegúrate de que 'ultima_fecha' sea un objeto datetime\n",
        "#     if isinstance(ultima_fecha, str):\n",
        "#         # Si es una cadena, conviértela a datetime\n",
        "#         # (Asumiendo que el formato de fecha es 'YYYY-MM-DD')\n",
        "#         ultima_fecha = pd.to_datetime(ultima_fecha)\n",
        "\n",
        "#     # Generar un rango de fechas futuras\n",
        "#     fechas_futuras = [ultima_fecha + timedelta(days=i) for i in range(1, num_predicciones + 1)]\n",
        "\n",
        "\n",
        "#     # Preparar el último segmento del conjunto de datos de entrada\n",
        "#     ultimo_segmento = df_item['cantidad_frac'].values[-input_length:]\n",
        "#     ultimo_segmento = ultimo_segmento.reshape((1, input_length, 1))\n",
        "\n",
        "#     # Escalar el último segmento\n",
        "#     ultimo_segmento_escalado = np.zeros((input_length, scaler.n_features_in_))\n",
        "#     ultimo_segmento_escalado[:, 0] = ultimo_segmento[:, 0, 0]\n",
        "#     ultimo_segmento_escalado = scaler.transform(ultimo_segmento_escalado)\n",
        "#     segmento_actual = ultimo_segmento_escalado[:, 0].reshape(1, input_length, 1)\n",
        "\n",
        "#     # Obtener las predicciones futuras usando el modelo cargado\n",
        "#     predicciones_futuras = []\n",
        "\n",
        "#     for _ in range(num_predicciones):\n",
        "#         prediccion = modelo.predict(segmento_actual, verbose=0)\n",
        "\n",
        "#         # Desescalar la predicción\n",
        "#         prediccion_expandidas = np.zeros((prediccion.shape[0], scaler.n_features_in_))\n",
        "#         prediccion_expandidas[:, 0] = prediccion[:, 0]\n",
        "#         prediccion_invertida = scaler.inverse_transform(prediccion_expandidas)\n",
        "\n",
        "#         # Agregar la primera columna a las predicciones finales\n",
        "#         predicciones_futuras.append(prediccion_invertida[0, 0])\n",
        "\n",
        "#         # Actualizar el segmento actual\n",
        "#         nuevo_valor = prediccion[0, 0].reshape(1, 1, 1)\n",
        "#         segmento_actual = np.append(segmento_actual[:, 1:, :], nuevo_valor, axis=1)\n",
        "\n",
        "#     # Crear un DataFrame con las predicciones futuras y sus fechas\n",
        "#     resultados_futuros = pd.DataFrame({\n",
        "#         'Fecha': fechas_futuras,\n",
        "#         'Predicción': predicciones_futuras\n",
        "#     })\n",
        "\n",
        "#     return resultados_futuros\n",
        "\n",
        "# # Ejemplo de uso:\n",
        "# #df = pd.read_csv('tu_archivo.csv')  # Reemplaza con tu archivo de datos\n",
        "# input_length = 24  # Este es el valor que usaste para entrenar tu modelo\n",
        "# num_predicciones = 4  # Número de días a predecir\n",
        "# id_item =13887  # Reemplaza con tu id_item específico\n",
        "\n",
        "# # Cargar el modelo guardado en formato Keras\n",
        "# modelo_cargado = load_model('modelo_ventas_insulina.keras', custom_objects={'root_mean_squared_error': root_mean_squared_error})\n",
        "\n",
        "# # Generar las predicciones usando la función\n",
        "# resultados_futuros = predecir_con_modelo(df3, modelo_cargado, scaler, input_length, num_predicciones, id_item)\n",
        "\n",
        "print(resultados_futuros)\n"
      ]
    },
    {
      "cell_type": "code",
      "execution_count": 1661,
      "metadata": {
        "id": "5XXvMBRLrJsO"
      },
      "outputs": [],
      "source": [
        "# print(\"Número de dimensiones:\", resultados_futuros.ndim)\n",
        "# print(\"Forma del arreglo:\", resultados_futuros.shape)\n",
        "# print(\"Número total de elementos:\", resultados_futuros.size)"
      ]
    },
    {
      "cell_type": "markdown",
      "metadata": {
        "id": "Go1RGDjbYito"
      },
      "source": [
        "# DESEMPEÑO DEL MODELO"
      ]
    },
    {
      "cell_type": "code",
      "execution_count": 1662,
      "metadata": {
        "colab": {
          "base_uri": "https://localhost:8080/"
        },
        "id": "wKCSkx7kYgbp",
        "outputId": "7a5e9f8f-8be0-447b-a617-e75f407d7659"
      },
      "outputs": [
        {
          "name": "stdout",
          "output_type": "stream",
          "text": [
            "Comparativo desempeños con Dropout:\n",
            "  RMSE train:\t 0.313\n",
            "  RMSE val:\t 0.405\n",
            "  RMSE test:\t 0.299\n"
          ]
        }
      ],
      "source": [
        "# Cálculo de rmses para train, val y test\n",
        "rmse_tr = modelo.evaluate(x=x_tr_s, y=y_tr_s, verbose=0)\n",
        "rmse_vl = modelo.evaluate(x=x_vl_s, y=y_vl_s, verbose=0)\n",
        "rmse_ts = modelo.evaluate(x=x_ts_s, y=y_ts_s, verbose=0)\n",
        "\n",
        "# Imprimir resultados en pantalla\n",
        "print('Comparativo desempeños con Dropout:')\n",
        "print(f'  RMSE train:\\t {rmse_tr:.3f}')\n",
        "print(f'  RMSE val:\\t {rmse_vl:.3f}')\n",
        "print(f'  RMSE test:\\t {rmse_ts:.3f}')"
      ]
    },
    {
      "cell_type": "markdown",
      "metadata": {
        "id": "6S8R6dH9jCfB"
      },
      "source": [
        "Los desempeños son comparables lo cual quiere decir que el modelo generaliza bastante bien."
      ]
    },
    {
      "cell_type": "code",
      "execution_count": 1663,
      "metadata": {
        "colab": {
          "base_uri": "https://localhost:8080/",
          "height": 450
        },
        "id": "pBu3jEd2zAjV",
        "outputId": "fbd9632e-f8fd-4e38-9c4c-1d94dfb3da2a"
      },
      "outputs": [
        {
          "data": {
            "image/png": "[encoded data removed]",
            "text/plain": [
              "<Figure size 640x480 with 1 Axes>"
            ]
          },
          "metadata": {},
          "output_type": "display_data"
        }
      ],
      "source": [
        "# 1. Generar las predicciones sobre el set de prueba\n",
        "y_ts_pred_s = modelo.predict(x_ts_s, verbose=0)\n",
        "\n",
        "# 2. Realizar la transformación inversa de las predicciones para llevar sus\n",
        "# valores a la escala original\n",
        "y_ts_pred = scaler.inverse_transform(y_ts_pred_s)\n",
        "\n",
        "# 3. Calcular RMSE para cada instante de tiempo predicho\n",
        "diff_cuad = np.square(y_ts.squeeze()-y_ts_pred) # 284x5\n",
        "proms = np.mean(diff_cuad, axis=0) # 1x5\n",
        "rmse = np.sqrt(proms) # 1x5\n",
        "\n",
        "# Graficar rmse para cada timestep\n",
        "t = np.linspace(1,5,5) # Changed to match the length of rmse\n",
        "\n",
        "fig, ax = plt.subplots()\n",
        "ax.scatter(t,rmse)\n",
        "ax.set_xlabel('Día predicho')\n",
        "ax.set_ylabel(f'Error RMSE: {idItem} ')\n",
        "plt.xticks(ticks=t, labels=t)\n",
        "plt.grid();"
      ]
    },
    {
      "cell_type": "code",
      "execution_count": 1664,
      "metadata": {
        "id": "AaDUoZTA0pV1"
      },
      "outputs": [],
      "source": [
        "def predecir(x, model, scaler):\n",
        "    '''Genera la predicción de OUTPUT_LENGTH instantes\n",
        "    de tiempo a futuro con el modelo entrenado.\n",
        "\n",
        "    Entrada:\n",
        "    - x: batch (o batches) de datos para ingresar al modelo\n",
        "      (tamaño: BATCHES X INPUT_LENGTH X FEATURES)\n",
        "    - model: Red LSTM entrenada\n",
        "    - scaler: escalador (requerido para llevar la predicción a la escala original)\n",
        "\n",
        "    Salida:\n",
        "    - y_pred: la predicción en la escala original (tamaño: BATCHES X OUTPUT_LENGTH X FEATURES)\n",
        "    '''\n",
        "\n",
        "    # Calcular predicción escalada en el rango de -1 a 1\n",
        "    y_pred_s = model.predict(x,verbose=0)\n",
        "\n",
        "    # Llevar la predicción a la escala original\n",
        "    y_pred = scaler.inverse_transform(y_pred_s)\n",
        "\n",
        "    return y_pred.flatten()"
      ]
    },
    {
      "cell_type": "code",
      "execution_count": 1665,
      "metadata": {
        "id": "nDFcSjGY0qsS"
      },
      "outputs": [],
      "source": [
        "# Calcular predicciones sobre el set de prueba\n",
        "y_ts_pred = predecir(x_ts_s, modelo, scaler)"
      ]
    },
    {
      "cell_type": "code",
      "execution_count": 1666,
      "metadata": {
        "colab": {
          "base_uri": "https://localhost:8080/",
          "height": 430
        },
        "id": "TlVB-YJp0qm0",
        "outputId": "f35103d8-cace-4318-984f-2f9cc1d55456"
      },
      "outputs": [
        {
          "data": {
            "image/png": "[encoded data removed]",
            "text/plain": [
              "<Figure size 640x480 with 1 Axes>"
            ]
          },
          "metadata": {},
          "output_type": "display_data"
        }
      ],
      "source": [
        "N = len(y_ts_pred)    # Número de predicciones\n",
        "ndato = np.linspace(1,N,N)\n",
        "\n",
        "# Cálculo de errores simples\n",
        "errores = y_ts.flatten()-y_ts_pred\n",
        "plt.plot(errores);"
      ]
    },
    {
      "cell_type": "code",
      "execution_count": 1667,
      "metadata": {
        "id": "85RfAwGKfd9b"
      },
      "outputs": [],
      "source": [
        " from datetime import timedelta\n",
        "\n",
        "# Obtener la última fecha del conjunto de datos\n",
        "ultima_fecha = df.index[-1]\n",
        "\n",
        "# Generar un rango de fechas futuras\n",
        "num_predicciones = 5  # Número de días a predecir\n",
        "fechas_futuras = [ultima_fecha + timedelta(days=i) for i in range(1, num_predicciones + 1)]\n",
        "\n",
        "# Preparar el último segmento del conjunto de datos de entrada desde el conjunto de test\n",
        "ultimo_segmento = ts[-INPUT_LENGTH:].values\n",
        "ultimo_segmento = ultimo_segmento.reshape((1, INPUT_LENGTH, 1))\n",
        "\n",
        "# Obtener las predicciones futuras\n",
        "predicciones_futuras = []\n",
        "segmento_actual = ultimo_segmento.copy()  # Create a copy to avoid modifying the original\n",
        "\n",
        "for _ in range(num_predicciones):\n",
        "    prediccion = predecir(segmento_actual, modelo, scaler)\n",
        "    predicciones_futuras.append(prediccion[0])\n",
        "\n",
        "    # Actualizar el segmento actual - Instead of appending and slicing,\n",
        "    # shift the values and insert the new prediction at the end\n",
        "    segmento_actual = np.roll(segmento_actual, -1, axis=1)\n",
        "    segmento_actual[0,-1,0] = prediccion[0]\n",
        "\n",
        "# Crear un DataFrame con las predicciones futuras y sus fechas\n",
        "resultados_futuros = pd.DataFrame({\n",
        "    'Fecha': fechas_futuras,\n",
        "    'Predicción': predicciones_futuras\n",
        "})\n",
        "\n",
        "resultados_futuros.set_index('Fecha', inplace=True)\n"
      ]
    },
    {
      "cell_type": "code",
      "execution_count": 1668,
      "metadata": {},
      "outputs": [
        {
          "name": "stdout",
          "output_type": "stream",
          "text": [
            "             Predicción\n",
            "Fecha                  \n",
            "2024-07-22  2385.467041\n",
            "2024-07-23  2386.330322\n",
            "2024-07-24  2386.050537\n",
            "2024-07-25  2381.819580\n",
            "2024-07-26  2378.833008\n"
          ]
        }
      ],
      "source": [
        "print(resultados_futuros)"
      ]
    },
    {
      "cell_type": "code",
      "execution_count": null,
      "metadata": {},
      "outputs": [],
      "source": []
    }
  ],
  "metadata": {
    "accelerator": "GPU",
    "colab": {
      "collapsed_sections": [
        "ucRLLNXnK1ZA",
        "wKZvFSShSXxr"
      ],
      "gpuType": "T4",
      "provenance": []
    },
    "kernelspec": {
      "display_name": "Python 3",
      "name": "python3"
    },
    "language_info": {
      "codemirror_mode": {
        "name": "ipython",
        "version": 3
      },
      "file_extension": ".py",
      "mimetype": "text/x-python",
      "name": "python",
      "nbconvert_exporter": "python",
      "pygments_lexer": "ipython3",
      "version": "3.10.12"
    }
  },
  "nbformat": 4,
  "nbformat_minor": 0
}
