{
  "cells": [
    {
      "cell_type": "markdown",
      "metadata": {
        "id": "nSO5WF14g-Sp"
      },
      "source": [
        "# *FORECASTING* CON REDES LSTM - PARTE 1: PREPARACIÓN DE LOS DATOS"
      ]
    },
    {
      "cell_type": "markdown",
      "metadata": {
        "id": "Am94BXzEg-Sq"
      },
      "source": [
        "## Contenido\n",
        "\n",
        "1. [Introducción]\n",
        "2. [El set de datos]\n",
        "3. [El problema a resolver]\n",
        "4. [Lectura del set de datos]\n",
        "5. [Procesamiento inicial del dataset]\n",
        "6. [Análisis exploratorio]\n",
        "7. [Pre-procesamiento]\n",
        "8. [Conclusión]"
      ]
    },
    {
      "cell_type": "markdown",
      "metadata": {
        "id": "pBfAmqbIg-Sq"
      },
      "source": [
        "## 1. Lectura del set de datos"
      ]
    },
    {
      "cell_type": "code",
      "execution_count": 2,
      "metadata": {
        "colab": {
          "base_uri": "https://localhost:8080/",
          "height": 223
        },
        "id": "Dh2uWAOPg-Sr",
        "outputId": "f295f22a-4ead-46ed-f706-a95743f16e17"
      },
      "outputs": [
        {
          "ename": "ImportError",
          "evalue": "DLL load failed while importing _imaging: No se puede encontrar el módulo especificado.",
          "output_type": "error",
          "traceback": [
            "\u001b[1;31m---------------------------------------------------------------------------\u001b[0m",
            "\u001b[1;31mImportError\u001b[0m                               Traceback (most recent call last)",
            "Cell \u001b[1;32mIn[2], line 3\u001b[0m\n\u001b[0;32m      1\u001b[0m \u001b[38;5;66;03m#from google.colab import drive\u001b[39;00m\n\u001b[0;32m      2\u001b[0m \u001b[38;5;28;01mimport\u001b[39;00m \u001b[38;5;21;01mpandas\u001b[39;00m \u001b[38;5;28;01mas\u001b[39;00m \u001b[38;5;21;01mpd\u001b[39;00m\n\u001b[1;32m----> 3\u001b[0m \u001b[38;5;28;01mimport\u001b[39;00m \u001b[38;5;21;01mmatplotlib\u001b[39;00m\u001b[38;5;21;01m.\u001b[39;00m\u001b[38;5;21;01mpyplot\u001b[39;00m \u001b[38;5;28;01mas\u001b[39;00m \u001b[38;5;21;01mplt\u001b[39;00m\n\u001b[0;32m      4\u001b[0m \u001b[38;5;28;01mimport\u001b[39;00m \u001b[38;5;21;01mnumpy\u001b[39;00m \u001b[38;5;28;01mas\u001b[39;00m \u001b[38;5;21;01mnp\u001b[39;00m\n\u001b[0;32m      6\u001b[0m \u001b[38;5;66;03m# Montar Google Drive\u001b[39;00m\n\u001b[0;32m      7\u001b[0m \u001b[38;5;66;03m#drive.mount('/gdrive')\u001b[39;00m\n\u001b[0;32m      8\u001b[0m \n\u001b[0;32m      9\u001b[0m \u001b[38;5;66;03m# Leer set de datos\u001b[39;00m\n",
            "File \u001b[1;32mc:\\Users\\jeanf\\miniconda3\\envs\\influxdb\\lib\\site-packages\\matplotlib\\__init__.py:129\u001b[0m\n\u001b[0;32m    125\u001b[0m \u001b[38;5;28;01mfrom\u001b[39;00m \u001b[38;5;21;01mpackaging\u001b[39;00m\u001b[38;5;21;01m.\u001b[39;00m\u001b[38;5;21;01mversion\u001b[39;00m \u001b[38;5;28;01mimport\u001b[39;00m parse \u001b[38;5;28;01mas\u001b[39;00m parse_version\n\u001b[0;32m    127\u001b[0m \u001b[38;5;66;03m# cbook must import matplotlib only within function\u001b[39;00m\n\u001b[0;32m    128\u001b[0m \u001b[38;5;66;03m# definitions, so it is safe to import from it here.\u001b[39;00m\n\u001b[1;32m--> 129\u001b[0m \u001b[38;5;28;01mfrom\u001b[39;00m \u001b[38;5;21;01m.\u001b[39;00m \u001b[38;5;28;01mimport\u001b[39;00m _api, _version, cbook, _docstring, rcsetup\n\u001b[0;32m    130\u001b[0m \u001b[38;5;28;01mfrom\u001b[39;00m \u001b[38;5;21;01mmatplotlib\u001b[39;00m\u001b[38;5;21;01m.\u001b[39;00m\u001b[38;5;21;01mcbook\u001b[39;00m \u001b[38;5;28;01mimport\u001b[39;00m sanitize_sequence\n\u001b[0;32m    131\u001b[0m \u001b[38;5;28;01mfrom\u001b[39;00m \u001b[38;5;21;01mmatplotlib\u001b[39;00m\u001b[38;5;21;01m.\u001b[39;00m\u001b[38;5;21;01m_api\u001b[39;00m \u001b[38;5;28;01mimport\u001b[39;00m MatplotlibDeprecationWarning\n",
            "File \u001b[1;32mc:\\Users\\jeanf\\miniconda3\\envs\\influxdb\\lib\\site-packages\\matplotlib\\rcsetup.py:27\u001b[0m\n\u001b[0;32m     25\u001b[0m \u001b[38;5;28;01mfrom\u001b[39;00m \u001b[38;5;21;01mmatplotlib\u001b[39;00m \u001b[38;5;28;01mimport\u001b[39;00m _api, cbook\n\u001b[0;32m     26\u001b[0m \u001b[38;5;28;01mfrom\u001b[39;00m \u001b[38;5;21;01mmatplotlib\u001b[39;00m\u001b[38;5;21;01m.\u001b[39;00m\u001b[38;5;21;01mcbook\u001b[39;00m \u001b[38;5;28;01mimport\u001b[39;00m ls_mapper\n\u001b[1;32m---> 27\u001b[0m \u001b[38;5;28;01mfrom\u001b[39;00m \u001b[38;5;21;01mmatplotlib\u001b[39;00m\u001b[38;5;21;01m.\u001b[39;00m\u001b[38;5;21;01mcolors\u001b[39;00m \u001b[38;5;28;01mimport\u001b[39;00m Colormap, is_color_like\n\u001b[0;32m     28\u001b[0m \u001b[38;5;28;01mfrom\u001b[39;00m \u001b[38;5;21;01mmatplotlib\u001b[39;00m\u001b[38;5;21;01m.\u001b[39;00m\u001b[38;5;21;01m_fontconfig_pattern\u001b[39;00m \u001b[38;5;28;01mimport\u001b[39;00m parse_fontconfig_pattern\n\u001b[0;32m     29\u001b[0m \u001b[38;5;28;01mfrom\u001b[39;00m \u001b[38;5;21;01mmatplotlib\u001b[39;00m\u001b[38;5;21;01m.\u001b[39;00m\u001b[38;5;21;01m_enums\u001b[39;00m \u001b[38;5;28;01mimport\u001b[39;00m JoinStyle, CapStyle\n",
            "File \u001b[1;32mc:\\Users\\jeanf\\miniconda3\\envs\\influxdb\\lib\\site-packages\\matplotlib\\colors.py:51\u001b[0m\n\u001b[0;32m     49\u001b[0m \u001b[38;5;28;01mfrom\u001b[39;00m \u001b[38;5;21;01mnumbers\u001b[39;00m \u001b[38;5;28;01mimport\u001b[39;00m Number\n\u001b[0;32m     50\u001b[0m \u001b[38;5;28;01mimport\u001b[39;00m \u001b[38;5;21;01mre\u001b[39;00m\n\u001b[1;32m---> 51\u001b[0m \u001b[38;5;28;01mfrom\u001b[39;00m \u001b[38;5;21;01mPIL\u001b[39;00m \u001b[38;5;28;01mimport\u001b[39;00m Image\n\u001b[0;32m     52\u001b[0m \u001b[38;5;28;01mfrom\u001b[39;00m \u001b[38;5;21;01mPIL\u001b[39;00m\u001b[38;5;21;01m.\u001b[39;00m\u001b[38;5;21;01mPngImagePlugin\u001b[39;00m \u001b[38;5;28;01mimport\u001b[39;00m PngInfo\n\u001b[0;32m     54\u001b[0m \u001b[38;5;28;01mimport\u001b[39;00m \u001b[38;5;21;01mmatplotlib\u001b[39;00m \u001b[38;5;28;01mas\u001b[39;00m \u001b[38;5;21;01mmpl\u001b[39;00m\n",
            "File \u001b[1;32mc:\\Users\\jeanf\\miniconda3\\envs\\influxdb\\lib\\site-packages\\PIL\\Image.py:100\u001b[0m\n\u001b[0;32m     91\u001b[0m MAX_IMAGE_PIXELS: \u001b[38;5;28mint\u001b[39m \u001b[38;5;241m|\u001b[39m \u001b[38;5;28;01mNone\u001b[39;00m \u001b[38;5;241m=\u001b[39m \u001b[38;5;28mint\u001b[39m(\u001b[38;5;241m1024\u001b[39m \u001b[38;5;241m*\u001b[39m \u001b[38;5;241m1024\u001b[39m \u001b[38;5;241m*\u001b[39m \u001b[38;5;241m1024\u001b[39m \u001b[38;5;241m/\u001b[39m\u001b[38;5;241m/\u001b[39m \u001b[38;5;241m4\u001b[39m \u001b[38;5;241m/\u001b[39m\u001b[38;5;241m/\u001b[39m \u001b[38;5;241m3\u001b[39m)\n\u001b[0;32m     94\u001b[0m \u001b[38;5;28;01mtry\u001b[39;00m:\n\u001b[0;32m     95\u001b[0m     \u001b[38;5;66;03m# If the _imaging C module is not present, Pillow will not load.\u001b[39;00m\n\u001b[0;32m     96\u001b[0m     \u001b[38;5;66;03m# Note that other modules should not refer to _imaging directly;\u001b[39;00m\n\u001b[0;32m     97\u001b[0m     \u001b[38;5;66;03m# import Image and use the Image.core variable instead.\u001b[39;00m\n\u001b[0;32m     98\u001b[0m     \u001b[38;5;66;03m# Also note that Image.core is not a publicly documented interface,\u001b[39;00m\n\u001b[0;32m     99\u001b[0m     \u001b[38;5;66;03m# and should be considered private and subject to change.\u001b[39;00m\n\u001b[1;32m--> 100\u001b[0m     \u001b[38;5;28;01mfrom\u001b[39;00m \u001b[38;5;21;01m.\u001b[39;00m \u001b[38;5;28;01mimport\u001b[39;00m _imaging \u001b[38;5;28;01mas\u001b[39;00m core\n\u001b[0;32m    102\u001b[0m     \u001b[38;5;28;01mif\u001b[39;00m __version__ \u001b[38;5;241m!=\u001b[39m \u001b[38;5;28mgetattr\u001b[39m(core, \u001b[38;5;124m\"\u001b[39m\u001b[38;5;124mPILLOW_VERSION\u001b[39m\u001b[38;5;124m\"\u001b[39m, \u001b[38;5;28;01mNone\u001b[39;00m):\n\u001b[0;32m    103\u001b[0m         msg \u001b[38;5;241m=\u001b[39m (\n\u001b[0;32m    104\u001b[0m             \u001b[38;5;124m\"\u001b[39m\u001b[38;5;124mThe _imaging extension was built for another version of Pillow or PIL:\u001b[39m\u001b[38;5;130;01m\\n\u001b[39;00m\u001b[38;5;124m\"\u001b[39m\n\u001b[0;32m    105\u001b[0m             \u001b[38;5;124mf\u001b[39m\u001b[38;5;124m\"\u001b[39m\u001b[38;5;124mCore version: \u001b[39m\u001b[38;5;132;01m{\u001b[39;00m\u001b[38;5;28mgetattr\u001b[39m(core,\u001b[38;5;250m \u001b[39m\u001b[38;5;124m'\u001b[39m\u001b[38;5;124mPILLOW_VERSION\u001b[39m\u001b[38;5;124m'\u001b[39m,\u001b[38;5;250m \u001b[39m\u001b[38;5;28;01mNone\u001b[39;00m)\u001b[38;5;132;01m}\u001b[39;00m\u001b[38;5;130;01m\\n\u001b[39;00m\u001b[38;5;124m\"\u001b[39m\n\u001b[0;32m    106\u001b[0m             \u001b[38;5;124mf\u001b[39m\u001b[38;5;124m\"\u001b[39m\u001b[38;5;124mPillow version: \u001b[39m\u001b[38;5;132;01m{\u001b[39;00m__version__\u001b[38;5;132;01m}\u001b[39;00m\u001b[38;5;124m\"\u001b[39m\n\u001b[0;32m    107\u001b[0m         )\n",
            "\u001b[1;31mImportError\u001b[0m: DLL load failed while importing _imaging: No se puede encontrar el módulo especificado."
          ]
        }
      ],
      "source": [
        "#from google.colab import drive\n",
        "import pandas as pd\n",
        "import matplotlib.pyplot as plt\n",
        "import numpy as np\n",
        "\n",
        "# Montar Google Drive\n",
        "#drive.mount('/gdrive')\n",
        "\n",
        "# Leer set de datos\n",
        "ruta = './'\n",
        "datos = pd.read_csv(ruta+'Ventas_Insulina_2016_2024.csv', delimiter=';')\n",
        "#datos = pd.read_csv(ruta+'Ventas_SENSODYNEBLANQ_2016_2024.csv', delimiter=';')\n",
        "#datos = pd.read_csv(ruta+'Ventas_XARELTO_2016_2024.csv', delimiter=';')\n",
        "\n",
        "datos.head()\n",
        "\n"
      ]
    },
    {
      "cell_type": "code",
      "execution_count": null,
      "metadata": {
        "colab": {
          "base_uri": "https://localhost:8080/"
        },
        "id": "PgGZOGv_59S_",
        "outputId": "e947767f-e9ed-44c3-f10b-176760cc4d5a"
      },
      "outputs": [
        {
          "name": "stdout",
          "output_type": "stream",
          "text": [
            "13887\n"
          ]
        }
      ],
      "source": [
        "idItem = datos['id_item'].unique()[0]\n",
        "print(idItem)"
      ]
    },
    {
      "cell_type": "markdown",
      "metadata": {
        "id": "pAWkO-x2g-Ss"
      },
      "source": [
        "## 2. Procesamiento inicial del dataset"
      ]
    },
    {
      "cell_type": "code",
      "execution_count": null,
      "metadata": {
        "id": "_pbAFnPK8CpM"
      },
      "outputs": [],
      "source": [
        "# Suponiendo que df es tu DataFrame original y quieres seleccionar solo ciertas columnas\n",
        "columnas_especificas = ['Fecha', 'id_item','cantidad_unid', 'cantidad_frac']\n",
        "datos = datos[columnas_especificas]\n"
      ]
    },
    {
      "cell_type": "code",
      "execution_count": null,
      "metadata": {
        "id": "elKLa4oQZM8Z"
      },
      "outputs": [],
      "source": [
        "def validar_y_actualizar(fila):\n",
        "    if  fila[\"cantidad_unid\"] >= 1:\n",
        "        if (fila['id_item'] == 13887): #JERINGA MEGA INSUL 1MLx29Gx1/2x100\n",
        "          fila[\"cantidad_frac\"] += 100 * int(fila[\"cantidad_unid\"])\n",
        "          #datos = datos = datos.rename(columns={'cantidad_unid': 'cantidad_frac'})\n",
        "          #fila[\"cantidad_unid\"] = 0\n",
        "        elif fila['id_item'] in {90765, 79680, 27112}:\n",
        "          fila[\"cantidad_frac\"] += int(fila[\"cantidad_unid\"])\n",
        "\n",
        "        elif(fila['id_item'] == 54122): #XARELTO COM-RECx10MGx10\n",
        "          fila[\"cantidad_frac\"] += 10 * int(fila[\"cantidad_unid\"])\n",
        "\n",
        "\n",
        "    return fila\n",
        "\n",
        "\n",
        "# Aplicar la función a cada fila\n",
        "datos = datos.apply(validar_y_actualizar, axis=1)\n",
        "datos = datos.drop(columns = [\"cantidad_unid\"])"
      ]
    },
    {
      "cell_type": "code",
      "execution_count": null,
      "metadata": {
        "id": "6_GLI0fUUqlt"
      },
      "outputs": [],
      "source": [
        "df3 = datos"
      ]
    },
    {
      "cell_type": "markdown",
      "metadata": {
        "id": "MroaROOZctAI"
      },
      "source": [
        "### 2.1 Manipulación de fechas"
      ]
    },
    {
      "cell_type": "code",
      "execution_count": null,
      "metadata": {
        "colab": {
          "base_uri": "https://localhost:8080/"
        },
        "id": "v4_Hg2rOg-Ss",
        "outputId": "d3a3bbc0-3a94-497f-d288-e150959b837c"
      },
      "outputs": [
        {
          "data": {
            "text/plain": [
              "dtype('O')"
            ]
          },
          "execution_count": 6,
          "metadata": {},
          "output_type": "execute_result"
        }
      ],
      "source": [
        "# verificar que el tipo de dato es object 'O'\n",
        "datos[\"Fecha\"].dtype"
      ]
    },
    {
      "cell_type": "code",
      "execution_count": null,
      "metadata": {
        "id": "utieDtbEg-St"
      },
      "outputs": [],
      "source": [
        "# Pasar la columna de Fecha al formato datetime\n",
        "datos['Fecha'] = pd.to_datetime(datos['Fecha'], format='%d/%m/%Y %H:%M')\n",
        "# Establecer la hora y el minuto a 0\n",
        "datos['Fecha'] = datos['Fecha'].apply(lambda dt: dt.replace(hour=0, minute=0, second=0))\n",
        "datos = datos.groupby(['Fecha', 'id_item'], as_index= False).sum()\n",
        "# Ordenemos el dataset de forma ascendente según \"fecha\"\n",
        "datos.sort_index(inplace=False)\n",
        "datos.set_index('Fecha', inplace= True)\n",
        "df = datos\n"
      ]
    },
    {
      "cell_type": "code",
      "execution_count": null,
      "metadata": {
        "colab": {
          "base_uri": "https://localhost:8080/",
          "height": 237
        },
        "id": "ATmUwVMmNzGA",
        "outputId": "6adb6e31-6a15-4bfb-96e1-cf39f6df3a18"
      },
      "outputs": [
        {
          "data": {
            "application/vnd.google.colaboratory.intrinsic+json": {
              "summary": "{\n  \"name\": \"df\",\n  \"rows\": 3130,\n  \"fields\": [\n    {\n      \"column\": \"Fecha\",\n      \"properties\": {\n        \"dtype\": \"date\",\n        \"min\": \"2016-01-02 00:00:00\",\n        \"max\": \"2024-08-05 00:00:00\",\n        \"num_unique_values\": 3130,\n        \"samples\": [\n          \"2020-09-08 00:00:00\",\n          \"2022-12-30 00:00:00\",\n          \"2016-06-29 00:00:00\"\n        ],\n        \"semantic_type\": \"\",\n        \"description\": \"\"\n      }\n    },\n    {\n      \"column\": \"id_item\",\n      \"properties\": {\n        \"dtype\": \"number\",\n        \"std\": 0,\n        \"min\": 13887,\n        \"max\": 13887,\n        \"num_unique_values\": 1,\n        \"samples\": [\n          13887\n        ],\n        \"semantic_type\": \"\",\n        \"description\": \"\"\n      }\n    },\n    {\n      \"column\": \"cantidad_frac\",\n      \"properties\": {\n        \"dtype\": \"number\",\n        \"std\": 222,\n        \"min\": 1,\n        \"max\": 3323,\n        \"num_unique_values\": 825,\n        \"samples\": [\n          222\n        ],\n        \"semantic_type\": \"\",\n        \"description\": \"\"\n      }\n    }\n  ]\n}",
              "type": "dataframe",
              "variable_name": "df"
            },
            "text/html": [
              "\n",
              "  <div id=\"df-e502bea4-f50b-4238-ba6e-956e41cdf787\" class=\"colab-df-container\">\n",
              "    <div>\n",
              "<style scoped>\n",
              "    .dataframe tbody tr th:only-of-type {\n",
              "        vertical-align: middle;\n",
              "    }\n",
              "\n",
              "    .dataframe tbody tr th {\n",
              "        vertical-align: top;\n",
              "    }\n",
              "\n",
              "    .dataframe thead th {\n",
              "        text-align: right;\n",
              "    }\n",
              "</style>\n",
              "<table border=\"1\" class=\"dataframe\">\n",
              "  <thead>\n",
              "    <tr style=\"text-align: right;\">\n",
              "      <th></th>\n",
              "      <th>id_item</th>\n",
              "      <th>cantidad_frac</th>\n",
              "    </tr>\n",
              "    <tr>\n",
              "      <th>Fecha</th>\n",
              "      <th></th>\n",
              "      <th></th>\n",
              "    </tr>\n",
              "  </thead>\n",
              "  <tbody>\n",
              "    <tr>\n",
              "      <th>2016-01-02</th>\n",
              "      <td>13887</td>\n",
              "      <td>3</td>\n",
              "    </tr>\n",
              "    <tr>\n",
              "      <th>2016-01-04</th>\n",
              "      <td>13887</td>\n",
              "      <td>28</td>\n",
              "    </tr>\n",
              "    <tr>\n",
              "      <th>2016-01-05</th>\n",
              "      <td>13887</td>\n",
              "      <td>31</td>\n",
              "    </tr>\n",
              "    <tr>\n",
              "      <th>2016-01-06</th>\n",
              "      <td>13887</td>\n",
              "      <td>21</td>\n",
              "    </tr>\n",
              "    <tr>\n",
              "      <th>2016-01-07</th>\n",
              "      <td>13887</td>\n",
              "      <td>1</td>\n",
              "    </tr>\n",
              "  </tbody>\n",
              "</table>\n",
              "</div>\n",
              "    <div class=\"colab-df-buttons\">\n",
              "\n",
              "  <div class=\"colab-df-container\">\n",
              "    <button class=\"colab-df-convert\" onclick=\"convertToInteractive('df-e502bea4-f50b-4238-ba6e-956e41cdf787')\"\n",
              "            title=\"Convert this dataframe to an interactive table.\"\n",
              "            style=\"display:none;\">\n",
              "\n",
              "  <svg xmlns=\"http://www.w3.org/2000/svg\" height=\"24px\" viewBox=\"0 -960 960 960\">\n",
              "    <path d=\"M120-120v-720h720v720H120Zm60-500h600v-160H180v160Zm220 220h160v-160H400v160Zm0 220h160v-160H400v160ZM180-400h160v-160H180v160Zm440 0h160v-160H620v160ZM180-180h160v-160H180v160Zm440 0h160v-160H620v160Z\"/>\n",
              "  </svg>\n",
              "    </button>\n",
              "\n",
              "  <style>\n",
              "    .colab-df-container {\n",
              "      display:flex;\n",
              "      gap: 12px;\n",
              "    }\n",
              "\n",
              "    .colab-df-convert {\n",
              "      background-color: #E8F0FE;\n",
              "      border: none;\n",
              "      border-radius: 50%;\n",
              "      cursor: pointer;\n",
              "      display: none;\n",
              "      fill: #1967D2;\n",
              "      height: 32px;\n",
              "      padding: 0 0 0 0;\n",
              "      width: 32px;\n",
              "    }\n",
              "\n",
              "    .colab-df-convert:hover {\n",
              "      background-color: #E2EBFA;\n",
              "      box-shadow: 0px 1px 2px rgba(60, 64, 67, 0.3), 0px 1px 3px 1px rgba(60, 64, 67, 0.15);\n",
              "      fill: #174EA6;\n",
              "    }\n",
              "\n",
              "    .colab-df-buttons div {\n",
              "      margin-bottom: 4px;\n",
              "    }\n",
              "\n",
              "    [theme=dark] .colab-df-convert {\n",
              "      background-color: #3B4455;\n",
              "      fill: #D2E3FC;\n",
              "    }\n",
              "\n",
              "    [theme=dark] .colab-df-convert:hover {\n",
              "      background-color: #434B5C;\n",
              "      box-shadow: 0px 1px 3px 1px rgba(0, 0, 0, 0.15);\n",
              "      filter: drop-shadow(0px 1px 2px rgba(0, 0, 0, 0.3));\n",
              "      fill: #FFFFFF;\n",
              "    }\n",
              "  </style>\n",
              "\n",
              "    <script>\n",
              "      const buttonEl =\n",
              "        document.querySelector('#df-e502bea4-f50b-4238-ba6e-956e41cdf787 button.colab-df-convert');\n",
              "      buttonEl.style.display =\n",
              "        google.colab.kernel.accessAllowed ? 'block' : 'none';\n",
              "\n",
              "      async function convertToInteractive(key) {\n",
              "        const element = document.querySelector('#df-e502bea4-f50b-4238-ba6e-956e41cdf787');\n",
              "        const dataTable =\n",
              "          await google.colab.kernel.invokeFunction('convertToInteractive',\n",
              "                                                    [key], {});\n",
              "        if (!dataTable) return;\n",
              "\n",
              "        const docLinkHtml = 'Like what you see? Visit the ' +\n",
              "          '<a target=\"_blank\" href=https://colab.research.google.com/notebooks/data_table.ipynb>data table notebook</a>'\n",
              "          + ' to learn more about interactive tables.';\n",
              "        element.innerHTML = '';\n",
              "        dataTable['output_type'] = 'display_data';\n",
              "        await google.colab.output.renderOutput(dataTable, element);\n",
              "        const docLink = document.createElement('div');\n",
              "        docLink.innerHTML = docLinkHtml;\n",
              "        element.appendChild(docLink);\n",
              "      }\n",
              "    </script>\n",
              "  </div>\n",
              "\n",
              "\n",
              "<div id=\"df-965eda36-6a0c-4b6d-bc75-9b9643cbdfa1\">\n",
              "  <button class=\"colab-df-quickchart\" onclick=\"quickchart('df-965eda36-6a0c-4b6d-bc75-9b9643cbdfa1')\"\n",
              "            title=\"Suggest charts\"\n",
              "            style=\"display:none;\">\n",
              "\n",
              "<svg xmlns=\"http://www.w3.org/2000/svg\" height=\"24px\"viewBox=\"0 0 24 24\"\n",
              "     width=\"24px\">\n",
              "    <g>\n",
              "        <path d=\"M19 3H5c-1.1 0-2 .9-2 2v14c0 1.1.9 2 2 2h14c1.1 0 2-.9 2-2V5c0-1.1-.9-2-2-2zM9 17H7v-7h2v7zm4 0h-2V7h2v10zm4 0h-2v-4h2v4z\"/>\n",
              "    </g>\n",
              "</svg>\n",
              "  </button>\n",
              "\n",
              "<style>\n",
              "  .colab-df-quickchart {\n",
              "      --bg-color: #E8F0FE;\n",
              "      --fill-color: #1967D2;\n",
              "      --hover-bg-color: #E2EBFA;\n",
              "      --hover-fill-color: #174EA6;\n",
              "      --disabled-fill-color: #AAA;\n",
              "      --disabled-bg-color: #DDD;\n",
              "  }\n",
              "\n",
              "  [theme=dark] .colab-df-quickchart {\n",
              "      --bg-color: #3B4455;\n",
              "      --fill-color: #D2E3FC;\n",
              "      --hover-bg-color: #434B5C;\n",
              "      --hover-fill-color: #FFFFFF;\n",
              "      --disabled-bg-color: #3B4455;\n",
              "      --disabled-fill-color: #666;\n",
              "  }\n",
              "\n",
              "  .colab-df-quickchart {\n",
              "    background-color: var(--bg-color);\n",
              "    border: none;\n",
              "    border-radius: 50%;\n",
              "    cursor: pointer;\n",
              "    display: none;\n",
              "    fill: var(--fill-color);\n",
              "    height: 32px;\n",
              "    padding: 0;\n",
              "    width: 32px;\n",
              "  }\n",
              "\n",
              "  .colab-df-quickchart:hover {\n",
              "    background-color: var(--hover-bg-color);\n",
              "    box-shadow: 0 1px 2px rgba(60, 64, 67, 0.3), 0 1px 3px 1px rgba(60, 64, 67, 0.15);\n",
              "    fill: var(--button-hover-fill-color);\n",
              "  }\n",
              "\n",
              "  .colab-df-quickchart-complete:disabled,\n",
              "  .colab-df-quickchart-complete:disabled:hover {\n",
              "    background-color: var(--disabled-bg-color);\n",
              "    fill: var(--disabled-fill-color);\n",
              "    box-shadow: none;\n",
              "  }\n",
              "\n",
              "  .colab-df-spinner {\n",
              "    border: 2px solid var(--fill-color);\n",
              "    border-color: transparent;\n",
              "    border-bottom-color: var(--fill-color);\n",
              "    animation:\n",
              "      spin 1s steps(1) infinite;\n",
              "  }\n",
              "\n",
              "  @keyframes spin {\n",
              "    0% {\n",
              "      border-color: transparent;\n",
              "      border-bottom-color: var(--fill-color);\n",
              "      border-left-color: var(--fill-color);\n",
              "    }\n",
              "    20% {\n",
              "      border-color: transparent;\n",
              "      border-left-color: var(--fill-color);\n",
              "      border-top-color: var(--fill-color);\n",
              "    }\n",
              "    30% {\n",
              "      border-color: transparent;\n",
              "      border-left-color: var(--fill-color);\n",
              "      border-top-color: var(--fill-color);\n",
              "      border-right-color: var(--fill-color);\n",
              "    }\n",
              "    40% {\n",
              "      border-color: transparent;\n",
              "      border-right-color: var(--fill-color);\n",
              "      border-top-color: var(--fill-color);\n",
              "    }\n",
              "    60% {\n",
              "      border-color: transparent;\n",
              "      border-right-color: var(--fill-color);\n",
              "    }\n",
              "    80% {\n",
              "      border-color: transparent;\n",
              "      border-right-color: var(--fill-color);\n",
              "      border-bottom-color: var(--fill-color);\n",
              "    }\n",
              "    90% {\n",
              "      border-color: transparent;\n",
              "      border-bottom-color: var(--fill-color);\n",
              "    }\n",
              "  }\n",
              "</style>\n",
              "\n",
              "  <script>\n",
              "    async function quickchart(key) {\n",
              "      const quickchartButtonEl =\n",
              "        document.querySelector('#' + key + ' button');\n",
              "      quickchartButtonEl.disabled = true;  // To prevent multiple clicks.\n",
              "      quickchartButtonEl.classList.add('colab-df-spinner');\n",
              "      try {\n",
              "        const charts = await google.colab.kernel.invokeFunction(\n",
              "            'suggestCharts', [key], {});\n",
              "      } catch (error) {\n",
              "        console.error('Error during call to suggestCharts:', error);\n",
              "      }\n",
              "      quickchartButtonEl.classList.remove('colab-df-spinner');\n",
              "      quickchartButtonEl.classList.add('colab-df-quickchart-complete');\n",
              "    }\n",
              "    (() => {\n",
              "      let quickchartButtonEl =\n",
              "        document.querySelector('#df-965eda36-6a0c-4b6d-bc75-9b9643cbdfa1 button');\n",
              "      quickchartButtonEl.style.display =\n",
              "        google.colab.kernel.accessAllowed ? 'block' : 'none';\n",
              "    })();\n",
              "  </script>\n",
              "</div>\n",
              "\n",
              "    </div>\n",
              "  </div>\n"
            ],
            "text/plain": [
              "            id_item  cantidad_frac\n",
              "Fecha                             \n",
              "2016-01-02    13887              3\n",
              "2016-01-04    13887             28\n",
              "2016-01-05    13887             31\n",
              "2016-01-06    13887             21\n",
              "2016-01-07    13887              1"
            ]
          },
          "execution_count": 8,
          "metadata": {},
          "output_type": "execute_result"
        }
      ],
      "source": [
        "df.head()\n"
      ]
    },
    {
      "cell_type": "markdown",
      "metadata": {
        "id": "_cOy3GuHP6nr"
      },
      "source": [
        "## 3. Pre-procesamiento"
      ]
    },
    {
      "cell_type": "markdown",
      "metadata": {
        "id": "gcoxFaWKQFRC"
      },
      "source": [
        "**Se tiene 6 variables**\n",
        "- *Fecha*: Fecha de compra del producto\n",
        "- *codigo*: codigo de la farmacia donde se compro el producto\n",
        "- *POS*: nombre de la farmacia\n",
        "- *id_item*: codigo del producto\n",
        "- *Descripcion_larga*: nombre del producto\n",
        "- *cantidad_uni*: cantidad de producto comprada\n",
        "\n",
        "\n",
        "**Tendremos dos tipos de variables al momento de implementar los modelos LSTM:**\n",
        "- Variable a predecir: la variable a pronosticar (salida del modelo LSTM). En este caso es *cantidad_unid*\n",
        "\n",
        "- Variables predictoras (o covariables): las variables de entrada al modelo LSTM a partir de las cuales se realizará la predicción.\n",
        "  - Puede incluir la variable a predecir (*cantidad_unid*)\n",
        "  - Puede incluir la variable tiempo (columna *Fecha*)\n",
        "\n",
        "\n",
        "---\n",
        "\n"
      ]
    },
    {
      "cell_type": "code",
      "execution_count": null,
      "metadata": {
        "colab": {
          "base_uri": "https://localhost:8080/",
          "height": 390
        },
        "id": "LI_gNC25pfq6",
        "outputId": "89a51241-3774-4971-e580-2f35fa62b6ee"
      },
      "outputs": [
        {
          "data": {
            "image/png": "[encoded data removed]",
            "text/plain": [
              "<Figure size 800x400 with 1 Axes>"
            ]
          },
          "metadata": {},
          "output_type": "display_data"
        }
      ],
      "source": [
        "df['cantidad_frac'].plot(kind='line', figsize=(8, 4), title='cantidad_frac')\n",
        "plt.gca().spines[['top', 'right']].set_visible(False)"
      ]
    },
    {
      "cell_type": "markdown",
      "metadata": {
        "id": "3iMCDY-XVMAf"
      },
      "source": [
        "**Observaciones:**\n",
        "Al parecer hay varios outliers, en específico el que está a mediados del año 2022. Otro punto a considerar es que no se encuentran registros del año 2021 por motivos de pandemia es un año que se presta a valores atipicos.\n",
        "\n",
        "\n",
        "---\n",
        "\n"
      ]
    },
    {
      "cell_type": "code",
      "execution_count": null,
      "metadata": {
        "colab": {
          "base_uri": "https://localhost:8080/"
        },
        "id": "d-jH4-zKg-St",
        "outputId": "4082aab2-7865-4fac-9b12-0a9b014bdeea"
      },
      "outputs": [
        {
          "name": "stdout",
          "output_type": "stream",
          "text": [
            "Cantidad de NaNs:\n",
            "\tColumna id_item: 0\n",
            "\tColumna cantidad_frac: 0\n"
          ]
        }
      ],
      "source": [
        "# verficar datos faltantes\n",
        "print('Cantidad de NaNs:')\n",
        "for column in df:\n",
        "    nans = df[column].isna().sum()\n",
        "\n",
        "    print(f'\\tColumna {column}: {nans}')"
      ]
    },
    {
      "cell_type": "markdown",
      "metadata": {
        "id": "09RH-piIg-St"
      },
      "source": [
        "garantizar que la periodicidad de las muestras es exactamente de 1 día:"
      ]
    },
    {
      "cell_type": "code",
      "execution_count": null,
      "metadata": {
        "colab": {
          "base_uri": "https://localhost:8080/"
        },
        "id": "Fi8zH-5dg-St",
        "outputId": "f279b51f-288e-4a97-db6d-9f9faad0a92d"
      },
      "outputs": [
        {
          "name": "stdout",
          "output_type": "stream",
          "text": [
            "Fecha\n",
            "1.0    3120\n",
            "2.0       9\n",
            "Name: count, dtype: int64\n"
          ]
        }
      ],
      "source": [
        "# Convertir el índice a fecha y hora si aún no lo está\n",
        "df.index = pd.to_datetime(df.index)\n",
        "\n",
        "# Calcular diferencias (en días) entre cada par de datos consecutivos\n",
        "df_time_diffs = df.index.to_series().diff().dt.days\n",
        "\n",
        "# Contar las ocurrencias de cada diferencia\n",
        "print(df_time_diffs.value_counts())"
      ]
    },
    {
      "cell_type": "markdown",
      "metadata": {
        "id": "ceVlCcRog-St"
      },
      "source": [
        "\n",
        "Por lo tanto vemos que:\n",
        "\n",
        "- hay 2178 pares de registro con una diferencia de 1 día.\n",
        "- hay 4 pares de registro con una diferencia de 2 días.\n",
        "- hay 1 par de registros con una diferencia de 368 días. (la fecha de pandemia)"
      ]
    },
    {
      "cell_type": "code",
      "execution_count": null,
      "metadata": {
        "colab": {
          "base_uri": "https://localhost:8080/",
          "height": 912
        },
        "id": "Iy-8NIJtg-Su",
        "outputId": "5a76fb2b-93c5-4c30-ca20-3e4df1d3e76b"
      },
      "outputs": [
        {
          "data": {
            "image/png": "[encoded data removed]",
            "text/plain": [
              "<Figure size 1600x1200 with 2 Axes>"
            ]
          },
          "metadata": {},
          "output_type": "display_data"
        }
      ],
      "source": [
        "# Dibujemos nuestras variables\n",
        "cols = df.columns\n",
        "\n",
        "# N = 24*30*12 # Dibujar 1 año continuo\n",
        "N = df.shape[0]\n",
        "plots = df[cols][0:N]\n",
        "plots.index = df.index[0:N]\n",
        "_ = plots.plot(subplots=True, figsize=(16,12))"
      ]
    },
    {
      "cell_type": "markdown",
      "metadata": {
        "id": "Hso0szYNs9zl"
      },
      "source": [
        "No hay datos faltantes\n",
        "Pero debemos mejorar la perioricidad del dataset"
      ]
    },
    {
      "cell_type": "markdown",
      "metadata": {
        "id": "wpDqTjF2tjUP"
      },
      "source": [
        "### 3.1. Ajuste de la periodicidad del dataset\n"
      ]
    },
    {
      "cell_type": "code",
      "execution_count": null,
      "metadata": {
        "id": "vgYjbHNhb_eH"
      },
      "outputs": [],
      "source": [
        "# Función para eliminar outliers y reemplazarlos por el valor promedio\n",
        "def eliminar_outliers(df, columnas):\n",
        "    for columna in columnas:\n",
        "        Q1 = df[columna].quantile(0.25)\n",
        "        Q3 = df[columna].quantile(0.75)\n",
        "        IQR = Q3 - Q1\n",
        "        limite_inferior = Q1 - 1.5 * IQR\n",
        "        limite_superior = Q3 + 1.5 * IQR\n",
        "\n",
        "        # Calcular el promedio sin outliers\n",
        "        promedio_sin_outliers = df[(df[columna] >= limite_inferior) & (df[columna] <= limite_superior)][columna].mean()\n",
        "\n",
        "        # Reemplazar los outliers por el promedio\n",
        "        df[columna] = df[columna].apply(lambda x: promedio_sin_outliers if (x < limite_inferior or x > limite_superior) else x)\n",
        "\n",
        "    return df\n",
        "\n",
        "#Seleccionar las columnas que deseas procesar\n",
        "columnas_a_procesar = ['cantidad_frac']  # Ajusta según tus necesidades\n",
        "\n",
        "# Aplicar la función\n",
        "df = eliminar_outliers(df, columnas_a_procesar)\n",
        "\n",
        "# Guardar o visualizar el DataFrame procesado\n",
        "# df_procesado.to_csv('tu_archivo_procesado.csv', index=False)  # Ajusta según tus necesidades\n"
      ]
    },
    {
      "cell_type": "code",
      "execution_count": null,
      "metadata": {
        "colab": {
          "base_uri": "https://localhost:8080/"
        },
        "id": "26NFDOBCg-Su",
        "outputId": "eacd9a5a-3700-4994-d35d-7ca01441d01f"
      },
      "outputs": [
        {
          "name": "stdout",
          "output_type": "stream",
          "text": [
            "Fecha\n",
            "1.0    3138\n",
            "Name: count, dtype: int64\n"
          ]
        }
      ],
      "source": [
        "# Reinterpolar el dataset con una periodicidad de 1 día\n",
        "df2 = df.asfreq(freq='D', method='bfill')\n",
        "#df2 = df.asfreq(freq='D', method='ffill')\n",
        "#df2 = df.asfreq(freq='D', fill_value=0)\n",
        "\n",
        "\n",
        "# Y verificar que la totalidad del dataset tiene esta periodicidad\n",
        "df_time_diffs = df2.index.to_series().diff().dt.days\n",
        "print(df_time_diffs.value_counts())"
      ]
    },
    {
      "cell_type": "code",
      "execution_count": null,
      "metadata": {
        "colab": {
          "base_uri": "https://localhost:8080/"
        },
        "id": "dyFT263ig-Su",
        "outputId": "aac33e3c-3b72-4b5b-959a-4fbda83dd99e"
      },
      "outputs": [
        {
          "name": "stdout",
          "output_type": "stream",
          "text": [
            "Cantidad de NaNs:\n",
            "\tColumna id_item: 0\n",
            "\tColumna cantidad_frac: 0\n"
          ]
        }
      ],
      "source": [
        "# Verificar que el dataset resultante no contiene NaNs:\n",
        "print('Cantidad de NaNs:')\n",
        "for column in df:\n",
        "    nans = df2[column].isna().sum()\n",
        "    print(f'\\tColumna {column}: {nans}')"
      ]
    },
    {
      "cell_type": "code",
      "execution_count": null,
      "metadata": {
        "colab": {
          "base_uri": "https://localhost:8080/"
        },
        "id": "YNVDaZtQg-Su",
        "outputId": "a98ca301-f96e-47cf-932d-296ecf6fbd26"
      },
      "outputs": [
        {
          "name": "stdout",
          "output_type": "stream",
          "text": [
            "Promedios original/modificado: 13887.00/13887.00\n",
            "Promedios original/modificado: 364.41/364.41\n"
          ]
        }
      ],
      "source": [
        "# Y finalmente verificar las columnas originales y modificadas\n",
        "# para constatar que los valores promedio no cambian\n",
        "\n",
        "for column in df:\n",
        "  # Verificar si la columna actual es de tipo flotante\n",
        "  if pd.api.types.is_numeric_dtype(df2[column]):\n",
        "    # Calcular y imprimir promedios solo para columnas flotantes\n",
        "    print(f'Promedios original/modificado: {df2[column].mean():.2f}/{df2[column].mean():.2f}')\n"
      ]
    },
    {
      "cell_type": "code",
      "execution_count": null,
      "metadata": {
        "id": "V0z2wgBu7WVm"
      },
      "outputs": [],
      "source": [
        "df = df2"
      ]
    },
    {
      "cell_type": "markdown",
      "metadata": {
        "id": "ZeAAHRLU5clc"
      },
      "source": [
        "### En este punto ya contamos con un dataset íntegro (no contiene datos faltantes ni *outliers* y tiene una periodicidad de 1 día).\n",
        "---\n",
        "\n"
      ]
    },
    {
      "cell_type": "markdown",
      "metadata": {
        "id": "tuUo30jRg-Sv"
      },
      "source": [
        "### 3.2. Partición del set de entrenamiento y prueba"
      ]
    },
    {
      "cell_type": "markdown",
      "metadata": {
        "id": "7nWRWMQcg-Su"
      },
      "source": [
        "1. Partición en train/val/test (80%, 10%, 10%)\n",
        "2. Generación del dataset supervisado: entrada y salida del modelo\n",
        "3. Escalamiento"
      ]
    },
    {
      "cell_type": "markdown",
      "metadata": {
        "id": "VbYUlHaig-Sv"
      },
      "source": [
        "A diferencia de otros modelos de Machine Learning, en el caso de series de tiempo **se debe garantizar que se generan las particiones sin mezclar aleatoriamente los datos**.\n",
        "\n",
        "Recordemos además que:\n",
        "- El set de entrenamiento (*train*) se usará para encontrar los parámetros del modelo\n",
        "- El set de validación (*val*) para verificar que no haya *under/over-fitting* del modelo y para ajustar sus hiperparámetros\n",
        "- El set de prueba (*test*) para poner a prueba el mejor modelo encontrado durante el entrenamiento/validación"
      ]
    },
    {
      "cell_type": "markdown",
      "metadata": {
        "id": "pyhCXyksg-Sv"
      },
      "source": []
    },
    {
      "cell_type": "code",
      "execution_count": null,
      "metadata": {
        "colab": {
          "base_uri": "https://localhost:8080/"
        },
        "id": "I1qi1yePg-Sv",
        "outputId": "4a464cb6-e8e2-4072-edb2-d4155383fac7"
      },
      "outputs": [
        {
          "name": "stdout",
          "output_type": "stream",
          "text": [
            "Tamaño set de entrenamiento: (2511,)\n",
            "Tamaño set de validación: (313,)\n",
            "Tamaño set de prueba: (315,)\n"
          ]
        }
      ],
      "source": [
        "# Función para generar las particiones preservando las características\n",
        "# de la serie de tiempo\n",
        "\n",
        "#tr_size = 0.8 80% para el entrenamiento\n",
        "#vl_size = 0.1 10% para la validación\n",
        "#ts_size = 0.1 10% para el test\n",
        "\n",
        "\n",
        "def train_val_test_split(serie, tr_size=0.8, vl_size=0.1, ts_size=0.1 ):\n",
        "    # Definir número de datos en cada subserie\n",
        "    N = serie.shape[0]\n",
        "    Ntrain = int(tr_size*N)  # Número de datos de entrenamiento\n",
        "    Nval = int(vl_size*N)    # Número de datos de validación\n",
        "    Ntst = N - Ntrain - Nval # Número de datos de prueba\n",
        "\n",
        "    # Realizar partición\n",
        "    train = serie[0:Ntrain]\n",
        "    val = serie[Ntrain:Ntrain+Nval]\n",
        "    test = serie[Ntrain+Nval:]\n",
        "\n",
        "    return train, val, test\n",
        "\n",
        "# Prueba de la función\n",
        "tr, vl, ts = train_val_test_split(df['cantidad_frac'])\n",
        "\n",
        "print(f'Tamaño set de entrenamiento: {tr.shape}')\n",
        "print(f'Tamaño set de validación: {vl.shape}')\n",
        "print(f'Tamaño set de prueba: {ts.shape}')"
      ]
    },
    {
      "cell_type": "code",
      "execution_count": null,
      "metadata": {
        "colab": {
          "base_uri": "https://localhost:8080/",
          "height": 445
        },
        "id": "ETUaEISRg-Sv",
        "outputId": "5b6aded4-0e26-40c4-b37d-2a946049a66d"
      },
      "outputs": [
        {
          "data": {
            "image/png": "[encoded data removed]",
            "text/plain": [
              "<Figure size 1600x500 with 1 Axes>"
            ]
          },
          "metadata": {},
          "output_type": "display_data"
        }
      ],
      "source": [
        "# Dibujemos los subsets\n",
        "fig, ax = plt.subplots(figsize = (16,5))\n",
        "ax.plot(tr, label='Train')\n",
        "ax.plot(vl, label='Val')\n",
        "ax.plot(ts, label='Test')\n",
        "plt.legend();"
      ]
    },
    {
      "cell_type": "markdown",
      "metadata": {
        "id": "zjNs7cnQg-Sv"
      },
      "source": [
        "### 3.3. Generación del dataset supervisado (entrada y salida del modelo)\n",
        "\n",
        "Debemos ajustar nuestro set de datos de acuerdo a lo especificado en la [documentación de las Redes LSTM en TensorFlow/Keras](https://www.tensorflow.)"
      ]
    },
    {
      "cell_type": "markdown",
      "metadata": {
        "id": "ebqf1hz_kgE0"
      },
      "source": [
        "![](https://drive.google.com/file/d/1ij9pIsJrWVYbwKrZZHY8KtNTlUs1o6AJ/view?usp=sharing)\n"
      ]
    },
    {
      "cell_type": "markdown",
      "metadata": {
        "id": "nDWtlND3g-Sv"
      },
      "source": [
        "se tiene 3 dimensiones para la entrada y salida. Como se puede ver en la figura se tiene n cantidad registros(BATCHES) que representan bloques, en la cual cada registro tiene 24 horas como periodo.\n",
        "\n",
        "Output_lenght: numero de horas que queremos predecir a futuro.\n",
        "\n",
        "Features(caracteristica) en este caso solo es 1 dado que nuestro modelo es univariado\n",
        "\n",
        "Output_lenght como es un modelo unistep solo es 1\n"
      ]
    },
    {
      "cell_type": "markdown",
      "metadata": {
        "id": "1z4WokL1g-Sw"
      },
      "source": [
        "![image-3.png](attachment:image-3.png)"
      ]
    },
    {
      "cell_type": "code",
      "execution_count": null,
      "metadata": {
        "id": "pwF3ewLqg-Sw"
      },
      "outputs": [],
      "source": [
        "def crear_dataset_supervisado(array, input_length, output_length):\n",
        "    '''Permite crear un dataset con las entradas (X) y salidas (Y)\n",
        "    requeridas por la Red LSTM.\n",
        "\n",
        "    Parámetros:\n",
        "    - array: arreglo numpy de tamaño N x features (N: cantidad de datos,\n",
        "      f: cantidad de features)\n",
        "    - input_length: instantes de tiempo consecutivos de la(s) serie(s) de tiempo\n",
        "      usados para alimentar el modelo\n",
        "    - output_length: instantes de tiempo a pronosticar (salida del modelo)\n",
        "    '''\n",
        "\n",
        "    # Inicialización\n",
        "    X, Y = [], []    # Listados que contendrán los datos de entrada y salida del modelo\n",
        "    shape = array.shape\n",
        "    if len(shape)==1: # Si tenemos sólo una serie (univariado)\n",
        "        fils, cols = array.shape[0], 1\n",
        "        array = array.reshape(fils,cols)\n",
        "    else: # Multivariado\n",
        "        fils, cols = array.shape\n",
        "\n",
        "    # Generar los arreglos\n",
        "    for i in range(fils-input_length-output_length):\n",
        "        X.append(array[i:i+INPUT_LENGTH,0:cols])\n",
        "        Y.append(array[i+input_length:i+input_length+output_length,-1].reshape(output_length,1))\n",
        "\n",
        "    # Convertir listas a arreglos de NumPy\n",
        "    X = np.array(X)\n",
        "    Y = np.array(Y)\n",
        "\n",
        "    return X, Y"
      ]
    },
    {
      "cell_type": "code",
      "execution_count": null,
      "metadata": {
        "colab": {
          "base_uri": "https://localhost:8080/"
        },
        "id": "nVRmVkivg-Sw",
        "outputId": "b10b86a4-ba2a-4e25-a361-f5fdebd3440e"
      },
      "outputs": [
        {
          "name": "stdout",
          "output_type": "stream",
          "text": [
            "Tamaños entrada (BATCHES x INPUT_LENGTH x FEATURES) y de salida (BATCHES x OUTPUT_LENGTH x FEATURES)\n",
            "Set de entrenamiento - x_tr: (2482, 24, 1), y_tr: (2482, 5, 1)\n",
            "Set de validación - x_vl: (284, 24, 1), y_vl: (284, 5, 1)\n",
            "Set de prueba - x_ts: (286, 24, 1), y_ts: (286, 5, 1)\n"
          ]
        }
      ],
      "source": [
        "# Crear los datasets de entrenamiento, prueba y validación y verificar sus tamaños\n",
        "INPUT_LENGTH = 24    # Posteriormente afinaremos este hiperparámetro\n",
        "OUTPUT_LENGTH = 5    # Modelo uni-step\n",
        "\n",
        "x_tr, y_tr = crear_dataset_supervisado(tr.values, INPUT_LENGTH, OUTPUT_LENGTH)\n",
        "x_vl, y_vl = crear_dataset_supervisado(vl.values, INPUT_LENGTH, OUTPUT_LENGTH)\n",
        "x_ts, y_ts = crear_dataset_supervisado(ts.values, INPUT_LENGTH, OUTPUT_LENGTH)\n",
        "\n",
        "# Imprimir información en pantalla\n",
        "print('Tamaños entrada (BATCHES x INPUT_LENGTH x FEATURES) y de salida (BATCHES x OUTPUT_LENGTH x FEATURES)')\n",
        "print(f'Set de entrenamiento - x_tr: {x_tr.shape}, y_tr: {y_tr.shape}')\n",
        "print(f'Set de validación - x_vl: {x_vl.shape}, y_vl: {y_vl.shape}')\n",
        "print(f'Set de prueba - x_ts: {x_ts.shape}, y_ts: {y_ts.shape}')"
      ]
    },
    {
      "cell_type": "markdown",
      "metadata": {
        "id": "1-7dr2pqg-Sw"
      },
      "source": [
        "### 3.4. Escalamiento\n",
        "Es requerido para garantizar que todas las características se encuentran en el mismo rango de valores, lo que facilita el entrenamiento del modelo y las predicciones:"
      ]
    },
    {
      "cell_type": "markdown",
      "metadata": {
        "id": "3VIQEn1MtwAM"
      },
      "source": [
        "#### Detección de valores extremos usando el método de la desviación estándar\n",
        "La distribución Gaussiana se caracteriza por la media (𝜇) y la desviación estándar (𝜎). Conociendo los parámetros de esta distribución podemos establecer una serie de umbrales dentro de los cuales se encontrarán distriubidos nuestros datos, así:\n",
        "\n",
        "En el rango 𝜇±𝜎 tendremos el 68% de los datos\n",
        "En el rango 𝜇±2𝜎 tendremos el 95% de los datos\n",
        "En el rango 𝜇±3𝜎 tendremos el 99.7% de los datos\n"
      ]
    },
    {
      "cell_type": "code",
      "execution_count": null,
      "metadata": {
        "colab": {
          "base_uri": "https://localhost:8080/",
          "height": 542
        },
        "collapsed": true,
        "id": "TRFt5JxsrHl4",
        "outputId": "2ccb494c-8375-4817-f706-5e62e48a7bf9"
      },
      "outputs": [
        {
          "data": {
            "text/html": [
              "<html>\n",
              "<head><meta charset=\"utf-8\" /></head>\n",
              "<body>\n",
              "    <div>            <script src=\"https://cdnjs.cloudflare.com/ajax/libs/mathjax/2.7.5/MathJax.js?config=TeX-AMS-MML_SVG\"></script><script type=\"text/javascript\">if (window.MathJax && window.MathJax.Hub && window.MathJax.Hub.Config) {window.MathJax.Hub.Config({SVG: {font: \"STIX-Web\"}});}</script>                <script type=\"text/javascript\">window.PlotlyConfig = {MathJaxConfig: 'local'};</script>\n",
              "        <script charset=\"utf-8\" src=\"https://cdn.plot.ly/plotly-2.24.1.min.js\"></script>                <div id=\"b1e2f1b5-29a7-481b-a91d-96145f17f5ba\" class=\"plotly-graph-div\" style=\"height:525px; width:100%;\"></div>            <script type=\"text/javascript\">                                    window.PLOTLYENV=window.PLOTLYENV || {};                                    if (document.getElementById(\"b1e2f1b5-29a7-481b-a91d-96145f17f5ba\")) {                    Plotly.newPlot(                        \"b1e2f1b5-29a7-481b-a91d-96145f17f5ba\",                        [{\"alignmentgroup\":\"True\",\"bingroup\":\"x\",\"hovertemplate\":\"cantidad_frac=%{x}\\u003cbr\\u003ecount=%{y}\\u003cextra\\u003e\\u003c\\u002fextra\\u003e\",\"legendgroup\":\"\",\"marker\":{\"color\":\"#636efa\",\"pattern\":{\"shape\":\"\"}},\"name\":\"\",\"nbinsx\":100,\"offsetgroup\":\"\",\"orientation\":\"v\",\"showlegend\":false,\"x\":[3.0,28.0,28.0,31.0,21.0,1.0,141.0,8.0,2.0,11.0,19.0,53.0,31.0,32.0,4.0,7.0,15.0,15.0,48.0,2.0,184.0,221.0,9.0,114.0,40.0,66.0,61.0,223.0,154.0,109.0,30.0,240.0,194.0,39.0,286.0,138.0,114.0,52.0,24.0,68.0,83.0,44.0,39.0,135.0,92.0,115.0,83.0,67.0,93.0,184.0,55.0,134.0,71.0,173.0,148.0,80.0,25.0,23.0,352.0,83.0,78.0,51.0,647.0,64.0,154.0,226.0,80.0,198.0,83.0,153.0,50.0,66.0,175.0,72.0,229.0,37.0,181.0,218.0,183.0,50.0,170.0,208.0,262.0,104.0,84.0,200.0,126.0,218.0,231.0,184.0,207.0,257.0,71.0,127.0,263.0,96.0,75.0,259.0,169.0,139.0,228.0,181.0,56.0,55.0,138.0,110.0,193.0,435.0,224.0,232.0,114.0,132.0,25.0,67.0,173.0,142.0,94.0,239.0,232.0,461.0,174.0,179.0,151.0,325.0,160.0,728.0,160.0,106.0,166.0,122.0,86.0,65.0,443.0,226.0,40.0,233.0,229.0,89.0,317.0,145.0,102.0,100.0,250.0,214.0,284.0,208.0,212.0,115.0,126.0,203.0,181.0,86.0,261.0,372.0,118.0,114.0,220.0,173.0,65.0,74.0,293.0,87.0,158.0,41.0,338.0,203.0,96.0,123.0,234.0,64.0,290.0,151.0,126.0,150.0,79.0,209.0,100.0,275.0,285.0,194.0,98.0,617.0,155.0,149.0,98.0,417.0,194.0,336.0,279.0,136.0,141.0,211.0,204.0,360.0,95.0,276.0,295.0,68.0,164.0,363.0,277.0,245.0,292.0,260.0,91.0,197.0,384.0,452.0,194.0,357.0,258.0,416.0,254.0,196.0,277.0,236.0,493.0,548.0,297.0,175.0,159.0,104.0,191.0,185.0,346.0,274.0,623.0,221.0,314.0,85.0,664.0,191.0,213.0,350.0,376.0,309.0,278.0,169.0,460.0,119.0,276.0,193.0,442.0,176.0,549.0,83.0,295.0,168.0,202.0,235.0,404.0,67.0,121.0,108.0,233.0,220.0,200.0,188.0,85.0,242.0,115.0,308.0,262.0,163.0,247.0,436.0,147.0,312.0,384.0,148.0,622.0,123.0,438.0,131.0,90.0,295.0,254.0,130.0,245.0,649.0,246.0,110.0,425.0,374.0,170.0,137.0,110.0,106.0,67.0,402.0,95.0,298.0,432.0,64.0,232.0,199.0,173.0,199.0,89.0,282.0,285.0,265.0,46.0,279.0,194.0,142.0,380.0,299.0,236.0,176.0,290.0,357.0,141.0,242.0,698.0,195.0,130.0,410.0,406.0,365.0,373.0,128.0,143.0,155.0,194.0,528.0,151.0,224.0,292.0,118.0,208.0,212.0,357.0,211.0,246.0,441.0,152.0,227.0,170.0,89.0,178.0,167.0,176.0,53.0,174.0,249.0,522.0,275.0,445.0,199.0,294.0,189.0,278.0,390.0,165.0,729.0,193.0,143.0,93.0,162.0,167.0,197.0,170.0,170.0,114.0,114.0,152.0,316.0,397.0,177.0,648.0,150.0,158.0,107.0,181.0,342.0,117.0,263.0,146.0,234.0,208.0,361.0,314.0,223.0,133.0,320.0,190.0,257.0,262.0,121.0,148.0,183.0,431.0,67.0,414.0,428.0,187.0,301.0,784.0,73.0,136.0,267.0,375.0,114.0,356.0,123.0,224.0,145.0,315.0,441.0,284.0,176.0,102.0,162.0,161.0,145.0,393.0,286.0,232.0,575.0,190.0,56.0,231.0,113.0,199.0,115.0,260.0,266.0,337.0,201.0,139.0,202.0,254.0,310.0,219.0,290.0,214.0,125.0,104.0,251.0,316.0,317.0,79.0,342.0,212.0,370.0,139.0,258.0,118.0,190.0,283.0,147.0,343.0,115.0,359.0,148.0,112.0,277.0,326.0,217.0,275.0,787.0,113.0,136.0,368.0,173.0,92.0,452.0,164.0,152.0,69.0,627.0,543.0,254.0,198.0,197.0,421.0,152.0,513.0,101.0,304.0,176.0,480.0,188.0,174.0,129.0,210.0,387.0,246.0,477.0,199.0,414.0,359.0,259.0,161.0,317.0,428.0,170.0,184.0,191.0,353.0,219.0,393.0,278.0,402.0,234.0,249.0,232.0,141.0,145.0,274.0,299.0,174.0,354.0,184.0,276.0,194.0,365.02564945741534,343.0,522.0,280.0,436.0,316.0,81.0,266.0,290.0,391.0,166.0,197.0,307.0,271.0,343.0,188.0,156.0,235.0,522.0,486.0,365.02564945741534,312.0,328.0,330.0,603.0,518.0,305.0,448.0,680.0,244.0,180.0,392.0,602.0,394.0,359.0,776.0,317.0,451.0,526.0,871.0,275.0,596.0,504.0,370.0,276.0,501.0,684.0,692.0,293.0,400.0,444.0,376.0,249.0,315.0,377.0,532.0,488.0,680.0,303.0,425.0,523.0,288.0,652.0,734.0,488.0,300.0,366.0,280.0,373.0,408.0,543.0,445.0,485.0,302.0,462.0,608.0,221.0,412.0,480.0,500.0,497.0,599.0,531.0,661.0,339.0,446.0,376.0,571.0,506.0,434.0,754.0,365.02564945741534,494.0,231.0,591.0,573.0,419.0,530.0,384.0,334.0,266.0,367.0,536.0,374.0,627.0,365.02564945741534,451.0,586.0,729.0,426.0,736.0,410.0,353.0,361.0,227.0,723.0,425.0,641.0,635.0,811.0,568.0,429.0,576.0,597.0,554.0,541.0,365.02564945741534,629.0,267.0,226.0,853.0,462.0,365.02564945741534,841.0,597.0,275.0,665.0,513.0,690.0,365.02564945741534,685.0,465.0,376.0,751.0,462.0,365.02564945741534,351.0,645.0,484.0,401.0,550.0,858.0,849.0,430.0,420.0,442.0,611.0,808.0,539.0,489.0,468.0,365.02564945741534,664.0,389.0,574.0,435.0,468.0,666.0,563.0,394.0,381.0,499.0,492.0,577.0,341.0,450.0,258.0,408.0,427.0,717.0,359.0,461.0,699.0,588.0,412.0,319.0,561.0,455.0,348.0,219.0,321.0,409.0,252.0,367.0,377.0,217.0,516.0,266.0,220.0,250.0,411.0,280.0,235.0,392.0,333.0,196.0,124.0,459.0,413.0,282.0,454.0,124.0,157.0,157.0,732.0,843.0,521.0,365.02564945741534,376.0,324.0,619.0,429.0,365.02564945741534,278.0,256.0,339.0,271.0,640.0,443.0,477.0,605.0,259.0,699.0,716.0,486.0,316.0,553.0,248.0,577.0,365.02564945741534,396.0,515.0,365.02564945741534,708.0,573.0,365.02564945741534,412.0,349.0,628.0,403.0,552.0,648.0,461.0,302.0,364.0,445.0,286.0,528.0,621.0,624.0,587.0,548.0,807.0,538.0,652.0,682.0,638.0,423.0,365.02564945741534,644.0,536.0,365.02564945741534,712.0,365.02564945741534,327.0,282.0,651.0,365.02564945741534,616.0,637.0,465.0,283.0,165.0,265.0,527.0,340.0,390.0,539.0,332.0,225.0,442.0,429.0,476.0,278.0,250.0,204.0,191.0,459.0,517.0,420.0,305.0,78.0,97.0,320.0,293.0,620.0,463.0,470.0,365.02564945741534,318.0,200.0,787.0,458.0,812.0,411.0,443.0,442.0,407.0,663.0,597.0,611.0,695.0,537.0,377.0,584.0,601.0,692.0,847.0,840.0,602.0,494.0,380.0,461.0,823.0,365.02564945741534,463.0,365.02564945741534,365.02564945741534,514.0,408.0,851.0,566.0,475.0,575.0,365.02564945741534,392.0,805.0,590.0,715.0,614.0,563.0,515.0,470.0,595.0,617.0,816.0,315.0,733.0,530.0,378.0,829.0,619.0,365.02564945741534,503.0,365.02564945741534,406.0,465.0,431.0,808.0,333.0,469.0,473.0,258.0,337.0,365.02564945741534,365.02564945741534,478.0,409.0,325.0,410.0,434.0,654.0,367.0,392.0,702.0,486.0,466.0,355.0,476.0,470.0,438.0,611.0,651.0,538.0,465.0,387.0,477.0,614.0,574.0,365.02564945741534,596.0,546.0,788.0,315.0,385.0,425.0,547.0,739.0,332.0,667.0,424.0,587.0,225.0,457.0,374.0,441.0,549.0,458.0,396.0,868.0,428.0,605.0,627.0,446.0,365.02564945741534,537.0,708.0,365.02564945741534,530.0,490.0,788.0,473.0,351.0,233.0,279.0,630.0,812.0,668.0,365.02564945741534,420.0,452.0,384.0,320.0,208.0,388.0,617.0,479.0,358.0,375.0,454.0,228.0,275.0,580.0,601.0,296.0,329.0,325.0,173.0,467.0,454.0,292.0,559.0,365.02564945741534,395.0,508.0,497.0,381.0,288.0,535.0,539.0,578.0,377.0,536.0,366.0,298.0,317.0,455.0,415.0,142.0,393.0,360.0,332.0,575.0,526.0,382.0,442.0,287.0,481.0,495.0,466.0,365.02564945741534,628.0,280.0,173.0,694.0,560.0,464.0,631.0,436.0,175.0,252.0,728.0,226.0,400.0,497.0,416.0,432.0,530.0,562.0,249.0,610.0,525.0,480.0,200.0,746.0,145.0,469.0,561.0,346.0,206.0,305.0,580.0,234.0,671.0,374.0,365.02564945741534,473.0,351.0,529.0,380.0,601.0,408.0,234.0,363.0,425.0,521.0,355.0,403.0,423.0,685.0,360.0,311.0,431.0,323.0,365.0,243.0,447.0,390.0,345.0,228.0,354.0,243.0,211.0,722.0,313.0,276.0,481.0,323.0,346.0,306.0,805.0,432.0,469.0,551.0,308.0,368.0,448.0,338.0,336.0,263.0,298.0,190.0,493.0,281.0,613.0,189.0,399.0,211.0,211.0,766.0,776.0,365.02564945741534,217.0,279.0,208.0,578.0,532.0,270.0,520.0,392.0,427.0,350.0,356.0,261.0,359.0,299.0,327.0,204.0,339.0,436.0,431.0,185.0,231.0,378.0,246.0,630.0,401.0,308.0,599.0,683.0,419.0,146.0,227.0,608.0,469.0,527.0,228.0,582.0,217.0,411.0,367.0,144.0,262.0,518.0,559.0,461.0,404.0,264.0,298.0,458.0,241.0,318.0,254.0,409.0,547.0,724.0,504.0,365.02564945741534,281.0,201.0,244.0,330.0,271.0,333.0,333.0,424.0,248.0,454.0,589.0,418.0,493.0,313.0,238.0,490.0,500.0,529.0,581.0,421.0,563.0,252.0,213.0,687.0,608.0,387.0,557.0,465.0,268.0,187.0,531.0,287.0,178.0,725.0,765.0,248.0,222.0,660.0,615.0,333.0,356.0,312.0,307.0,260.0,516.0,478.0,224.0,542.0,213.0,130.0,420.0,603.0,420.0,294.0,357.0,336.0,328.0,256.0,353.0,565.0,347.0,523.0,437.0,412.0,268.0,351.0,287.0,148.0,425.0,575.0,538.0,130.0,432.0,411.0,239.0,467.0,308.0,421.0,231.0,447.0,440.0,250.0,295.0,202.0,246.0,327.0,312.0,300.0,376.0,340.0,517.0,211.0,427.0,504.0,226.0,436.0,215.0,869.0,283.0,287.0,247.0,295.0,173.0,314.0,345.0,346.0,328.0,371.0,422.0,437.0,530.0,574.0,208.0,299.0,199.0,365.02564945741534,248.0,265.0,639.0,349.0,384.0,220.0,278.0,383.0,274.0,806.0,262.0,176.0,404.0,362.0,178.0,422.0,259.0,592.0,346.0,262.0,280.0,418.0,346.0,234.0,326.0,216.0,560.0,327.0,218.0,264.0,150.0,453.0,184.0,327.0,418.0,336.0,555.0,747.0,291.0,282.0,286.0,263.0,324.0,196.0,309.0,249.0,197.0,249.0,444.0,123.0,497.0,224.0,287.0,192.0,328.0,252.0,293.0,342.0,227.0,185.0,103.0,414.0,514.0,346.0,348.0,172.0,377.0,203.0,573.0,219.0,701.0,299.0,867.0,302.0,301.0,416.0,403.0,133.0,293.0,193.0,340.0,189.0,601.0,336.0,217.0,557.0,290.0,347.0,441.0,219.0,319.0,471.0,270.0,206.0,400.0,335.0,212.0,207.0,287.0,174.0,869.0,273.0,334.0,304.0,276.0,244.0,353.0,275.0,230.0,136.0,319.0,361.0,356.0,387.0,370.0,474.0,171.0,715.0,376.0,390.0,280.0,267.0,289.0,367.0,439.0,326.0,480.0,539.0,286.0,321.0,169.0,334.0,377.0,295.0,402.0,806.0,220.0,198.0,323.0,328.0,300.0,139.0,515.0,168.0,168.0,397.0,457.0,252.0,376.0,520.0,344.0,255.0,553.0,371.0,357.0,403.0,273.0,327.0,218.0,471.0,203.0,297.0,571.0,722.0,235.0,311.0,317.0,523.0,313.0,225.0,293.0,165.0,78.0,347.0,243.0,368.0,185.0,383.0,304.0,314.0,294.0,278.0,56.0,365.02564945741534,355.0,188.0,135.0,452.0,182.0,182.0,239.0,365.02564945741534,423.0,235.0,284.0,189.0,394.0,372.0,344.0,640.0,178.0,814.0,573.0,330.0,452.0,285.0,227.0,256.0,365.02564945741534,372.0,271.0,608.0,352.0,299.0,186.0,581.0,365.02564945741534,459.0,342.0,478.0,313.0,219.0,468.0,261.0,653.0,320.0,365.02564945741534,303.0,147.0,537.0,230.0,598.0,245.0,396.0,367.0,245.0,396.0,467.0,550.0,495.0,335.0,528.0,399.0,368.0,279.0,248.0,641.0,462.0,661.0,291.0,579.0,208.0,384.0,172.0,365.02564945741534,157.0,217.0,464.0,312.0,220.0,349.0,309.0,291.0,408.0,365.02564945741534,421.0,311.0,387.0,501.0,515.0,379.0,447.0,321.0,246.0,330.0,328.0,526.0,176.0,387.0,591.0,514.0,439.0,708.0,687.0,277.0,493.0,344.0,572.0,566.0,513.0,214.0,84.0,629.0,525.0,556.0,442.0,545.0,152.0,182.0,581.0,365.02564945741534,742.0,659.0,365.02564945741534,407.0,302.0,530.0,645.0,557.0,523.0,814.0,273.0,505.0,365.02564945741534,380.0,762.0,486.0,365.02564945741534,326.0,103.0,860.0,278.0,426.0,447.0,494.0,385.0,300.0,686.0,576.0,405.0,484.0,607.0,289.0,262.0,782.0,679.0,502.0,475.0,660.0,497.0,248.0,450.0,398.0,770.0,502.0,794.0,407.0,305.0,690.0,432.0,398.0,255.0,337.0,659.0,364.0,680.0,634.0,364.0,442.0,429.0,298.0,382.0,540.0,586.0,501.0,321.0,540.0,706.0,246.0,492.0,293.0,377.0,727.0,365.02564945741534,383.0,234.0,637.0,393.0,550.0,511.0,590.0,516.0,202.0,413.0,425.0,306.0,434.0,303.0,441.0,405.0,454.0,339.0,580.0,669.0,533.0,215.0,299.0,518.0,681.0,504.0,344.0,357.0,507.0,295.0,665.0,486.0,647.0,268.0,365.02564945741534,356.0,249.0,340.0,328.0,517.0,299.0,269.0,524.0,295.0,546.0,360.0,403.0,364.0,461.0,446.0,421.0,358.0,377.0,246.0,382.0,449.0,319.0,287.0,562.0,656.0,553.0,119.0,365.02564945741534,402.0,457.0,755.0,649.0,378.0,289.0,320.0,460.0,182.0,382.0,578.0,447.0,468.0,594.0,612.0,350.0,478.0,430.0,507.0,478.0,257.0,292.0,270.0,677.0,324.0,405.0,549.0,365.02564945741534,327.0,191.0,353.0,243.0,426.0,610.0,440.0,250.0,192.0,418.0,406.0,394.0,368.0,263.0,334.0,238.0,648.0,522.0,309.0,474.0,463.0,263.0,339.0,561.0,280.0,527.0,317.0,321.0,466.0,190.0,339.0,222.0,703.0,679.0,737.0,181.0,346.0,305.0,520.0,353.0,241.0,509.0,286.0,282.0,393.0,519.0,412.0,511.0,433.0,430.0,237.0,168.0,261.0,335.0,255.0,571.0,412.0,297.0,716.0,444.0,258.0,525.0,365.02564945741534,489.0,578.0,355.0,366.0,291.0,537.0,506.0,293.0,621.0,312.0,276.0,299.0,340.0,480.0,415.0,285.0,560.0,461.0,291.0,456.0,524.0,546.0,248.0,479.0,540.0,696.0,316.0,316.0,218.0,532.0,731.0,483.0,361.0,456.0,365.02564945741534,807.0,203.0,507.0,488.0,285.0,333.0,439.0,476.0,227.0,505.0,778.0,744.0,517.0,516.0,700.0,386.0,497.0,678.0,397.0,670.0,534.0,482.0,661.0,713.0,628.0,422.0,424.0,365.02564945741534,517.0,277.0,615.0,836.0,432.0,486.0,442.0,275.0,617.0,661.0,319.0,664.0,504.0,485.0,524.0,642.0,657.0,569.0,574.0,365.02564945741534,630.0,507.0,357.0,428.0,538.0,664.0,620.0,365.02564945741534,600.0,444.0,584.0,620.0,394.0,328.0,365.02564945741534,669.0,216.0,571.0,546.0,379.0,332.0,393.0,386.0,359.0,365.02564945741534,567.0,493.0,726.0,642.0,339.0,439.0,591.0,804.0,646.0,260.0,446.0,538.0,529.0,365.02564945741534,502.0,703.0,729.0,365.02564945741534,440.0,376.0,614.0,559.0,627.0,518.0,554.0,261.0,502.0,511.0,365.02564945741534,630.0,570.0,844.0,75.0,36.0,365.02564945741534,627.0,818.0,487.0,626.0,365.0,146.0,365.02564945741534,774.0,706.0,829.0,365.02564945741534,216.0,96.0,365.02564945741534,365.02564945741534,492.0,572.0,608.0,96.0,64.0,365.02564945741534,691.0,707.0,720.0,365.02564945741534,652.0,374.0,538.0,608.0,477.0,567.0,571.0,448.0,439.0,743.0,632.0,475.0,365.02564945741534,863.0,357.0,345.0,850.0,584.0,505.0,275.0,516.0,223.0,310.0,516.0,617.0,712.0,291.0,568.0,593.0,168.0,672.0,574.0,359.0,258.0,393.0,441.0,346.0,579.0,692.0,550.0,403.0,728.0,221.0,398.0,365.02564945741534,473.0,232.0,460.0,495.0,383.0,336.0,489.0,390.0,288.0,159.0,363.0,380.0,142.0,266.0,354.0,305.0,274.0,588.0,315.0,313.0,552.0,410.0,411.0,312.0,446.0,662.0,408.0,508.0,323.0,839.0,841.0,365.02564945741534,508.0,300.0,535.0,634.0,544.0,488.0,707.0,456.0,550.0,434.0,365.02564945741534,699.0,563.0,674.0,591.0,285.0,626.0,523.0,498.0,580.0,749.0,301.0,249.0,338.0,857.0,746.0,517.0,822.0,280.0,463.0,506.0,336.0,309.0,365.02564945741534,628.0,259.0,499.0,559.0,400.0,360.0,464.0,270.0,310.0,210.0,342.0,408.0,186.0,267.0,188.0,279.0,245.0,221.0,244.0,301.0,196.0,594.0,328.0,224.0,274.0,81.0,320.0,224.0,618.0,473.0,164.0,703.0,260.0,325.0,203.0,437.0,331.0,505.0,388.0,489.0,740.0,398.0,586.0,217.0,172.0,415.0,255.0,353.0,365.0,695.0,384.0,315.0,475.0,469.0,302.0,592.0,586.0,300.0,215.0,375.0,420.0,345.0,247.0,416.0,648.0,462.0,498.0,205.0,337.0,208.0,159.0,484.0,359.0,453.0,322.0,640.0,386.0,388.0,670.0,524.0,262.0,498.0,419.0,387.0,586.0,403.0,279.0,451.0,550.0,408.0,497.0,269.0,453.0,375.0,414.0,401.0,580.0,431.0,648.0,329.0,327.0,593.0,593.0,506.0,552.0,351.0,339.0,245.0,466.0,425.0,574.0,344.0,119.0,119.0,422.0,382.0,550.0,458.0,350.0,365.02564945741534,401.0,438.0,504.0,361.0,535.0,416.0,536.0,310.0,301.0,307.0,293.0,305.0,427.0,398.0,414.0,540.0,351.0,160.0,143.0,411.0,558.0,473.0,299.0,336.0,410.0,520.0,289.0,698.0,429.0,299.0,378.0,179.0,284.0,625.0,204.0,262.0,169.0,335.0,272.0,358.0,209.0,387.0,289.0,315.0,403.0,596.0,584.0,668.0,417.0,714.0,497.0,124.0,456.0,527.0,368.0,578.0,214.0,202.0,361.0,279.0,189.0,343.0,315.0,133.0,444.0,382.0,220.0,203.0,463.0,595.0,159.0,193.0,178.0,424.0,446.0,162.0,469.0,120.0,242.0,491.0,130.0,406.0,336.0,607.0,293.0,133.0,382.0,152.0,162.0,200.0,456.0,147.0,233.0,268.0,390.0,136.0,255.0,152.0,406.0,253.0,145.0,561.0,557.0,286.0,585.0,113.0,277.0,482.0,269.0,439.0,383.0,259.0,304.0,382.0,341.0,395.0,211.0,46.0,370.0,371.0,74.0,273.0,414.0,501.0,215.0,425.0,312.0,95.0,156.0,404.0,502.0,385.0,354.0,244.0,298.0,297.0,228.0,468.0,308.0,569.0,377.0,218.0,285.0,335.0,124.0,209.0,365.02564945741534,245.0,156.0,428.0,87.0,343.0,351.0,217.0,201.0,272.0,374.0,265.0,127.0,113.0,380.0,103.0,130.0,359.0,117.0,262.0,198.0,288.0,470.0,332.0,426.0,359.0,137.0,457.0,511.0,357.0,140.0,232.0,150.0,158.0,239.0,150.0,114.0,402.0,173.0,271.0,190.0,298.0,74.0,89.0,122.0,149.0,88.0,185.0,282.0,347.0,142.0,115.0,239.0,287.0,148.0,244.0,509.0,233.0,126.0,236.0,385.0,77.0,188.0,164.0,222.0,102.0,123.0,197.0,245.0,306.0,142.0,512.0,109.0,218.0,49.0,265.0,182.0,94.0,218.0,64.0,524.0,90.0,124.0,149.0,160.0,251.0,364.0,426.0,168.0,154.0,141.0,534.0,192.0,58.0,259.0,340.0,159.0,123.0,146.0,142.0,201.0,92.0,156.0,335.0,136.0,212.0,431.0,283.0,81.0,290.0,303.0,230.0,113.0,85.0,161.0,514.0,351.0,294.0,197.0,335.0,309.0,187.0,173.0,131.0,96.0,225.0,427.0,124.0,109.0,105.0,82.0,158.0,164.0,266.0,214.0,129.0,196.0,207.0,285.0,95.0,129.0,51.0,397.0,71.0,112.0,75.0,493.0,456.0,75.0,168.0,183.0,151.0,137.0,115.0,226.0,156.0,141.0,57.0,259.0,144.0,198.0,346.0,608.0,182.0,251.0,117.0,213.0,340.0,269.0,137.0,143.0,146.0,239.0,245.0,185.0,316.0,288.0,224.0,439.0,123.0,306.0,198.0,428.0,271.0,137.0,302.0,154.0,163.0,419.0,199.0,207.0,101.0,150.0,141.0,216.0,237.0,328.0,144.0,327.0,353.0,286.0,159.0,242.0,240.0,203.0,186.0,132.0,343.0,309.0,270.0,281.0,81.0,81.0,378.0,227.0,356.0,261.0,211.0,208.0,221.0,393.0,227.0,119.0,178.0,257.0,467.0,161.0,371.0,347.0,261.0,107.0,301.0,261.0,162.0,618.0,350.0,208.0,211.0,541.0,431.0,196.0,294.0,212.0,141.0,220.0,424.0,133.0,208.0,124.0,251.0,195.0,462.0,417.0,225.0,135.0,330.0,150.0,443.0,387.0,418.0,149.0,115.0,239.0,195.0,227.0,411.0,298.0,300.0,135.0,728.0,333.0,293.0,216.0,648.0,291.0,237.0,224.0,461.0,537.0,154.0,358.0,413.0,294.0,380.0,366.0,363.0,203.0,578.0,142.0,359.0,604.0,496.0,234.0,404.0,369.0,182.0,325.0,365.02564945741534,702.0,465.0,512.0,486.0,368.0,271.0,244.0,168.0,387.0,539.0,306.0,281.0,269.0,296.0,334.0,343.0,332.0,560.0,386.0,362.0,439.0,378.0,283.0,410.0,291.0,292.0,245.0,343.0,281.0,548.0,831.0,432.0,361.0,328.0,187.0,305.0,515.0,260.0,618.0,220.0,240.0,242.0,362.0,249.0,192.0,469.0,170.0,273.0,314.0,312.0,231.0,154.0,120.0,573.0,204.0,348.0,376.0,328.0,143.0,445.0,383.0,283.0,441.0,290.0,314.0,253.0,416.0,183.0,386.0,423.0,295.0,417.0,290.0,298.0,219.0,169.0,462.0,285.0,528.0,243.0,331.0,521.0,360.0,517.0,291.0,330.0,354.0,303.0,302.0,271.0,534.0,703.0,434.0,557.0,787.0,186.0,309.0,407.0,425.0,360.0,374.0,405.0,213.0,274.0,589.0,424.0,345.0,302.0,389.0,282.0,221.0,569.0,196.0,305.0,235.0,275.0,403.0,204.0,310.0,286.0,423.0,771.0,351.0,237.0,403.0,416.0,389.0,318.0,434.0,698.0,360.0,200.0,448.0,253.0,412.0,279.0,500.0,322.0,298.0,319.0,309.0,482.0,296.0,386.0,491.0,362.0,469.0,420.0,365.0,222.0,462.0,247.0,341.0,365.02564945741534,639.0,407.0,331.0,365.02564945741534,318.0,200.0,525.0,346.0,475.0,315.0,495.0,316.0,366.0,176.0,364.0,232.0,510.0,539.0,349.0,396.0,510.0,356.0,316.0,404.0,446.0,337.0,419.0,575.0,484.0,365.02564945741534,474.0,479.0,288.0,436.0,425.0,383.0,629.0,340.0,543.0,297.0,443.0,370.0,319.0,218.0,335.0,536.0,307.0,342.0,417.0,245.0,833.0,331.0,315.0,393.0,286.0,439.0,312.0,198.0,222.0,535.0,484.0,336.0,535.0,445.0,386.0,304.0,235.0,433.0,186.0,492.0,360.0,325.0,261.0,365.02564945741534,303.0,447.0,446.0,345.0,325.0,212.0,482.0,479.0,454.0,362.0,531.0,401.0,820.0,288.0,468.0,231.0,675.0,381.0,443.0,365.02564945741534,848.0,553.0,473.0,535.0,536.0,284.0,180.0,475.0,352.0,558.0,614.0,392.0,389.0,368.0,686.0,402.0,257.0,691.0,201.0,351.0,418.0,373.0,232.0,262.0,178.0,771.0,447.0,230.0,643.0,338.0,138.0,138.0,461.0,533.0,315.0,815.0,563.0,360.0,489.0,347.0,383.0,421.0,465.0,741.0,274.0,450.0,410.0,270.0,458.0,443.0,494.0,299.0,387.0,480.0,323.0,172.0,264.0,795.0,326.0,275.0,362.0,365.02564945741534,634.0,502.0,810.0,406.0,374.0,400.0,152.0,230.0,284.0,454.0,635.0,525.0,220.0,371.0,455.0,410.0,219.0,217.0,462.0,366.0,362.0,558.0,282.0,591.0,262.0,517.0,741.0,707.0,413.0,650.0,362.0,386.0,525.0,588.0,327.0,584.0,744.0,748.0,566.0,365.02564945741534,395.0,435.0,563.0,631.0,365.02564945741534,621.0,634.0,326.0,315.0,463.0,616.0,341.0,221.0,578.0,365.0,365.02564945741534,467.0,410.0,207.0,447.0,534.0,274.0,283.0,280.0,365.02564945741534,273.0,290.0,544.0,365.0,296.0,430.0,495.0,449.0,184.0,329.0,325.0,320.0,293.0,322.0,377.0,503.0,321.0,365.02564945741534,387.0,537.0,594.0,414.0,229.0,878.0,273.0,234.0,346.0,433.0,706.0,258.0,745.0,391.0,506.0,412.0,365.02564945741534,579.0,464.0,434.0,662.0,392.0,358.0,484.0,409.0,220.0,494.0,380.0,544.0,334.0,392.0,245.0,362.0,612.0,559.0,310.0,349.0,390.0,494.0,473.0,401.0,370.0,373.0,371.0,466.0,397.0,322.0,642.0,377.0,315.0,425.0,467.0,267.0,261.0,580.0,525.0,392.0,298.0,333.0,213.0,173.0,733.0,296.0,493.0,637.0,581.0,482.0,331.0,566.0,487.0,391.0,433.0,532.0,310.0,177.0,587.0,421.0,389.0,481.0,389.0,231.0,266.0,508.0,321.0,283.0,530.0,391.0,276.0,230.0,315.0,423.0,350.0,424.0,462.0,178.0,260.0,447.0,257.0,373.0,311.0,725.0,395.0,516.0,396.0],\"xaxis\":\"x\",\"yaxis\":\"y\",\"type\":\"histogram\"}],                        {\"template\":{\"data\":{\"histogram2dcontour\":[{\"type\":\"histogram2dcontour\",\"colorbar\":{\"outlinewidth\":0,\"ticks\":\"\"},\"colorscale\":[[0.0,\"#0d0887\"],[0.1111111111111111,\"#46039f\"],[0.2222222222222222,\"#7201a8\"],[0.3333333333333333,\"#9c179e\"],[0.4444444444444444,\"#bd3786\"],[0.5555555555555556,\"#d8576b\"],[0.6666666666666666,\"#ed7953\"],[0.7777777777777778,\"#fb9f3a\"],[0.8888888888888888,\"#fdca26\"],[1.0,\"#f0f921\"]]}],\"choropleth\":[{\"type\":\"choropleth\",\"colorbar\":{\"outlinewidth\":0,\"ticks\":\"\"}}],\"histogram2d\":[{\"type\":\"histogram2d\",\"colorbar\":{\"outlinewidth\":0,\"ticks\":\"\"},\"colorscale\":[[0.0,\"#0d0887\"],[0.1111111111111111,\"#46039f\"],[0.2222222222222222,\"#7201a8\"],[0.3333333333333333,\"#9c179e\"],[0.4444444444444444,\"#bd3786\"],[0.5555555555555556,\"#d8576b\"],[0.6666666666666666,\"#ed7953\"],[0.7777777777777778,\"#fb9f3a\"],[0.8888888888888888,\"#fdca26\"],[1.0,\"#f0f921\"]]}],\"heatmap\":[{\"type\":\"heatmap\",\"colorbar\":{\"outlinewidth\":0,\"ticks\":\"\"},\"colorscale\":[[0.0,\"#0d0887\"],[0.1111111111111111,\"#46039f\"],[0.2222222222222222,\"#7201a8\"],[0.3333333333333333,\"#9c179e\"],[0.4444444444444444,\"#bd3786\"],[0.5555555555555556,\"#d8576b\"],[0.6666666666666666,\"#ed7953\"],[0.7777777777777778,\"#fb9f3a\"],[0.8888888888888888,\"#fdca26\"],[1.0,\"#f0f921\"]]}],\"heatmapgl\":[{\"type\":\"heatmapgl\",\"colorbar\":{\"outlinewidth\":0,\"ticks\":\"\"},\"colorscale\":[[0.0,\"#0d0887\"],[0.1111111111111111,\"#46039f\"],[0.2222222222222222,\"#7201a8\"],[0.3333333333333333,\"#9c179e\"],[0.4444444444444444,\"#bd3786\"],[0.5555555555555556,\"#d8576b\"],[0.6666666666666666,\"#ed7953\"],[0.7777777777777778,\"#fb9f3a\"],[0.8888888888888888,\"#fdca26\"],[1.0,\"#f0f921\"]]}],\"contourcarpet\":[{\"type\":\"contourcarpet\",\"colorbar\":{\"outlinewidth\":0,\"ticks\":\"\"}}],\"contour\":[{\"type\":\"contour\",\"colorbar\":{\"outlinewidth\":0,\"ticks\":\"\"},\"colorscale\":[[0.0,\"#0d0887\"],[0.1111111111111111,\"#46039f\"],[0.2222222222222222,\"#7201a8\"],[0.3333333333333333,\"#9c179e\"],[0.4444444444444444,\"#bd3786\"],[0.5555555555555556,\"#d8576b\"],[0.6666666666666666,\"#ed7953\"],[0.7777777777777778,\"#fb9f3a\"],[0.8888888888888888,\"#fdca26\"],[1.0,\"#f0f921\"]]}],\"surface\":[{\"type\":\"surface\",\"colorbar\":{\"outlinewidth\":0,\"ticks\":\"\"},\"colorscale\":[[0.0,\"#0d0887\"],[0.1111111111111111,\"#46039f\"],[0.2222222222222222,\"#7201a8\"],[0.3333333333333333,\"#9c179e\"],[0.4444444444444444,\"#bd3786\"],[0.5555555555555556,\"#d8576b\"],[0.6666666666666666,\"#ed7953\"],[0.7777777777777778,\"#fb9f3a\"],[0.8888888888888888,\"#fdca26\"],[1.0,\"#f0f921\"]]}],\"mesh3d\":[{\"type\":\"mesh3d\",\"colorbar\":{\"outlinewidth\":0,\"ticks\":\"\"}}],\"scatter\":[{\"fillpattern\":{\"fillmode\":\"overlay\",\"size\":10,\"solidity\":0.2},\"type\":\"scatter\"}],\"parcoords\":[{\"type\":\"parcoords\",\"line\":{\"colorbar\":{\"outlinewidth\":0,\"ticks\":\"\"}}}],\"scatterpolargl\":[{\"type\":\"scatterpolargl\",\"marker\":{\"colorbar\":{\"outlinewidth\":0,\"ticks\":\"\"}}}],\"bar\":[{\"error_x\":{\"color\":\"#2a3f5f\"},\"error_y\":{\"color\":\"#2a3f5f\"},\"marker\":{\"line\":{\"color\":\"#E5ECF6\",\"width\":0.5},\"pattern\":{\"fillmode\":\"overlay\",\"size\":10,\"solidity\":0.2}},\"type\":\"bar\"}],\"scattergeo\":[{\"type\":\"scattergeo\",\"marker\":{\"colorbar\":{\"outlinewidth\":0,\"ticks\":\"\"}}}],\"scatterpolar\":[{\"type\":\"scatterpolar\",\"marker\":{\"colorbar\":{\"outlinewidth\":0,\"ticks\":\"\"}}}],\"histogram\":[{\"marker\":{\"pattern\":{\"fillmode\":\"overlay\",\"size\":10,\"solidity\":0.2}},\"type\":\"histogram\"}],\"scattergl\":[{\"type\":\"scattergl\",\"marker\":{\"colorbar\":{\"outlinewidth\":0,\"ticks\":\"\"}}}],\"scatter3d\":[{\"type\":\"scatter3d\",\"line\":{\"colorbar\":{\"outlinewidth\":0,\"ticks\":\"\"}},\"marker\":{\"colorbar\":{\"outlinewidth\":0,\"ticks\":\"\"}}}],\"scattermapbox\":[{\"type\":\"scattermapbox\",\"marker\":{\"colorbar\":{\"outlinewidth\":0,\"ticks\":\"\"}}}],\"scatterternary\":[{\"type\":\"scatterternary\",\"marker\":{\"colorbar\":{\"outlinewidth\":0,\"ticks\":\"\"}}}],\"scattercarpet\":[{\"type\":\"scattercarpet\",\"marker\":{\"colorbar\":{\"outlinewidth\":0,\"ticks\":\"\"}}}],\"carpet\":[{\"aaxis\":{\"endlinecolor\":\"#2a3f5f\",\"gridcolor\":\"white\",\"linecolor\":\"white\",\"minorgridcolor\":\"white\",\"startlinecolor\":\"#2a3f5f\"},\"baxis\":{\"endlinecolor\":\"#2a3f5f\",\"gridcolor\":\"white\",\"linecolor\":\"white\",\"minorgridcolor\":\"white\",\"startlinecolor\":\"#2a3f5f\"},\"type\":\"carpet\"}],\"table\":[{\"cells\":{\"fill\":{\"color\":\"#EBF0F8\"},\"line\":{\"color\":\"white\"}},\"header\":{\"fill\":{\"color\":\"#C8D4E3\"},\"line\":{\"color\":\"white\"}},\"type\":\"table\"}],\"barpolar\":[{\"marker\":{\"line\":{\"color\":\"#E5ECF6\",\"width\":0.5},\"pattern\":{\"fillmode\":\"overlay\",\"size\":10,\"solidity\":0.2}},\"type\":\"barpolar\"}],\"pie\":[{\"automargin\":true,\"type\":\"pie\"}]},\"layout\":{\"autotypenumbers\":\"strict\",\"colorway\":[\"#636efa\",\"#EF553B\",\"#00cc96\",\"#ab63fa\",\"#FFA15A\",\"#19d3f3\",\"#FF6692\",\"#B6E880\",\"#FF97FF\",\"#FECB52\"],\"font\":{\"color\":\"#2a3f5f\"},\"hovermode\":\"closest\",\"hoverlabel\":{\"align\":\"left\"},\"paper_bgcolor\":\"white\",\"plot_bgcolor\":\"#E5ECF6\",\"polar\":{\"bgcolor\":\"#E5ECF6\",\"angularaxis\":{\"gridcolor\":\"white\",\"linecolor\":\"white\",\"ticks\":\"\"},\"radialaxis\":{\"gridcolor\":\"white\",\"linecolor\":\"white\",\"ticks\":\"\"}},\"ternary\":{\"bgcolor\":\"#E5ECF6\",\"aaxis\":{\"gridcolor\":\"white\",\"linecolor\":\"white\",\"ticks\":\"\"},\"baxis\":{\"gridcolor\":\"white\",\"linecolor\":\"white\",\"ticks\":\"\"},\"caxis\":{\"gridcolor\":\"white\",\"linecolor\":\"white\",\"ticks\":\"\"}},\"coloraxis\":{\"colorbar\":{\"outlinewidth\":0,\"ticks\":\"\"}},\"colorscale\":{\"sequential\":[[0.0,\"#0d0887\"],[0.1111111111111111,\"#46039f\"],[0.2222222222222222,\"#7201a8\"],[0.3333333333333333,\"#9c179e\"],[0.4444444444444444,\"#bd3786\"],[0.5555555555555556,\"#d8576b\"],[0.6666666666666666,\"#ed7953\"],[0.7777777777777778,\"#fb9f3a\"],[0.8888888888888888,\"#fdca26\"],[1.0,\"#f0f921\"]],\"sequentialminus\":[[0.0,\"#0d0887\"],[0.1111111111111111,\"#46039f\"],[0.2222222222222222,\"#7201a8\"],[0.3333333333333333,\"#9c179e\"],[0.4444444444444444,\"#bd3786\"],[0.5555555555555556,\"#d8576b\"],[0.6666666666666666,\"#ed7953\"],[0.7777777777777778,\"#fb9f3a\"],[0.8888888888888888,\"#fdca26\"],[1.0,\"#f0f921\"]],\"diverging\":[[0,\"#8e0152\"],[0.1,\"#c51b7d\"],[0.2,\"#de77ae\"],[0.3,\"#f1b6da\"],[0.4,\"#fde0ef\"],[0.5,\"#f7f7f7\"],[0.6,\"#e6f5d0\"],[0.7,\"#b8e186\"],[0.8,\"#7fbc41\"],[0.9,\"#4d9221\"],[1,\"#276419\"]]},\"xaxis\":{\"gridcolor\":\"white\",\"linecolor\":\"white\",\"ticks\":\"\",\"title\":{\"standoff\":15},\"zerolinecolor\":\"white\",\"automargin\":true,\"zerolinewidth\":2},\"yaxis\":{\"gridcolor\":\"white\",\"linecolor\":\"white\",\"ticks\":\"\",\"title\":{\"standoff\":15},\"zerolinecolor\":\"white\",\"automargin\":true,\"zerolinewidth\":2},\"scene\":{\"xaxis\":{\"backgroundcolor\":\"#E5ECF6\",\"gridcolor\":\"white\",\"linecolor\":\"white\",\"showbackground\":true,\"ticks\":\"\",\"zerolinecolor\":\"white\",\"gridwidth\":2},\"yaxis\":{\"backgroundcolor\":\"#E5ECF6\",\"gridcolor\":\"white\",\"linecolor\":\"white\",\"showbackground\":true,\"ticks\":\"\",\"zerolinecolor\":\"white\",\"gridwidth\":2},\"zaxis\":{\"backgroundcolor\":\"#E5ECF6\",\"gridcolor\":\"white\",\"linecolor\":\"white\",\"showbackground\":true,\"ticks\":\"\",\"zerolinecolor\":\"white\",\"gridwidth\":2}},\"shapedefaults\":{\"line\":{\"color\":\"#2a3f5f\"}},\"annotationdefaults\":{\"arrowcolor\":\"#2a3f5f\",\"arrowhead\":0,\"arrowwidth\":1},\"geo\":{\"bgcolor\":\"white\",\"landcolor\":\"#E5ECF6\",\"subunitcolor\":\"white\",\"showland\":true,\"showlakes\":true,\"lakecolor\":\"white\"},\"title\":{\"x\":0.05},\"mapbox\":{\"style\":\"light\"}}},\"xaxis\":{\"anchor\":\"y\",\"domain\":[0.0,1.0],\"title\":{\"text\":\"cantidad_frac\"}},\"yaxis\":{\"anchor\":\"x\",\"domain\":[0.0,1.0],\"title\":{\"text\":\"count\"}},\"legend\":{\"tracegroupgap\":0},\"margin\":{\"t\":60},\"barmode\":\"relative\"},                        {\"responsive\": true}                    ).then(function(){\n",
              "                            \n",
              "var gd = document.getElementById('b1e2f1b5-29a7-481b-a91d-96145f17f5ba');\n",
              "var x = new MutationObserver(function (mutations, observer) {{\n",
              "        var display = window.getComputedStyle(gd).display;\n",
              "        if (!display || display === 'none') {{\n",
              "            console.log([gd, 'removed!']);\n",
              "            Plotly.purge(gd);\n",
              "            observer.disconnect();\n",
              "        }}\n",
              "}});\n",
              "\n",
              "// Listen for the removal of the full notebook cells\n",
              "var notebookContainer = gd.closest('#notebook-container');\n",
              "if (notebookContainer) {{\n",
              "    x.observe(notebookContainer, {childList: true});\n",
              "}}\n",
              "\n",
              "// Listen for the clearing of the current output cell\n",
              "var outputEl = gd.closest('.output');\n",
              "if (outputEl) {{\n",
              "    x.observe(outputEl, {childList: true});\n",
              "}}\n",
              "\n",
              "                        })                };                            </script>        </div>\n",
              "</body>\n",
              "</html>"
            ]
          },
          "metadata": {},
          "output_type": "display_data"
        }
      ],
      "source": [
        "import plotly.express as px\n",
        "#Primero vamos a identificar el comportamiento de los outliers mediante una campana gaussiana para observar como está la distribución\n",
        "fig = px.histogram(df, x='cantidad_frac', nbins=100)\n",
        "fig.show()"
      ]
    },
    {
      "cell_type": "markdown",
      "metadata": {
        "id": "ucRLLNXnK1ZA"
      },
      "source": [
        "### STANDARSCALER"
      ]
    },
    {
      "cell_type": "code",
      "execution_count": null,
      "metadata": {
        "id": "X3Ll5XM0Kipe"
      },
      "outputs": [],
      "source": [
        "from sklearn.preprocessing import StandardScaler\n",
        "\n",
        "def escalar_dataset(data_input):\n",
        "    '''Escala el dataset en el rango de -1 a 1.\n",
        "\n",
        "    Entradas:\n",
        "    data_input: diccionario con los dataset de entrada y salida del modelo\n",
        "    (data_input = {'x_tr':x_tr, 'y_tr':y_tr, 'x_vl':x_vl, 'y_vl':y_vl,\n",
        "                    'y_ts':y_ts})\n",
        "\n",
        "    Retorna:\n",
        "    - data_scaled: diccionario con los datasets de entrada y salida escalados\n",
        "      (tiene la misma estructura del diccionario de entrada)\n",
        "    - scaler: el escalador usado (requerido para las predicciones)\n",
        "    '''\n",
        "\n",
        "    NFEATS = data_input['x_tr'].shape[2]\n",
        "\n",
        "\n",
        "    # Generar listado con \"scalers\" (en este caso, por ser sólo 1 característica\n",
        "    # se tendrá sólo 1 escalador)\n",
        "    scalers = [StandardScaler() for i in range(NFEATS)]  # Remove feature_range\n",
        "    # Arreglos que contendrán los datasets escalados\n",
        "    x_tr_s = np.zeros(data_input['x_tr'].shape)\n",
        "    x_vl_s = np.zeros(data_input['x_vl'].shape)\n",
        "    x_ts_s = np.zeros(data_input['x_ts'].shape)\n",
        "    y_tr_s = np.zeros(data_input['y_tr'].shape)\n",
        "    y_vl_s = np.zeros(data_input['y_vl'].shape)\n",
        "    y_ts_s = np.zeros(data_input['y_ts'].shape)\n",
        "\n",
        "    # Escalamiento: se usarán los min/max del set de entrenamiento para\n",
        "    # escalar la totalidad de los datasets\n",
        "\n",
        "    # Escalamiento Xs: en este caso debemos garantizar que cada dato de entrada\n",
        "    # a fit_transform o transform debe ser de tamaño nsamples x nfeatures\n",
        "    # (en este caso 24x13)\n",
        "    print('NFEATS: '+ str(NFEATS))\n",
        "    for i in range(NFEATS):\n",
        "        x_tr_s[:,:,i] = scalers[i].fit_transform(x_tr[:,:,i])\n",
        "        x_vl_s[:,:,i] = scalers[i].transform(x_vl[:,:,i])\n",
        "        x_ts_s[:,:,i] = scalers[i].transform(x_ts[:,:,i])\n",
        "\n",
        "    # Escalamiento Ys\n",
        "    y_tr_s[:,:,0] = scalers[-1].fit_transform(y_tr[:,:,0].reshape(-1,1))\n",
        "    y_vl_s[:,:,0] = scalers[-1].transform(y_vl[:,:,0])\n",
        "    y_ts_s[:,:,0] = scalers[-1].transform(y_ts[:,:,0])\n",
        "\n",
        "    # Conformar diccionario de salida\n",
        "    data_scaled = {\n",
        "        'x_tr_s': x_tr_s, 'y_tr_s': y_tr_s,\n",
        "        'x_vl_s': x_vl_s, 'y_vl_s': y_vl_s,\n",
        "        'x_ts_s': x_ts_s, 'y_ts_s': y_ts_s,\n",
        "    }\n",
        "\n",
        "\n",
        "\n",
        "    return data_scaled, scalers[0]"
      ]
    },
    {
      "cell_type": "markdown",
      "metadata": {
        "id": "wKZvFSShSXxr"
      },
      "source": [
        "### ROBUSTSCALER"
      ]
    },
    {
      "cell_type": "code",
      "execution_count": null,
      "metadata": {
        "collapsed": true,
        "id": "GrugRy9PU3T-"
      },
      "outputs": [],
      "source": [
        "from sklearn.preprocessing import RobustScaler\n",
        "import numpy as np\n",
        "\n",
        "def escalar_dataset(data_input):\n",
        "    '''Escala el dataset usando RobustScaler.\n",
        "\n",
        "    Entradas:\n",
        "    data_input: diccionario con los dataset de entrada y salida del modelo\n",
        "    (data_input = {'x_tr':x_tr, 'y_tr':y_tr, 'x_vl':x_vl, 'y_vl':y_vl,\n",
        "                    'y_ts':y_ts})\n",
        "\n",
        "    Retorna:\n",
        "    - data_scaled: diccionario con los datasets de entrada y salida escalados\n",
        "      (tiene la misma estructura del diccionario de entrada)\n",
        "    - scaler: el escalador usado (requerido para las predicciones)\n",
        "    '''\n",
        "\n",
        "    NFEATS = data_input['x_tr'].shape[2]\n",
        "\n",
        "    # Generar listado con \"scalers\" (en este caso, por ser sólo 1 característica\n",
        "    # se tendrá sólo 1 escalador)\n",
        "    scalers = [RobustScaler() for i in range(NFEATS)]\n",
        "\n",
        "    # Arreglos que contendrán los datasets escalados\n",
        "    x_tr_s = np.zeros(data_input['x_tr'].shape)\n",
        "    x_vl_s = np.zeros(data_input['x_vl'].shape)\n",
        "    x_ts_s = np.zeros(data_input['x_ts'].shape)\n",
        "    y_tr_s = np.zeros(data_input['y_tr'].shape)\n",
        "    y_vl_s = np.zeros(data_input['y_vl'].shape)\n",
        "    y_ts_s = np.zeros(data_input['y_ts'].shape)\n",
        "\n",
        "\n",
        "    # Escalamiento Xs: en este caso debemos garantizar que cada dato de entrada\n",
        "    # a fit_transform o transform debe ser de tamaño nsamples x nfeatures\n",
        "    # (en este caso 30x1)\n",
        "    for i in range(NFEATS):\n",
        "        x_tr_s[:,:,i] = scalers[i].fit_transform(data_input['x_tr'][:,:,i])\n",
        "        x_vl_s[:,:,i] = scalers[i].transform(data_input['x_vl'][:,:,i])\n",
        "        x_ts_s[:,:,i] = scalers[i].transform(data_input['x_ts'][:,:,i])\n",
        "\n",
        "    # Escalamiento Ys\n",
        "    y_tr_s[:,:,0] = scalers[-1].fit_transform(data_input['y_tr'][:,:,0].reshape(-1,1))\n",
        "    y_vl_s[:,:,0] = scalers[-1].transform(data_input['y_vl'][:,:,0])\n",
        "    y_ts_s[:,:,0] = scalers[-1].transform(data_input['y_ts'][:,:,0])\n",
        "\n",
        "    # Conformar diccionario de salida\n",
        "    data_scaled = {\n",
        "        'x_tr_s': x_tr_s, 'y_tr_s': y_tr_s,\n",
        "        'x_vl_s': x_vl_s, 'y_vl_s': y_vl_s,\n",
        "        'x_ts_s': x_ts_s, 'y_ts_s': y_ts_s,\n",
        "    }\n",
        "\n",
        "    return data_scaled, scalers[0]\n"
      ]
    },
    {
      "cell_type": "markdown",
      "metadata": {
        "id": "lOS0FqmQKjB5"
      },
      "source": [
        "### MIN MAX SCALER"
      ]
    },
    {
      "cell_type": "code",
      "execution_count": null,
      "metadata": {
        "id": "CHlG3AN9g-Sw"
      },
      "outputs": [],
      "source": [
        "from sklearn.preprocessing import MinMaxScaler\n",
        "\n",
        "def escalar_dataset(data_input):\n",
        "    '''Escala el dataset en el rango de -1 a 1.\n",
        "\n",
        "    Entradas:\n",
        "    data_input: diccionario con los dataset de entrada y salida del modelo\n",
        "    (data_input = {'x_tr':x_tr, 'y_tr':y_tr, 'x_vl':x_vl, 'y_vl':y_vl,\n",
        "                    'y_ts':y_ts})\n",
        "\n",
        "    Retorna:\n",
        "    - data_scaled: diccionario con los datasets de entrada y salida escalados\n",
        "      (tiene la misma estructura del diccionario de entrada)\n",
        "    - scaler: el escalador usado (requerido para las predicciones)\n",
        "    '''\n",
        "\n",
        "    NFEATS = data_input['x_tr'].shape[2]\n",
        "\n",
        "\n",
        "    # Generar listado con \"scalers\" (en este caso, por ser sólo 1 característica\n",
        "    # se tendrá sólo 1 escalador)\n",
        "    scalers = [MinMaxScaler(feature_range=(-1,1)) for i in range(NFEATS)]\n",
        "\n",
        "    # Arreglos que contendrán los datasets escalados\n",
        "    x_tr_s = np.zeros(data_input['x_tr'].shape)\n",
        "    x_vl_s = np.zeros(data_input['x_vl'].shape)\n",
        "    x_ts_s = np.zeros(data_input['x_ts'].shape)\n",
        "    y_tr_s = np.zeros(data_input['y_tr'].shape)\n",
        "    y_vl_s = np.zeros(data_input['y_vl'].shape)\n",
        "    y_ts_s = np.zeros(data_input['y_ts'].shape)\n",
        "\n",
        "    # Escalamiento: se usarán los min/max del set de entrenamiento para\n",
        "    # escalar la totalidad de los datasets\n",
        "\n",
        "    # Escalamiento Xs: en este caso debemos garantizar que cada dato de entrada\n",
        "    # a fit_transform o transform debe ser de tamaño nsamples x nfeatures\n",
        "    # (en este caso 24x13)\n",
        "    for i in range(NFEATS):\n",
        "        x_tr_s[:,:,i] = scalers[i].fit_transform(x_tr[:,:,i])\n",
        "        x_vl_s[:,:,i] = scalers[i].transform(x_vl[:,:,i])\n",
        "        x_ts_s[:,:,i] = scalers[i].transform(x_ts[:,:,i])\n",
        "\n",
        "    # Escalamiento Ys\n",
        "    y_tr_s[:,:,0] = scalers[-1].fit_transform(y_tr[:,:,0])\n",
        "    y_vl_s[:,:,0] = scalers[-1].transform(y_vl[:,:,0])\n",
        "    y_ts_s[:,:,0] = scalers[-1].transform(y_ts[:,:,0])\n",
        "\n",
        "    # Conformar diccionario de salida\n",
        "    data_scaled = {\n",
        "        'x_tr_s': x_tr_s, 'y_tr_s': y_tr_s,\n",
        "        'x_vl_s': x_vl_s, 'y_vl_s': y_vl_s,\n",
        "        'x_ts_s': x_ts_s, 'y_ts_s': y_ts_s,\n",
        "    }\n",
        "\n",
        "    return data_scaled, scalers[0]"
      ]
    },
    {
      "cell_type": "code",
      "execution_count": null,
      "metadata": {
        "colab": {
          "base_uri": "https://localhost:8080/"
        },
        "id": "O-SHU-1Vg-Sw",
        "outputId": "13a72852-b113-4a72-dee2-1c6f6068483e"
      },
      "outputs": [
        {
          "name": "stdout",
          "output_type": "stream",
          "text": [
            "Min x_tr/x_vl/x_ts sin escalamiento: 1.0/81.0/138.0\n",
            "Min x_tr/x_vl/x_ts con escalamiento: -1.0/-0.8632075471698114/-0.7287735849056605\n",
            "\n",
            "Min y_tr/y_vl/y_ts sin escalamiento: 23.0/81.0/138.0\n",
            "Min y_tr/y_vl/y_ts con escalamiento: -1.0/-0.8632075471698114/-0.7287735849056605\n",
            "\n",
            "Max x_tr/x_vl/x_ts sin escalamiento: 871.0/831.0/878.0\n",
            "Max x_tr/x_vl/x_ts con escalamiento: 1.0/0.9080459770114944/1.0165094339622638\n",
            "\n",
            "Max y_tr/y_vl/y_ts sin escalamiento: 871.0/831.0/878.0\n",
            "Max y_tr/y_vl/y_ts con escalamiento: 0.9999999999999998/0.9056603773584904/1.0165094339622638\n"
          ]
        }
      ],
      "source": [
        "# Escalamiento del dataset con la función anterior\n",
        "\n",
        "# Crear diccionario de entrada\n",
        "data_in = {\n",
        "    'x_tr': x_tr, 'y_tr': y_tr,\n",
        "    'x_vl': x_vl, 'y_vl': y_vl,\n",
        "    'x_ts': x_ts, 'y_ts': y_ts,\n",
        "}\n",
        "\n",
        "# Y escalar\n",
        "data_s, scaler = escalar_dataset(data_in)\n",
        "\n",
        "# Extraer subsets escalados\n",
        "x_tr_s, y_tr_s = data_s['x_tr_s'], data_s['y_tr_s']\n",
        "x_vl_s, y_vl_s = data_s['x_vl_s'], data_s['y_vl_s']\n",
        "x_ts_s, y_ts_s = data_s['x_ts_s'], data_s['y_ts_s']\n",
        "\n",
        "# Verificación\n",
        "print(f'Min x_tr/x_vl/x_ts sin escalamiento: {x_tr.min()}/{x_vl.min()}/{x_ts.min()}')\n",
        "print(f'Min x_tr/x_vl/x_ts con escalamiento: {x_tr_s.min()}/{x_vl_s.min()}/{x_ts_s.min()}')\n",
        "\n",
        "print(f'\\nMin y_tr/y_vl/y_ts sin escalamiento: {y_tr.min()}/{y_vl.min()}/{y_ts.min()}')\n",
        "print(f'Min y_tr/y_vl/y_ts con escalamiento: {y_tr_s.min()}/{y_vl_s.min()}/{y_ts_s.min()}')\n",
        "\n",
        "print(f'\\nMax x_tr/x_vl/x_ts sin escalamiento: {x_tr.max()}/{x_vl.max()}/{x_ts.max()}')\n",
        "print(f'Max x_tr/x_vl/x_ts con escalamiento: {x_tr_s.max()}/{x_vl_s.max()}/{x_ts_s.max()}')\n",
        "\n",
        "print(f'\\nMax y_tr/y_vl/y_ts sin escalamiento: {y_tr.max()}/{y_vl.max()}/{y_ts.max()}')\n",
        "print(f'Max y_tr/y_vl/y_ts con escalamiento: {y_tr_s.max()}/{y_vl_s.max()}/{y_ts_s.max()}')"
      ]
    },
    {
      "cell_type": "code",
      "execution_count": null,
      "metadata": {
        "id": "_YlZUl4RDOAG"
      },
      "outputs": [],
      "source": [
        "import pickle\n",
        "\n",
        "# Escalamiento del dataset\n",
        "data_s, scaler = escalar_dataset(data_in)\n",
        "\n",
        "# Guardar el scaler en un archivo .pkl\n",
        "with open(f'scaler_{idItem}.pkl', 'wb') as f:\n",
        "    pickle.dump(scaler, f)"
      ]
    },
    {
      "cell_type": "markdown",
      "metadata": {
        "id": "9Soq6m0Zg-Sx"
      },
      "source": [
        "## 4. Creación y entrenamieto del Modelo"
      ]
    },
    {
      "cell_type": "markdown",
      "metadata": {
        "id": "2d6qSH5yZqHI"
      },
      "source": [
        "### 4.1 DROPOUT"
      ]
    },
    {
      "cell_type": "code",
      "execution_count": null,
      "metadata": {
        "colab": {
          "base_uri": "https://localhost:8080/",
          "height": 303
        },
        "id": "tO3ywPxtg-Sx",
        "outputId": "50b7df6d-a848-4b4b-9141-6fa2f3a0c0c6"
      },
      "outputs": [
        {
          "name": "stderr",
          "output_type": "stream",
          "text": [
            "/usr/local/lib/python3.10/dist-packages/keras/src/layers/rnn/rnn.py:204: UserWarning:\n",
            "\n",
            "Do not pass an `input_shape`/`input_dim` argument to a layer. When using Sequential models, prefer using an `Input(shape)` object as the first layer in the model instead.\n",
            "\n"
          ]
        },
        {
          "data": {
            "text/html": [
              "<pre style=\"white-space:pre;overflow-x:auto;line-height:normal;font-family:Menlo,'DejaVu Sans Mono',consolas,'Courier New',monospace\"><span style=\"font-weight: bold\">Model: \"sequential\"</span>\n",
              "</pre>\n"
            ],
            "text/plain": [
              "\u001b[1mModel: \"sequential\"\u001b[0m\n"
            ]
          },
          "metadata": {},
          "output_type": "display_data"
        },
        {
          "data": {
            "text/html": [
              "<pre style=\"white-space:pre;overflow-x:auto;line-height:normal;font-family:Menlo,'DejaVu Sans Mono',consolas,'Courier New',monospace\">┏━━━━━━━━━━━━━━━━━━━━━━━━━━━━━━━━━━━━━━┳━━━━━━━━━━━━━━━━━━━━━━━━━━━━━┳━━━━━━━━━━━━━━━━━┓\n",
              "┃<span style=\"font-weight: bold\"> Layer (type)                         </span>┃<span style=\"font-weight: bold\"> Output Shape                </span>┃<span style=\"font-weight: bold\">         Param # </span>┃\n",
              "┡━━━━━━━━━━━━━━━━━━━━━━━━━━━━━━━━━━━━━━╇━━━━━━━━━━━━━━━━━━━━━━━━━━━━━╇━━━━━━━━━━━━━━━━━┩\n",
              "│ lstm (<span style=\"color: #0087ff; text-decoration-color: #0087ff\">LSTM</span>)                          │ (<span style=\"color: #00d7ff; text-decoration-color: #00d7ff\">None</span>, <span style=\"color: #00af00; text-decoration-color: #00af00\">129</span>)                 │          <span style=\"color: #00af00; text-decoration-color: #00af00\">67,596</span> │\n",
              "├──────────────────────────────────────┼─────────────────────────────┼─────────────────┤\n",
              "│ dropout (<span style=\"color: #0087ff; text-decoration-color: #0087ff\">Dropout</span>)                    │ (<span style=\"color: #00d7ff; text-decoration-color: #00d7ff\">None</span>, <span style=\"color: #00af00; text-decoration-color: #00af00\">129</span>)                 │               <span style=\"color: #00af00; text-decoration-color: #00af00\">0</span> │\n",
              "├──────────────────────────────────────┼─────────────────────────────┼─────────────────┤\n",
              "│ dense (<span style=\"color: #0087ff; text-decoration-color: #0087ff\">Dense</span>)                        │ (<span style=\"color: #00d7ff; text-decoration-color: #00d7ff\">None</span>, <span style=\"color: #00af00; text-decoration-color: #00af00\">5</span>)                   │             <span style=\"color: #00af00; text-decoration-color: #00af00\">650</span> │\n",
              "└──────────────────────────────────────┴─────────────────────────────┴─────────────────┘\n",
              "</pre>\n"
            ],
            "text/plain": [
              "┏━━━━━━━━━━━━━━━━━━━━━━━━━━━━━━━━━━━━━━┳━━━━━━━━━━━━━━━━━━━━━━━━━━━━━┳━━━━━━━━━━━━━━━━━┓\n",
              "┃\u001b[1m \u001b[0m\u001b[1mLayer (type)                        \u001b[0m\u001b[1m \u001b[0m┃\u001b[1m \u001b[0m\u001b[1mOutput Shape               \u001b[0m\u001b[1m \u001b[0m┃\u001b[1m \u001b[0m\u001b[1m        Param #\u001b[0m\u001b[1m \u001b[0m┃\n",
              "┡━━━━━━━━━━━━━━━━━━━━━━━━━━━━━━━━━━━━━━╇━━━━━━━━━━━━━━━━━━━━━━━━━━━━━╇━━━━━━━━━━━━━━━━━┩\n",
              "│ lstm (\u001b[38;5;33mLSTM\u001b[0m)                          │ (\u001b[38;5;45mNone\u001b[0m, \u001b[38;5;34m129\u001b[0m)                 │          \u001b[38;5;34m67,596\u001b[0m │\n",
              "├──────────────────────────────────────┼─────────────────────────────┼─────────────────┤\n",
              "│ dropout (\u001b[38;5;33mDropout\u001b[0m)                    │ (\u001b[38;5;45mNone\u001b[0m, \u001b[38;5;34m129\u001b[0m)                 │               \u001b[38;5;34m0\u001b[0m │\n",
              "├──────────────────────────────────────┼─────────────────────────────┼─────────────────┤\n",
              "│ dense (\u001b[38;5;33mDense\u001b[0m)                        │ (\u001b[38;5;45mNone\u001b[0m, \u001b[38;5;34m5\u001b[0m)                   │             \u001b[38;5;34m650\u001b[0m │\n",
              "└──────────────────────────────────────┴─────────────────────────────┴─────────────────┘\n"
            ]
          },
          "metadata": {},
          "output_type": "display_data"
        },
        {
          "data": {
            "text/html": [
              "<pre style=\"white-space:pre;overflow-x:auto;line-height:normal;font-family:Menlo,'DejaVu Sans Mono',consolas,'Courier New',monospace\"><span style=\"font-weight: bold\"> Total params: </span><span style=\"color: #00af00; text-decoration-color: #00af00\">68,246</span> (266.59 KB)\n",
              "</pre>\n"
            ],
            "text/plain": [
              "\u001b[1m Total params: \u001b[0m\u001b[38;5;34m68,246\u001b[0m (266.59 KB)\n"
            ]
          },
          "metadata": {},
          "output_type": "display_data"
        },
        {
          "data": {
            "text/html": [
              "<pre style=\"white-space:pre;overflow-x:auto;line-height:normal;font-family:Menlo,'DejaVu Sans Mono',consolas,'Courier New',monospace\"><span style=\"font-weight: bold\"> Trainable params: </span><span style=\"color: #00af00; text-decoration-color: #00af00\">68,246</span> (266.59 KB)\n",
              "</pre>\n"
            ],
            "text/plain": [
              "\u001b[1m Trainable params: \u001b[0m\u001b[38;5;34m68,246\u001b[0m (266.59 KB)\n"
            ]
          },
          "metadata": {},
          "output_type": "display_data"
        },
        {
          "data": {
            "text/html": [
              "<pre style=\"white-space:pre;overflow-x:auto;line-height:normal;font-family:Menlo,'DejaVu Sans Mono',consolas,'Courier New',monospace\"><span style=\"font-weight: bold\"> Non-trainable params: </span><span style=\"color: #00af00; text-decoration-color: #00af00\">0</span> (0.00 B)\n",
              "</pre>\n"
            ],
            "text/plain": [
              "\u001b[1m Non-trainable params: \u001b[0m\u001b[38;5;34m0\u001b[0m (0.00 B)\n"
            ]
          },
          "metadata": {},
          "output_type": "display_data"
        }
      ],
      "source": [
        "# Creación del modelo\n",
        "from tensorflow.keras.models import Sequential\n",
        "from tensorflow.keras.layers import LSTM, Dense\n",
        "from tensorflow.keras.optimizers import RMSprop\n",
        "from tensorflow.keras.layers import Dense, Dropout\n",
        "\n",
        "import tensorflow as tf\n",
        "\n",
        "# Ajustar parámetros para reproducibilidad del entrenamiento\n",
        "tf.random.set_seed(123)\n",
        "tf.config.experimental.enable_op_determinism()\n",
        "\n",
        "# El modelo\n",
        "N_UNITS = 129 # Tamaño del estado oculto (h) y de la celda de memoria (c)\n",
        "INPUT_SHAPE = (x_tr_s.shape[1], x_tr_s.shape[2]) # 30 (días) x 1 (feature)\n",
        "DROPOUT_RATE = 0.6  # Tasa de dropout (ajústala según tus necesidades)\n",
        "\n",
        "\n",
        "modelo = Sequential()\n",
        "modelo.add(LSTM(N_UNITS, input_shape=INPUT_SHAPE))\n",
        "modelo.add(Dropout(DROPOUT_RATE))  # Agregar capa Dropout\n",
        "modelo.add(Dense(OUTPUT_LENGTH, activation='linear')) # activation = 'linear' pues queremos pronosticar (regresión)\n",
        "\n",
        "# Pérdida: se usará el RMSE (root mean squared error) para el entrenamiento\n",
        "# pues permite tener errores en las mismas unidades de la temperatura\n",
        "def root_mean_squared_error(y_true, y_pred):\n",
        "    rmse = tf.math.sqrt(tf.math.reduce_mean(tf.square(y_pred-y_true)))\n",
        "    return rmse\n",
        "\n",
        "# Pérdida: se usará el MAE (mean absolute error) para el entrenamiento\n",
        "# pues permite medir el error absoluto promedio\n",
        "def mean_absolute_error(y_true, y_pred):\n",
        "    mae = tf.math.reduce_mean(tf.abs(y_pred - y_true))\n",
        "    return mae\n",
        "\n",
        "\n",
        "# Compilación\n",
        "optimizador = RMSprop(learning_rate=5e-5)\n",
        "modelo.compile(\n",
        "    optimizer = optimizador,\n",
        "    loss = root_mean_squared_error\n",
        ")\n",
        "\n",
        "# Mostrar la estructura del modelo\n",
        "modelo.summary()\n"
      ]
    },
    {
      "cell_type": "code",
      "execution_count": null,
      "metadata": {
        "colab": {
          "base_uri": "https://localhost:8080/"
        },
        "id": "qMpCFSU5u2Lj",
        "outputId": "90ec4d6f-72d1-4407-9bc6-47a4ddc2fc4d"
      },
      "outputs": [
        {
          "name": "stdout",
          "output_type": "stream",
          "text": [
            "Epoch 1/50\n",
            "10/10 - 5s - 542ms/step - loss: 0.4513 - val_loss: 0.3944\n",
            "Epoch 2/50\n",
            "10/10 - 2s - 201ms/step - loss: 0.4448 - val_loss: 0.3876\n",
            "Epoch 3/50\n",
            "10/10 - 1s - 119ms/step - loss: 0.4380 - val_loss: 0.3812\n",
            "Epoch 4/50\n",
            "10/10 - 1s - 125ms/step - loss: 0.4314 - val_loss: 0.3748\n",
            "Epoch 5/50\n",
            "10/10 - 1s - 116ms/step - loss: 0.4256 - val_loss: 0.3681\n",
            "Epoch 6/50\n",
            "10/10 - 1s - 126ms/step - loss: 0.4194 - val_loss: 0.3612\n",
            "Epoch 7/50\n",
            "10/10 - 1s - 118ms/step - loss: 0.4137 - val_loss: 0.3539\n",
            "Epoch 8/50\n",
            "10/10 - 2s - 174ms/step - loss: 0.4071 - val_loss: 0.3462\n",
            "Epoch 9/50\n",
            "10/10 - 2s - 201ms/step - loss: 0.4010 - val_loss: 0.3384\n",
            "Epoch 10/50\n",
            "10/10 - 2s - 166ms/step - loss: 0.3926 - val_loss: 0.3303\n",
            "Epoch 11/50\n",
            "10/10 - 3s - 267ms/step - loss: 0.3872 - val_loss: 0.3228\n",
            "Epoch 12/50\n",
            "10/10 - 2s - 190ms/step - loss: 0.3815 - val_loss: 0.3161\n",
            "Epoch 13/50\n",
            "10/10 - 1s - 126ms/step - loss: 0.3753 - val_loss: 0.3109\n",
            "Epoch 14/50\n",
            "10/10 - 1s - 127ms/step - loss: 0.3724 - val_loss: 0.3074\n",
            "Epoch 15/50\n",
            "10/10 - 1s - 128ms/step - loss: 0.3702 - val_loss: 0.3053\n",
            "Epoch 16/50\n",
            "10/10 - 1s - 124ms/step - loss: 0.3679 - val_loss: 0.3040\n",
            "Epoch 17/50\n",
            "10/10 - 1s - 115ms/step - loss: 0.3653 - val_loss: 0.3030\n",
            "Epoch 18/50\n",
            "10/10 - 1s - 108ms/step - loss: 0.3625 - val_loss: 0.3025\n",
            "Epoch 19/50\n",
            "10/10 - 1s - 93ms/step - loss: 0.3637 - val_loss: 0.3023\n",
            "Epoch 20/50\n",
            "10/10 - 2s - 183ms/step - loss: 0.3617 - val_loss: 0.3021\n",
            "Epoch 21/50\n",
            "10/10 - 3s - 264ms/step - loss: 0.3621 - val_loss: 0.3021\n",
            "Epoch 22/50\n",
            "10/10 - 1s - 122ms/step - loss: 0.3614 - val_loss: 0.3022\n",
            "Epoch 23/50\n",
            "10/10 - 1s - 99ms/step - loss: 0.3597 - val_loss: 0.3021\n",
            "Epoch 24/50\n",
            "10/10 - 1s - 125ms/step - loss: 0.3612 - val_loss: 0.3021\n",
            "Epoch 25/50\n",
            "10/10 - 1s - 127ms/step - loss: 0.3594 - val_loss: 0.3021\n",
            "Epoch 26/50\n",
            "10/10 - 1s - 93ms/step - loss: 0.3591 - val_loss: 0.3021\n",
            "Epoch 27/50\n",
            "10/10 - 1s - 126ms/step - loss: 0.3600 - val_loss: 0.3021\n",
            "Epoch 28/50\n",
            "10/10 - 1s - 128ms/step - loss: 0.3591 - val_loss: 0.3021\n",
            "Epoch 29/50\n",
            "10/10 - 1s - 125ms/step - loss: 0.3593 - val_loss: 0.3021\n",
            "Epoch 30/50\n",
            "10/10 - 1s - 133ms/step - loss: 0.3593 - val_loss: 0.3021\n",
            "Epoch 31/50\n",
            "10/10 - 2s - 185ms/step - loss: 0.3572 - val_loss: 0.3020\n",
            "Epoch 32/50\n",
            "10/10 - 2s - 159ms/step - loss: 0.3573 - val_loss: 0.3021\n",
            "Epoch 33/50\n",
            "10/10 - 2s - 188ms/step - loss: 0.3584 - val_loss: 0.3021\n",
            "Epoch 34/50\n",
            "10/10 - 1s - 127ms/step - loss: 0.3575 - val_loss: 0.3022\n",
            "Epoch 35/50\n",
            "10/10 - 1s - 126ms/step - loss: 0.3572 - val_loss: 0.3022\n",
            "Epoch 36/50\n",
            "10/10 - 1s - 126ms/step - loss: 0.3571 - val_loss: 0.3022\n",
            "Epoch 37/50\n",
            "10/10 - 1s - 127ms/step - loss: 0.3578 - val_loss: 0.3022\n",
            "Epoch 38/50\n",
            "10/10 - 1s - 126ms/step - loss: 0.3571 - val_loss: 0.3022\n",
            "Epoch 39/50\n",
            "10/10 - 1s - 128ms/step - loss: 0.3558 - val_loss: 0.3022\n",
            "Epoch 40/50\n",
            "10/10 - 1s - 135ms/step - loss: 0.3562 - val_loss: 0.3022\n",
            "Epoch 41/50\n",
            "10/10 - 3s - 322ms/step - loss: 0.3575 - val_loss: 0.3021\n",
            "Epoch 42/50\n",
            "10/10 - 3s - 301ms/step - loss: 0.3565 - val_loss: 0.3022\n",
            "Epoch 43/50\n",
            "10/10 - 1s - 93ms/step - loss: 0.3559 - val_loss: 0.3021\n",
            "Epoch 44/50\n",
            "10/10 - 1s - 94ms/step - loss: 0.3557 - val_loss: 0.3021\n",
            "Epoch 45/50\n",
            "10/10 - 1s - 127ms/step - loss: 0.3553 - val_loss: 0.3021\n",
            "Epoch 46/50\n",
            "10/10 - 1s - 127ms/step - loss: 0.3565 - val_loss: 0.3021\n",
            "Epoch 47/50\n",
            "10/10 - 1s - 125ms/step - loss: 0.3562 - val_loss: 0.3021\n",
            "Epoch 48/50\n",
            "10/10 - 1s - 127ms/step - loss: 0.3556 - val_loss: 0.3021\n",
            "Epoch 49/50\n",
            "10/10 - 2s - 161ms/step - loss: 0.3563 - val_loss: 0.3022\n",
            "Epoch 50/50\n",
            "10/10 - 3s - 287ms/step - loss: 0.3555 - val_loss: 0.3022\n"
          ]
        }
      ],
      "source": [
        "# Entrenamiento (aproximadamente 1 min usando GPU)\n",
        "EPOCHS = 50 # Hiperparámetro\n",
        "BATCH_SIZE = 256 # Hiperparámetro\n",
        "historia = modelo.fit(\n",
        "    x = x_tr_s,\n",
        "    y = y_tr_s,\n",
        "    batch_size = BATCH_SIZE,\n",
        "    epochs = EPOCHS,\n",
        "    validation_data = (x_vl_s, y_vl_s),\n",
        "    verbose=2\n",
        ")"
      ]
    },
    {
      "cell_type": "code",
      "execution_count": null,
      "metadata": {
        "colab": {
          "base_uri": "https://localhost:8080/",
          "height": 449
        },
        "id": "EEHyeQL-ufjm",
        "outputId": "3db2b19a-d5c8-4999-8705-17b77663c3ef"
      },
      "outputs": [
        {
          "data": {
            "image/png": "[encoded data removed]",
            "text/plain": [
              "<Figure size 640x480 with 1 Axes>"
            ]
          },
          "metadata": {},
          "output_type": "display_data"
        }
      ],
      "source": [
        " # Graficar curvas de entrenamiento y validación\n",
        " # para verificar que no existe overfitting\n",
        "plt.plot(historia.history['loss'],label='Train Loss with Dropout')\n",
        "plt.plot(historia.history['val_loss'],label='Val Loss with Dropout')\n",
        "plt.xlabel('Iteración')\n",
        "plt.ylabel('RMSE')\n",
        "plt.legend();"
      ]
    },
    {
      "cell_type": "markdown",
      "metadata": {
        "id": "dY1Uq-QsJiEu"
      },
      "source": [
        "### 4.2 SIN DROPOUT"
      ]
    },
    {
      "cell_type": "code",
      "execution_count": null,
      "metadata": {
        "colab": {
          "base_uri": "https://localhost:8080/",
          "height": 200
        },
        "id": "O3ZqTpgkJkoh",
        "outputId": "9d6a1d55-ac04-495a-d009-973e13551d04"
      },
      "outputs": [
        {
          "data": {
            "text/html": [
              "<pre style=\"white-space:pre;overflow-x:auto;line-height:normal;font-family:Menlo,'DejaVu Sans Mono',consolas,'Courier New',monospace\"><span style=\"font-weight: bold\">Model: \"sequential_1\"</span>\n",
              "</pre>\n"
            ],
            "text/plain": [
              "\u001b[1mModel: \"sequential_1\"\u001b[0m\n"
            ]
          },
          "metadata": {},
          "output_type": "display_data"
        },
        {
          "data": {
            "text/html": [
              "<pre style=\"white-space:pre;overflow-x:auto;line-height:normal;font-family:Menlo,'DejaVu Sans Mono',consolas,'Courier New',monospace\">┏━━━━━━━━━━━━━━━━━━━━━━━━━━━━━━━━━━━━━━┳━━━━━━━━━━━━━━━━━━━━━━━━━━━━━┳━━━━━━━━━━━━━━━━━┓\n",
              "┃<span style=\"font-weight: bold\"> Layer (type)                         </span>┃<span style=\"font-weight: bold\"> Output Shape                </span>┃<span style=\"font-weight: bold\">         Param # </span>┃\n",
              "┡━━━━━━━━━━━━━━━━━━━━━━━━━━━━━━━━━━━━━━╇━━━━━━━━━━━━━━━━━━━━━━━━━━━━━╇━━━━━━━━━━━━━━━━━┩\n",
              "│ lstm_1 (<span style=\"color: #0087ff; text-decoration-color: #0087ff\">LSTM</span>)                        │ (<span style=\"color: #00d7ff; text-decoration-color: #00d7ff\">None</span>, <span style=\"color: #00af00; text-decoration-color: #00af00\">129</span>)                 │          <span style=\"color: #00af00; text-decoration-color: #00af00\">67,596</span> │\n",
              "├──────────────────────────────────────┼─────────────────────────────┼─────────────────┤\n",
              "│ dense_1 (<span style=\"color: #0087ff; text-decoration-color: #0087ff\">Dense</span>)                      │ (<span style=\"color: #00d7ff; text-decoration-color: #00d7ff\">None</span>, <span style=\"color: #00af00; text-decoration-color: #00af00\">5</span>)                   │             <span style=\"color: #00af00; text-decoration-color: #00af00\">650</span> │\n",
              "└──────────────────────────────────────┴─────────────────────────────┴─────────────────┘\n",
              "</pre>\n"
            ],
            "text/plain": [
              "┏━━━━━━━━━━━━━━━━━━━━━━━━━━━━━━━━━━━━━━┳━━━━━━━━━━━━━━━━━━━━━━━━━━━━━┳━━━━━━━━━━━━━━━━━┓\n",
              "┃\u001b[1m \u001b[0m\u001b[1mLayer (type)                        \u001b[0m\u001b[1m \u001b[0m┃\u001b[1m \u001b[0m\u001b[1mOutput Shape               \u001b[0m\u001b[1m \u001b[0m┃\u001b[1m \u001b[0m\u001b[1m        Param #\u001b[0m\u001b[1m \u001b[0m┃\n",
              "┡━━━━━━━━━━━━━━━━━━━━━━━━━━━━━━━━━━━━━━╇━━━━━━━━━━━━━━━━━━━━━━━━━━━━━╇━━━━━━━━━━━━━━━━━┩\n",
              "│ lstm_1 (\u001b[38;5;33mLSTM\u001b[0m)                        │ (\u001b[38;5;45mNone\u001b[0m, \u001b[38;5;34m129\u001b[0m)                 │          \u001b[38;5;34m67,596\u001b[0m │\n",
              "├──────────────────────────────────────┼─────────────────────────────┼─────────────────┤\n",
              "│ dense_1 (\u001b[38;5;33mDense\u001b[0m)                      │ (\u001b[38;5;45mNone\u001b[0m, \u001b[38;5;34m5\u001b[0m)                   │             \u001b[38;5;34m650\u001b[0m │\n",
              "└──────────────────────────────────────┴─────────────────────────────┴─────────────────┘\n"
            ]
          },
          "metadata": {},
          "output_type": "display_data"
        },
        {
          "data": {
            "text/html": [
              "<pre style=\"white-space:pre;overflow-x:auto;line-height:normal;font-family:Menlo,'DejaVu Sans Mono',consolas,'Courier New',monospace\"><span style=\"font-weight: bold\"> Total params: </span><span style=\"color: #00af00; text-decoration-color: #00af00\">68,246</span> (266.59 KB)\n",
              "</pre>\n"
            ],
            "text/plain": [
              "\u001b[1m Total params: \u001b[0m\u001b[38;5;34m68,246\u001b[0m (266.59 KB)\n"
            ]
          },
          "metadata": {},
          "output_type": "display_data"
        },
        {
          "data": {
            "text/html": [
              "<pre style=\"white-space:pre;overflow-x:auto;line-height:normal;font-family:Menlo,'DejaVu Sans Mono',consolas,'Courier New',monospace\"><span style=\"font-weight: bold\"> Trainable params: </span><span style=\"color: #00af00; text-decoration-color: #00af00\">68,246</span> (266.59 KB)\n",
              "</pre>\n"
            ],
            "text/plain": [
              "\u001b[1m Trainable params: \u001b[0m\u001b[38;5;34m68,246\u001b[0m (266.59 KB)\n"
            ]
          },
          "metadata": {},
          "output_type": "display_data"
        },
        {
          "data": {
            "text/html": [
              "<pre style=\"white-space:pre;overflow-x:auto;line-height:normal;font-family:Menlo,'DejaVu Sans Mono',consolas,'Courier New',monospace\"><span style=\"font-weight: bold\"> Non-trainable params: </span><span style=\"color: #00af00; text-decoration-color: #00af00\">0</span> (0.00 B)\n",
              "</pre>\n"
            ],
            "text/plain": [
              "\u001b[1m Non-trainable params: \u001b[0m\u001b[38;5;34m0\u001b[0m (0.00 B)\n"
            ]
          },
          "metadata": {},
          "output_type": "display_data"
        }
      ],
      "source": [
        "# Creación del modelo\n",
        "from tensorflow.keras.models import Sequential\n",
        "from tensorflow.keras.layers import LSTM, Dense\n",
        "from tensorflow.keras.optimizers import RMSprop\n",
        "\n",
        "\n",
        "import tensorflow as tf\n",
        "\n",
        "# Ajustar parámetros para reproducibilidad del entrenamiento\n",
        "tf.random.set_seed(123)\n",
        "tf.config.experimental.enable_op_determinism()\n",
        "\n",
        "# El modelo\n",
        "N_UNITS = 129 # Tamaño del estado oculto (h) y de la celda de memoria (c)\n",
        "INPUT_SHAPE = (x_tr_s.shape[1], x_tr_s.shape[2]) # 30 (días) x 1 (feature)\n",
        "\n",
        "\n",
        "\n",
        "modelo_sin_dropout = Sequential()\n",
        "modelo_sin_dropout.add(LSTM(N_UNITS, input_shape=INPUT_SHAPE))\n",
        "\n",
        "modelo_sin_dropout.add(Dense(OUTPUT_LENGTH, activation='linear')) # activation = 'linear' pues queremos pronosticar (regresión)\n",
        "\n",
        "# Pérdida: se usará el RMSE (root mean squared error) para el entrenamiento\n",
        "# pues permite tener errores en las mismas unidades de la temperatura\n",
        "def root_mean_squared_error(y_true, y_pred):\n",
        "    rmse = tf.math.sqrt(tf.math.reduce_mean(tf.square(y_pred-y_true)))\n",
        "    return rmse\n",
        "\n",
        "# Pérdida: se usará el MAE (mean absolute error) para el entrenamiento\n",
        "# pues permite medir el error absoluto promedio\n",
        "def mean_absolute_error(y_true, y_pred):\n",
        "    mae = tf.math.reduce_mean(tf.abs(y_pred - y_true))\n",
        "    return mae\n",
        "\n",
        "\n",
        "\n",
        "# Compilación\n",
        "optimizador = RMSprop(learning_rate=5e-5)\n",
        "modelo_sin_dropout.compile(\n",
        "    optimizer = optimizador,\n",
        "    loss = root_mean_squared_error\n",
        ")\n",
        "\n",
        "# Mostrar la estructura del modelo\n",
        "modelo_sin_dropout.summary()"
      ]
    },
    {
      "cell_type": "code",
      "execution_count": null,
      "metadata": {
        "colab": {
          "base_uri": "https://localhost:8080/"
        },
        "collapsed": true,
        "id": "fLtTqgiWNktP",
        "outputId": "526531ad-bba3-41b8-8a95-ede13be2bb54"
      },
      "outputs": [
        {
          "name": "stdout",
          "output_type": "stream",
          "text": [
            "Epoch 1/50\n",
            "10/10 - 3s - 257ms/step - loss: 0.4503 - val_loss: 0.3958\n",
            "Epoch 2/50\n",
            "10/10 - 1s - 98ms/step - loss: 0.4438 - val_loss: 0.3896\n",
            "Epoch 3/50\n",
            "10/10 - 1s - 95ms/step - loss: 0.4383 - val_loss: 0.3837\n",
            "Epoch 4/50\n",
            "10/10 - 1s - 124ms/step - loss: 0.4329 - val_loss: 0.3778\n",
            "Epoch 5/50\n",
            "10/10 - 1s - 126ms/step - loss: 0.4273 - val_loss: 0.3716\n",
            "Epoch 6/50\n",
            "10/10 - 1s - 129ms/step - loss: 0.4215 - val_loss: 0.3650\n",
            "Epoch 7/50\n",
            "10/10 - 2s - 172ms/step - loss: 0.4154 - val_loss: 0.3581\n",
            "Epoch 8/50\n",
            "10/10 - 3s - 270ms/step - loss: 0.4088 - val_loss: 0.3507\n",
            "Epoch 9/50\n",
            "10/10 - 2s - 191ms/step - loss: 0.4018 - val_loss: 0.3428\n",
            "Epoch 10/50\n",
            "10/10 - 1s - 94ms/step - loss: 0.3944 - val_loss: 0.3345\n",
            "Epoch 11/50\n",
            "10/10 - 1s - 127ms/step - loss: 0.3866 - val_loss: 0.3260\n",
            "Epoch 12/50\n",
            "10/10 - 1s - 119ms/step - loss: 0.3786 - val_loss: 0.3177\n",
            "Epoch 13/50\n",
            "10/10 - 1s - 130ms/step - loss: 0.3710 - val_loss: 0.3105\n",
            "Epoch 14/50\n",
            "10/10 - 1s - 126ms/step - loss: 0.3643 - val_loss: 0.3053\n",
            "Epoch 15/50\n",
            "10/10 - 1s - 125ms/step - loss: 0.3591 - val_loss: 0.3026\n",
            "Epoch 16/50\n",
            "10/10 - 1s - 126ms/step - loss: 0.3556 - val_loss: 0.3018\n",
            "Epoch 17/50\n",
            "10/10 - 3s - 284ms/step - loss: 0.3533 - val_loss: 0.3019\n",
            "Epoch 18/50\n",
            "10/10 - 4s - 354ms/step - loss: 0.3518 - val_loss: 0.3021\n",
            "Epoch 19/50\n",
            "10/10 - 1s - 127ms/step - loss: 0.3507 - val_loss: 0.3023\n",
            "Epoch 20/50\n",
            "10/10 - 1s - 93ms/step - loss: 0.3499 - val_loss: 0.3024\n",
            "Epoch 21/50\n",
            "10/10 - 1s - 90ms/step - loss: 0.3493 - val_loss: 0.3024\n",
            "Epoch 22/50\n",
            "10/10 - 1s - 93ms/step - loss: 0.3489 - val_loss: 0.3024\n",
            "Epoch 23/50\n",
            "10/10 - 1s - 92ms/step - loss: 0.3486 - val_loss: 0.3025\n",
            "Epoch 24/50\n",
            "10/10 - 1s - 124ms/step - loss: 0.3484 - val_loss: 0.3025\n",
            "Epoch 25/50\n",
            "10/10 - 1s - 127ms/step - loss: 0.3482 - val_loss: 0.3026\n",
            "Epoch 26/50\n",
            "10/10 - 2s - 181ms/step - loss: 0.3481 - val_loss: 0.3026\n",
            "Epoch 27/50\n",
            "10/10 - 3s - 264ms/step - loss: 0.3481 - val_loss: 0.3026\n",
            "Epoch 28/50\n",
            "10/10 - 2s - 191ms/step - loss: 0.3480 - val_loss: 0.3027\n",
            "Epoch 29/50\n",
            "10/10 - 1s - 126ms/step - loss: 0.3480 - val_loss: 0.3027\n",
            "Epoch 30/50\n",
            "10/10 - 1s - 125ms/step - loss: 0.3480 - val_loss: 0.3027\n",
            "Epoch 31/50\n",
            "10/10 - 1s - 91ms/step - loss: 0.3479 - val_loss: 0.3027\n",
            "Epoch 32/50\n",
            "10/10 - 1s - 124ms/step - loss: 0.3479 - val_loss: 0.3027\n",
            "Epoch 33/50\n",
            "10/10 - 1s - 90ms/step - loss: 0.3479 - val_loss: 0.3027\n",
            "Epoch 34/50\n",
            "10/10 - 1s - 125ms/step - loss: 0.3479 - val_loss: 0.3027\n",
            "Epoch 35/50\n",
            "10/10 - 1s - 90ms/step - loss: 0.3478 - val_loss: 0.3027\n",
            "Epoch 36/50\n",
            "10/10 - 2s - 166ms/step - loss: 0.3478 - val_loss: 0.3027\n",
            "Epoch 37/50\n",
            "10/10 - 3s - 282ms/step - loss: 0.3478 - val_loss: 0.3027\n",
            "Epoch 38/50\n",
            "10/10 - 2s - 189ms/step - loss: 0.3478 - val_loss: 0.3027\n",
            "Epoch 39/50\n",
            "10/10 - 1s - 126ms/step - loss: 0.3478 - val_loss: 0.3027\n",
            "Epoch 40/50\n",
            "10/10 - 1s - 127ms/step - loss: 0.3477 - val_loss: 0.3027\n",
            "Epoch 41/50\n",
            "10/10 - 1s - 127ms/step - loss: 0.3477 - val_loss: 0.3027\n",
            "Epoch 42/50\n",
            "10/10 - 1s - 93ms/step - loss: 0.3477 - val_loss: 0.3027\n",
            "Epoch 43/50\n",
            "10/10 - 1s - 126ms/step - loss: 0.3477 - val_loss: 0.3027\n",
            "Epoch 44/50\n",
            "10/10 - 1s - 123ms/step - loss: 0.3477 - val_loss: 0.3027\n",
            "Epoch 45/50\n",
            "10/10 - 1s - 132ms/step - loss: 0.3477 - val_loss: 0.3027\n",
            "Epoch 46/50\n",
            "10/10 - 2s - 186ms/step - loss: 0.3476 - val_loss: 0.3026\n",
            "Epoch 47/50\n",
            "10/10 - 2s - 154ms/step - loss: 0.3476 - val_loss: 0.3026\n",
            "Epoch 48/50\n",
            "10/10 - 2s - 154ms/step - loss: 0.3476 - val_loss: 0.3026\n",
            "Epoch 49/50\n",
            "10/10 - 2s - 194ms/step - loss: 0.3476 - val_loss: 0.3026\n",
            "Epoch 50/50\n",
            "10/10 - 1s - 91ms/step - loss: 0.3476 - val_loss: 0.3026\n"
          ]
        }
      ],
      "source": [
        "# Entrenamiento (aproximadamente 1 min usando GPU)\n",
        "EPOCHS = 50 # Hiperparámetro\n",
        "BATCH_SIZE = 256 # Hiperparámetro\n",
        "historia_sin_dropout = modelo_sin_dropout.fit(\n",
        "    x = x_tr_s,\n",
        "    y = y_tr_s,\n",
        "    batch_size = BATCH_SIZE,\n",
        "    epochs = EPOCHS,\n",
        "    validation_data = (x_vl_s, y_vl_s),\n",
        "    verbose=2\n",
        ")"
      ]
    },
    {
      "cell_type": "code",
      "execution_count": null,
      "metadata": {
        "colab": {
          "base_uri": "https://localhost:8080/",
          "height": 566
        },
        "id": "ESMTN_uUx332",
        "outputId": "f3888b59-4369-4888-d611-ebe28eeb0306"
      },
      "outputs": [
        {
          "data": {
            "image/png": "[encoded data removed]",
            "text/plain": [
              "<Figure size 1400x600 with 1 Axes>"
            ]
          },
          "metadata": {},
          "output_type": "display_data"
        }
      ],
      "source": [
        "import matplotlib.pyplot as plt\n",
        "\n",
        "# Graficar el error de entrenamiento y validación para el modelo con Dropout\n",
        "plt.figure(figsize=(14, 6))\n",
        "\n",
        "# Gráfico de la pérdida\n",
        "plt.subplot(1, 2, 1)\n",
        "plt.plot(historia_sin_dropout.history['loss'], label='Train Loss without Dropout')\n",
        "plt.plot(historia_sin_dropout.history['val_loss'], label='Val Loss without Dropout')\n",
        "plt.title('Pérdida durante el Entrenamiento')\n",
        "plt.xlabel('Época')\n",
        "plt.ylabel('Pérdida')\n",
        "plt.legend()\n",
        "\n",
        "plt.show()\n"
      ]
    },
    {
      "cell_type": "markdown",
      "metadata": {
        "id": "nTkl1nl6nHde"
      },
      "source": [
        "## GUARDAR MODELO"
      ]
    },
    {
      "cell_type": "code",
      "execution_count": null,
      "metadata": {
        "id": "Q3az-Nz_nGsT"
      },
      "outputs": [],
      "source": [
        "# Guardar el modelo entrenado\n",
        "modelo_sin_dropout.save(f'modelo_{idItem}.keras')\n",
        "#modelo.save(f'modelo_{idItem}.keras')"
      ]
    },
    {
      "cell_type": "markdown",
      "metadata": {
        "id": "0INtyfPvLgL1"
      },
      "source": [
        "# CARGAR MODELO 1"
      ]
    },
    {
      "cell_type": "code",
      "execution_count": null,
      "metadata": {
        "id": "e4EnKypAI7Ls"
      },
      "outputs": [],
      "source": [
        "# def preparar_datos_para_prediccion(df, id_item, input_length, output_length, scaler, modelo):\n",
        "#     \"\"\"\n",
        "#     Predice los valores de los próximos días a partir del último registro en el DataFrame.\n",
        "\n",
        "#     Args:\n",
        "#     df (pd.DataFrame): DataFrame que contiene las columnas 'fecha', 'id_item', 'cantidad_frac'.\n",
        "#     id_item (int/str): El ID del item para el cual se quieren hacer predicciones.\n",
        "#     input_length (int): El número de registros que el modelo necesita como entrada.\n",
        "#     output_length (int): El número de días a predecir.\n",
        "#     scaler: El objeto MinMaxScaler que se usó para escalar los datos durante el entrenamiento.\n",
        "#     modelo: El modelo LSTM cargado para hacer predicciones.\n",
        "\n",
        "#     Returns:\n",
        "#     np.array: Predicciones desescaladas para los próximos días.\n",
        "#     \"\"\"\n",
        "#     # Suponiendo que df es tu DataFrame original y quieres seleccionar solo ciertas columnas\n",
        "#     columnas_especificas = ['Fecha', 'id_item','cantidad_unid', 'cantidad_frac']\n",
        "#     df = df[columnas_especificas]\n",
        "\n",
        "\n",
        "#     # Filtrar el DataFrame para el id_item deseado\n",
        "#     df_item = df[df['id_item'] == id_item].copy()\n",
        "\n",
        "#     # Ordenar por fecha y tomar los últimos 'input_length' registros\n",
        "#     df_item = df_item.sort_values(by='Fecha').tail(input_length)\n",
        "\n",
        "#     # Asegurarse de que los datos estén en el formato correcto (n_samples, input_length, n_features)\n",
        "#     datos = df_item['cantidad_frac'].values.reshape(-1, 1)\n",
        "\n",
        "#     # Crear un array con las características que espera el scaler (relleno con ceros)\n",
        "#     datos_expandidos = np.zeros((input_length, scaler.n_features_in_))\n",
        "#     datos_expandidos[:, 0] = datos[:, 0]  # Copiar los valores en la primera columna\n",
        "\n",
        "#     # Escalar los datos\n",
        "#     datos_escalados = scaler.transform(datos_expandidos)\n",
        "\n",
        "#     # Seleccionar solo la primera columna escalada para la predicción\n",
        "#     datos_escalados = datos_escalados[:, 0].reshape(1, input_length, 1)\n",
        "\n",
        "#     predicciones = []\n",
        "\n",
        "#     # Iterativamente predecir los próximos días\n",
        "#     for _ in range(output_length):\n",
        "#         # Hacer la predicción\n",
        "#         prediccion = modelo.predict(datos_escalados)\n",
        "\n",
        "#         # Crear un array expandido para desescalado\n",
        "#         prediccion_expandidas = np.zeros((prediccion.shape[0], scaler.n_features_in_))\n",
        "#         prediccion_expandidas[:, 0] = prediccion[:, 0]\n",
        "\n",
        "#         # Invertir el escalado de la predicción\n",
        "#         prediccion_invertida = scaler.inverse_transform(prediccion_expandidas)\n",
        "\n",
        "#         # Agregar la primera columna a las predicciones finales\n",
        "#         predicciones.append(prediccion_invertida[0, 0])\n",
        "\n",
        "#         # Añadir la nueva predicción a los datos para predecir el siguiente día\n",
        "#         nueva_entrada = prediccion[0, 0].reshape(1, 1, 1)\n",
        "#         datos_escalados = np.append(datos_escalados[:, 1:, :], nueva_entrada, axis=1)\n",
        "\n",
        "#     return np.array(predicciones)\n"
      ]
    },
    {
      "cell_type": "code",
      "execution_count": null,
      "metadata": {
        "id": "4yH7l_k9JM5f"
      },
      "outputs": [],
      "source": [
        "\n",
        "# # Ejemplo de uso:\n",
        "# id_item = 13887  # Reemplaza con tu id_item específico\n",
        "# input_length = 24  # Este es el valor que usaste para entrenar tu modelo\n",
        "# output_length = 5  # Los 5 días que quieres predecir\n",
        "\n",
        "# # Realizar las predicciones\n",
        "# predicciones_5_dias = preparar_datos_para_prediccion(df3, id_item, input_length, output_length, scaler_cargado, modelo_cargado)\n",
        "\n",
        "# print(\"Predicciones para los próximos 5 días:\", predicciones_5_dias)"
      ]
    },
    {
      "cell_type": "markdown",
      "metadata": {
        "id": "vwqPscfVomH1"
      },
      "source": [
        "# CARGAR MODELO 2"
      ]
    },
    {
      "cell_type": "code",
      "execution_count": null,
      "metadata": {
        "id": "y_evkIyfolc5"
      },
      "outputs": [],
      "source": [
        "# from tensorflow.keras.models import load_model\n",
        "# from datetime import timedelta\n",
        "\n",
        "\n",
        "# # Cargar el modelo guardado en formato Keras\n",
        "# modelo_cargado = load_model('modelo_ventas_insulina.keras', custom_objects={'root_mean_squared_error': root_mean_squared_error})\n",
        "\n",
        "# # Ahora puedes usar el modelo cargado para hacer predicciones\n",
        "# # Por ejemplo, utilizando el mismo código que tenías antes para predecir futuros valores\n",
        "# def predecir(x, model, scaler):\n",
        "#     '''Genera la predicción de OUTPUT_LENGTH instantes\n",
        "#     de tiempo a futuro con el modelo entrenado.\n",
        "\n",
        "#     Entrada:\n",
        "#     - x: batch (o batches) de datos para ingresar al modelo\n",
        "#       (tamaño: BATCHES X INPUT_LENGTH X FEATURES)\n",
        "#     - model: Red LSTM entrenada\n",
        "#     - scaler: escalador (requerido para llevar la predicción a la escala original)\n",
        "\n",
        "#     Salida:\n",
        "#     - y_pred: la predicción en la escala original (tamaño: BATCHES X OUTPUT_LENGTH X FEATURES)\n",
        "#     '''\n",
        "\n",
        "#     # Calcular predicción escalada en el rango de -1 a 1\n",
        "#     y_pred_s = model.predict(x, verbose=0)\n",
        "\n",
        "#     # Llevar la predicción a la escala original\n",
        "#     y_pred = scaler.inverse_transform(y_pred_s)\n",
        "\n",
        "#     return y_pred.flatten()\n",
        "\n",
        "# # Obtener la última fecha del conjunto de datos\n",
        "# ultima_fecha = df.index[-1]\n",
        "\n",
        "# # Generar un rango de fechas futuras\n",
        "# num_predicciones = 4  # Número de días a predecir\n",
        "# fechas_futuras = [ultima_fecha + timedelta(days=i) for i in range(1, num_predicciones + 1)]\n",
        "\n",
        "# # Preparar el último segmento del conjunto de datos de entrada desde el conjunto de test\n",
        "# ultimo_segmento = ts[-INPUT_LENGTH:].values\n",
        "# ultimo_segmento = ultimo_segmento.reshape((1, INPUT_LENGTH, 1))\n",
        "\n",
        "# # Obtener las predicciones futuras usando el modelo cargado\n",
        "# predicciones_futuras = []\n",
        "# segmento_actual = ultimo_segmento\n",
        "\n",
        "# for _ in range(num_predicciones):\n",
        "#     prediccion = predecir(segmento_actual, modelo_cargado, scaler_cargado)\n",
        "#     predicciones_futuras.append(prediccion[0])\n",
        "\n",
        "#     # Actualizar el segmento actual\n",
        "#     nuevo_valor = np.array(prediccion[0]).reshape(1, 1, 1)\n",
        "#     segmento_actual = np.append(segmento_actual[:, 1:, :], nuevo_valor, axis=1)\n",
        "\n",
        "\n",
        "# # Crear un DataFrame con las predicciones futuras y sus fechas\n",
        "# resultados_futuros = pd.DataFrame({\n",
        "#     'Fecha': fechas_futuras,\n",
        "#     'Predicción': predicciones_futuras\n",
        "# })\n",
        "\n",
        "\n",
        "# resultados_futuros"
      ]
    },
    {
      "cell_type": "code",
      "execution_count": null,
      "metadata": {
        "id": "iceZb4SZMYHD"
      },
      "outputs": [],
      "source": [
        "# from tensorflow.keras.models import load_model\n",
        "# from datetime import timedelta\n",
        "# import pandas as pd\n",
        "# import numpy as np\n",
        "\n",
        "# def predecir_con_modelo(df, modelo, scaler, input_length, num_predicciones, id_item):\n",
        "#     \"\"\"\n",
        "#     Transforma un DataFrame y genera predicciones futuras utilizando un modelo LSTM cargado.\n",
        "\n",
        "#     Args:\n",
        "#     df (pd.DataFrame): DataFrame que contiene las columnas 'fecha', 'id_item', 'cantidad_frac'.\n",
        "#     modelo: Modelo LSTM cargado desde un archivo .keras.\n",
        "#     scaler: Objeto MinMaxScaler utilizado para escalar los datos.\n",
        "#     input_length (int): Número de registros que el modelo necesita como entrada.\n",
        "#     num_predicciones (int): Número de días a predecir.\n",
        "#     id_item (int/str): El ID del item para el cual se quieren hacer predicciones.\n",
        "\n",
        "#     Returns:\n",
        "#     pd.DataFrame: DataFrame con las fechas futuras y sus correspondientes predicciones.\n",
        "#     \"\"\"\n",
        "\n",
        "#     # Filtrar el DataFrame para el id_item deseado\n",
        "#     df_item = df[df['id_item'] == id_item].copy()\n",
        "\n",
        "#     # Obtener la última fecha del conjunto de datos\n",
        "#     ultima_fecha = df_item['Fecha'].max()\n",
        "\n",
        "#     # Asegúrate de que 'ultima_fecha' sea un objeto datetime\n",
        "#     if isinstance(ultima_fecha, str):\n",
        "#         # Si es una cadena, conviértela a datetime\n",
        "#         # (Asumiendo que el formato de fecha es 'YYYY-MM-DD')\n",
        "#         ultima_fecha = pd.to_datetime(ultima_fecha)\n",
        "\n",
        "#     # Generar un rango de fechas futuras\n",
        "#     fechas_futuras = [ultima_fecha + timedelta(days=i) for i in range(1, num_predicciones + 1)]\n",
        "\n",
        "\n",
        "#     # Preparar el último segmento del conjunto de datos de entrada\n",
        "#     ultimo_segmento = df_item['cantidad_frac'].values[-input_length:]\n",
        "#     ultimo_segmento = ultimo_segmento.reshape((1, input_length, 1))\n",
        "\n",
        "#     # Escalar el último segmento\n",
        "#     ultimo_segmento_escalado = np.zeros((input_length, scaler.n_features_in_))\n",
        "#     ultimo_segmento_escalado[:, 0] = ultimo_segmento[:, 0, 0]\n",
        "#     ultimo_segmento_escalado = scaler.transform(ultimo_segmento_escalado)\n",
        "#     segmento_actual = ultimo_segmento_escalado[:, 0].reshape(1, input_length, 1)\n",
        "\n",
        "#     # Obtener las predicciones futuras usando el modelo cargado\n",
        "#     predicciones_futuras = []\n",
        "\n",
        "#     for _ in range(num_predicciones):\n",
        "#         prediccion = modelo.predict(segmento_actual, verbose=0)\n",
        "\n",
        "#         # Desescalar la predicción\n",
        "#         prediccion_expandidas = np.zeros((prediccion.shape[0], scaler.n_features_in_))\n",
        "#         prediccion_expandidas[:, 0] = prediccion[:, 0]\n",
        "#         prediccion_invertida = scaler.inverse_transform(prediccion_expandidas)\n",
        "\n",
        "#         # Agregar la primera columna a las predicciones finales\n",
        "#         predicciones_futuras.append(prediccion_invertida[0, 0])\n",
        "\n",
        "#         # Actualizar el segmento actual\n",
        "#         nuevo_valor = prediccion[0, 0].reshape(1, 1, 1)\n",
        "#         segmento_actual = np.append(segmento_actual[:, 1:, :], nuevo_valor, axis=1)\n",
        "\n",
        "#     # Crear un DataFrame con las predicciones futuras y sus fechas\n",
        "#     resultados_futuros = pd.DataFrame({\n",
        "#         'Fecha': fechas_futuras,\n",
        "#         'Predicción': predicciones_futuras\n",
        "#     })\n",
        "\n",
        "#     return resultados_futuros\n",
        "\n",
        "# # Ejemplo de uso:\n",
        "# #df = pd.read_csv('tu_archivo.csv')  # Reemplaza con tu archivo de datos\n",
        "# input_length = 24  # Este es el valor que usaste para entrenar tu modelo\n",
        "# num_predicciones = 4  # Número de días a predecir\n",
        "# id_item =13887  # Reemplaza con tu id_item específico\n",
        "\n",
        "# # Cargar el modelo guardado en formato Keras\n",
        "# modelo_cargado = load_model('modelo_ventas_insulina.keras', custom_objects={'root_mean_squared_error': root_mean_squared_error})\n",
        "\n",
        "# # Generar las predicciones usando la función\n",
        "# resultados_futuros = predecir_con_modelo(df3, modelo_cargado, scaler, input_length, num_predicciones, id_item)\n",
        "\n",
        "# print(resultados_futuros)\n"
      ]
    },
    {
      "cell_type": "code",
      "execution_count": null,
      "metadata": {
        "id": "5XXvMBRLrJsO"
      },
      "outputs": [],
      "source": [
        "# print(\"Número de dimensiones:\", resultados_futuros.ndim)\n",
        "# print(\"Forma del arreglo:\", resultados_futuros.shape)\n",
        "# print(\"Número total de elementos:\", resultados_futuros.size)"
      ]
    },
    {
      "cell_type": "markdown",
      "metadata": {
        "id": "Go1RGDjbYito"
      },
      "source": [
        "# DESEMPEÑO DEL MODELO"
      ]
    },
    {
      "cell_type": "code",
      "execution_count": null,
      "metadata": {
        "colab": {
          "base_uri": "https://localhost:8080/"
        },
        "id": "wKCSkx7kYgbp",
        "outputId": "7a5e9f8f-8be0-447b-a617-e75f407d7659"
      },
      "outputs": [
        {
          "name": "stdout",
          "output_type": "stream",
          "text": [
            "Comparativo desempeños sin Dropout:\n",
            "  RMSE train:\t 0.343\n",
            "  RMSE val:\t 0.299\n",
            "  RMSE test:\t 0.346\n"
          ]
        }
      ],
      "source": [
        "# Cálculo de rmses para train, val y test\n",
        "rmse_tr = modelo_sin_dropout.evaluate(x=x_tr_s, y=y_tr_s, verbose=0)\n",
        "rmse_vl = modelo_sin_dropout.evaluate(x=x_vl_s, y=y_vl_s, verbose=0)\n",
        "rmse_ts = modelo_sin_dropout.evaluate(x=x_ts_s, y=y_ts_s, verbose=0)\n",
        "\n",
        "# Imprimir resultados en pantalla\n",
        "print('Comparativo desempeños sin Dropout:')\n",
        "print(f'  RMSE train:\\t {rmse_tr:.3f}')\n",
        "print(f'  RMSE val:\\t {rmse_vl:.3f}')\n",
        "print(f'  RMSE test:\\t {rmse_ts:.3f}')"
      ]
    },
    {
      "cell_type": "markdown",
      "metadata": {
        "id": "6S8R6dH9jCfB"
      },
      "source": [
        "Los desempeños son comparables lo cual quiere decir que el modelo generaliza bastante bien."
      ]
    },
    {
      "cell_type": "code",
      "execution_count": null,
      "metadata": {
        "colab": {
          "base_uri": "https://localhost:8080/",
          "height": 450
        },
        "id": "pBu3jEd2zAjV",
        "outputId": "fbd9632e-f8fd-4e38-9c4c-1d94dfb3da2a"
      },
      "outputs": [
        {
          "data": {
            "image/png": "[encoded data removed]",
            "text/plain": [
              "<Figure size 640x480 with 1 Axes>"
            ]
          },
          "metadata": {},
          "output_type": "display_data"
        }
      ],
      "source": [
        "# 1. Generar las predicciones sobre el set de prueba\n",
        "y_ts_pred_s = modelo.predict(x_ts_s, verbose=0)\n",
        "\n",
        "# 2. Realizar la transformación inversa de las predicciones para llevar sus\n",
        "# valores a la escala original\n",
        "y_ts_pred = scaler.inverse_transform(y_ts_pred_s)\n",
        "\n",
        "# 3. Calcular RMSE para cada instante de tiempo predicho\n",
        "diff_cuad = np.square(y_ts.squeeze()-y_ts_pred) # 284x5\n",
        "proms = np.mean(diff_cuad, axis=0) # 1x5\n",
        "rmse = np.sqrt(proms) # 1x5\n",
        "\n",
        "# Graficar rmse para cada timestep\n",
        "t = np.linspace(1,5,5) # Changed to match the length of rmse\n",
        "\n",
        "fig, ax = plt.subplots()\n",
        "ax.scatter(t,rmse)\n",
        "ax.set_xlabel('Día predicho')\n",
        "ax.set_ylabel('Error RMSE ')\n",
        "plt.xticks(ticks=t, labels=t)\n",
        "plt.grid();"
      ]
    },
    {
      "cell_type": "code",
      "execution_count": null,
      "metadata": {
        "id": "AaDUoZTA0pV1"
      },
      "outputs": [],
      "source": [
        "def predecir(x, model, scaler):\n",
        "    '''Genera la predicción de OUTPUT_LENGTH instantes\n",
        "    de tiempo a futuro con el modelo entrenado.\n",
        "\n",
        "    Entrada:\n",
        "    - x: batch (o batches) de datos para ingresar al modelo\n",
        "      (tamaño: BATCHES X INPUT_LENGTH X FEATURES)\n",
        "    - model: Red LSTM entrenada\n",
        "    - scaler: escalador (requerido para llevar la predicción a la escala original)\n",
        "\n",
        "    Salida:\n",
        "    - y_pred: la predicción en la escala original (tamaño: BATCHES X OUTPUT_LENGTH X FEATURES)\n",
        "    '''\n",
        "\n",
        "    # Calcular predicción escalada en el rango de -1 a 1\n",
        "    y_pred_s = model.predict(x,verbose=0)\n",
        "\n",
        "    # Llevar la predicción a la escala original\n",
        "    y_pred = scaler.inverse_transform(y_pred_s)\n",
        "\n",
        "    return y_pred.flatten()"
      ]
    },
    {
      "cell_type": "code",
      "execution_count": null,
      "metadata": {
        "id": "nDFcSjGY0qsS"
      },
      "outputs": [],
      "source": [
        "# Calcular predicciones sobre el set de prueba\n",
        "y_ts_pred = predecir(x_ts_s, modelo_sin_dropout, scaler)"
      ]
    },
    {
      "cell_type": "code",
      "execution_count": null,
      "metadata": {
        "colab": {
          "base_uri": "https://localhost:8080/",
          "height": 430
        },
        "id": "TlVB-YJp0qm0",
        "outputId": "f35103d8-cace-4318-984f-2f9cc1d55456"
      },
      "outputs": [
        {
          "data": {
            "image/png": "[encoded data removed]",
            "text/plain": [
              "<Figure size 640x480 with 1 Axes>"
            ]
          },
          "metadata": {},
          "output_type": "display_data"
        }
      ],
      "source": [
        "N = len(y_ts_pred)    # Número de predicciones\n",
        "ndato = np.linspace(1,N,N)\n",
        "\n",
        "# Cálculo de errores simples\n",
        "errores = y_ts.flatten()-y_ts_pred\n",
        "plt.plot(errores);"
      ]
    },
    {
      "cell_type": "code",
      "execution_count": null,
      "metadata": {
        "id": "85RfAwGKfd9b"
      },
      "outputs": [],
      "source": [
        "\n",
        "# # Obtener la última fecha del conjunto de datos\n",
        "# ultima_fecha = df.index[-1]\n",
        "\n",
        "# # Generar un rango de fechas futuras\n",
        "# num_predicciones = 5  # Número de días a predecir\n",
        "# fechas_futuras = [ultima_fecha + timedelta(days=i) for i in range(1, num_predicciones + 1)]\n",
        "\n",
        "# # Preparar el último segmento del conjunto de datos de entrada desde el conjunto de test\n",
        "# ultimo_segmento = ts[-INPUT_LENGTH:].values\n",
        "# ultimo_segmento = ultimo_segmento.reshape((1, INPUT_LENGTH, 1))\n",
        "\n",
        "# # Obtener las predicciones futuras\n",
        "# predicciones_futuras = []\n",
        "# segmento_actual = ultimo_segmento.copy()  # Create a copy to avoid modifying the original\n",
        "\n",
        "# for _ in range(num_predicciones):\n",
        "#     prediccion = predecir(segmento_actual, modelo, scaler)\n",
        "#     predicciones_futuras.append(prediccion[0])\n",
        "\n",
        "#     # Actualizar el segmento actual - Instead of appending and slicing,\n",
        "#     # shift the values and insert the new prediction at the end\n",
        "#     segmento_actual = np.roll(segmento_actual, -1, axis=1)\n",
        "#     segmento_actual[0,-1,0] = prediccion[0]\n",
        "\n",
        "# # Crear un DataFrame con las predicciones futuras y sus fechas\n",
        "# resultados_futuros = pd.DataFrame({\n",
        "#     'Fecha': fechas_futuras,\n",
        "#     'Predicción': predicciones_futuras\n",
        "# })\n",
        "\n",
        "# resultados_futuros.set_index('Fecha', inplace=True)\n"
      ]
    },
    {
      "cell_type": "code",
      "execution_count": null,
      "metadata": {
        "colab": {
          "base_uri": "https://localhost:8080/",
          "height": 158
        },
        "id": "OgO017cko6F1",
        "outputId": "1a3f12ab-c8e7-4d25-94b0-868ed8aa6cf8"
      },
      "outputs": [
        {
          "ename": "NameError",
          "evalue": "name 'resultados_futuros' is not defined",
          "output_type": "error",
          "traceback": [
            "\u001b[0;31m---------------------------------------------------------------------------\u001b[0m",
            "\u001b[0;31mNameError\u001b[0m                                 Traceback (most recent call last)",
            "\u001b[0;32m<ipython-input-46-d1978b064d2e>\u001b[0m in \u001b[0;36m<cell line: 2>\u001b[0;34m()\u001b[0m\n\u001b[1;32m      1\u001b[0m \u001b[0;31m# Mostrar los resultados futuros\u001b[0m\u001b[0;34m\u001b[0m\u001b[0;34m\u001b[0m\u001b[0m\n\u001b[0;32m----> 2\u001b[0;31m \u001b[0mprint\u001b[0m\u001b[0;34m(\u001b[0m\u001b[0mresultados_futuros\u001b[0m\u001b[0;34m)\u001b[0m\u001b[0;34m\u001b[0m\u001b[0;34m\u001b[0m\u001b[0m\n\u001b[0m",
            "\u001b[0;31mNameError\u001b[0m: name 'resultados_futuros' is not defined"
          ]
        }
      ],
      "source": [
        "# Mostrar los resultados futuros\n",
        "print(resultados_futuros)"
      ]
    }
  ],
  "metadata": {
    "accelerator": "GPU",
    "colab": {
      "collapsed_sections": [
        "ucRLLNXnK1ZA",
        "wKZvFSShSXxr"
      ],
      "gpuType": "T4",
      "provenance": []
    },
    "kernelspec": {
      "display_name": "Python 3",
      "name": "python3"
    },
    "language_info": {
      "codemirror_mode": {
        "name": "ipython",
        "version": 3
      },
      "file_extension": ".py",
      "mimetype": "text/x-python",
      "name": "python",
      "nbconvert_exporter": "python",
      "pygments_lexer": "ipython3",
      "version": "3.8.18"
    }
  },
  "nbformat": 4,
  "nbformat_minor": 0
}
