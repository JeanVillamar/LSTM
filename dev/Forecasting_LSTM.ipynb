{
  "cells": [
    {
      "cell_type": "markdown",
      "metadata": {
        "id": "nSO5WF14g-Sp"
      },
      "source": [
        "# *FORECASTING* CON REDES LSTM - PARTE 1: PREPARACIÓN DE LOS DATOS"
      ]
    },
    {
      "cell_type": "markdown",
      "metadata": {
        "id": "Am94BXzEg-Sq"
      },
      "source": [
        "## Contenido\n",
        "\n",
        "1. [Introducción]\n",
        "2. [El set de datos]\n",
        "3. [El problema a resolver]\n",
        "4. [Lectura del set de datos]\n",
        "5. [Procesamiento inicial del dataset]\n",
        "6. [Análisis exploratorio]\n",
        "7. [Pre-procesamiento]\n",
        "8. [Conclusión]"
      ]
    },
    {
      "cell_type": "markdown",
      "metadata": {
        "id": "pBfAmqbIg-Sq"
      },
      "source": [
        "## 1. Lectura del set de datos"
      ]
    },
    {
      "cell_type": "code",
      "execution_count": 52,
      "metadata": {
        "colab": {
          "base_uri": "https://localhost:8080/",
          "height": 223
        },
        "id": "Dh2uWAOPg-Sr",
        "outputId": "f295f22a-4ead-46ed-f706-a95743f16e17"
      },
      "outputs": [
        {
          "data": {
            "text/html": [
              "<div>\n",
              "<style scoped>\n",
              "    .dataframe tbody tr th:only-of-type {\n",
              "        vertical-align: middle;\n",
              "    }\n",
              "\n",
              "    .dataframe tbody tr th {\n",
              "        vertical-align: top;\n",
              "    }\n",
              "\n",
              "    .dataframe thead th {\n",
              "        text-align: right;\n",
              "    }\n",
              "</style>\n",
              "<table border=\"1\" class=\"dataframe\">\n",
              "  <thead>\n",
              "    <tr style=\"text-align: right;\">\n",
              "      <th></th>\n",
              "      <th>Fecha</th>\n",
              "      <th>Codigo</th>\n",
              "      <th>POS</th>\n",
              "      <th>id_item</th>\n",
              "      <th>Descripcion_larga</th>\n",
              "      <th>cantidad_unid</th>\n",
              "      <th>cantidad_frac</th>\n",
              "      <th>latitud</th>\n",
              "      <th>longitud</th>\n",
              "      <th>provincia</th>\n",
              "    </tr>\n",
              "  </thead>\n",
              "  <tbody>\n",
              "    <tr>\n",
              "      <th>0</th>\n",
              "      <td>7/1/2016 18:49</td>\n",
              "      <td>PG009</td>\n",
              "      <td>PH GYE PUERTO AZUL</td>\n",
              "      <td>13887</td>\n",
              "      <td>JERINGA MEGA INSUL 1MLx29Gx1/2x100</td>\n",
              "      <td>0</td>\n",
              "      <td>1</td>\n",
              "      <td>-2.187093496</td>\n",
              "      <td>-79.96705627</td>\n",
              "      <td>Guayas</td>\n",
              "    </tr>\n",
              "    <tr>\n",
              "      <th>1</th>\n",
              "      <td>10/1/2016 18:27</td>\n",
              "      <td>CO017</td>\n",
              "      <td>CA STA SUCRE Y ELOY ALFAR</td>\n",
              "      <td>13887</td>\n",
              "      <td>JERINGA MEGA INSUL 1MLx29Gx1/2x100</td>\n",
              "      <td>0</td>\n",
              "      <td>2</td>\n",
              "      <td>-3.44791</td>\n",
              "      <td>-79.96053</td>\n",
              "      <td>El Oro</td>\n",
              "    </tr>\n",
              "    <tr>\n",
              "      <th>2</th>\n",
              "      <td>11/1/2016 15:12</td>\n",
              "      <td>PP007</td>\n",
              "      <td>PH UIO FLORIDA</td>\n",
              "      <td>13887</td>\n",
              "      <td>JERINGA MEGA INSUL 1MLx29Gx1/2x100</td>\n",
              "      <td>0</td>\n",
              "      <td>6</td>\n",
              "      <td>-0.141401</td>\n",
              "      <td>-78.492718</td>\n",
              "      <td>Pichincha</td>\n",
              "    </tr>\n",
              "    <tr>\n",
              "      <th>3</th>\n",
              "      <td>16/1/2016 10:21</td>\n",
              "      <td>PG009</td>\n",
              "      <td>PH GYE PUERTO AZUL</td>\n",
              "      <td>13887</td>\n",
              "      <td>JERINGA MEGA INSUL 1MLx29Gx1/2x100</td>\n",
              "      <td>0</td>\n",
              "      <td>3</td>\n",
              "      <td>-2.187093496</td>\n",
              "      <td>-79.96705627</td>\n",
              "      <td>Guayas</td>\n",
              "    </tr>\n",
              "    <tr>\n",
              "      <th>4</th>\n",
              "      <td>12/1/2016 18:53</td>\n",
              "      <td>PP007</td>\n",
              "      <td>PH UIO FLORIDA</td>\n",
              "      <td>13887</td>\n",
              "      <td>JERINGA MEGA INSUL 1MLx29Gx1/2x100</td>\n",
              "      <td>0</td>\n",
              "      <td>2</td>\n",
              "      <td>-0.141401</td>\n",
              "      <td>-78.492718</td>\n",
              "      <td>Pichincha</td>\n",
              "    </tr>\n",
              "  </tbody>\n",
              "</table>\n",
              "</div>"
            ],
            "text/plain": [
              "             Fecha Codigo                        POS  id_item  \\\n",
              "0   7/1/2016 18:49  PG009         PH GYE PUERTO AZUL    13887   \n",
              "1  10/1/2016 18:27  CO017  CA STA SUCRE Y ELOY ALFAR    13887   \n",
              "2  11/1/2016 15:12  PP007             PH UIO FLORIDA    13887   \n",
              "3  16/1/2016 10:21  PG009         PH GYE PUERTO AZUL    13887   \n",
              "4  12/1/2016 18:53  PP007             PH UIO FLORIDA    13887   \n",
              "\n",
              "                    Descripcion_larga  cantidad_unid  cantidad_frac  \\\n",
              "0  JERINGA MEGA INSUL 1MLx29Gx1/2x100              0              1   \n",
              "1  JERINGA MEGA INSUL 1MLx29Gx1/2x100              0              2   \n",
              "2  JERINGA MEGA INSUL 1MLx29Gx1/2x100              0              6   \n",
              "3  JERINGA MEGA INSUL 1MLx29Gx1/2x100              0              3   \n",
              "4  JERINGA MEGA INSUL 1MLx29Gx1/2x100              0              2   \n",
              "\n",
              "        latitud      longitud  provincia  \n",
              "0  -2.187093496  -79.96705627     Guayas  \n",
              "1      -3.44791     -79.96053     El Oro  \n",
              "2     -0.141401    -78.492718  Pichincha  \n",
              "3  -2.187093496  -79.96705627     Guayas  \n",
              "4     -0.141401    -78.492718  Pichincha  "
            ]
          },
          "execution_count": 52,
          "metadata": {},
          "output_type": "execute_result"
        }
      ],
      "source": [
        "#from google.colab import drive\n",
        "import pandas as pd \n",
        "import matplotlib.pyplot as plt\n",
        "import numpy as np\n",
        "\n",
        "# Montar Google Drive\n",
        "#drive.mount('/gdrive')\n",
        "\n",
        "# Leer set de datos\n",
        "ruta = './'\n",
        "datos = pd.read_csv(ruta+'Ventas_Total2.csv', delimiter=';')\n",
        "#datos = pd.read_csv(ruta+'Ventas_SENSODYNEBLANQ_2016_2024.csv', delimiter=';')\n",
        "#datos = pd.read_csv(ruta+'Ventas_XARELTO_2016_2024.csv', delimiter=';')\n",
        "\n",
        "datos.head()\n",
        "\n"
      ]
    },
    {
      "cell_type": "code",
      "execution_count": 53,
      "metadata": {},
      "outputs": [],
      "source": [
        "# datos.rename(columns={'cantidad': 'cantidad_frac'}, inplace=True)\n",
        "# datos.head()\n",
        "idItem = 88275"
      ]
    },
    {
      "cell_type": "markdown",
      "metadata": {
        "id": "pAWkO-x2g-Ss"
      },
      "source": [
        "## 2. Procesamiento inicial del dataset"
      ]
    },
    {
      "cell_type": "code",
      "execution_count": 54,
      "metadata": {
        "id": "_pbAFnPK8CpM"
      },
      "outputs": [],
      "source": [
        "# Suponiendo que df es tu DataFrame original y quieres seleccionar solo ciertas columnas\n",
        "columnas_especificas = ['Fecha', 'id_item', 'cantidad_unid','cantidad_frac']\n",
        "datos = datos[columnas_especificas]\n",
        "datos = datos[datos['id_item'] == idItem]\n"
      ]
    },
    {
      "cell_type": "code",
      "execution_count": 55,
      "metadata": {
        "id": "elKLa4oQZM8Z"
      },
      "outputs": [],
      "source": [
        "def validar_y_actualizar(fila):\n",
        "    if  fila[\"cantidad_unid\"] >= 1:\n",
        "        if (fila['id_item'] == 13887): #JERINGA MEGA INSUL 1MLx29Gx1/2x100\n",
        "          fila[\"cantidad_frac\"] += 100 * int(fila[\"cantidad_unid\"])\n",
        "          #datos = datos = datos.rename(columns={'cantidad_unid': 'cantidad_frac'})\n",
        "          #fila[\"cantidad_unid\"] = 0\n",
        "        elif fila['id_item'] in {90765, 79680, 27112, 1669, 101609, 13480}: #x'unidad  \n",
        "          fila[\"cantidad_frac\"] += int(fila[\"cantidad_unid\"])\n",
        "\n",
        "        elif(fila['id_item'] == 54122): #XARELTO COM-RECx10MGx10\n",
        "          fila[\"cantidad_frac\"] += 10 * int(fila[\"cantidad_unid\"])\n",
        "        \n",
        "        elif(fila['id_item'] == 88275): #MICARDIX\n",
        "           fila['cantidad_frac'] += 28 * int(fila[\"cantidad_unid\"])  \n",
        "\n",
        "    return fila\n",
        "\n",
        "\n",
        "# Aplicar la función a cada fila\n",
        "datos = datos.apply(validar_y_actualizar, axis=1)\n",
        "datos = datos.drop(columns = [\"cantidad_unid\"])"
      ]
    },
    {
      "cell_type": "markdown",
      "metadata": {
        "id": "MroaROOZctAI"
      },
      "source": [
        "### 2.1 Manipulación de fechas"
      ]
    },
    {
      "cell_type": "code",
      "execution_count": 56,
      "metadata": {
        "colab": {
          "base_uri": "https://localhost:8080/"
        },
        "id": "v4_Hg2rOg-Ss",
        "outputId": "d3a3bbc0-3a94-497f-d288-e150959b837c"
      },
      "outputs": [
        {
          "data": {
            "text/plain": [
              "dtype('O')"
            ]
          },
          "execution_count": 56,
          "metadata": {},
          "output_type": "execute_result"
        }
      ],
      "source": [
        "# verificar que el tipo de dato es object 'O'\n",
        "datos[\"Fecha\"].dtype"
      ]
    },
    {
      "cell_type": "code",
      "execution_count": 57,
      "metadata": {
        "id": "utieDtbEg-St"
      },
      "outputs": [],
      "source": [
        "# Pasar la columna de Fecha al formato datetime\n",
        "datos['Fecha'] = pd.to_datetime(datos['Fecha'], format='%d/%m/%Y %H:%M')\n",
        "# Establecer la hora y el minuto a 0\n",
        "datos['Fecha'] = datos['Fecha'].apply(lambda dt: dt.replace(hour=0, minute=0, second=0))\n",
        "datos = datos.groupby(['Fecha', 'id_item'], as_index= False).sum()\n",
        "# Ordenemos el dataset de forma ascendente según \"fecha\"\n",
        "datos.sort_index(inplace=False)\n",
        "datos.set_index('Fecha', inplace= True)\n",
        "df = datos\n"
      ]
    },
    {
      "cell_type": "code",
      "execution_count": 58,
      "metadata": {
        "colab": {
          "base_uri": "https://localhost:8080/",
          "height": 237
        },
        "id": "ATmUwVMmNzGA",
        "outputId": "6adb6e31-6a15-4bfb-96e1-cf39f6df3a18"
      },
      "outputs": [
        {
          "data": {
            "text/html": [
              "<div>\n",
              "<style scoped>\n",
              "    .dataframe tbody tr th:only-of-type {\n",
              "        vertical-align: middle;\n",
              "    }\n",
              "\n",
              "    .dataframe tbody tr th {\n",
              "        vertical-align: top;\n",
              "    }\n",
              "\n",
              "    .dataframe thead th {\n",
              "        text-align: right;\n",
              "    }\n",
              "</style>\n",
              "<table border=\"1\" class=\"dataframe\">\n",
              "  <thead>\n",
              "    <tr style=\"text-align: right;\">\n",
              "      <th></th>\n",
              "      <th>id_item</th>\n",
              "      <th>cantidad_frac</th>\n",
              "    </tr>\n",
              "    <tr>\n",
              "      <th>Fecha</th>\n",
              "      <th></th>\n",
              "      <th></th>\n",
              "    </tr>\n",
              "  </thead>\n",
              "  <tbody>\n",
              "    <tr>\n",
              "      <th>2016-01-01</th>\n",
              "      <td>88275</td>\n",
              "      <td>352</td>\n",
              "    </tr>\n",
              "    <tr>\n",
              "      <th>2016-01-02</th>\n",
              "      <td>88275</td>\n",
              "      <td>957</td>\n",
              "    </tr>\n",
              "    <tr>\n",
              "      <th>2016-01-03</th>\n",
              "      <td>88275</td>\n",
              "      <td>781</td>\n",
              "    </tr>\n",
              "    <tr>\n",
              "      <th>2016-01-04</th>\n",
              "      <td>88275</td>\n",
              "      <td>1321</td>\n",
              "    </tr>\n",
              "    <tr>\n",
              "      <th>2016-01-05</th>\n",
              "      <td>88275</td>\n",
              "      <td>1194</td>\n",
              "    </tr>\n",
              "  </tbody>\n",
              "</table>\n",
              "</div>"
            ],
            "text/plain": [
              "            id_item  cantidad_frac\n",
              "Fecha                             \n",
              "2016-01-01    88275            352\n",
              "2016-01-02    88275            957\n",
              "2016-01-03    88275            781\n",
              "2016-01-04    88275           1321\n",
              "2016-01-05    88275           1194"
            ]
          },
          "execution_count": 58,
          "metadata": {},
          "output_type": "execute_result"
        }
      ],
      "source": [
        "df.head()\n"
      ]
    },
    {
      "cell_type": "markdown",
      "metadata": {
        "id": "_cOy3GuHP6nr"
      },
      "source": [
        "## 3. Pre-procesamiento"
      ]
    },
    {
      "cell_type": "markdown",
      "metadata": {
        "id": "gcoxFaWKQFRC"
      },
      "source": [
        "**Se tiene 6 variables**\n",
        "- *Fecha*: Fecha de compra del producto\n",
        "- *codigo*: codigo de la farmacia donde se compro el producto\n",
        "- *POS*: nombre de la farmacia\n",
        "- *id_item*: codigo del producto\n",
        "- *Descripcion_larga*: nombre del producto\n",
        "- *cantidad_uni*: cantidad de producto comprada\n",
        "\n",
        "\n",
        "**Tendremos dos tipos de variables al momento de implementar los modelos LSTM:**\n",
        "- Variable a predecir: la variable a pronosticar (salida del modelo LSTM). En este caso es *cantidad_unid*\n",
        "\n",
        "- Variables predictoras (o covariables): las variables de entrada al modelo LSTM a partir de las cuales se realizará la predicción.\n",
        "  - Puede incluir la variable a predecir (*cantidad_unid*)\n",
        "  - Puede incluir la variable tiempo (columna *Fecha*)\n",
        "\n",
        "\n",
        "---\n",
        "\n"
      ]
    },
    {
      "cell_type": "code",
      "execution_count": 59,
      "metadata": {
        "colab": {
          "base_uri": "https://localhost:8080/",
          "height": 390
        },
        "id": "LI_gNC25pfq6",
        "outputId": "89a51241-3774-4971-e580-2f35fa62b6ee"
      },
      "outputs": [
        {
          "data": {
            "image/png": "[encoded data removed]",
            "text/plain": [
              "<Figure size 800x400 with 1 Axes>"
            ]
          },
          "metadata": {},
          "output_type": "display_data"
        }
      ],
      "source": [
        "df['cantidad_frac'].plot(kind='line', figsize=(8, 4), title='cantidad_frac')\n",
        "plt.gca().spines[['top', 'right']].set_visible(False)"
      ]
    },
    {
      "cell_type": "markdown",
      "metadata": {
        "id": "3iMCDY-XVMAf"
      },
      "source": [
        "**Observaciones:**\n",
        "Al parecer hay varios outliers, en específico el que está a mediados del año 2022. Otro punto a considerar es que no se encuentran registros del año 2021 por motivos de pandemia es un año que se presta a valores atipicos.\n",
        "\n",
        "\n",
        "---\n",
        "\n"
      ]
    },
    {
      "cell_type": "code",
      "execution_count": 60,
      "metadata": {
        "colab": {
          "base_uri": "https://localhost:8080/"
        },
        "id": "d-jH4-zKg-St",
        "outputId": "4082aab2-7865-4fac-9b12-0a9b014bdeea"
      },
      "outputs": [
        {
          "name": "stdout",
          "output_type": "stream",
          "text": [
            "Cantidad de NaNs:\n",
            "\tColumna id_item: 0\n",
            "\tColumna cantidad_frac: 0\n"
          ]
        }
      ],
      "source": [
        "# verficar datos faltantes\n",
        "print('Cantidad de NaNs:')\n",
        "for column in df:\n",
        "    nans = df[column].isna().sum()\n",
        "\n",
        "    print(f'\\tColumna {column}: {nans}')"
      ]
    },
    {
      "cell_type": "markdown",
      "metadata": {
        "id": "09RH-piIg-St"
      },
      "source": [
        "garantizar que la periodicidad de las muestras es exactamente de 1 día:"
      ]
    },
    {
      "cell_type": "code",
      "execution_count": 61,
      "metadata": {
        "colab": {
          "base_uri": "https://localhost:8080/"
        },
        "id": "Fi8zH-5dg-St",
        "outputId": "f279b51f-288e-4a97-db6d-9f9faad0a92d"
      },
      "outputs": [
        {
          "name": "stdout",
          "output_type": "stream",
          "text": [
            "Fecha\n",
            "1.0    3108\n",
            "2.0       8\n",
            "Name: count, dtype: int64\n"
          ]
        }
      ],
      "source": [
        "# Convertir el índice a fecha y hora si aún no lo está\n",
        "df.index = pd.to_datetime(df.index)\n",
        "\n",
        "# Calcular diferencias (en días) entre cada par de datos consecutivos\n",
        "df_time_diffs = df.index.to_series().diff().dt.days\n",
        "\n",
        "# Contar las ocurrencias de cada diferencia\n",
        "print(df_time_diffs.value_counts())"
      ]
    },
    {
      "cell_type": "markdown",
      "metadata": {
        "id": "ceVlCcRog-St"
      },
      "source": [
        "\n",
        "Por lo tanto vemos que:\n",
        "\n",
        "- hay 2178 pares de registro con una diferencia de 1 día.\n",
        "- hay 4 pares de registro con una diferencia de 2 días.\n",
        "- hay 1 par de registros con una diferencia de 368 días. (la fecha de pandemia)"
      ]
    },
    {
      "cell_type": "code",
      "execution_count": 62,
      "metadata": {
        "colab": {
          "base_uri": "https://localhost:8080/",
          "height": 912
        },
        "id": "Iy-8NIJtg-Su",
        "outputId": "5a76fb2b-93c5-4c30-ca20-3e4df1d3e76b"
      },
      "outputs": [
        {
          "data": {
            "image/png": "[encoded data removed]",
            "text/plain": [
              "<Figure size 1600x1200 with 2 Axes>"
            ]
          },
          "metadata": {},
          "output_type": "display_data"
        }
      ],
      "source": [
        "# Dibujemos nuestras variables\n",
        "cols = df.columns\n",
        "\n",
        "# N = 24*30*12 # Dibujar 1 año continuo\n",
        "N = df.shape[0]\n",
        "plots = df[cols][0:N]\n",
        "plots.index = df.index[0:N]\n",
        "_ = plots.plot(subplots=True, figsize=(16,12))"
      ]
    },
    {
      "cell_type": "markdown",
      "metadata": {
        "id": "Hso0szYNs9zl"
      },
      "source": [
        "No hay datos faltantes\n",
        "Pero debemos mejorar la perioricidad del dataset"
      ]
    },
    {
      "cell_type": "markdown",
      "metadata": {
        "id": "wpDqTjF2tjUP"
      },
      "source": [
        "### 3.1. Ajuste de la periodicidad del dataset\n"
      ]
    },
    {
      "cell_type": "code",
      "execution_count": 63,
      "metadata": {},
      "outputs": [],
      "source": [
        "df = df[(df['id_item'] != 0)]"
      ]
    },
    {
      "cell_type": "code",
      "execution_count": 64,
      "metadata": {},
      "outputs": [
        {
          "name": "stdout",
          "output_type": "stream",
          "text": [
            "Fecha\n",
            "1.0    3124\n",
            "Name: count, dtype: int64\n"
          ]
        }
      ],
      "source": [
        "# Reinterpolar el dataset con una periodicidad de 1 día\n",
        "#df2 = df.asfreq(freq='D', method='bfill')\n",
        "#df2 = df.asfreq(freq='D', method='ffill')\n",
        "df2 = df.asfreq(freq='D', fill_value=0)\n",
        "\n",
        "\n",
        "# Y verificar que la totalidad del dataset tiene esta periodicidad\n",
        "df_time_diffs = df2.index.to_series().diff().dt.days\n",
        "print(df_time_diffs.value_counts())"
      ]
    },
    {
      "cell_type": "code",
      "execution_count": 65,
      "metadata": {
        "id": "vgYjbHNhb_eH"
      },
      "outputs": [],
      "source": [
        "# # Función para eliminar outliers y reemplazarlos por el valor promedio\n",
        "# def eliminar_outliers(df, columnas):\n",
        "#     for columna in columnas:\n",
        "#         Q1 = df[columna].quantile(0.25)\n",
        "#         Q3 = df[columna].quantile(0.75)\n",
        "#         IQR = Q3 - Q1\n",
        "#         limite_inferior = Q1 - 1.5 * IQR\n",
        "#         limite_superior = Q3 + 1.5 * IQR\n",
        "\n",
        "#         # Calcular el promedio sin outliers\n",
        "#         promedio_sin_outliers = df[(df[columna] >= limite_inferior) & (df[columna] <= limite_superior)][columna].mean()\n",
        "\n",
        "#         # Reemplazar los outliers por el promedio\n",
        "#         df[columna] = df[columna].apply(lambda x: promedio_sin_outliers if (x < limite_inferior or x > limite_superior) else x)\n",
        "\n",
        "#     return df\n",
        "\n",
        "# #Seleccionar las columnas que deseas procesar\n",
        "# columnas_a_procesar = ['cantidad_frac']  # Ajusta según tus necesidades\n",
        "\n",
        "# # Aplicar la función\n",
        "# df2 = eliminar_outliers(df2, columnas_a_procesar)\n",
        "\n",
        "\n"
      ]
    },
    {
      "cell_type": "code",
      "execution_count": null,
      "metadata": {
        "colab": {
          "base_uri": "https://localhost:8080/"
        },
        "id": "26NFDOBCg-Su",
        "outputId": "eacd9a5a-3700-4994-d35d-7ca01441d01f"
      },
      "outputs": [],
      "source": []
    },
    {
      "cell_type": "code",
      "execution_count": 66,
      "metadata": {
        "colab": {
          "base_uri": "https://localhost:8080/"
        },
        "id": "dyFT263ig-Su",
        "outputId": "aac33e3c-3b72-4b5b-959a-4fbda83dd99e"
      },
      "outputs": [
        {
          "name": "stdout",
          "output_type": "stream",
          "text": [
            "Cantidad de NaNs:\n",
            "\tColumna id_item: 0\n",
            "\tColumna cantidad_frac: 0\n"
          ]
        }
      ],
      "source": [
        "# Verificar que el dataset resultante no contiene NaNs:\n",
        "print('Cantidad de NaNs:')\n",
        "for column in df:\n",
        "    nans = df2[column].isna().sum()\n",
        "    print(f'\\tColumna {column}: {nans}')"
      ]
    },
    {
      "cell_type": "code",
      "execution_count": 67,
      "metadata": {
        "colab": {
          "base_uri": "https://localhost:8080/"
        },
        "id": "YNVDaZtQg-Su",
        "outputId": "a98ca301-f96e-47cf-932d-296ecf6fbd26"
      },
      "outputs": [
        {
          "name": "stdout",
          "output_type": "stream",
          "text": [
            "Promedios original/modificado: 88049.02/88049.02\n",
            "Promedios original/modificado: 1507.24/1507.24\n"
          ]
        }
      ],
      "source": [
        "# Y finalmente verificar las columnas originales y modificadas\n",
        "# para constatar que los valores promedio no cambian\n",
        "\n",
        "for column in df:\n",
        "  # Verificar si la columna actual es de tipo flotante\n",
        "  if pd.api.types.is_numeric_dtype(df2[column]):\n",
        "    # Calcular y imprimir promedios solo para columnas flotantes\n",
        "    print(f'Promedios original/modificado: {df2[column].mean():.2f}/{df2[column].mean():.2f}')\n"
      ]
    },
    {
      "cell_type": "markdown",
      "metadata": {
        "id": "ZeAAHRLU5clc"
      },
      "source": [
        "### En este punto ya contamos con un dataset íntegro (no contiene datos faltantes ni *outliers* y tiene una periodicidad de 1 día).\n",
        "---\n",
        "\n"
      ]
    },
    {
      "cell_type": "markdown",
      "metadata": {},
      "source": [
        "# EXTRA"
      ]
    },
    {
      "cell_type": "code",
      "execution_count": 68,
      "metadata": {},
      "outputs": [],
      "source": [
        "df2 = df2.reset_index()\n",
        "df2 = df2.drop(columns=['id_item'])"
      ]
    },
    {
      "cell_type": "code",
      "execution_count": 69,
      "metadata": {},
      "outputs": [],
      "source": [
        "df3 = df2"
      ]
    },
    {
      "cell_type": "markdown",
      "metadata": {},
      "source": [
        "### caso1 por día"
      ]
    },
    {
      "cell_type": "code",
      "execution_count": 70,
      "metadata": {},
      "outputs": [
        {
          "data": {
            "text/html": [
              "<div>\n",
              "<style scoped>\n",
              "    .dataframe tbody tr th:only-of-type {\n",
              "        vertical-align: middle;\n",
              "    }\n",
              "\n",
              "    .dataframe tbody tr th {\n",
              "        vertical-align: top;\n",
              "    }\n",
              "\n",
              "    .dataframe thead th {\n",
              "        text-align: right;\n",
              "    }\n",
              "</style>\n",
              "<table border=\"1\" class=\"dataframe\">\n",
              "  <thead>\n",
              "    <tr style=\"text-align: right;\">\n",
              "      <th></th>\n",
              "      <th>Fecha</th>\n",
              "      <th>cantidad_frac</th>\n",
              "    </tr>\n",
              "  </thead>\n",
              "  <tbody>\n",
              "    <tr>\n",
              "      <th>0</th>\n",
              "      <td>2016-01-01</td>\n",
              "      <td>352</td>\n",
              "    </tr>\n",
              "    <tr>\n",
              "      <th>1</th>\n",
              "      <td>2016-01-02</td>\n",
              "      <td>957</td>\n",
              "    </tr>\n",
              "    <tr>\n",
              "      <th>2</th>\n",
              "      <td>2016-01-03</td>\n",
              "      <td>781</td>\n",
              "    </tr>\n",
              "    <tr>\n",
              "      <th>3</th>\n",
              "      <td>2016-01-04</td>\n",
              "      <td>1321</td>\n",
              "    </tr>\n",
              "    <tr>\n",
              "      <th>4</th>\n",
              "      <td>2016-01-05</td>\n",
              "      <td>1194</td>\n",
              "    </tr>\n",
              "    <tr>\n",
              "      <th>...</th>\n",
              "      <td>...</td>\n",
              "      <td>...</td>\n",
              "    </tr>\n",
              "    <tr>\n",
              "      <th>3120</th>\n",
              "      <td>2024-07-17</td>\n",
              "      <td>1171</td>\n",
              "    </tr>\n",
              "    <tr>\n",
              "      <th>3121</th>\n",
              "      <td>2024-07-18</td>\n",
              "      <td>1495</td>\n",
              "    </tr>\n",
              "    <tr>\n",
              "      <th>3122</th>\n",
              "      <td>2024-07-19</td>\n",
              "      <td>3421</td>\n",
              "    </tr>\n",
              "    <tr>\n",
              "      <th>3123</th>\n",
              "      <td>2024-07-20</td>\n",
              "      <td>1382</td>\n",
              "    </tr>\n",
              "    <tr>\n",
              "      <th>3124</th>\n",
              "      <td>2024-07-21</td>\n",
              "      <td>1135</td>\n",
              "    </tr>\n",
              "  </tbody>\n",
              "</table>\n",
              "<p>3125 rows × 2 columns</p>\n",
              "</div>"
            ],
            "text/plain": [
              "          Fecha  cantidad_frac\n",
              "0    2016-01-01            352\n",
              "1    2016-01-02            957\n",
              "2    2016-01-03            781\n",
              "3    2016-01-04           1321\n",
              "4    2016-01-05           1194\n",
              "...         ...            ...\n",
              "3120 2024-07-17           1171\n",
              "3121 2024-07-18           1495\n",
              "3122 2024-07-19           3421\n",
              "3123 2024-07-20           1382\n",
              "3124 2024-07-21           1135\n",
              "\n",
              "[3125 rows x 2 columns]"
            ]
          },
          "execution_count": 70,
          "metadata": {},
          "output_type": "execute_result"
        }
      ],
      "source": [
        "df_sales = df3.groupby('Fecha').cantidad_frac.sum().reset_index()\n",
        "df_sales"
      ]
    },
    {
      "cell_type": "markdown",
      "metadata": {},
      "source": [
        "### caso2 por mes"
      ]
    },
    {
      "cell_type": "code",
      "execution_count": 71,
      "metadata": {},
      "outputs": [],
      "source": [
        "#represent month in date field as its first day\n",
        "df_sales['Fecha'] = df_sales['Fecha'].dt.year.astype('str') + '-' + df_sales['Fecha'].dt.month.astype('str') + '-01'\n",
        "df_sales['Fecha'] = pd.to_datetime(df_sales['Fecha'])\n",
        "#groupby date and sum the sales\n",
        "df_sales = df_sales.groupby('Fecha').cantidad_frac.sum().reset_index()"
      ]
    },
    {
      "cell_type": "code",
      "execution_count": 72,
      "metadata": {},
      "outputs": [],
      "source": [
        "import plotly.graph_objs as go\n",
        "from plotly.offline import iplot, init_notebook_mode\n",
        "from tensorflow.keras.models import Sequential\n",
        "\n"
      ]
    },
    {
      "cell_type": "code",
      "execution_count": 73,
      "metadata": {},
      "outputs": [
        {
          "data": {
            "text/html": [
              "        <script type=\"text/javascript\">\n",
              "        window.PlotlyConfig = {MathJaxConfig: 'local'};\n",
              "        if (window.MathJax && window.MathJax.Hub && window.MathJax.Hub.Config) {window.MathJax.Hub.Config({SVG: {font: \"STIX-Web\"}});}\n",
              "        if (typeof require !== 'undefined') {\n",
              "        require.undef(\"plotly\");\n",
              "        requirejs.config({\n",
              "            paths: {\n",
              "                'plotly': ['https://cdn.plot.ly/plotly-2.34.0.min']\n",
              "            }\n",
              "        });\n",
              "        require(['plotly'], function(Plotly) {\n",
              "            window._Plotly = Plotly;\n",
              "        });\n",
              "        }\n",
              "        </script>\n",
              "        "
            ]
          },
          "metadata": {},
          "output_type": "display_data"
        }
      ],
      "source": [
        "init_notebook_mode(connected=True)"
      ]
    },
    {
      "cell_type": "code",
      "execution_count": 74,
      "metadata": {},
      "outputs": [
        {
          "data": {
            "application/vnd.plotly.v1+json": {
              "config": {
                "linkText": "Export to plot.ly",
                "plotlyServerURL": "https://plot.ly",
                "showLink": false
              },
              "data": [
                {
                  "type": "scatter",
                  "x": [
                    "2016-01-01T00:00:00",
                    "2016-02-01T00:00:00",
                    "2016-03-01T00:00:00",
                    "2016-04-01T00:00:00",
                    "2016-05-01T00:00:00",
                    "2016-06-01T00:00:00",
                    "2016-07-01T00:00:00",
                    "2016-08-01T00:00:00",
                    "2016-09-01T00:00:00",
                    "2016-10-01T00:00:00",
                    "2016-11-01T00:00:00",
                    "2016-12-01T00:00:00",
                    "2017-01-01T00:00:00",
                    "2017-02-01T00:00:00",
                    "2017-03-01T00:00:00",
                    "2017-04-01T00:00:00",
                    "2017-05-01T00:00:00",
                    "2017-06-01T00:00:00",
                    "2017-07-01T00:00:00",
                    "2017-08-01T00:00:00",
                    "2017-09-01T00:00:00",
                    "2017-10-01T00:00:00",
                    "2017-11-01T00:00:00",
                    "2017-12-01T00:00:00",
                    "2018-01-01T00:00:00",
                    "2018-02-01T00:00:00",
                    "2018-03-01T00:00:00",
                    "2018-04-01T00:00:00",
                    "2018-05-01T00:00:00",
                    "2018-06-01T00:00:00",
                    "2018-07-01T00:00:00",
                    "2018-08-01T00:00:00",
                    "2018-09-01T00:00:00",
                    "2018-10-01T00:00:00",
                    "2018-11-01T00:00:00",
                    "2018-12-01T00:00:00",
                    "2019-01-01T00:00:00",
                    "2019-02-01T00:00:00",
                    "2019-03-01T00:00:00",
                    "2019-04-01T00:00:00",
                    "2019-05-01T00:00:00",
                    "2019-06-01T00:00:00",
                    "2019-07-01T00:00:00",
                    "2019-08-01T00:00:00",
                    "2019-09-01T00:00:00",
                    "2019-10-01T00:00:00",
                    "2019-11-01T00:00:00",
                    "2019-12-01T00:00:00",
                    "2020-01-01T00:00:00",
                    "2020-02-01T00:00:00",
                    "2020-03-01T00:00:00",
                    "2020-04-01T00:00:00",
                    "2020-05-01T00:00:00",
                    "2020-06-01T00:00:00",
                    "2020-07-01T00:00:00",
                    "2020-08-01T00:00:00",
                    "2020-09-01T00:00:00",
                    "2020-10-01T00:00:00",
                    "2020-11-01T00:00:00",
                    "2020-12-01T00:00:00",
                    "2021-01-01T00:00:00",
                    "2021-02-01T00:00:00",
                    "2021-03-01T00:00:00",
                    "2021-04-01T00:00:00",
                    "2021-05-01T00:00:00",
                    "2021-06-01T00:00:00",
                    "2021-07-01T00:00:00",
                    "2021-08-01T00:00:00",
                    "2021-09-01T00:00:00",
                    "2021-10-01T00:00:00",
                    "2021-11-01T00:00:00",
                    "2021-12-01T00:00:00",
                    "2022-01-01T00:00:00",
                    "2022-02-01T00:00:00",
                    "2022-03-01T00:00:00",
                    "2022-04-01T00:00:00",
                    "2022-05-01T00:00:00",
                    "2022-06-01T00:00:00",
                    "2022-07-01T00:00:00",
                    "2022-08-01T00:00:00",
                    "2022-09-01T00:00:00",
                    "2022-10-01T00:00:00",
                    "2022-11-01T00:00:00",
                    "2022-12-01T00:00:00",
                    "2023-01-01T00:00:00",
                    "2023-02-01T00:00:00",
                    "2023-03-01T00:00:00",
                    "2023-04-01T00:00:00",
                    "2023-05-01T00:00:00",
                    "2023-06-01T00:00:00",
                    "2023-07-01T00:00:00",
                    "2023-08-01T00:00:00",
                    "2023-09-01T00:00:00",
                    "2023-10-01T00:00:00",
                    "2023-11-01T00:00:00",
                    "2023-12-01T00:00:00",
                    "2024-01-01T00:00:00",
                    "2024-02-01T00:00:00",
                    "2024-03-01T00:00:00",
                    "2024-04-01T00:00:00",
                    "2024-05-01T00:00:00",
                    "2024-06-01T00:00:00",
                    "2024-07-01T00:00:00"
                  ],
                  "y": [
                    41356,
                    40025,
                    44235,
                    46206,
                    44647,
                    44188,
                    42968,
                    50543,
                    44349,
                    47219,
                    44131,
                    45640,
                    44682,
                    41804,
                    46910,
                    42908,
                    46953,
                    45197,
                    44625,
                    44045,
                    47827,
                    45326,
                    46698,
                    49076,
                    49813,
                    47159,
                    51759,
                    50456,
                    51968,
                    47225,
                    49723,
                    50117,
                    45315,
                    48532,
                    45927,
                    46561,
                    46967,
                    44755,
                    48122,
                    46332,
                    48540,
                    45212,
                    46172,
                    46064,
                    44294,
                    46335,
                    41604,
                    43336,
                    46071,
                    42451,
                    54142,
                    44551,
                    41925,
                    42446,
                    47680,
                    45945,
                    44718,
                    48253,
                    43753,
                    42160,
                    44646,
                    40351,
                    47393,
                    46060,
                    44444,
                    45129,
                    49100,
                    47321,
                    43184,
                    47147,
                    44941,
                    45197,
                    44376,
                    43921,
                    44300,
                    44058,
                    43188,
                    40322,
                    39823,
                    42224,
                    40730,
                    41347,
                    43406,
                    44932,
                    49285,
                    43578,
                    52167,
                    49802,
                    50927,
                    34572,
                    24974,
                    44631,
                    45901,
                    47123,
                    46780,
                    51780,
                    52540,
                    47791,
                    54436,
                    53976,
                    53314,
                    52965,
                    38105
                  ]
                }
              ],
              "layout": {
                "template": {
                  "data": {
                    "bar": [
                      {
                        "error_x": {
                          "color": "#2a3f5f"
                        },
                        "error_y": {
                          "color": "#2a3f5f"
                        },
                        "marker": {
                          "line": {
                            "color": "#E5ECF6",
                            "width": 0.5
                          },
                          "pattern": {
                            "fillmode": "overlay",
                            "size": 10,
                            "solidity": 0.2
                          }
                        },
                        "type": "bar"
                      }
                    ],
                    "barpolar": [
                      {
                        "marker": {
                          "line": {
                            "color": "#E5ECF6",
                            "width": 0.5
                          },
                          "pattern": {
                            "fillmode": "overlay",
                            "size": 10,
                            "solidity": 0.2
                          }
                        },
                        "type": "barpolar"
                      }
                    ],
                    "carpet": [
                      {
                        "aaxis": {
                          "endlinecolor": "#2a3f5f",
                          "gridcolor": "white",
                          "linecolor": "white",
                          "minorgridcolor": "white",
                          "startlinecolor": "#2a3f5f"
                        },
                        "baxis": {
                          "endlinecolor": "#2a3f5f",
                          "gridcolor": "white",
                          "linecolor": "white",
                          "minorgridcolor": "white",
                          "startlinecolor": "#2a3f5f"
                        },
                        "type": "carpet"
                      }
                    ],
                    "choropleth": [
                      {
                        "colorbar": {
                          "outlinewidth": 0,
                          "ticks": ""
                        },
                        "type": "choropleth"
                      }
                    ],
                    "contour": [
                      {
                        "colorbar": {
                          "outlinewidth": 0,
                          "ticks": ""
                        },
                        "colorscale": [
                          [
                            0,
                            "#0d0887"
                          ],
                          [
                            0.1111111111111111,
                            "#46039f"
                          ],
                          [
                            0.2222222222222222,
                            "#7201a8"
                          ],
                          [
                            0.3333333333333333,
                            "#9c179e"
                          ],
                          [
                            0.4444444444444444,
                            "#bd3786"
                          ],
                          [
                            0.5555555555555556,
                            "#d8576b"
                          ],
                          [
                            0.6666666666666666,
                            "#ed7953"
                          ],
                          [
                            0.7777777777777778,
                            "#fb9f3a"
                          ],
                          [
                            0.8888888888888888,
                            "#fdca26"
                          ],
                          [
                            1,
                            "#f0f921"
                          ]
                        ],
                        "type": "contour"
                      }
                    ],
                    "contourcarpet": [
                      {
                        "colorbar": {
                          "outlinewidth": 0,
                          "ticks": ""
                        },
                        "type": "contourcarpet"
                      }
                    ],
                    "heatmap": [
                      {
                        "colorbar": {
                          "outlinewidth": 0,
                          "ticks": ""
                        },
                        "colorscale": [
                          [
                            0,
                            "#0d0887"
                          ],
                          [
                            0.1111111111111111,
                            "#46039f"
                          ],
                          [
                            0.2222222222222222,
                            "#7201a8"
                          ],
                          [
                            0.3333333333333333,
                            "#9c179e"
                          ],
                          [
                            0.4444444444444444,
                            "#bd3786"
                          ],
                          [
                            0.5555555555555556,
                            "#d8576b"
                          ],
                          [
                            0.6666666666666666,
                            "#ed7953"
                          ],
                          [
                            0.7777777777777778,
                            "#fb9f3a"
                          ],
                          [
                            0.8888888888888888,
                            "#fdca26"
                          ],
                          [
                            1,
                            "#f0f921"
                          ]
                        ],
                        "type": "heatmap"
                      }
                    ],
                    "heatmapgl": [
                      {
                        "colorbar": {
                          "outlinewidth": 0,
                          "ticks": ""
                        },
                        "colorscale": [
                          [
                            0,
                            "#0d0887"
                          ],
                          [
                            0.1111111111111111,
                            "#46039f"
                          ],
                          [
                            0.2222222222222222,
                            "#7201a8"
                          ],
                          [
                            0.3333333333333333,
                            "#9c179e"
                          ],
                          [
                            0.4444444444444444,
                            "#bd3786"
                          ],
                          [
                            0.5555555555555556,
                            "#d8576b"
                          ],
                          [
                            0.6666666666666666,
                            "#ed7953"
                          ],
                          [
                            0.7777777777777778,
                            "#fb9f3a"
                          ],
                          [
                            0.8888888888888888,
                            "#fdca26"
                          ],
                          [
                            1,
                            "#f0f921"
                          ]
                        ],
                        "type": "heatmapgl"
                      }
                    ],
                    "histogram": [
                      {
                        "marker": {
                          "pattern": {
                            "fillmode": "overlay",
                            "size": 10,
                            "solidity": 0.2
                          }
                        },
                        "type": "histogram"
                      }
                    ],
                    "histogram2d": [
                      {
                        "colorbar": {
                          "outlinewidth": 0,
                          "ticks": ""
                        },
                        "colorscale": [
                          [
                            0,
                            "#0d0887"
                          ],
                          [
                            0.1111111111111111,
                            "#46039f"
                          ],
                          [
                            0.2222222222222222,
                            "#7201a8"
                          ],
                          [
                            0.3333333333333333,
                            "#9c179e"
                          ],
                          [
                            0.4444444444444444,
                            "#bd3786"
                          ],
                          [
                            0.5555555555555556,
                            "#d8576b"
                          ],
                          [
                            0.6666666666666666,
                            "#ed7953"
                          ],
                          [
                            0.7777777777777778,
                            "#fb9f3a"
                          ],
                          [
                            0.8888888888888888,
                            "#fdca26"
                          ],
                          [
                            1,
                            "#f0f921"
                          ]
                        ],
                        "type": "histogram2d"
                      }
                    ],
                    "histogram2dcontour": [
                      {
                        "colorbar": {
                          "outlinewidth": 0,
                          "ticks": ""
                        },
                        "colorscale": [
                          [
                            0,
                            "#0d0887"
                          ],
                          [
                            0.1111111111111111,
                            "#46039f"
                          ],
                          [
                            0.2222222222222222,
                            "#7201a8"
                          ],
                          [
                            0.3333333333333333,
                            "#9c179e"
                          ],
                          [
                            0.4444444444444444,
                            "#bd3786"
                          ],
                          [
                            0.5555555555555556,
                            "#d8576b"
                          ],
                          [
                            0.6666666666666666,
                            "#ed7953"
                          ],
                          [
                            0.7777777777777778,
                            "#fb9f3a"
                          ],
                          [
                            0.8888888888888888,
                            "#fdca26"
                          ],
                          [
                            1,
                            "#f0f921"
                          ]
                        ],
                        "type": "histogram2dcontour"
                      }
                    ],
                    "mesh3d": [
                      {
                        "colorbar": {
                          "outlinewidth": 0,
                          "ticks": ""
                        },
                        "type": "mesh3d"
                      }
                    ],
                    "parcoords": [
                      {
                        "line": {
                          "colorbar": {
                            "outlinewidth": 0,
                            "ticks": ""
                          }
                        },
                        "type": "parcoords"
                      }
                    ],
                    "pie": [
                      {
                        "automargin": true,
                        "type": "pie"
                      }
                    ],
                    "scatter": [
                      {
                        "fillpattern": {
                          "fillmode": "overlay",
                          "size": 10,
                          "solidity": 0.2
                        },
                        "type": "scatter"
                      }
                    ],
                    "scatter3d": [
                      {
                        "line": {
                          "colorbar": {
                            "outlinewidth": 0,
                            "ticks": ""
                          }
                        },
                        "marker": {
                          "colorbar": {
                            "outlinewidth": 0,
                            "ticks": ""
                          }
                        },
                        "type": "scatter3d"
                      }
                    ],
                    "scattercarpet": [
                      {
                        "marker": {
                          "colorbar": {
                            "outlinewidth": 0,
                            "ticks": ""
                          }
                        },
                        "type": "scattercarpet"
                      }
                    ],
                    "scattergeo": [
                      {
                        "marker": {
                          "colorbar": {
                            "outlinewidth": 0,
                            "ticks": ""
                          }
                        },
                        "type": "scattergeo"
                      }
                    ],
                    "scattergl": [
                      {
                        "marker": {
                          "colorbar": {
                            "outlinewidth": 0,
                            "ticks": ""
                          }
                        },
                        "type": "scattergl"
                      }
                    ],
                    "scattermapbox": [
                      {
                        "marker": {
                          "colorbar": {
                            "outlinewidth": 0,
                            "ticks": ""
                          }
                        },
                        "type": "scattermapbox"
                      }
                    ],
                    "scatterpolar": [
                      {
                        "marker": {
                          "colorbar": {
                            "outlinewidth": 0,
                            "ticks": ""
                          }
                        },
                        "type": "scatterpolar"
                      }
                    ],
                    "scatterpolargl": [
                      {
                        "marker": {
                          "colorbar": {
                            "outlinewidth": 0,
                            "ticks": ""
                          }
                        },
                        "type": "scatterpolargl"
                      }
                    ],
                    "scatterternary": [
                      {
                        "marker": {
                          "colorbar": {
                            "outlinewidth": 0,
                            "ticks": ""
                          }
                        },
                        "type": "scatterternary"
                      }
                    ],
                    "surface": [
                      {
                        "colorbar": {
                          "outlinewidth": 0,
                          "ticks": ""
                        },
                        "colorscale": [
                          [
                            0,
                            "#0d0887"
                          ],
                          [
                            0.1111111111111111,
                            "#46039f"
                          ],
                          [
                            0.2222222222222222,
                            "#7201a8"
                          ],
                          [
                            0.3333333333333333,
                            "#9c179e"
                          ],
                          [
                            0.4444444444444444,
                            "#bd3786"
                          ],
                          [
                            0.5555555555555556,
                            "#d8576b"
                          ],
                          [
                            0.6666666666666666,
                            "#ed7953"
                          ],
                          [
                            0.7777777777777778,
                            "#fb9f3a"
                          ],
                          [
                            0.8888888888888888,
                            "#fdca26"
                          ],
                          [
                            1,
                            "#f0f921"
                          ]
                        ],
                        "type": "surface"
                      }
                    ],
                    "table": [
                      {
                        "cells": {
                          "fill": {
                            "color": "#EBF0F8"
                          },
                          "line": {
                            "color": "white"
                          }
                        },
                        "header": {
                          "fill": {
                            "color": "#C8D4E3"
                          },
                          "line": {
                            "color": "white"
                          }
                        },
                        "type": "table"
                      }
                    ]
                  },
                  "layout": {
                    "annotationdefaults": {
                      "arrowcolor": "#2a3f5f",
                      "arrowhead": 0,
                      "arrowwidth": 1
                    },
                    "autotypenumbers": "strict",
                    "coloraxis": {
                      "colorbar": {
                        "outlinewidth": 0,
                        "ticks": ""
                      }
                    },
                    "colorscale": {
                      "diverging": [
                        [
                          0,
                          "#8e0152"
                        ],
                        [
                          0.1,
                          "#c51b7d"
                        ],
                        [
                          0.2,
                          "#de77ae"
                        ],
                        [
                          0.3,
                          "#f1b6da"
                        ],
                        [
                          0.4,
                          "#fde0ef"
                        ],
                        [
                          0.5,
                          "#f7f7f7"
                        ],
                        [
                          0.6,
                          "#e6f5d0"
                        ],
                        [
                          0.7,
                          "#b8e186"
                        ],
                        [
                          0.8,
                          "#7fbc41"
                        ],
                        [
                          0.9,
                          "#4d9221"
                        ],
                        [
                          1,
                          "#276419"
                        ]
                      ],
                      "sequential": [
                        [
                          0,
                          "#0d0887"
                        ],
                        [
                          0.1111111111111111,
                          "#46039f"
                        ],
                        [
                          0.2222222222222222,
                          "#7201a8"
                        ],
                        [
                          0.3333333333333333,
                          "#9c179e"
                        ],
                        [
                          0.4444444444444444,
                          "#bd3786"
                        ],
                        [
                          0.5555555555555556,
                          "#d8576b"
                        ],
                        [
                          0.6666666666666666,
                          "#ed7953"
                        ],
                        [
                          0.7777777777777778,
                          "#fb9f3a"
                        ],
                        [
                          0.8888888888888888,
                          "#fdca26"
                        ],
                        [
                          1,
                          "#f0f921"
                        ]
                      ],
                      "sequentialminus": [
                        [
                          0,
                          "#0d0887"
                        ],
                        [
                          0.1111111111111111,
                          "#46039f"
                        ],
                        [
                          0.2222222222222222,
                          "#7201a8"
                        ],
                        [
                          0.3333333333333333,
                          "#9c179e"
                        ],
                        [
                          0.4444444444444444,
                          "#bd3786"
                        ],
                        [
                          0.5555555555555556,
                          "#d8576b"
                        ],
                        [
                          0.6666666666666666,
                          "#ed7953"
                        ],
                        [
                          0.7777777777777778,
                          "#fb9f3a"
                        ],
                        [
                          0.8888888888888888,
                          "#fdca26"
                        ],
                        [
                          1,
                          "#f0f921"
                        ]
                      ]
                    },
                    "colorway": [
                      "#636efa",
                      "#EF553B",
                      "#00cc96",
                      "#ab63fa",
                      "#FFA15A",
                      "#19d3f3",
                      "#FF6692",
                      "#B6E880",
                      "#FF97FF",
                      "#FECB52"
                    ],
                    "font": {
                      "color": "#2a3f5f"
                    },
                    "geo": {
                      "bgcolor": "white",
                      "lakecolor": "white",
                      "landcolor": "#E5ECF6",
                      "showlakes": true,
                      "showland": true,
                      "subunitcolor": "white"
                    },
                    "hoverlabel": {
                      "align": "left"
                    },
                    "hovermode": "closest",
                    "mapbox": {
                      "style": "light"
                    },
                    "paper_bgcolor": "white",
                    "plot_bgcolor": "#E5ECF6",
                    "polar": {
                      "angularaxis": {
                        "gridcolor": "white",
                        "linecolor": "white",
                        "ticks": ""
                      },
                      "bgcolor": "#E5ECF6",
                      "radialaxis": {
                        "gridcolor": "white",
                        "linecolor": "white",
                        "ticks": ""
                      }
                    },
                    "scene": {
                      "xaxis": {
                        "backgroundcolor": "#E5ECF6",
                        "gridcolor": "white",
                        "gridwidth": 2,
                        "linecolor": "white",
                        "showbackground": true,
                        "ticks": "",
                        "zerolinecolor": "white"
                      },
                      "yaxis": {
                        "backgroundcolor": "#E5ECF6",
                        "gridcolor": "white",
                        "gridwidth": 2,
                        "linecolor": "white",
                        "showbackground": true,
                        "ticks": "",
                        "zerolinecolor": "white"
                      },
                      "zaxis": {
                        "backgroundcolor": "#E5ECF6",
                        "gridcolor": "white",
                        "gridwidth": 2,
                        "linecolor": "white",
                        "showbackground": true,
                        "ticks": "",
                        "zerolinecolor": "white"
                      }
                    },
                    "shapedefaults": {
                      "line": {
                        "color": "#2a3f5f"
                      }
                    },
                    "ternary": {
                      "aaxis": {
                        "gridcolor": "white",
                        "linecolor": "white",
                        "ticks": ""
                      },
                      "baxis": {
                        "gridcolor": "white",
                        "linecolor": "white",
                        "ticks": ""
                      },
                      "bgcolor": "#E5ECF6",
                      "caxis": {
                        "gridcolor": "white",
                        "linecolor": "white",
                        "ticks": ""
                      }
                    },
                    "title": {
                      "x": 0.05
                    },
                    "xaxis": {
                      "automargin": true,
                      "gridcolor": "white",
                      "linecolor": "white",
                      "ticks": "",
                      "title": {
                        "standoff": 15
                      },
                      "zerolinecolor": "white",
                      "zerolinewidth": 2
                    },
                    "yaxis": {
                      "automargin": true,
                      "gridcolor": "white",
                      "linecolor": "white",
                      "ticks": "",
                      "title": {
                        "standoff": 15
                      },
                      "zerolinecolor": "white",
                      "zerolinewidth": 2
                    }
                  }
                },
                "title": {
                  "text": "Monthly Sales"
                }
              }
            },
            "text/html": [
              "<div>                            <div id=\"06c0931e-2b37-481c-a678-54f1bc96064c\" class=\"plotly-graph-div\" style=\"height:525px; width:100%;\"></div>            <script type=\"text/javascript\">                require([\"plotly\"], function(Plotly) {                    window.PLOTLYENV=window.PLOTLYENV || {};                                    if (document.getElementById(\"06c0931e-2b37-481c-a678-54f1bc96064c\")) {                    Plotly.newPlot(                        \"06c0931e-2b37-481c-a678-54f1bc96064c\",                        [{\"x\":[\"2016-01-01T00:00:00\",\"2016-02-01T00:00:00\",\"2016-03-01T00:00:00\",\"2016-04-01T00:00:00\",\"2016-05-01T00:00:00\",\"2016-06-01T00:00:00\",\"2016-07-01T00:00:00\",\"2016-08-01T00:00:00\",\"2016-09-01T00:00:00\",\"2016-10-01T00:00:00\",\"2016-11-01T00:00:00\",\"2016-12-01T00:00:00\",\"2017-01-01T00:00:00\",\"2017-02-01T00:00:00\",\"2017-03-01T00:00:00\",\"2017-04-01T00:00:00\",\"2017-05-01T00:00:00\",\"2017-06-01T00:00:00\",\"2017-07-01T00:00:00\",\"2017-08-01T00:00:00\",\"2017-09-01T00:00:00\",\"2017-10-01T00:00:00\",\"2017-11-01T00:00:00\",\"2017-12-01T00:00:00\",\"2018-01-01T00:00:00\",\"2018-02-01T00:00:00\",\"2018-03-01T00:00:00\",\"2018-04-01T00:00:00\",\"2018-05-01T00:00:00\",\"2018-06-01T00:00:00\",\"2018-07-01T00:00:00\",\"2018-08-01T00:00:00\",\"2018-09-01T00:00:00\",\"2018-10-01T00:00:00\",\"2018-11-01T00:00:00\",\"2018-12-01T00:00:00\",\"2019-01-01T00:00:00\",\"2019-02-01T00:00:00\",\"2019-03-01T00:00:00\",\"2019-04-01T00:00:00\",\"2019-05-01T00:00:00\",\"2019-06-01T00:00:00\",\"2019-07-01T00:00:00\",\"2019-08-01T00:00:00\",\"2019-09-01T00:00:00\",\"2019-10-01T00:00:00\",\"2019-11-01T00:00:00\",\"2019-12-01T00:00:00\",\"2020-01-01T00:00:00\",\"2020-02-01T00:00:00\",\"2020-03-01T00:00:00\",\"2020-04-01T00:00:00\",\"2020-05-01T00:00:00\",\"2020-06-01T00:00:00\",\"2020-07-01T00:00:00\",\"2020-08-01T00:00:00\",\"2020-09-01T00:00:00\",\"2020-10-01T00:00:00\",\"2020-11-01T00:00:00\",\"2020-12-01T00:00:00\",\"2021-01-01T00:00:00\",\"2021-02-01T00:00:00\",\"2021-03-01T00:00:00\",\"2021-04-01T00:00:00\",\"2021-05-01T00:00:00\",\"2021-06-01T00:00:00\",\"2021-07-01T00:00:00\",\"2021-08-01T00:00:00\",\"2021-09-01T00:00:00\",\"2021-10-01T00:00:00\",\"2021-11-01T00:00:00\",\"2021-12-01T00:00:00\",\"2022-01-01T00:00:00\",\"2022-02-01T00:00:00\",\"2022-03-01T00:00:00\",\"2022-04-01T00:00:00\",\"2022-05-01T00:00:00\",\"2022-06-01T00:00:00\",\"2022-07-01T00:00:00\",\"2022-08-01T00:00:00\",\"2022-09-01T00:00:00\",\"2022-10-01T00:00:00\",\"2022-11-01T00:00:00\",\"2022-12-01T00:00:00\",\"2023-01-01T00:00:00\",\"2023-02-01T00:00:00\",\"2023-03-01T00:00:00\",\"2023-04-01T00:00:00\",\"2023-05-01T00:00:00\",\"2023-06-01T00:00:00\",\"2023-07-01T00:00:00\",\"2023-08-01T00:00:00\",\"2023-09-01T00:00:00\",\"2023-10-01T00:00:00\",\"2023-11-01T00:00:00\",\"2023-12-01T00:00:00\",\"2024-01-01T00:00:00\",\"2024-02-01T00:00:00\",\"2024-03-01T00:00:00\",\"2024-04-01T00:00:00\",\"2024-05-01T00:00:00\",\"2024-06-01T00:00:00\",\"2024-07-01T00:00:00\"],\"y\":[41356,40025,44235,46206,44647,44188,42968,50543,44349,47219,44131,45640,44682,41804,46910,42908,46953,45197,44625,44045,47827,45326,46698,49076,49813,47159,51759,50456,51968,47225,49723,50117,45315,48532,45927,46561,46967,44755,48122,46332,48540,45212,46172,46064,44294,46335,41604,43336,46071,42451,54142,44551,41925,42446,47680,45945,44718,48253,43753,42160,44646,40351,47393,46060,44444,45129,49100,47321,43184,47147,44941,45197,44376,43921,44300,44058,43188,40322,39823,42224,40730,41347,43406,44932,49285,43578,52167,49802,50927,34572,24974,44631,45901,47123,46780,51780,52540,47791,54436,53976,53314,52965,38105],\"type\":\"scatter\"}],                        {\"template\":{\"data\":{\"barpolar\":[{\"marker\":{\"line\":{\"color\":\"#E5ECF6\",\"width\":0.5},\"pattern\":{\"fillmode\":\"overlay\",\"size\":10,\"solidity\":0.2}},\"type\":\"barpolar\"}],\"bar\":[{\"error_x\":{\"color\":\"#2a3f5f\"},\"error_y\":{\"color\":\"#2a3f5f\"},\"marker\":{\"line\":{\"color\":\"#E5ECF6\",\"width\":0.5},\"pattern\":{\"fillmode\":\"overlay\",\"size\":10,\"solidity\":0.2}},\"type\":\"bar\"}],\"carpet\":[{\"aaxis\":{\"endlinecolor\":\"#2a3f5f\",\"gridcolor\":\"white\",\"linecolor\":\"white\",\"minorgridcolor\":\"white\",\"startlinecolor\":\"#2a3f5f\"},\"baxis\":{\"endlinecolor\":\"#2a3f5f\",\"gridcolor\":\"white\",\"linecolor\":\"white\",\"minorgridcolor\":\"white\",\"startlinecolor\":\"#2a3f5f\"},\"type\":\"carpet\"}],\"choropleth\":[{\"colorbar\":{\"outlinewidth\":0,\"ticks\":\"\"},\"type\":\"choropleth\"}],\"contourcarpet\":[{\"colorbar\":{\"outlinewidth\":0,\"ticks\":\"\"},\"type\":\"contourcarpet\"}],\"contour\":[{\"colorbar\":{\"outlinewidth\":0,\"ticks\":\"\"},\"colorscale\":[[0.0,\"#0d0887\"],[0.1111111111111111,\"#46039f\"],[0.2222222222222222,\"#7201a8\"],[0.3333333333333333,\"#9c179e\"],[0.4444444444444444,\"#bd3786\"],[0.5555555555555556,\"#d8576b\"],[0.6666666666666666,\"#ed7953\"],[0.7777777777777778,\"#fb9f3a\"],[0.8888888888888888,\"#fdca26\"],[1.0,\"#f0f921\"]],\"type\":\"contour\"}],\"heatmapgl\":[{\"colorbar\":{\"outlinewidth\":0,\"ticks\":\"\"},\"colorscale\":[[0.0,\"#0d0887\"],[0.1111111111111111,\"#46039f\"],[0.2222222222222222,\"#7201a8\"],[0.3333333333333333,\"#9c179e\"],[0.4444444444444444,\"#bd3786\"],[0.5555555555555556,\"#d8576b\"],[0.6666666666666666,\"#ed7953\"],[0.7777777777777778,\"#fb9f3a\"],[0.8888888888888888,\"#fdca26\"],[1.0,\"#f0f921\"]],\"type\":\"heatmapgl\"}],\"heatmap\":[{\"colorbar\":{\"outlinewidth\":0,\"ticks\":\"\"},\"colorscale\":[[0.0,\"#0d0887\"],[0.1111111111111111,\"#46039f\"],[0.2222222222222222,\"#7201a8\"],[0.3333333333333333,\"#9c179e\"],[0.4444444444444444,\"#bd3786\"],[0.5555555555555556,\"#d8576b\"],[0.6666666666666666,\"#ed7953\"],[0.7777777777777778,\"#fb9f3a\"],[0.8888888888888888,\"#fdca26\"],[1.0,\"#f0f921\"]],\"type\":\"heatmap\"}],\"histogram2dcontour\":[{\"colorbar\":{\"outlinewidth\":0,\"ticks\":\"\"},\"colorscale\":[[0.0,\"#0d0887\"],[0.1111111111111111,\"#46039f\"],[0.2222222222222222,\"#7201a8\"],[0.3333333333333333,\"#9c179e\"],[0.4444444444444444,\"#bd3786\"],[0.5555555555555556,\"#d8576b\"],[0.6666666666666666,\"#ed7953\"],[0.7777777777777778,\"#fb9f3a\"],[0.8888888888888888,\"#fdca26\"],[1.0,\"#f0f921\"]],\"type\":\"histogram2dcontour\"}],\"histogram2d\":[{\"colorbar\":{\"outlinewidth\":0,\"ticks\":\"\"},\"colorscale\":[[0.0,\"#0d0887\"],[0.1111111111111111,\"#46039f\"],[0.2222222222222222,\"#7201a8\"],[0.3333333333333333,\"#9c179e\"],[0.4444444444444444,\"#bd3786\"],[0.5555555555555556,\"#d8576b\"],[0.6666666666666666,\"#ed7953\"],[0.7777777777777778,\"#fb9f3a\"],[0.8888888888888888,\"#fdca26\"],[1.0,\"#f0f921\"]],\"type\":\"histogram2d\"}],\"histogram\":[{\"marker\":{\"pattern\":{\"fillmode\":\"overlay\",\"size\":10,\"solidity\":0.2}},\"type\":\"histogram\"}],\"mesh3d\":[{\"colorbar\":{\"outlinewidth\":0,\"ticks\":\"\"},\"type\":\"mesh3d\"}],\"parcoords\":[{\"line\":{\"colorbar\":{\"outlinewidth\":0,\"ticks\":\"\"}},\"type\":\"parcoords\"}],\"pie\":[{\"automargin\":true,\"type\":\"pie\"}],\"scatter3d\":[{\"line\":{\"colorbar\":{\"outlinewidth\":0,\"ticks\":\"\"}},\"marker\":{\"colorbar\":{\"outlinewidth\":0,\"ticks\":\"\"}},\"type\":\"scatter3d\"}],\"scattercarpet\":[{\"marker\":{\"colorbar\":{\"outlinewidth\":0,\"ticks\":\"\"}},\"type\":\"scattercarpet\"}],\"scattergeo\":[{\"marker\":{\"colorbar\":{\"outlinewidth\":0,\"ticks\":\"\"}},\"type\":\"scattergeo\"}],\"scattergl\":[{\"marker\":{\"colorbar\":{\"outlinewidth\":0,\"ticks\":\"\"}},\"type\":\"scattergl\"}],\"scattermapbox\":[{\"marker\":{\"colorbar\":{\"outlinewidth\":0,\"ticks\":\"\"}},\"type\":\"scattermapbox\"}],\"scatterpolargl\":[{\"marker\":{\"colorbar\":{\"outlinewidth\":0,\"ticks\":\"\"}},\"type\":\"scatterpolargl\"}],\"scatterpolar\":[{\"marker\":{\"colorbar\":{\"outlinewidth\":0,\"ticks\":\"\"}},\"type\":\"scatterpolar\"}],\"scatter\":[{\"fillpattern\":{\"fillmode\":\"overlay\",\"size\":10,\"solidity\":0.2},\"type\":\"scatter\"}],\"scatterternary\":[{\"marker\":{\"colorbar\":{\"outlinewidth\":0,\"ticks\":\"\"}},\"type\":\"scatterternary\"}],\"surface\":[{\"colorbar\":{\"outlinewidth\":0,\"ticks\":\"\"},\"colorscale\":[[0.0,\"#0d0887\"],[0.1111111111111111,\"#46039f\"],[0.2222222222222222,\"#7201a8\"],[0.3333333333333333,\"#9c179e\"],[0.4444444444444444,\"#bd3786\"],[0.5555555555555556,\"#d8576b\"],[0.6666666666666666,\"#ed7953\"],[0.7777777777777778,\"#fb9f3a\"],[0.8888888888888888,\"#fdca26\"],[1.0,\"#f0f921\"]],\"type\":\"surface\"}],\"table\":[{\"cells\":{\"fill\":{\"color\":\"#EBF0F8\"},\"line\":{\"color\":\"white\"}},\"header\":{\"fill\":{\"color\":\"#C8D4E3\"},\"line\":{\"color\":\"white\"}},\"type\":\"table\"}]},\"layout\":{\"annotationdefaults\":{\"arrowcolor\":\"#2a3f5f\",\"arrowhead\":0,\"arrowwidth\":1},\"autotypenumbers\":\"strict\",\"coloraxis\":{\"colorbar\":{\"outlinewidth\":0,\"ticks\":\"\"}},\"colorscale\":{\"diverging\":[[0,\"#8e0152\"],[0.1,\"#c51b7d\"],[0.2,\"#de77ae\"],[0.3,\"#f1b6da\"],[0.4,\"#fde0ef\"],[0.5,\"#f7f7f7\"],[0.6,\"#e6f5d0\"],[0.7,\"#b8e186\"],[0.8,\"#7fbc41\"],[0.9,\"#4d9221\"],[1,\"#276419\"]],\"sequential\":[[0.0,\"#0d0887\"],[0.1111111111111111,\"#46039f\"],[0.2222222222222222,\"#7201a8\"],[0.3333333333333333,\"#9c179e\"],[0.4444444444444444,\"#bd3786\"],[0.5555555555555556,\"#d8576b\"],[0.6666666666666666,\"#ed7953\"],[0.7777777777777778,\"#fb9f3a\"],[0.8888888888888888,\"#fdca26\"],[1.0,\"#f0f921\"]],\"sequentialminus\":[[0.0,\"#0d0887\"],[0.1111111111111111,\"#46039f\"],[0.2222222222222222,\"#7201a8\"],[0.3333333333333333,\"#9c179e\"],[0.4444444444444444,\"#bd3786\"],[0.5555555555555556,\"#d8576b\"],[0.6666666666666666,\"#ed7953\"],[0.7777777777777778,\"#fb9f3a\"],[0.8888888888888888,\"#fdca26\"],[1.0,\"#f0f921\"]]},\"colorway\":[\"#636efa\",\"#EF553B\",\"#00cc96\",\"#ab63fa\",\"#FFA15A\",\"#19d3f3\",\"#FF6692\",\"#B6E880\",\"#FF97FF\",\"#FECB52\"],\"font\":{\"color\":\"#2a3f5f\"},\"geo\":{\"bgcolor\":\"white\",\"lakecolor\":\"white\",\"landcolor\":\"#E5ECF6\",\"showlakes\":true,\"showland\":true,\"subunitcolor\":\"white\"},\"hoverlabel\":{\"align\":\"left\"},\"hovermode\":\"closest\",\"mapbox\":{\"style\":\"light\"},\"paper_bgcolor\":\"white\",\"plot_bgcolor\":\"#E5ECF6\",\"polar\":{\"angularaxis\":{\"gridcolor\":\"white\",\"linecolor\":\"white\",\"ticks\":\"\"},\"bgcolor\":\"#E5ECF6\",\"radialaxis\":{\"gridcolor\":\"white\",\"linecolor\":\"white\",\"ticks\":\"\"}},\"scene\":{\"xaxis\":{\"backgroundcolor\":\"#E5ECF6\",\"gridcolor\":\"white\",\"gridwidth\":2,\"linecolor\":\"white\",\"showbackground\":true,\"ticks\":\"\",\"zerolinecolor\":\"white\"},\"yaxis\":{\"backgroundcolor\":\"#E5ECF6\",\"gridcolor\":\"white\",\"gridwidth\":2,\"linecolor\":\"white\",\"showbackground\":true,\"ticks\":\"\",\"zerolinecolor\":\"white\"},\"zaxis\":{\"backgroundcolor\":\"#E5ECF6\",\"gridcolor\":\"white\",\"gridwidth\":2,\"linecolor\":\"white\",\"showbackground\":true,\"ticks\":\"\",\"zerolinecolor\":\"white\"}},\"shapedefaults\":{\"line\":{\"color\":\"#2a3f5f\"}},\"ternary\":{\"aaxis\":{\"gridcolor\":\"white\",\"linecolor\":\"white\",\"ticks\":\"\"},\"baxis\":{\"gridcolor\":\"white\",\"linecolor\":\"white\",\"ticks\":\"\"},\"bgcolor\":\"#E5ECF6\",\"caxis\":{\"gridcolor\":\"white\",\"linecolor\":\"white\",\"ticks\":\"\"}},\"title\":{\"x\":0.05},\"xaxis\":{\"automargin\":true,\"gridcolor\":\"white\",\"linecolor\":\"white\",\"ticks\":\"\",\"title\":{\"standoff\":15},\"zerolinecolor\":\"white\",\"zerolinewidth\":2},\"yaxis\":{\"automargin\":true,\"gridcolor\":\"white\",\"linecolor\":\"white\",\"ticks\":\"\",\"title\":{\"standoff\":15},\"zerolinecolor\":\"white\",\"zerolinewidth\":2}}},\"title\":{\"text\":\"Monthly Sales\"}},                        {\"responsive\": true}                    ).then(function(){\n",
              "                            \n",
              "var gd = document.getElementById('06c0931e-2b37-481c-a678-54f1bc96064c');\n",
              "var x = new MutationObserver(function (mutations, observer) {{\n",
              "        var display = window.getComputedStyle(gd).display;\n",
              "        if (!display || display === 'none') {{\n",
              "            console.log([gd, 'removed!']);\n",
              "            Plotly.purge(gd);\n",
              "            observer.disconnect();\n",
              "        }}\n",
              "}});\n",
              "\n",
              "// Listen for the removal of the full notebook cells\n",
              "var notebookContainer = gd.closest('#notebook-container');\n",
              "if (notebookContainer) {{\n",
              "    x.observe(notebookContainer, {childList: true});\n",
              "}}\n",
              "\n",
              "// Listen for the clearing of the current output cell\n",
              "var outputEl = gd.closest('.output');\n",
              "if (outputEl) {{\n",
              "    x.observe(outputEl, {childList: true});\n",
              "}}\n",
              "\n",
              "                        })                };                });            </script>        </div>"
            ]
          },
          "metadata": {},
          "output_type": "display_data"
        }
      ],
      "source": [
        "# plot monthly sales\n",
        "plot_data = [\n",
        "    go.Scatter(\n",
        "        x=df_sales['Fecha'],\n",
        "        y=df_sales['cantidad_frac'],\n",
        "    )\n",
        "]\n",
        "plot_layout = go.Layout(\n",
        "    title='Monthly Sales'\n",
        ")\n",
        "fig = go.Figure(data=plot_data, layout=plot_layout)\n",
        "\n",
        "# Mostrar la gráfica en el notebook\n",
        "iplot(fig)"
      ]
    },
    {
      "cell_type": "markdown",
      "metadata": {},
      "source": [
        "## DIFERENCIA"
      ]
    },
    {
      "cell_type": "code",
      "execution_count": 75,
      "metadata": {},
      "outputs": [],
      "source": [
        "#create a new dataframe to model the difference\n",
        "df_diff = df_sales.copy()\n",
        "#add previous sales to the next row\n",
        "df_diff['prev_sales'] = df_diff['cantidad_frac'].shift(1)\n",
        "#drop the null values and calculate the difference\n",
        "df_diff = df_diff.dropna()\n",
        "df_diff['diff'] = (df_diff['cantidad_frac'] - df_diff['prev_sales'])"
      ]
    },
    {
      "cell_type": "code",
      "execution_count": 76,
      "metadata": {},
      "outputs": [
        {
          "data": {
            "application/vnd.plotly.v1+json": {
              "config": {
                "linkText": "Export to plot.ly",
                "plotlyServerURL": "https://plot.ly",
                "showLink": false
              },
              "data": [
                {
                  "mode": "lines",
                  "type": "scatter",
                  "x": [
                    "2016-02-01T00:00:00",
                    "2016-03-01T00:00:00",
                    "2016-04-01T00:00:00",
                    "2016-05-01T00:00:00",
                    "2016-06-01T00:00:00",
                    "2016-07-01T00:00:00",
                    "2016-08-01T00:00:00",
                    "2016-09-01T00:00:00",
                    "2016-10-01T00:00:00",
                    "2016-11-01T00:00:00",
                    "2016-12-01T00:00:00",
                    "2017-01-01T00:00:00",
                    "2017-02-01T00:00:00",
                    "2017-03-01T00:00:00",
                    "2017-04-01T00:00:00",
                    "2017-05-01T00:00:00",
                    "2017-06-01T00:00:00",
                    "2017-07-01T00:00:00",
                    "2017-08-01T00:00:00",
                    "2017-09-01T00:00:00",
                    "2017-10-01T00:00:00",
                    "2017-11-01T00:00:00",
                    "2017-12-01T00:00:00",
                    "2018-01-01T00:00:00",
                    "2018-02-01T00:00:00",
                    "2018-03-01T00:00:00",
                    "2018-04-01T00:00:00",
                    "2018-05-01T00:00:00",
                    "2018-06-01T00:00:00",
                    "2018-07-01T00:00:00",
                    "2018-08-01T00:00:00",
                    "2018-09-01T00:00:00",
                    "2018-10-01T00:00:00",
                    "2018-11-01T00:00:00",
                    "2018-12-01T00:00:00",
                    "2019-01-01T00:00:00",
                    "2019-02-01T00:00:00",
                    "2019-03-01T00:00:00",
                    "2019-04-01T00:00:00",
                    "2019-05-01T00:00:00",
                    "2019-06-01T00:00:00",
                    "2019-07-01T00:00:00",
                    "2019-08-01T00:00:00",
                    "2019-09-01T00:00:00",
                    "2019-10-01T00:00:00",
                    "2019-11-01T00:00:00",
                    "2019-12-01T00:00:00",
                    "2020-01-01T00:00:00",
                    "2020-02-01T00:00:00",
                    "2020-03-01T00:00:00",
                    "2020-04-01T00:00:00",
                    "2020-05-01T00:00:00",
                    "2020-06-01T00:00:00",
                    "2020-07-01T00:00:00",
                    "2020-08-01T00:00:00",
                    "2020-09-01T00:00:00",
                    "2020-10-01T00:00:00",
                    "2020-11-01T00:00:00",
                    "2020-12-01T00:00:00",
                    "2021-01-01T00:00:00",
                    "2021-02-01T00:00:00",
                    "2021-03-01T00:00:00",
                    "2021-04-01T00:00:00",
                    "2021-05-01T00:00:00",
                    "2021-06-01T00:00:00",
                    "2021-07-01T00:00:00",
                    "2021-08-01T00:00:00",
                    "2021-09-01T00:00:00",
                    "2021-10-01T00:00:00",
                    "2021-11-01T00:00:00",
                    "2021-12-01T00:00:00",
                    "2022-01-01T00:00:00",
                    "2022-02-01T00:00:00",
                    "2022-03-01T00:00:00",
                    "2022-04-01T00:00:00",
                    "2022-05-01T00:00:00",
                    "2022-06-01T00:00:00",
                    "2022-07-01T00:00:00",
                    "2022-08-01T00:00:00",
                    "2022-09-01T00:00:00",
                    "2022-10-01T00:00:00",
                    "2022-11-01T00:00:00",
                    "2022-12-01T00:00:00",
                    "2023-01-01T00:00:00",
                    "2023-02-01T00:00:00",
                    "2023-03-01T00:00:00",
                    "2023-04-01T00:00:00",
                    "2023-05-01T00:00:00",
                    "2023-06-01T00:00:00",
                    "2023-07-01T00:00:00",
                    "2023-08-01T00:00:00",
                    "2023-09-01T00:00:00",
                    "2023-10-01T00:00:00",
                    "2023-11-01T00:00:00",
                    "2023-12-01T00:00:00",
                    "2024-01-01T00:00:00",
                    "2024-02-01T00:00:00",
                    "2024-03-01T00:00:00",
                    "2024-04-01T00:00:00",
                    "2024-05-01T00:00:00",
                    "2024-06-01T00:00:00",
                    "2024-07-01T00:00:00"
                  ],
                  "y": [
                    -1331,
                    4210,
                    1971,
                    -1559,
                    -459,
                    -1220,
                    7575,
                    -6194,
                    2870,
                    -3088,
                    1509,
                    -958,
                    -2878,
                    5106,
                    -4002,
                    4045,
                    -1756,
                    -572,
                    -580,
                    3782,
                    -2501,
                    1372,
                    2378,
                    737,
                    -2654,
                    4600,
                    -1303,
                    1512,
                    -4743,
                    2498,
                    394,
                    -4802,
                    3217,
                    -2605,
                    634,
                    406,
                    -2212,
                    3367,
                    -1790,
                    2208,
                    -3328,
                    960,
                    -108,
                    -1770,
                    2041,
                    -4731,
                    1732,
                    2735,
                    -3620,
                    11691,
                    -9591,
                    -2626,
                    521,
                    5234,
                    -1735,
                    -1227,
                    3535,
                    -4500,
                    -1593,
                    2486,
                    -4295,
                    7042,
                    -1333,
                    -1616,
                    685,
                    3971,
                    -1779,
                    -4137,
                    3963,
                    -2206,
                    256,
                    -821,
                    -455,
                    379,
                    -242,
                    -870,
                    -2866,
                    -499,
                    2401,
                    -1494,
                    617,
                    2059,
                    1526,
                    4353,
                    -5707,
                    8589,
                    -2365,
                    1125,
                    -16355,
                    -9598,
                    19657,
                    1270,
                    1222,
                    -343,
                    5000,
                    760,
                    -4749,
                    6645,
                    -460,
                    -662,
                    -349,
                    -14860
                  ]
                }
              ],
              "layout": {
                "template": {
                  "data": {
                    "bar": [
                      {
                        "error_x": {
                          "color": "#2a3f5f"
                        },
                        "error_y": {
                          "color": "#2a3f5f"
                        },
                        "marker": {
                          "line": {
                            "color": "#E5ECF6",
                            "width": 0.5
                          },
                          "pattern": {
                            "fillmode": "overlay",
                            "size": 10,
                            "solidity": 0.2
                          }
                        },
                        "type": "bar"
                      }
                    ],
                    "barpolar": [
                      {
                        "marker": {
                          "line": {
                            "color": "#E5ECF6",
                            "width": 0.5
                          },
                          "pattern": {
                            "fillmode": "overlay",
                            "size": 10,
                            "solidity": 0.2
                          }
                        },
                        "type": "barpolar"
                      }
                    ],
                    "carpet": [
                      {
                        "aaxis": {
                          "endlinecolor": "#2a3f5f",
                          "gridcolor": "white",
                          "linecolor": "white",
                          "minorgridcolor": "white",
                          "startlinecolor": "#2a3f5f"
                        },
                        "baxis": {
                          "endlinecolor": "#2a3f5f",
                          "gridcolor": "white",
                          "linecolor": "white",
                          "minorgridcolor": "white",
                          "startlinecolor": "#2a3f5f"
                        },
                        "type": "carpet"
                      }
                    ],
                    "choropleth": [
                      {
                        "colorbar": {
                          "outlinewidth": 0,
                          "ticks": ""
                        },
                        "type": "choropleth"
                      }
                    ],
                    "contour": [
                      {
                        "colorbar": {
                          "outlinewidth": 0,
                          "ticks": ""
                        },
                        "colorscale": [
                          [
                            0,
                            "#0d0887"
                          ],
                          [
                            0.1111111111111111,
                            "#46039f"
                          ],
                          [
                            0.2222222222222222,
                            "#7201a8"
                          ],
                          [
                            0.3333333333333333,
                            "#9c179e"
                          ],
                          [
                            0.4444444444444444,
                            "#bd3786"
                          ],
                          [
                            0.5555555555555556,
                            "#d8576b"
                          ],
                          [
                            0.6666666666666666,
                            "#ed7953"
                          ],
                          [
                            0.7777777777777778,
                            "#fb9f3a"
                          ],
                          [
                            0.8888888888888888,
                            "#fdca26"
                          ],
                          [
                            1,
                            "#f0f921"
                          ]
                        ],
                        "type": "contour"
                      }
                    ],
                    "contourcarpet": [
                      {
                        "colorbar": {
                          "outlinewidth": 0,
                          "ticks": ""
                        },
                        "type": "contourcarpet"
                      }
                    ],
                    "heatmap": [
                      {
                        "colorbar": {
                          "outlinewidth": 0,
                          "ticks": ""
                        },
                        "colorscale": [
                          [
                            0,
                            "#0d0887"
                          ],
                          [
                            0.1111111111111111,
                            "#46039f"
                          ],
                          [
                            0.2222222222222222,
                            "#7201a8"
                          ],
                          [
                            0.3333333333333333,
                            "#9c179e"
                          ],
                          [
                            0.4444444444444444,
                            "#bd3786"
                          ],
                          [
                            0.5555555555555556,
                            "#d8576b"
                          ],
                          [
                            0.6666666666666666,
                            "#ed7953"
                          ],
                          [
                            0.7777777777777778,
                            "#fb9f3a"
                          ],
                          [
                            0.8888888888888888,
                            "#fdca26"
                          ],
                          [
                            1,
                            "#f0f921"
                          ]
                        ],
                        "type": "heatmap"
                      }
                    ],
                    "heatmapgl": [
                      {
                        "colorbar": {
                          "outlinewidth": 0,
                          "ticks": ""
                        },
                        "colorscale": [
                          [
                            0,
                            "#0d0887"
                          ],
                          [
                            0.1111111111111111,
                            "#46039f"
                          ],
                          [
                            0.2222222222222222,
                            "#7201a8"
                          ],
                          [
                            0.3333333333333333,
                            "#9c179e"
                          ],
                          [
                            0.4444444444444444,
                            "#bd3786"
                          ],
                          [
                            0.5555555555555556,
                            "#d8576b"
                          ],
                          [
                            0.6666666666666666,
                            "#ed7953"
                          ],
                          [
                            0.7777777777777778,
                            "#fb9f3a"
                          ],
                          [
                            0.8888888888888888,
                            "#fdca26"
                          ],
                          [
                            1,
                            "#f0f921"
                          ]
                        ],
                        "type": "heatmapgl"
                      }
                    ],
                    "histogram": [
                      {
                        "marker": {
                          "pattern": {
                            "fillmode": "overlay",
                            "size": 10,
                            "solidity": 0.2
                          }
                        },
                        "type": "histogram"
                      }
                    ],
                    "histogram2d": [
                      {
                        "colorbar": {
                          "outlinewidth": 0,
                          "ticks": ""
                        },
                        "colorscale": [
                          [
                            0,
                            "#0d0887"
                          ],
                          [
                            0.1111111111111111,
                            "#46039f"
                          ],
                          [
                            0.2222222222222222,
                            "#7201a8"
                          ],
                          [
                            0.3333333333333333,
                            "#9c179e"
                          ],
                          [
                            0.4444444444444444,
                            "#bd3786"
                          ],
                          [
                            0.5555555555555556,
                            "#d8576b"
                          ],
                          [
                            0.6666666666666666,
                            "#ed7953"
                          ],
                          [
                            0.7777777777777778,
                            "#fb9f3a"
                          ],
                          [
                            0.8888888888888888,
                            "#fdca26"
                          ],
                          [
                            1,
                            "#f0f921"
                          ]
                        ],
                        "type": "histogram2d"
                      }
                    ],
                    "histogram2dcontour": [
                      {
                        "colorbar": {
                          "outlinewidth": 0,
                          "ticks": ""
                        },
                        "colorscale": [
                          [
                            0,
                            "#0d0887"
                          ],
                          [
                            0.1111111111111111,
                            "#46039f"
                          ],
                          [
                            0.2222222222222222,
                            "#7201a8"
                          ],
                          [
                            0.3333333333333333,
                            "#9c179e"
                          ],
                          [
                            0.4444444444444444,
                            "#bd3786"
                          ],
                          [
                            0.5555555555555556,
                            "#d8576b"
                          ],
                          [
                            0.6666666666666666,
                            "#ed7953"
                          ],
                          [
                            0.7777777777777778,
                            "#fb9f3a"
                          ],
                          [
                            0.8888888888888888,
                            "#fdca26"
                          ],
                          [
                            1,
                            "#f0f921"
                          ]
                        ],
                        "type": "histogram2dcontour"
                      }
                    ],
                    "mesh3d": [
                      {
                        "colorbar": {
                          "outlinewidth": 0,
                          "ticks": ""
                        },
                        "type": "mesh3d"
                      }
                    ],
                    "parcoords": [
                      {
                        "line": {
                          "colorbar": {
                            "outlinewidth": 0,
                            "ticks": ""
                          }
                        },
                        "type": "parcoords"
                      }
                    ],
                    "pie": [
                      {
                        "automargin": true,
                        "type": "pie"
                      }
                    ],
                    "scatter": [
                      {
                        "fillpattern": {
                          "fillmode": "overlay",
                          "size": 10,
                          "solidity": 0.2
                        },
                        "type": "scatter"
                      }
                    ],
                    "scatter3d": [
                      {
                        "line": {
                          "colorbar": {
                            "outlinewidth": 0,
                            "ticks": ""
                          }
                        },
                        "marker": {
                          "colorbar": {
                            "outlinewidth": 0,
                            "ticks": ""
                          }
                        },
                        "type": "scatter3d"
                      }
                    ],
                    "scattercarpet": [
                      {
                        "marker": {
                          "colorbar": {
                            "outlinewidth": 0,
                            "ticks": ""
                          }
                        },
                        "type": "scattercarpet"
                      }
                    ],
                    "scattergeo": [
                      {
                        "marker": {
                          "colorbar": {
                            "outlinewidth": 0,
                            "ticks": ""
                          }
                        },
                        "type": "scattergeo"
                      }
                    ],
                    "scattergl": [
                      {
                        "marker": {
                          "colorbar": {
                            "outlinewidth": 0,
                            "ticks": ""
                          }
                        },
                        "type": "scattergl"
                      }
                    ],
                    "scattermapbox": [
                      {
                        "marker": {
                          "colorbar": {
                            "outlinewidth": 0,
                            "ticks": ""
                          }
                        },
                        "type": "scattermapbox"
                      }
                    ],
                    "scatterpolar": [
                      {
                        "marker": {
                          "colorbar": {
                            "outlinewidth": 0,
                            "ticks": ""
                          }
                        },
                        "type": "scatterpolar"
                      }
                    ],
                    "scatterpolargl": [
                      {
                        "marker": {
                          "colorbar": {
                            "outlinewidth": 0,
                            "ticks": ""
                          }
                        },
                        "type": "scatterpolargl"
                      }
                    ],
                    "scatterternary": [
                      {
                        "marker": {
                          "colorbar": {
                            "outlinewidth": 0,
                            "ticks": ""
                          }
                        },
                        "type": "scatterternary"
                      }
                    ],
                    "surface": [
                      {
                        "colorbar": {
                          "outlinewidth": 0,
                          "ticks": ""
                        },
                        "colorscale": [
                          [
                            0,
                            "#0d0887"
                          ],
                          [
                            0.1111111111111111,
                            "#46039f"
                          ],
                          [
                            0.2222222222222222,
                            "#7201a8"
                          ],
                          [
                            0.3333333333333333,
                            "#9c179e"
                          ],
                          [
                            0.4444444444444444,
                            "#bd3786"
                          ],
                          [
                            0.5555555555555556,
                            "#d8576b"
                          ],
                          [
                            0.6666666666666666,
                            "#ed7953"
                          ],
                          [
                            0.7777777777777778,
                            "#fb9f3a"
                          ],
                          [
                            0.8888888888888888,
                            "#fdca26"
                          ],
                          [
                            1,
                            "#f0f921"
                          ]
                        ],
                        "type": "surface"
                      }
                    ],
                    "table": [
                      {
                        "cells": {
                          "fill": {
                            "color": "#EBF0F8"
                          },
                          "line": {
                            "color": "white"
                          }
                        },
                        "header": {
                          "fill": {
                            "color": "#C8D4E3"
                          },
                          "line": {
                            "color": "white"
                          }
                        },
                        "type": "table"
                      }
                    ]
                  },
                  "layout": {
                    "annotationdefaults": {
                      "arrowcolor": "#2a3f5f",
                      "arrowhead": 0,
                      "arrowwidth": 1
                    },
                    "autotypenumbers": "strict",
                    "coloraxis": {
                      "colorbar": {
                        "outlinewidth": 0,
                        "ticks": ""
                      }
                    },
                    "colorscale": {
                      "diverging": [
                        [
                          0,
                          "#8e0152"
                        ],
                        [
                          0.1,
                          "#c51b7d"
                        ],
                        [
                          0.2,
                          "#de77ae"
                        ],
                        [
                          0.3,
                          "#f1b6da"
                        ],
                        [
                          0.4,
                          "#fde0ef"
                        ],
                        [
                          0.5,
                          "#f7f7f7"
                        ],
                        [
                          0.6,
                          "#e6f5d0"
                        ],
                        [
                          0.7,
                          "#b8e186"
                        ],
                        [
                          0.8,
                          "#7fbc41"
                        ],
                        [
                          0.9,
                          "#4d9221"
                        ],
                        [
                          1,
                          "#276419"
                        ]
                      ],
                      "sequential": [
                        [
                          0,
                          "#0d0887"
                        ],
                        [
                          0.1111111111111111,
                          "#46039f"
                        ],
                        [
                          0.2222222222222222,
                          "#7201a8"
                        ],
                        [
                          0.3333333333333333,
                          "#9c179e"
                        ],
                        [
                          0.4444444444444444,
                          "#bd3786"
                        ],
                        [
                          0.5555555555555556,
                          "#d8576b"
                        ],
                        [
                          0.6666666666666666,
                          "#ed7953"
                        ],
                        [
                          0.7777777777777778,
                          "#fb9f3a"
                        ],
                        [
                          0.8888888888888888,
                          "#fdca26"
                        ],
                        [
                          1,
                          "#f0f921"
                        ]
                      ],
                      "sequentialminus": [
                        [
                          0,
                          "#0d0887"
                        ],
                        [
                          0.1111111111111111,
                          "#46039f"
                        ],
                        [
                          0.2222222222222222,
                          "#7201a8"
                        ],
                        [
                          0.3333333333333333,
                          "#9c179e"
                        ],
                        [
                          0.4444444444444444,
                          "#bd3786"
                        ],
                        [
                          0.5555555555555556,
                          "#d8576b"
                        ],
                        [
                          0.6666666666666666,
                          "#ed7953"
                        ],
                        [
                          0.7777777777777778,
                          "#fb9f3a"
                        ],
                        [
                          0.8888888888888888,
                          "#fdca26"
                        ],
                        [
                          1,
                          "#f0f921"
                        ]
                      ]
                    },
                    "colorway": [
                      "#636efa",
                      "#EF553B",
                      "#00cc96",
                      "#ab63fa",
                      "#FFA15A",
                      "#19d3f3",
                      "#FF6692",
                      "#B6E880",
                      "#FF97FF",
                      "#FECB52"
                    ],
                    "font": {
                      "color": "#2a3f5f"
                    },
                    "geo": {
                      "bgcolor": "white",
                      "lakecolor": "white",
                      "landcolor": "#E5ECF6",
                      "showlakes": true,
                      "showland": true,
                      "subunitcolor": "white"
                    },
                    "hoverlabel": {
                      "align": "left"
                    },
                    "hovermode": "closest",
                    "mapbox": {
                      "style": "light"
                    },
                    "paper_bgcolor": "white",
                    "plot_bgcolor": "#E5ECF6",
                    "polar": {
                      "angularaxis": {
                        "gridcolor": "white",
                        "linecolor": "white",
                        "ticks": ""
                      },
                      "bgcolor": "#E5ECF6",
                      "radialaxis": {
                        "gridcolor": "white",
                        "linecolor": "white",
                        "ticks": ""
                      }
                    },
                    "scene": {
                      "xaxis": {
                        "backgroundcolor": "#E5ECF6",
                        "gridcolor": "white",
                        "gridwidth": 2,
                        "linecolor": "white",
                        "showbackground": true,
                        "ticks": "",
                        "zerolinecolor": "white"
                      },
                      "yaxis": {
                        "backgroundcolor": "#E5ECF6",
                        "gridcolor": "white",
                        "gridwidth": 2,
                        "linecolor": "white",
                        "showbackground": true,
                        "ticks": "",
                        "zerolinecolor": "white"
                      },
                      "zaxis": {
                        "backgroundcolor": "#E5ECF6",
                        "gridcolor": "white",
                        "gridwidth": 2,
                        "linecolor": "white",
                        "showbackground": true,
                        "ticks": "",
                        "zerolinecolor": "white"
                      }
                    },
                    "shapedefaults": {
                      "line": {
                        "color": "#2a3f5f"
                      }
                    },
                    "ternary": {
                      "aaxis": {
                        "gridcolor": "white",
                        "linecolor": "white",
                        "ticks": ""
                      },
                      "baxis": {
                        "gridcolor": "white",
                        "linecolor": "white",
                        "ticks": ""
                      },
                      "bgcolor": "#E5ECF6",
                      "caxis": {
                        "gridcolor": "white",
                        "linecolor": "white",
                        "ticks": ""
                      }
                    },
                    "title": {
                      "x": 0.05
                    },
                    "xaxis": {
                      "automargin": true,
                      "gridcolor": "white",
                      "linecolor": "white",
                      "ticks": "",
                      "title": {
                        "standoff": 15
                      },
                      "zerolinecolor": "white",
                      "zerolinewidth": 2
                    },
                    "yaxis": {
                      "automargin": true,
                      "gridcolor": "white",
                      "linecolor": "white",
                      "ticks": "",
                      "title": {
                        "standoff": 15
                      },
                      "zerolinecolor": "white",
                      "zerolinewidth": 2
                    }
                  }
                },
                "title": {
                  "text": "Monthly Sales Diff 88275"
                }
              }
            },
            "text/html": [
              "<div>                            <div id=\"c74688bd-01ca-446b-b085-8e122dabf0cc\" class=\"plotly-graph-div\" style=\"height:525px; width:100%;\"></div>            <script type=\"text/javascript\">                require([\"plotly\"], function(Plotly) {                    window.PLOTLYENV=window.PLOTLYENV || {};                                    if (document.getElementById(\"c74688bd-01ca-446b-b085-8e122dabf0cc\")) {                    Plotly.newPlot(                        \"c74688bd-01ca-446b-b085-8e122dabf0cc\",                        [{\"mode\":\"lines\",\"x\":[\"2016-02-01T00:00:00\",\"2016-03-01T00:00:00\",\"2016-04-01T00:00:00\",\"2016-05-01T00:00:00\",\"2016-06-01T00:00:00\",\"2016-07-01T00:00:00\",\"2016-08-01T00:00:00\",\"2016-09-01T00:00:00\",\"2016-10-01T00:00:00\",\"2016-11-01T00:00:00\",\"2016-12-01T00:00:00\",\"2017-01-01T00:00:00\",\"2017-02-01T00:00:00\",\"2017-03-01T00:00:00\",\"2017-04-01T00:00:00\",\"2017-05-01T00:00:00\",\"2017-06-01T00:00:00\",\"2017-07-01T00:00:00\",\"2017-08-01T00:00:00\",\"2017-09-01T00:00:00\",\"2017-10-01T00:00:00\",\"2017-11-01T00:00:00\",\"2017-12-01T00:00:00\",\"2018-01-01T00:00:00\",\"2018-02-01T00:00:00\",\"2018-03-01T00:00:00\",\"2018-04-01T00:00:00\",\"2018-05-01T00:00:00\",\"2018-06-01T00:00:00\",\"2018-07-01T00:00:00\",\"2018-08-01T00:00:00\",\"2018-09-01T00:00:00\",\"2018-10-01T00:00:00\",\"2018-11-01T00:00:00\",\"2018-12-01T00:00:00\",\"2019-01-01T00:00:00\",\"2019-02-01T00:00:00\",\"2019-03-01T00:00:00\",\"2019-04-01T00:00:00\",\"2019-05-01T00:00:00\",\"2019-06-01T00:00:00\",\"2019-07-01T00:00:00\",\"2019-08-01T00:00:00\",\"2019-09-01T00:00:00\",\"2019-10-01T00:00:00\",\"2019-11-01T00:00:00\",\"2019-12-01T00:00:00\",\"2020-01-01T00:00:00\",\"2020-02-01T00:00:00\",\"2020-03-01T00:00:00\",\"2020-04-01T00:00:00\",\"2020-05-01T00:00:00\",\"2020-06-01T00:00:00\",\"2020-07-01T00:00:00\",\"2020-08-01T00:00:00\",\"2020-09-01T00:00:00\",\"2020-10-01T00:00:00\",\"2020-11-01T00:00:00\",\"2020-12-01T00:00:00\",\"2021-01-01T00:00:00\",\"2021-02-01T00:00:00\",\"2021-03-01T00:00:00\",\"2021-04-01T00:00:00\",\"2021-05-01T00:00:00\",\"2021-06-01T00:00:00\",\"2021-07-01T00:00:00\",\"2021-08-01T00:00:00\",\"2021-09-01T00:00:00\",\"2021-10-01T00:00:00\",\"2021-11-01T00:00:00\",\"2021-12-01T00:00:00\",\"2022-01-01T00:00:00\",\"2022-02-01T00:00:00\",\"2022-03-01T00:00:00\",\"2022-04-01T00:00:00\",\"2022-05-01T00:00:00\",\"2022-06-01T00:00:00\",\"2022-07-01T00:00:00\",\"2022-08-01T00:00:00\",\"2022-09-01T00:00:00\",\"2022-10-01T00:00:00\",\"2022-11-01T00:00:00\",\"2022-12-01T00:00:00\",\"2023-01-01T00:00:00\",\"2023-02-01T00:00:00\",\"2023-03-01T00:00:00\",\"2023-04-01T00:00:00\",\"2023-05-01T00:00:00\",\"2023-06-01T00:00:00\",\"2023-07-01T00:00:00\",\"2023-08-01T00:00:00\",\"2023-09-01T00:00:00\",\"2023-10-01T00:00:00\",\"2023-11-01T00:00:00\",\"2023-12-01T00:00:00\",\"2024-01-01T00:00:00\",\"2024-02-01T00:00:00\",\"2024-03-01T00:00:00\",\"2024-04-01T00:00:00\",\"2024-05-01T00:00:00\",\"2024-06-01T00:00:00\",\"2024-07-01T00:00:00\"],\"y\":[-1331.0,4210.0,1971.0,-1559.0,-459.0,-1220.0,7575.0,-6194.0,2870.0,-3088.0,1509.0,-958.0,-2878.0,5106.0,-4002.0,4045.0,-1756.0,-572.0,-580.0,3782.0,-2501.0,1372.0,2378.0,737.0,-2654.0,4600.0,-1303.0,1512.0,-4743.0,2498.0,394.0,-4802.0,3217.0,-2605.0,634.0,406.0,-2212.0,3367.0,-1790.0,2208.0,-3328.0,960.0,-108.0,-1770.0,2041.0,-4731.0,1732.0,2735.0,-3620.0,11691.0,-9591.0,-2626.0,521.0,5234.0,-1735.0,-1227.0,3535.0,-4500.0,-1593.0,2486.0,-4295.0,7042.0,-1333.0,-1616.0,685.0,3971.0,-1779.0,-4137.0,3963.0,-2206.0,256.0,-821.0,-455.0,379.0,-242.0,-870.0,-2866.0,-499.0,2401.0,-1494.0,617.0,2059.0,1526.0,4353.0,-5707.0,8589.0,-2365.0,1125.0,-16355.0,-9598.0,19657.0,1270.0,1222.0,-343.0,5000.0,760.0,-4749.0,6645.0,-460.0,-662.0,-349.0,-14860.0],\"type\":\"scatter\"}],                        {\"template\":{\"data\":{\"barpolar\":[{\"marker\":{\"line\":{\"color\":\"#E5ECF6\",\"width\":0.5},\"pattern\":{\"fillmode\":\"overlay\",\"size\":10,\"solidity\":0.2}},\"type\":\"barpolar\"}],\"bar\":[{\"error_x\":{\"color\":\"#2a3f5f\"},\"error_y\":{\"color\":\"#2a3f5f\"},\"marker\":{\"line\":{\"color\":\"#E5ECF6\",\"width\":0.5},\"pattern\":{\"fillmode\":\"overlay\",\"size\":10,\"solidity\":0.2}},\"type\":\"bar\"}],\"carpet\":[{\"aaxis\":{\"endlinecolor\":\"#2a3f5f\",\"gridcolor\":\"white\",\"linecolor\":\"white\",\"minorgridcolor\":\"white\",\"startlinecolor\":\"#2a3f5f\"},\"baxis\":{\"endlinecolor\":\"#2a3f5f\",\"gridcolor\":\"white\",\"linecolor\":\"white\",\"minorgridcolor\":\"white\",\"startlinecolor\":\"#2a3f5f\"},\"type\":\"carpet\"}],\"choropleth\":[{\"colorbar\":{\"outlinewidth\":0,\"ticks\":\"\"},\"type\":\"choropleth\"}],\"contourcarpet\":[{\"colorbar\":{\"outlinewidth\":0,\"ticks\":\"\"},\"type\":\"contourcarpet\"}],\"contour\":[{\"colorbar\":{\"outlinewidth\":0,\"ticks\":\"\"},\"colorscale\":[[0.0,\"#0d0887\"],[0.1111111111111111,\"#46039f\"],[0.2222222222222222,\"#7201a8\"],[0.3333333333333333,\"#9c179e\"],[0.4444444444444444,\"#bd3786\"],[0.5555555555555556,\"#d8576b\"],[0.6666666666666666,\"#ed7953\"],[0.7777777777777778,\"#fb9f3a\"],[0.8888888888888888,\"#fdca26\"],[1.0,\"#f0f921\"]],\"type\":\"contour\"}],\"heatmapgl\":[{\"colorbar\":{\"outlinewidth\":0,\"ticks\":\"\"},\"colorscale\":[[0.0,\"#0d0887\"],[0.1111111111111111,\"#46039f\"],[0.2222222222222222,\"#7201a8\"],[0.3333333333333333,\"#9c179e\"],[0.4444444444444444,\"#bd3786\"],[0.5555555555555556,\"#d8576b\"],[0.6666666666666666,\"#ed7953\"],[0.7777777777777778,\"#fb9f3a\"],[0.8888888888888888,\"#fdca26\"],[1.0,\"#f0f921\"]],\"type\":\"heatmapgl\"}],\"heatmap\":[{\"colorbar\":{\"outlinewidth\":0,\"ticks\":\"\"},\"colorscale\":[[0.0,\"#0d0887\"],[0.1111111111111111,\"#46039f\"],[0.2222222222222222,\"#7201a8\"],[0.3333333333333333,\"#9c179e\"],[0.4444444444444444,\"#bd3786\"],[0.5555555555555556,\"#d8576b\"],[0.6666666666666666,\"#ed7953\"],[0.7777777777777778,\"#fb9f3a\"],[0.8888888888888888,\"#fdca26\"],[1.0,\"#f0f921\"]],\"type\":\"heatmap\"}],\"histogram2dcontour\":[{\"colorbar\":{\"outlinewidth\":0,\"ticks\":\"\"},\"colorscale\":[[0.0,\"#0d0887\"],[0.1111111111111111,\"#46039f\"],[0.2222222222222222,\"#7201a8\"],[0.3333333333333333,\"#9c179e\"],[0.4444444444444444,\"#bd3786\"],[0.5555555555555556,\"#d8576b\"],[0.6666666666666666,\"#ed7953\"],[0.7777777777777778,\"#fb9f3a\"],[0.8888888888888888,\"#fdca26\"],[1.0,\"#f0f921\"]],\"type\":\"histogram2dcontour\"}],\"histogram2d\":[{\"colorbar\":{\"outlinewidth\":0,\"ticks\":\"\"},\"colorscale\":[[0.0,\"#0d0887\"],[0.1111111111111111,\"#46039f\"],[0.2222222222222222,\"#7201a8\"],[0.3333333333333333,\"#9c179e\"],[0.4444444444444444,\"#bd3786\"],[0.5555555555555556,\"#d8576b\"],[0.6666666666666666,\"#ed7953\"],[0.7777777777777778,\"#fb9f3a\"],[0.8888888888888888,\"#fdca26\"],[1.0,\"#f0f921\"]],\"type\":\"histogram2d\"}],\"histogram\":[{\"marker\":{\"pattern\":{\"fillmode\":\"overlay\",\"size\":10,\"solidity\":0.2}},\"type\":\"histogram\"}],\"mesh3d\":[{\"colorbar\":{\"outlinewidth\":0,\"ticks\":\"\"},\"type\":\"mesh3d\"}],\"parcoords\":[{\"line\":{\"colorbar\":{\"outlinewidth\":0,\"ticks\":\"\"}},\"type\":\"parcoords\"}],\"pie\":[{\"automargin\":true,\"type\":\"pie\"}],\"scatter3d\":[{\"line\":{\"colorbar\":{\"outlinewidth\":0,\"ticks\":\"\"}},\"marker\":{\"colorbar\":{\"outlinewidth\":0,\"ticks\":\"\"}},\"type\":\"scatter3d\"}],\"scattercarpet\":[{\"marker\":{\"colorbar\":{\"outlinewidth\":0,\"ticks\":\"\"}},\"type\":\"scattercarpet\"}],\"scattergeo\":[{\"marker\":{\"colorbar\":{\"outlinewidth\":0,\"ticks\":\"\"}},\"type\":\"scattergeo\"}],\"scattergl\":[{\"marker\":{\"colorbar\":{\"outlinewidth\":0,\"ticks\":\"\"}},\"type\":\"scattergl\"}],\"scattermapbox\":[{\"marker\":{\"colorbar\":{\"outlinewidth\":0,\"ticks\":\"\"}},\"type\":\"scattermapbox\"}],\"scatterpolargl\":[{\"marker\":{\"colorbar\":{\"outlinewidth\":0,\"ticks\":\"\"}},\"type\":\"scatterpolargl\"}],\"scatterpolar\":[{\"marker\":{\"colorbar\":{\"outlinewidth\":0,\"ticks\":\"\"}},\"type\":\"scatterpolar\"}],\"scatter\":[{\"fillpattern\":{\"fillmode\":\"overlay\",\"size\":10,\"solidity\":0.2},\"type\":\"scatter\"}],\"scatterternary\":[{\"marker\":{\"colorbar\":{\"outlinewidth\":0,\"ticks\":\"\"}},\"type\":\"scatterternary\"}],\"surface\":[{\"colorbar\":{\"outlinewidth\":0,\"ticks\":\"\"},\"colorscale\":[[0.0,\"#0d0887\"],[0.1111111111111111,\"#46039f\"],[0.2222222222222222,\"#7201a8\"],[0.3333333333333333,\"#9c179e\"],[0.4444444444444444,\"#bd3786\"],[0.5555555555555556,\"#d8576b\"],[0.6666666666666666,\"#ed7953\"],[0.7777777777777778,\"#fb9f3a\"],[0.8888888888888888,\"#fdca26\"],[1.0,\"#f0f921\"]],\"type\":\"surface\"}],\"table\":[{\"cells\":{\"fill\":{\"color\":\"#EBF0F8\"},\"line\":{\"color\":\"white\"}},\"header\":{\"fill\":{\"color\":\"#C8D4E3\"},\"line\":{\"color\":\"white\"}},\"type\":\"table\"}]},\"layout\":{\"annotationdefaults\":{\"arrowcolor\":\"#2a3f5f\",\"arrowhead\":0,\"arrowwidth\":1},\"autotypenumbers\":\"strict\",\"coloraxis\":{\"colorbar\":{\"outlinewidth\":0,\"ticks\":\"\"}},\"colorscale\":{\"diverging\":[[0,\"#8e0152\"],[0.1,\"#c51b7d\"],[0.2,\"#de77ae\"],[0.3,\"#f1b6da\"],[0.4,\"#fde0ef\"],[0.5,\"#f7f7f7\"],[0.6,\"#e6f5d0\"],[0.7,\"#b8e186\"],[0.8,\"#7fbc41\"],[0.9,\"#4d9221\"],[1,\"#276419\"]],\"sequential\":[[0.0,\"#0d0887\"],[0.1111111111111111,\"#46039f\"],[0.2222222222222222,\"#7201a8\"],[0.3333333333333333,\"#9c179e\"],[0.4444444444444444,\"#bd3786\"],[0.5555555555555556,\"#d8576b\"],[0.6666666666666666,\"#ed7953\"],[0.7777777777777778,\"#fb9f3a\"],[0.8888888888888888,\"#fdca26\"],[1.0,\"#f0f921\"]],\"sequentialminus\":[[0.0,\"#0d0887\"],[0.1111111111111111,\"#46039f\"],[0.2222222222222222,\"#7201a8\"],[0.3333333333333333,\"#9c179e\"],[0.4444444444444444,\"#bd3786\"],[0.5555555555555556,\"#d8576b\"],[0.6666666666666666,\"#ed7953\"],[0.7777777777777778,\"#fb9f3a\"],[0.8888888888888888,\"#fdca26\"],[1.0,\"#f0f921\"]]},\"colorway\":[\"#636efa\",\"#EF553B\",\"#00cc96\",\"#ab63fa\",\"#FFA15A\",\"#19d3f3\",\"#FF6692\",\"#B6E880\",\"#FF97FF\",\"#FECB52\"],\"font\":{\"color\":\"#2a3f5f\"},\"geo\":{\"bgcolor\":\"white\",\"lakecolor\":\"white\",\"landcolor\":\"#E5ECF6\",\"showlakes\":true,\"showland\":true,\"subunitcolor\":\"white\"},\"hoverlabel\":{\"align\":\"left\"},\"hovermode\":\"closest\",\"mapbox\":{\"style\":\"light\"},\"paper_bgcolor\":\"white\",\"plot_bgcolor\":\"#E5ECF6\",\"polar\":{\"angularaxis\":{\"gridcolor\":\"white\",\"linecolor\":\"white\",\"ticks\":\"\"},\"bgcolor\":\"#E5ECF6\",\"radialaxis\":{\"gridcolor\":\"white\",\"linecolor\":\"white\",\"ticks\":\"\"}},\"scene\":{\"xaxis\":{\"backgroundcolor\":\"#E5ECF6\",\"gridcolor\":\"white\",\"gridwidth\":2,\"linecolor\":\"white\",\"showbackground\":true,\"ticks\":\"\",\"zerolinecolor\":\"white\"},\"yaxis\":{\"backgroundcolor\":\"#E5ECF6\",\"gridcolor\":\"white\",\"gridwidth\":2,\"linecolor\":\"white\",\"showbackground\":true,\"ticks\":\"\",\"zerolinecolor\":\"white\"},\"zaxis\":{\"backgroundcolor\":\"#E5ECF6\",\"gridcolor\":\"white\",\"gridwidth\":2,\"linecolor\":\"white\",\"showbackground\":true,\"ticks\":\"\",\"zerolinecolor\":\"white\"}},\"shapedefaults\":{\"line\":{\"color\":\"#2a3f5f\"}},\"ternary\":{\"aaxis\":{\"gridcolor\":\"white\",\"linecolor\":\"white\",\"ticks\":\"\"},\"baxis\":{\"gridcolor\":\"white\",\"linecolor\":\"white\",\"ticks\":\"\"},\"bgcolor\":\"#E5ECF6\",\"caxis\":{\"gridcolor\":\"white\",\"linecolor\":\"white\",\"ticks\":\"\"}},\"title\":{\"x\":0.05},\"xaxis\":{\"automargin\":true,\"gridcolor\":\"white\",\"linecolor\":\"white\",\"ticks\":\"\",\"title\":{\"standoff\":15},\"zerolinecolor\":\"white\",\"zerolinewidth\":2},\"yaxis\":{\"automargin\":true,\"gridcolor\":\"white\",\"linecolor\":\"white\",\"ticks\":\"\",\"title\":{\"standoff\":15},\"zerolinecolor\":\"white\",\"zerolinewidth\":2}}},\"title\":{\"text\":\"Monthly Sales Diff 88275\"}},                        {\"responsive\": true}                    ).then(function(){\n",
              "                            \n",
              "var gd = document.getElementById('c74688bd-01ca-446b-b085-8e122dabf0cc');\n",
              "var x = new MutationObserver(function (mutations, observer) {{\n",
              "        var display = window.getComputedStyle(gd).display;\n",
              "        if (!display || display === 'none') {{\n",
              "            console.log([gd, 'removed!']);\n",
              "            Plotly.purge(gd);\n",
              "            observer.disconnect();\n",
              "        }}\n",
              "}});\n",
              "\n",
              "// Listen for the removal of the full notebook cells\n",
              "var notebookContainer = gd.closest('#notebook-container');\n",
              "if (notebookContainer) {{\n",
              "    x.observe(notebookContainer, {childList: true});\n",
              "}}\n",
              "\n",
              "// Listen for the clearing of the current output cell\n",
              "var outputEl = gd.closest('.output');\n",
              "if (outputEl) {{\n",
              "    x.observe(outputEl, {childList: true});\n",
              "}}\n",
              "\n",
              "                        })                };                });            </script>        </div>"
            ]
          },
          "metadata": {},
          "output_type": "display_data"
        }
      ],
      "source": [
        "# Supongamos que df_diff ya contiene los datos correctos\n",
        "\n",
        "# Crear los datos de la gráfica\n",
        "plot_data = [\n",
        "    go.Scatter(\n",
        "        x=df_diff['Fecha'],\n",
        "        y=df_diff['diff'],\n",
        "        mode='lines'\n",
        "    )\n",
        "]\n",
        "\n",
        "# Definir el layout de la gráfica\n",
        "plot_layout = go.Layout(\n",
        "    title=f'Monthly Sales Diff {idItem}'\n",
        ")\n",
        "\n",
        "# Crear la figura\n",
        "fig = go.Figure(data=plot_data, layout=plot_layout)\n",
        "\n",
        "# Mostrar la gráfica\n",
        "iplot(fig)\n"
      ]
    },
    {
      "cell_type": "code",
      "execution_count": 77,
      "metadata": {},
      "outputs": [
        {
          "name": "stdout",
          "output_type": "stream",
          "text": [
            "ADF Statistic: -1.544475590172711\n",
            "p-value: 0.5114065165088743\n"
          ]
        }
      ],
      "source": [
        "from statsmodels.tsa.stattools import adfuller\n",
        "\n",
        "# Asumiendo que 'df_sales' tiene la columna 'sales'\n",
        "result = adfuller(df_diff['cantidad_frac'])\n",
        "\n",
        "# Mostramos el p-valor\n",
        "print(f'ADF Statistic: {result[0]}')\n",
        "print(f'p-value: {result[1]}')\n",
        "\n",
        "\n"
      ]
    },
    {
      "cell_type": "markdown",
      "metadata": {},
      "source": [
        "## DIFERENCIA"
      ]
    },
    {
      "cell_type": "code",
      "execution_count": 78,
      "metadata": {},
      "outputs": [],
      "source": [
        "\n",
        "# #create a new dataframe to model the difference\n",
        "# #df_diff = df_sales.copy()\n",
        "# #add previous sales to the next row\n",
        "# df_diff['prev_sales'] = df_diff['cantidad_frac'].shift(1)\n",
        "# #drop the null values and calculate the difference\n",
        "# df_diff = df_diff.dropna()\n",
        "# df_diff['diff'] = (df_diff['cantidad_frac'] - df_diff['prev_sales'])\n",
        "# df_diff.head(10)"
      ]
    },
    {
      "cell_type": "code",
      "execution_count": 82,
      "metadata": {},
      "outputs": [],
      "source": [
        "#create dataframe for transformation from time series to supervised\n",
        "df_supervised = df_diff.drop(['prev_sales'],axis=1)\n",
        "#adding lags\n",
        "for inc in range(1,67):\n",
        "    field_name = 'lag_' + str(inc)\n",
        "    df_supervised[field_name] = df_supervised['diff'].shift(inc)\n",
        "#drop null values\n",
        "df_supervised = df_supervised.dropna().reset_index(drop=True)"
      ]
    },
    {
      "cell_type": "code",
      "execution_count": 84,
      "metadata": {},
      "outputs": [
        {
          "name": "stdout",
          "output_type": "stream",
          "text": [
            "-1.0315471910336473\n"
          ]
        }
      ],
      "source": [
        "# Import statsmodels.formula.api\n",
        "import statsmodels.formula.api as smf\n",
        "# Define the regression formula\n",
        "#model = smf.ols(formula='cantidad_frac ~ lag_1 +lag_2 +lag_3 +lag_4 +lag_5 +lag_6 +lag_7 +lag_8 +lag_9 +lag_10 +lag_11 +lag_12 +lag_13 +lag_14 +lag_15 +lag_16 +lag_17 +lag_18 +lag_19 +lag_20 +lag_21 +lag_22 +lag_23 +lag_24 +lag_25 +lag_26 +lag_27 +lag_28 +lag_29 +lag_30 +lag_31 +lag_32 +lag_33 +lag_34 +lag_35 +lag_36 +lag_37  +lag_38 +lag_39 +lag_40 +lag_41 +lag_42 +lag_43 +lag_44 +lag_45 +lag_46 +lag_47 +lag_48 +lag_49 +lag_50 +lag_51 +lag_52 +lag_53 +lag_54 +lag_55 +lag_56 +lag_57 +lag_58 +lag_59 +lag_60 +lag_61 +lag_62 +lag_63 +lag_64  ', data=df_supervised)\n",
        "model = smf.ols(formula='cantidad_frac ~ lag_1 +lag_2 +lag_3 +lag_4 +lag_5 +lag_6 +lag_7 +lag_8 +lag_9 +lag_10 +lag_11 +lag_12 +lag_13 +lag_14 +lag_15 +lag_16 +lag_17 +lag_18 +lag_19 +lag_20 +lag_21 +lag_22 +lag_23 +lag_24 +lag_25 +lag_26 +lag_27 +lag_28 +lag_29 +lag_30 +lag_31 +lag_32', data=df_supervised)\n",
        "#model = smf.ols(formula='cantidad_frac ~ lag_1 +lag_2 +lag_3 +lag_4 +lag_5 +lag_6 +lag_7 +lag_8 +lag_9 +lag_10', data=df_supervised)\n",
        "\n",
        "# Fit the regression\n",
        "model_fit = model.fit()\n",
        "# Extract the adjusted r-squared\n",
        "regression_adj_rsq = model_fit.rsquared_adj\n",
        "print(regression_adj_rsq)"
      ]
    },
    {
      "cell_type": "code",
      "execution_count": 83,
      "metadata": {},
      "outputs": [
        {
          "name": "stderr",
          "output_type": "stream",
          "text": [
            "c:\\Users\\jeanf\\miniconda3\\envs\\streamlit\\lib\\site-packages\\statsmodels\\regression\\linear_model.py:1796: RuntimeWarning:\n",
            "\n",
            "divide by zero encountered in divide\n",
            "\n",
            "c:\\Users\\jeanf\\miniconda3\\envs\\streamlit\\lib\\site-packages\\statsmodels\\regression\\linear_model.py:1796: RuntimeWarning:\n",
            "\n",
            "invalid value encountered in scalar multiply\n",
            "\n",
            "c:\\Users\\jeanf\\miniconda3\\envs\\streamlit\\lib\\site-packages\\statsmodels\\regression\\linear_model.py:1796: RuntimeWarning:\n",
            "\n",
            "divide by zero encountered in divide\n",
            "\n",
            "c:\\Users\\jeanf\\miniconda3\\envs\\streamlit\\lib\\site-packages\\statsmodels\\regression\\linear_model.py:1796: RuntimeWarning:\n",
            "\n",
            "invalid value encountered in scalar multiply\n",
            "\n",
            "c:\\Users\\jeanf\\miniconda3\\envs\\streamlit\\lib\\site-packages\\statsmodels\\regression\\linear_model.py:1796: RuntimeWarning:\n",
            "\n",
            "divide by zero encountered in divide\n",
            "\n",
            "c:\\Users\\jeanf\\miniconda3\\envs\\streamlit\\lib\\site-packages\\statsmodels\\regression\\linear_model.py:1796: RuntimeWarning:\n",
            "\n",
            "invalid value encountered in scalar multiply\n",
            "\n",
            "c:\\Users\\jeanf\\miniconda3\\envs\\streamlit\\lib\\site-packages\\statsmodels\\regression\\linear_model.py:1796: RuntimeWarning:\n",
            "\n",
            "divide by zero encountered in divide\n",
            "\n",
            "c:\\Users\\jeanf\\miniconda3\\envs\\streamlit\\lib\\site-packages\\statsmodels\\regression\\linear_model.py:1796: RuntimeWarning:\n",
            "\n",
            "invalid value encountered in scalar multiply\n",
            "\n",
            "c:\\Users\\jeanf\\miniconda3\\envs\\streamlit\\lib\\site-packages\\statsmodels\\regression\\linear_model.py:1796: RuntimeWarning:\n",
            "\n",
            "divide by zero encountered in divide\n",
            "\n",
            "c:\\Users\\jeanf\\miniconda3\\envs\\streamlit\\lib\\site-packages\\statsmodels\\regression\\linear_model.py:1796: RuntimeWarning:\n",
            "\n",
            "invalid value encountered in scalar multiply\n",
            "\n",
            "c:\\Users\\jeanf\\miniconda3\\envs\\streamlit\\lib\\site-packages\\statsmodels\\regression\\linear_model.py:1796: RuntimeWarning:\n",
            "\n",
            "divide by zero encountered in divide\n",
            "\n",
            "c:\\Users\\jeanf\\miniconda3\\envs\\streamlit\\lib\\site-packages\\statsmodels\\regression\\linear_model.py:1796: RuntimeWarning:\n",
            "\n",
            "invalid value encountered in scalar multiply\n",
            "\n",
            "c:\\Users\\jeanf\\miniconda3\\envs\\streamlit\\lib\\site-packages\\statsmodels\\regression\\linear_model.py:1796: RuntimeWarning:\n",
            "\n",
            "divide by zero encountered in divide\n",
            "\n",
            "c:\\Users\\jeanf\\miniconda3\\envs\\streamlit\\lib\\site-packages\\statsmodels\\regression\\linear_model.py:1796: RuntimeWarning:\n",
            "\n",
            "invalid value encountered in scalar multiply\n",
            "\n",
            "c:\\Users\\jeanf\\miniconda3\\envs\\streamlit\\lib\\site-packages\\statsmodels\\regression\\linear_model.py:1796: RuntimeWarning:\n",
            "\n",
            "divide by zero encountered in divide\n",
            "\n",
            "c:\\Users\\jeanf\\miniconda3\\envs\\streamlit\\lib\\site-packages\\statsmodels\\regression\\linear_model.py:1796: RuntimeWarning:\n",
            "\n",
            "invalid value encountered in scalar multiply\n",
            "\n",
            "c:\\Users\\jeanf\\miniconda3\\envs\\streamlit\\lib\\site-packages\\statsmodels\\regression\\linear_model.py:1796: RuntimeWarning:\n",
            "\n",
            "divide by zero encountered in divide\n",
            "\n",
            "c:\\Users\\jeanf\\miniconda3\\envs\\streamlit\\lib\\site-packages\\statsmodels\\regression\\linear_model.py:1796: RuntimeWarning:\n",
            "\n",
            "invalid value encountered in scalar multiply\n",
            "\n",
            "c:\\Users\\jeanf\\miniconda3\\envs\\streamlit\\lib\\site-packages\\statsmodels\\regression\\linear_model.py:1796: RuntimeWarning:\n",
            "\n",
            "divide by zero encountered in divide\n",
            "\n",
            "c:\\Users\\jeanf\\miniconda3\\envs\\streamlit\\lib\\site-packages\\statsmodels\\regression\\linear_model.py:1796: RuntimeWarning:\n",
            "\n",
            "invalid value encountered in scalar multiply\n",
            "\n",
            "c:\\Users\\jeanf\\miniconda3\\envs\\streamlit\\lib\\site-packages\\statsmodels\\regression\\linear_model.py:1796: RuntimeWarning:\n",
            "\n",
            "divide by zero encountered in divide\n",
            "\n",
            "c:\\Users\\jeanf\\miniconda3\\envs\\streamlit\\lib\\site-packages\\statsmodels\\regression\\linear_model.py:1796: RuntimeWarning:\n",
            "\n",
            "invalid value encountered in scalar multiply\n",
            "\n",
            "c:\\Users\\jeanf\\miniconda3\\envs\\streamlit\\lib\\site-packages\\statsmodels\\regression\\linear_model.py:1796: RuntimeWarning:\n",
            "\n",
            "divide by zero encountered in divide\n",
            "\n",
            "c:\\Users\\jeanf\\miniconda3\\envs\\streamlit\\lib\\site-packages\\statsmodels\\regression\\linear_model.py:1796: RuntimeWarning:\n",
            "\n",
            "invalid value encountered in scalar multiply\n",
            "\n",
            "c:\\Users\\jeanf\\miniconda3\\envs\\streamlit\\lib\\site-packages\\statsmodels\\regression\\linear_model.py:1796: RuntimeWarning:\n",
            "\n",
            "divide by zero encountered in divide\n",
            "\n",
            "c:\\Users\\jeanf\\miniconda3\\envs\\streamlit\\lib\\site-packages\\statsmodels\\regression\\linear_model.py:1796: RuntimeWarning:\n",
            "\n",
            "invalid value encountered in scalar multiply\n",
            "\n",
            "c:\\Users\\jeanf\\miniconda3\\envs\\streamlit\\lib\\site-packages\\statsmodels\\regression\\linear_model.py:1796: RuntimeWarning:\n",
            "\n",
            "divide by zero encountered in divide\n",
            "\n",
            "c:\\Users\\jeanf\\miniconda3\\envs\\streamlit\\lib\\site-packages\\statsmodels\\regression\\linear_model.py:1796: RuntimeWarning:\n",
            "\n",
            "invalid value encountered in scalar multiply\n",
            "\n",
            "c:\\Users\\jeanf\\miniconda3\\envs\\streamlit\\lib\\site-packages\\statsmodels\\regression\\linear_model.py:1796: RuntimeWarning:\n",
            "\n",
            "divide by zero encountered in divide\n",
            "\n",
            "c:\\Users\\jeanf\\miniconda3\\envs\\streamlit\\lib\\site-packages\\statsmodels\\regression\\linear_model.py:1796: RuntimeWarning:\n",
            "\n",
            "invalid value encountered in scalar multiply\n",
            "\n",
            "c:\\Users\\jeanf\\miniconda3\\envs\\streamlit\\lib\\site-packages\\statsmodels\\regression\\linear_model.py:1796: RuntimeWarning:\n",
            "\n",
            "divide by zero encountered in divide\n",
            "\n",
            "c:\\Users\\jeanf\\miniconda3\\envs\\streamlit\\lib\\site-packages\\statsmodels\\regression\\linear_model.py:1796: RuntimeWarning:\n",
            "\n",
            "invalid value encountered in scalar multiply\n",
            "\n",
            "c:\\Users\\jeanf\\miniconda3\\envs\\streamlit\\lib\\site-packages\\statsmodels\\regression\\linear_model.py:1796: RuntimeWarning:\n",
            "\n",
            "divide by zero encountered in divide\n",
            "\n",
            "c:\\Users\\jeanf\\miniconda3\\envs\\streamlit\\lib\\site-packages\\statsmodels\\regression\\linear_model.py:1796: RuntimeWarning:\n",
            "\n",
            "invalid value encountered in scalar multiply\n",
            "\n",
            "c:\\Users\\jeanf\\miniconda3\\envs\\streamlit\\lib\\site-packages\\statsmodels\\regression\\linear_model.py:1796: RuntimeWarning:\n",
            "\n",
            "divide by zero encountered in divide\n",
            "\n",
            "c:\\Users\\jeanf\\miniconda3\\envs\\streamlit\\lib\\site-packages\\statsmodels\\regression\\linear_model.py:1796: RuntimeWarning:\n",
            "\n",
            "invalid value encountered in scalar multiply\n",
            "\n",
            "c:\\Users\\jeanf\\miniconda3\\envs\\streamlit\\lib\\site-packages\\statsmodels\\regression\\linear_model.py:1796: RuntimeWarning:\n",
            "\n",
            "divide by zero encountered in divide\n",
            "\n",
            "c:\\Users\\jeanf\\miniconda3\\envs\\streamlit\\lib\\site-packages\\statsmodels\\regression\\linear_model.py:1796: RuntimeWarning:\n",
            "\n",
            "invalid value encountered in scalar multiply\n",
            "\n",
            "c:\\Users\\jeanf\\miniconda3\\envs\\streamlit\\lib\\site-packages\\statsmodels\\regression\\linear_model.py:1796: RuntimeWarning:\n",
            "\n",
            "divide by zero encountered in divide\n",
            "\n",
            "c:\\Users\\jeanf\\miniconda3\\envs\\streamlit\\lib\\site-packages\\statsmodels\\regression\\linear_model.py:1796: RuntimeWarning:\n",
            "\n",
            "invalid value encountered in scalar multiply\n",
            "\n",
            "c:\\Users\\jeanf\\miniconda3\\envs\\streamlit\\lib\\site-packages\\statsmodels\\regression\\linear_model.py:1796: RuntimeWarning:\n",
            "\n",
            "divide by zero encountered in divide\n",
            "\n",
            "c:\\Users\\jeanf\\miniconda3\\envs\\streamlit\\lib\\site-packages\\statsmodels\\regression\\linear_model.py:1796: RuntimeWarning:\n",
            "\n",
            "invalid value encountered in scalar multiply\n",
            "\n",
            "c:\\Users\\jeanf\\miniconda3\\envs\\streamlit\\lib\\site-packages\\statsmodels\\regression\\linear_model.py:1796: RuntimeWarning:\n",
            "\n",
            "divide by zero encountered in divide\n",
            "\n",
            "c:\\Users\\jeanf\\miniconda3\\envs\\streamlit\\lib\\site-packages\\statsmodels\\regression\\linear_model.py:1796: RuntimeWarning:\n",
            "\n",
            "invalid value encountered in scalar multiply\n",
            "\n",
            "c:\\Users\\jeanf\\miniconda3\\envs\\streamlit\\lib\\site-packages\\statsmodels\\regression\\linear_model.py:1796: RuntimeWarning:\n",
            "\n",
            "divide by zero encountered in divide\n",
            "\n",
            "c:\\Users\\jeanf\\miniconda3\\envs\\streamlit\\lib\\site-packages\\statsmodels\\regression\\linear_model.py:1796: RuntimeWarning:\n",
            "\n",
            "invalid value encountered in scalar multiply\n",
            "\n",
            "c:\\Users\\jeanf\\miniconda3\\envs\\streamlit\\lib\\site-packages\\statsmodels\\regression\\linear_model.py:1796: RuntimeWarning:\n",
            "\n",
            "divide by zero encountered in divide\n",
            "\n",
            "c:\\Users\\jeanf\\miniconda3\\envs\\streamlit\\lib\\site-packages\\statsmodels\\regression\\linear_model.py:1796: RuntimeWarning:\n",
            "\n",
            "invalid value encountered in scalar multiply\n",
            "\n",
            "c:\\Users\\jeanf\\miniconda3\\envs\\streamlit\\lib\\site-packages\\statsmodels\\regression\\linear_model.py:1796: RuntimeWarning:\n",
            "\n",
            "divide by zero encountered in divide\n",
            "\n",
            "c:\\Users\\jeanf\\miniconda3\\envs\\streamlit\\lib\\site-packages\\statsmodels\\regression\\linear_model.py:1796: RuntimeWarning:\n",
            "\n",
            "invalid value encountered in scalar multiply\n",
            "\n",
            "c:\\Users\\jeanf\\miniconda3\\envs\\streamlit\\lib\\site-packages\\statsmodels\\regression\\linear_model.py:1796: RuntimeWarning:\n",
            "\n",
            "divide by zero encountered in divide\n",
            "\n",
            "c:\\Users\\jeanf\\miniconda3\\envs\\streamlit\\lib\\site-packages\\statsmodels\\regression\\linear_model.py:1796: RuntimeWarning:\n",
            "\n",
            "invalid value encountered in scalar multiply\n",
            "\n",
            "c:\\Users\\jeanf\\miniconda3\\envs\\streamlit\\lib\\site-packages\\statsmodels\\regression\\linear_model.py:1796: RuntimeWarning:\n",
            "\n",
            "divide by zero encountered in divide\n",
            "\n",
            "c:\\Users\\jeanf\\miniconda3\\envs\\streamlit\\lib\\site-packages\\statsmodels\\regression\\linear_model.py:1796: RuntimeWarning:\n",
            "\n",
            "invalid value encountered in scalar multiply\n",
            "\n",
            "c:\\Users\\jeanf\\miniconda3\\envs\\streamlit\\lib\\site-packages\\statsmodels\\regression\\linear_model.py:1796: RuntimeWarning:\n",
            "\n",
            "divide by zero encountered in divide\n",
            "\n",
            "c:\\Users\\jeanf\\miniconda3\\envs\\streamlit\\lib\\site-packages\\statsmodels\\regression\\linear_model.py:1796: RuntimeWarning:\n",
            "\n",
            "invalid value encountered in scalar multiply\n",
            "\n",
            "c:\\Users\\jeanf\\miniconda3\\envs\\streamlit\\lib\\site-packages\\statsmodels\\regression\\linear_model.py:1796: RuntimeWarning:\n",
            "\n",
            "divide by zero encountered in divide\n",
            "\n",
            "c:\\Users\\jeanf\\miniconda3\\envs\\streamlit\\lib\\site-packages\\statsmodels\\regression\\linear_model.py:1796: RuntimeWarning:\n",
            "\n",
            "invalid value encountered in scalar multiply\n",
            "\n"
          ]
        },
        {
          "name": "stdout",
          "output_type": "stream",
          "text": [
            "Lag 1: R-cuadrado ajustado = 0.09262641018325912\n",
            "Lag 2: R-cuadrado ajustado = 0.10170105278086206\n",
            "Lag 3: R-cuadrado ajustado = 0.11041135506936528\n",
            "Lag 4: R-cuadrado ajustado = 0.10349492574405372\n",
            "Lag 5: R-cuadrado ajustado = 0.21228909834587917\n",
            "Lag 6: R-cuadrado ajustado = 0.19723668431113295\n",
            "Lag 7: R-cuadrado ajustado = 0.2532504141692339\n",
            "Lag 8: R-cuadrado ajustado = 0.2266567575667311\n",
            "Lag 9: R-cuadrado ajustado = 0.21244088887604617\n",
            "Lag 10: R-cuadrado ajustado = 0.18102289014968054\n",
            "Lag 11: R-cuadrado ajustado = 0.2726303611821167\n",
            "Lag 12: R-cuadrado ajustado = 0.2526177412707187\n",
            "Lag 13: R-cuadrado ajustado = 0.23734452014040341\n",
            "Lag 14: R-cuadrado ajustado = 0.20313223770810573\n",
            "Lag 15: R-cuadrado ajustado = 0.23621030187299052\n",
            "Lag 16: R-cuadrado ajustado = 0.19620180259358566\n",
            "Lag 17: R-cuadrado ajustado = 0.15865287782786763\n",
            "Lag 18: R-cuadrado ajustado = 0.12091001157130243\n",
            "Lag 19: R-cuadrado ajustado = 0.07627944923772767\n",
            "Lag 20: R-cuadrado ajustado = 0.015714438009411524\n",
            "Lag 21: R-cuadrado ajustado = -0.04403332664788584\n",
            "Lag 22: R-cuadrado ajustado = -0.042142574250276565\n",
            "Lag 23: R-cuadrado ajustado = -0.12209009043148789\n",
            "Lag 24: R-cuadrado ajustado = -0.22353257207768262\n",
            "Lag 25: R-cuadrado ajustado = -0.3358775972536381\n",
            "Lag 26: R-cuadrado ajustado = -0.10773462697206049\n",
            "Lag 27: R-cuadrado ajustado = 0.020259877154334305\n",
            "Lag 28: R-cuadrado ajustado = -0.00915854520492898\n",
            "Lag 29: R-cuadrado ajustado = -0.15825317346198076\n",
            "Lag 30: R-cuadrado ajustado = -0.22861515896263485\n",
            "Lag 31: R-cuadrado ajustado = -0.5295301410048525\n",
            "Lag 32: R-cuadrado ajustado = -1.0315471910336473\n",
            "Lag 33: R-cuadrado ajustado = -1.6998019691395858\n",
            "Lag 34: R-cuadrado ajustado = -2.27565884226962\n",
            "Lag 35: R-cuadrado ajustado = nan\n",
            "Lag 36: R-cuadrado ajustado = nan\n",
            "Lag 37: R-cuadrado ajustado = nan\n",
            "Lag 38: R-cuadrado ajustado = nan\n",
            "Lag 39: R-cuadrado ajustado = nan\n",
            "Lag 40: R-cuadrado ajustado = nan\n",
            "Lag 41: R-cuadrado ajustado = nan\n",
            "Lag 42: R-cuadrado ajustado = nan\n",
            "Lag 43: R-cuadrado ajustado = nan\n",
            "Lag 44: R-cuadrado ajustado = nan\n",
            "Lag 45: R-cuadrado ajustado = nan\n",
            "Lag 46: R-cuadrado ajustado = nan\n",
            "Lag 47: R-cuadrado ajustado = nan\n",
            "Lag 48: R-cuadrado ajustado = nan\n",
            "Lag 49: R-cuadrado ajustado = nan\n",
            "Lag 50: R-cuadrado ajustado = nan\n",
            "Lag 51: R-cuadrado ajustado = nan\n",
            "Lag 52: R-cuadrado ajustado = nan\n",
            "Lag 53: R-cuadrado ajustado = nan\n",
            "Lag 54: R-cuadrado ajustado = nan\n",
            "Lag 55: R-cuadrado ajustado = nan\n",
            "Lag 56: R-cuadrado ajustado = nan\n",
            "Lag 57: R-cuadrado ajustado = nan\n",
            "Lag 58: R-cuadrado ajustado = nan\n",
            "Lag 59: R-cuadrado ajustado = nan\n",
            "Lag 60: R-cuadrado ajustado = nan\n",
            "Lag 61: R-cuadrado ajustado = nan\n",
            "Lag 62: R-cuadrado ajustado = nan\n",
            "Lag 63: R-cuadrado ajustado = nan\n",
            "Lag 64: R-cuadrado ajustado = nan\n",
            "Lag 65: R-cuadrado ajustado = nan\n",
            "Lag 66: R-cuadrado ajustado = nan\n"
          ]
        },
        {
          "name": "stderr",
          "output_type": "stream",
          "text": [
            "c:\\Users\\jeanf\\miniconda3\\envs\\streamlit\\lib\\site-packages\\statsmodels\\regression\\linear_model.py:1796: RuntimeWarning:\n",
            "\n",
            "divide by zero encountered in divide\n",
            "\n",
            "c:\\Users\\jeanf\\miniconda3\\envs\\streamlit\\lib\\site-packages\\statsmodels\\regression\\linear_model.py:1796: RuntimeWarning:\n",
            "\n",
            "invalid value encountered in scalar multiply\n",
            "\n",
            "c:\\Users\\jeanf\\miniconda3\\envs\\streamlit\\lib\\site-packages\\statsmodels\\regression\\linear_model.py:1796: RuntimeWarning:\n",
            "\n",
            "divide by zero encountered in divide\n",
            "\n",
            "c:\\Users\\jeanf\\miniconda3\\envs\\streamlit\\lib\\site-packages\\statsmodels\\regression\\linear_model.py:1796: RuntimeWarning:\n",
            "\n",
            "invalid value encountered in scalar multiply\n",
            "\n",
            "c:\\Users\\jeanf\\miniconda3\\envs\\streamlit\\lib\\site-packages\\statsmodels\\regression\\linear_model.py:1796: RuntimeWarning:\n",
            "\n",
            "divide by zero encountered in divide\n",
            "\n",
            "c:\\Users\\jeanf\\miniconda3\\envs\\streamlit\\lib\\site-packages\\statsmodels\\regression\\linear_model.py:1796: RuntimeWarning:\n",
            "\n",
            "invalid value encountered in scalar multiply\n",
            "\n"
          ]
        }
      ],
      "source": [
        "import statsmodels.formula.api as smf\n",
        "\n",
        "def calcular_r2_lags(df, max_lag):\n",
        "    resultados_r2 = {}\n",
        "    \n",
        "    # Iterar sobre los diferentes números de lags\n",
        "    for lag in range(1, max_lag + 1):\n",
        "        # Crear la fórmula con el número de lags actual\n",
        "        formula = 'cantidad_frac ~ ' + ' + '.join([f'lag_{i}' for i in range(1, lag + 1)])\n",
        "        \n",
        "        # Ajustar el modelo de regresión\n",
        "        model = smf.ols(formula=formula, data=df)\n",
        "        model_fit = model.fit()\n",
        "        \n",
        "        # Extraer el R-cuadrado ajustado y guardarlo\n",
        "        resultados_r2[f'Lag {lag}'] = model_fit.rsquared_adj\n",
        "    \n",
        "    return resultados_r2\n",
        "\n",
        "# Usando la función con un ejemplo\n",
        "max_lag = 66  # Define el número máximo de lags que quieras analizar\n",
        "resultados = calcular_r2_lags(df_supervised, max_lag)\n",
        "\n",
        "# Imprimir los resultados\n",
        "for lag, r2 in resultados.items():\n",
        "    print(f\"{lag}: R-cuadrado ajustado = {r2}\")\n"
      ]
    },
    {
      "cell_type": "code",
      "execution_count": 85,
      "metadata": {},
      "outputs": [],
      "source": [
        "#import MinMaxScaler and create a new dataframe for LSTM model\n",
        "from sklearn.preprocessing import MinMaxScaler\n",
        "df_model = df_supervised.drop(['cantidad_frac','Fecha'],axis=1)\n",
        "#split train and test set\n",
        "train_set, test_set = df_model[0:-6].values, df_model[-6:].values"
      ]
    },
    {
      "cell_type": "code",
      "execution_count": 86,
      "metadata": {},
      "outputs": [],
      "source": [
        "#apply Min Max Scaler\n",
        "scaler = MinMaxScaler(feature_range=(-1, 1))\n",
        "scaler = scaler.fit(train_set)\n",
        "# reshape training set\n",
        "train_set = train_set.reshape(train_set.shape[0], train_set.shape[1])\n",
        "train_set_scaled = scaler.transform(train_set)\n",
        "# reshape test set\n",
        "test_set = test_set.reshape(test_set.shape[0], test_set.shape[1])\n",
        "test_set_scaled = scaler.transform(test_set)"
      ]
    },
    {
      "cell_type": "code",
      "execution_count": 87,
      "metadata": {},
      "outputs": [],
      "source": [
        "X_train, y_train = train_set_scaled[:, 1:], train_set_scaled[:, 0:1]\n",
        "X_train = X_train.reshape(X_train.shape[0], 1, X_train.shape[1])\n",
        "X_test, y_test = test_set_scaled[:, 1:], test_set_scaled[:, 0:1]\n",
        "X_test = X_test.reshape(X_test.shape[0], 1, X_test.shape[1])"
      ]
    },
    {
      "cell_type": "code",
      "execution_count": 113,
      "metadata": {},
      "outputs": [
        {
          "name": "stdout",
          "output_type": "stream",
          "text": [
            "Epoch 1/250\n"
          ]
        },
        {
          "name": "stderr",
          "output_type": "stream",
          "text": [
            "c:\\Users\\jeanf\\miniconda3\\envs\\streamlit\\lib\\site-packages\\keras\\src\\layers\\rnn\\rnn.py:204: UserWarning:\n",
            "\n",
            "Do not pass an `input_shape`/`input_dim` argument to a layer. When using Sequential models, prefer using an `Input(shape)` object as the first layer in the model instead.\n",
            "\n"
          ]
        },
        {
          "name": "stdout",
          "output_type": "stream",
          "text": [
            "\u001b[1m30/30\u001b[0m \u001b[32m━━━━━━━━━━━━━━━━━━━━\u001b[0m\u001b[37m\u001b[0m \u001b[1m3s\u001b[0m 16ms/step - loss: 6.1577 - root_mean_squared_error: 0.6279 - val_loss: 6.2240 - val_root_mean_squared_error: 0.7245 - learning_rate: 5.0000e-05\n",
            "Epoch 2/250\n",
            "\u001b[1m30/30\u001b[0m \u001b[32m━━━━━━━━━━━━━━━━━━━━\u001b[0m\u001b[37m\u001b[0m \u001b[1m0s\u001b[0m 2ms/step - loss: 5.9393 - root_mean_squared_error: 0.6258 - val_loss: 6.0120 - val_root_mean_squared_error: 0.7232 - learning_rate: 5.0000e-05\n",
            "Epoch 3/250\n",
            "\u001b[1m30/30\u001b[0m \u001b[32m━━━━━━━━━━━━━━━━━━━━\u001b[0m\u001b[37m\u001b[0m \u001b[1m0s\u001b[0m 2ms/step - loss: 5.7299 - root_mean_squared_error: 0.6249 - val_loss: 5.8077 - val_root_mean_squared_error: 0.7219 - learning_rate: 5.0000e-05\n",
            "Epoch 4/250\n",
            "\u001b[1m30/30\u001b[0m \u001b[32m━━━━━━━━━━━━━━━━━━━━\u001b[0m\u001b[37m\u001b[0m \u001b[1m0s\u001b[0m 2ms/step - loss: 5.5278 - root_mean_squared_error: 0.6234 - val_loss: 5.6107 - val_root_mean_squared_error: 0.7207 - learning_rate: 5.0000e-05\n",
            "Epoch 5/250\n",
            "\u001b[1m30/30\u001b[0m \u001b[32m━━━━━━━━━━━━━━━━━━━━\u001b[0m\u001b[37m\u001b[0m \u001b[1m0s\u001b[0m 2ms/step - loss: 5.3349 - root_mean_squared_error: 0.6240 - val_loss: 5.4207 - val_root_mean_squared_error: 0.7195 - learning_rate: 5.0000e-05\n",
            "Epoch 6/250\n",
            "\u001b[1m30/30\u001b[0m \u001b[32m━━━━━━━━━━━━━━━━━━━━\u001b[0m\u001b[37m\u001b[0m \u001b[1m0s\u001b[0m 3ms/step - loss: 5.1468 - root_mean_squared_error: 0.6228 - val_loss: 5.2374 - val_root_mean_squared_error: 0.7184 - learning_rate: 5.0000e-05\n",
            "Epoch 7/250\n",
            "\u001b[1m30/30\u001b[0m \u001b[32m━━━━━━━━━━━━━━━━━━━━\u001b[0m\u001b[37m\u001b[0m \u001b[1m0s\u001b[0m 3ms/step - loss: 4.9663 - root_mean_squared_error: 0.6224 - val_loss: 5.0605 - val_root_mean_squared_error: 0.7172 - learning_rate: 5.0000e-05\n",
            "Epoch 8/250\n",
            "\u001b[1m30/30\u001b[0m \u001b[32m━━━━━━━━━━━━━━━━━━━━\u001b[0m\u001b[37m\u001b[0m \u001b[1m0s\u001b[0m 3ms/step - loss: 4.7935 - root_mean_squared_error: 0.6233 - val_loss: 4.8897 - val_root_mean_squared_error: 0.7161 - learning_rate: 5.0000e-05\n",
            "Epoch 9/250\n",
            "\u001b[1m30/30\u001b[0m \u001b[32m━━━━━━━━━━━━━━━━━━━━\u001b[0m\u001b[37m\u001b[0m \u001b[1m0s\u001b[0m 3ms/step - loss: 4.6226 - root_mean_squared_error: 0.6211 - val_loss: 4.7249 - val_root_mean_squared_error: 0.7150 - learning_rate: 5.0000e-05\n",
            "Epoch 10/250\n",
            "\u001b[1m30/30\u001b[0m \u001b[32m━━━━━━━━━━━━━━━━━━━━\u001b[0m\u001b[37m\u001b[0m \u001b[1m0s\u001b[0m 3ms/step - loss: 4.4589 - root_mean_squared_error: 0.6193 - val_loss: 4.5658 - val_root_mean_squared_error: 0.7140 - learning_rate: 5.0000e-05\n",
            "Epoch 11/250\n",
            "\u001b[1m30/30\u001b[0m \u001b[32m━━━━━━━━━━━━━━━━━━━━\u001b[0m\u001b[37m\u001b[0m \u001b[1m0s\u001b[0m 2ms/step - loss: 4.3005 - root_mean_squared_error: 0.6174 - val_loss: 4.4124 - val_root_mean_squared_error: 0.7129 - learning_rate: 5.0000e-05\n",
            "Epoch 12/250\n",
            "\u001b[1m30/30\u001b[0m \u001b[32m━━━━━━━━━━━━━━━━━━━━\u001b[0m\u001b[37m\u001b[0m \u001b[1m0s\u001b[0m 3ms/step - loss: 4.1509 - root_mean_squared_error: 0.6181 - val_loss: 4.2642 - val_root_mean_squared_error: 0.7120 - learning_rate: 5.0000e-05\n",
            "Epoch 13/250\n",
            "\u001b[1m30/30\u001b[0m \u001b[32m━━━━━━━━━━━━━━━━━━━━\u001b[0m\u001b[37m\u001b[0m \u001b[1m0s\u001b[0m 3ms/step - loss: 4.0016 - root_mean_squared_error: 0.6150 - val_loss: 4.1212 - val_root_mean_squared_error: 0.7109 - learning_rate: 5.0000e-05\n",
            "Epoch 14/250\n",
            "\u001b[1m30/30\u001b[0m \u001b[32m━━━━━━━━━━━━━━━━━━━━\u001b[0m\u001b[37m\u001b[0m \u001b[1m0s\u001b[0m 2ms/step - loss: 3.8623 - root_mean_squared_error: 0.6158 - val_loss: 3.9832 - val_root_mean_squared_error: 0.7100 - learning_rate: 5.0000e-05\n",
            "Epoch 15/250\n",
            "\u001b[1m30/30\u001b[0m \u001b[32m━━━━━━━━━━━━━━━━━━━━\u001b[0m\u001b[37m\u001b[0m \u001b[1m0s\u001b[0m 2ms/step - loss: 3.7246 - root_mean_squared_error: 0.6139 - val_loss: 3.8501 - val_root_mean_squared_error: 0.7090 - learning_rate: 5.0000e-05\n",
            "Epoch 16/250\n",
            "\u001b[1m30/30\u001b[0m \u001b[32m━━━━━━━━━━━━━━━━━━━━\u001b[0m\u001b[37m\u001b[0m \u001b[1m0s\u001b[0m 2ms/step - loss: 3.5923 - root_mean_squared_error: 0.6127 - val_loss: 3.7216 - val_root_mean_squared_error: 0.7081 - learning_rate: 5.0000e-05\n",
            "Epoch 17/250\n",
            "\u001b[1m30/30\u001b[0m \u001b[32m━━━━━━━━━━━━━━━━━━━━\u001b[0m\u001b[37m\u001b[0m \u001b[1m0s\u001b[0m 3ms/step - loss: 3.4658 - root_mean_squared_error: 0.6121 - val_loss: 3.5976 - val_root_mean_squared_error: 0.7071 - learning_rate: 5.0000e-05\n",
            "Epoch 18/250\n",
            "\u001b[1m30/30\u001b[0m \u001b[32m━━━━━━━━━━━━━━━━━━━━\u001b[0m\u001b[37m\u001b[0m \u001b[1m0s\u001b[0m 3ms/step - loss: 3.3428 - root_mean_squared_error: 0.6111 - val_loss: 3.4779 - val_root_mean_squared_error: 0.7062 - learning_rate: 5.0000e-05\n",
            "Epoch 19/250\n",
            "\u001b[1m30/30\u001b[0m \u001b[32m━━━━━━━━━━━━━━━━━━━━\u001b[0m\u001b[37m\u001b[0m \u001b[1m0s\u001b[0m 3ms/step - loss: 3.2245 - root_mean_squared_error: 0.6101 - val_loss: 3.3624 - val_root_mean_squared_error: 0.7053 - learning_rate: 5.0000e-05\n",
            "Epoch 20/250\n",
            "\u001b[1m30/30\u001b[0m \u001b[32m━━━━━━━━━━━━━━━━━━━━\u001b[0m\u001b[37m\u001b[0m \u001b[1m0s\u001b[0m 2ms/step - loss: 3.1115 - root_mean_squared_error: 0.6104 - val_loss: 3.2510 - val_root_mean_squared_error: 0.7044 - learning_rate: 5.0000e-05\n",
            "Epoch 21/250\n",
            "\u001b[1m30/30\u001b[0m \u001b[32m━━━━━━━━━━━━━━━━━━━━\u001b[0m\u001b[37m\u001b[0m \u001b[1m0s\u001b[0m 5ms/step - loss: 3.0009 - root_mean_squared_error: 0.6089 - val_loss: 3.1436 - val_root_mean_squared_error: 0.7035 - learning_rate: 5.0000e-05\n",
            "Epoch 22/250\n",
            "\u001b[1m30/30\u001b[0m \u001b[32m━━━━━━━━━━━━━━━━━━━━\u001b[0m\u001b[37m\u001b[0m \u001b[1m0s\u001b[0m 3ms/step - loss: 2.8931 - root_mean_squared_error: 0.6072 - val_loss: 3.0400 - val_root_mean_squared_error: 0.7026 - learning_rate: 5.0000e-05\n",
            "Epoch 23/250\n",
            "\u001b[1m30/30\u001b[0m \u001b[32m━━━━━━━━━━━━━━━━━━━━\u001b[0m\u001b[37m\u001b[0m \u001b[1m0s\u001b[0m 3ms/step - loss: 2.7907 - root_mean_squared_error: 0.6065 - val_loss: 2.9401 - val_root_mean_squared_error: 0.7018 - learning_rate: 5.0000e-05\n",
            "Epoch 24/250\n",
            "\u001b[1m30/30\u001b[0m \u001b[32m━━━━━━━━━━━━━━━━━━━━\u001b[0m\u001b[37m\u001b[0m \u001b[1m0s\u001b[0m 3ms/step - loss: 2.6917 - root_mean_squared_error: 0.6056 - val_loss: 2.8438 - val_root_mean_squared_error: 0.7009 - learning_rate: 5.0000e-05\n",
            "Epoch 25/250\n",
            "\u001b[1m30/30\u001b[0m \u001b[32m━━━━━━━━━━━━━━━━━━━━\u001b[0m\u001b[37m\u001b[0m \u001b[1m0s\u001b[0m 3ms/step - loss: 2.5980 - root_mean_squared_error: 0.6059 - val_loss: 2.7509 - val_root_mean_squared_error: 0.7001 - learning_rate: 5.0000e-05\n",
            "Epoch 26/250\n",
            "\u001b[1m30/30\u001b[0m \u001b[32m━━━━━━━━━━━━━━━━━━━━\u001b[0m\u001b[37m\u001b[0m \u001b[1m0s\u001b[0m 4ms/step - loss: 2.5055 - root_mean_squared_error: 0.6044 - val_loss: 2.6613 - val_root_mean_squared_error: 0.6993 - learning_rate: 5.0000e-05\n",
            "Epoch 27/250\n",
            "\u001b[1m30/30\u001b[0m \u001b[32m━━━━━━━━━━━━━━━━━━━━\u001b[0m\u001b[37m\u001b[0m \u001b[1m0s\u001b[0m 2ms/step - loss: 2.4171 - root_mean_squared_error: 0.6038 - val_loss: 2.5750 - val_root_mean_squared_error: 0.6985 - learning_rate: 5.0000e-05\n",
            "Epoch 28/250\n",
            "\u001b[1m30/30\u001b[0m \u001b[32m━━━━━━━━━━━━━━━━━━━━\u001b[0m\u001b[37m\u001b[0m \u001b[1m0s\u001b[0m 2ms/step - loss: 2.3302 - root_mean_squared_error: 0.6019 - val_loss: 2.4917 - val_root_mean_squared_error: 0.6976 - learning_rate: 5.0000e-05\n",
            "Epoch 29/250\n",
            "\u001b[1m30/30\u001b[0m \u001b[32m━━━━━━━━━━━━━━━━━━━━\u001b[0m\u001b[37m\u001b[0m \u001b[1m0s\u001b[0m 2ms/step - loss: 2.2499 - root_mean_squared_error: 0.6026 - val_loss: 2.4115 - val_root_mean_squared_error: 0.6968 - learning_rate: 5.0000e-05\n",
            "Epoch 30/250\n",
            "\u001b[1m30/30\u001b[0m \u001b[32m━━━━━━━━━━━━━━━━━━━━\u001b[0m\u001b[37m\u001b[0m \u001b[1m0s\u001b[0m 2ms/step - loss: 2.1704 - root_mean_squared_error: 0.6016 - val_loss: 2.3343 - val_root_mean_squared_error: 0.6960 - learning_rate: 5.0000e-05\n",
            "Epoch 31/250\n",
            "\u001b[1m30/30\u001b[0m \u001b[32m━━━━━━━━━━━━━━━━━━━━\u001b[0m\u001b[37m\u001b[0m \u001b[1m0s\u001b[0m 3ms/step - loss: 2.0924 - root_mean_squared_error: 0.5999 - val_loss: 2.2598 - val_root_mean_squared_error: 0.6952 - learning_rate: 5.0000e-05\n",
            "Epoch 32/250\n",
            "\u001b[1m30/30\u001b[0m \u001b[32m━━━━━━━━━━━━━━━━━━━━\u001b[0m\u001b[37m\u001b[0m \u001b[1m0s\u001b[0m 3ms/step - loss: 2.0198 - root_mean_squared_error: 0.5998 - val_loss: 2.1881 - val_root_mean_squared_error: 0.6944 - learning_rate: 5.0000e-05\n",
            "Epoch 33/250\n",
            "\u001b[1m30/30\u001b[0m \u001b[32m━━━━━━━━━━━━━━━━━━━━\u001b[0m\u001b[37m\u001b[0m \u001b[1m0s\u001b[0m 3ms/step - loss: 1.9487 - root_mean_squared_error: 0.5988 - val_loss: 2.1191 - val_root_mean_squared_error: 0.6937 - learning_rate: 5.0000e-05\n",
            "Epoch 34/250\n",
            "\u001b[1m30/30\u001b[0m \u001b[32m━━━━━━━━━━━━━━━━━━━━\u001b[0m\u001b[37m\u001b[0m \u001b[1m0s\u001b[0m 3ms/step - loss: 1.8801 - root_mean_squared_error: 0.5976 - val_loss: 2.0526 - val_root_mean_squared_error: 0.6929 - learning_rate: 5.0000e-05\n",
            "Epoch 35/250\n",
            "\u001b[1m30/30\u001b[0m \u001b[32m━━━━━━━━━━━━━━━━━━━━\u001b[0m\u001b[37m\u001b[0m \u001b[1m0s\u001b[0m 3ms/step - loss: 1.8142 - root_mean_squared_error: 0.5966 - val_loss: 1.9887 - val_root_mean_squared_error: 0.6921 - learning_rate: 5.0000e-05\n",
            "Epoch 36/250\n",
            "\u001b[1m30/30\u001b[0m \u001b[32m━━━━━━━━━━━━━━━━━━━━\u001b[0m\u001b[37m\u001b[0m \u001b[1m0s\u001b[0m 3ms/step - loss: 1.7518 - root_mean_squared_error: 0.5964 - val_loss: 1.9271 - val_root_mean_squared_error: 0.6913 - learning_rate: 5.0000e-05\n",
            "Epoch 37/250\n",
            "\u001b[1m30/30\u001b[0m \u001b[32m━━━━━━━━━━━━━━━━━━━━\u001b[0m\u001b[37m\u001b[0m \u001b[1m0s\u001b[0m 3ms/step - loss: 1.6910 - root_mean_squared_error: 0.5960 - val_loss: 1.8679 - val_root_mean_squared_error: 0.6906 - learning_rate: 5.0000e-05\n",
            "Epoch 38/250\n",
            "\u001b[1m30/30\u001b[0m \u001b[32m━━━━━━━━━━━━━━━━━━━━\u001b[0m\u001b[37m\u001b[0m \u001b[1m0s\u001b[0m 2ms/step - loss: 1.6336 - root_mean_squared_error: 0.5959 - val_loss: 1.8109 - val_root_mean_squared_error: 0.6898 - learning_rate: 5.0000e-05\n",
            "Epoch 39/250\n",
            "\u001b[1m30/30\u001b[0m \u001b[32m━━━━━━━━━━━━━━━━━━━━\u001b[0m\u001b[37m\u001b[0m \u001b[1m0s\u001b[0m 2ms/step - loss: 1.5766 - root_mean_squared_error: 0.5948 - val_loss: 1.7560 - val_root_mean_squared_error: 0.6891 - learning_rate: 5.0000e-05\n",
            "Epoch 40/250\n",
            "\u001b[1m30/30\u001b[0m \u001b[32m━━━━━━━━━━━━━━━━━━━━\u001b[0m\u001b[37m\u001b[0m \u001b[1m0s\u001b[0m 3ms/step - loss: 1.5237 - root_mean_squared_error: 0.5948 - val_loss: 1.7033 - val_root_mean_squared_error: 0.6883 - learning_rate: 5.0000e-05\n",
            "Epoch 41/250\n",
            "\u001b[1m30/30\u001b[0m \u001b[32m━━━━━━━━━━━━━━━━━━━━\u001b[0m\u001b[37m\u001b[0m \u001b[1m0s\u001b[0m 3ms/step - loss: 1.4692 - root_mean_squared_error: 0.5922 - val_loss: 1.6526 - val_root_mean_squared_error: 0.6876 - learning_rate: 5.0000e-05\n",
            "Epoch 42/250\n",
            "\u001b[1m30/30\u001b[0m \u001b[32m━━━━━━━━━━━━━━━━━━━━\u001b[0m\u001b[37m\u001b[0m \u001b[1m0s\u001b[0m 2ms/step - loss: 1.4212 - root_mean_squared_error: 0.5930 - val_loss: 1.6039 - val_root_mean_squared_error: 0.6868 - learning_rate: 5.0000e-05\n",
            "Epoch 43/250\n",
            "\u001b[1m30/30\u001b[0m \u001b[32m━━━━━━━━━━━━━━━━━━━━\u001b[0m\u001b[37m\u001b[0m \u001b[1m0s\u001b[0m 2ms/step - loss: 1.3718 - root_mean_squared_error: 0.5915 - val_loss: 1.5570 - val_root_mean_squared_error: 0.6861 - learning_rate: 5.0000e-05\n",
            "Epoch 44/250\n",
            "\u001b[1m30/30\u001b[0m \u001b[32m━━━━━━━━━━━━━━━━━━━━\u001b[0m\u001b[37m\u001b[0m \u001b[1m0s\u001b[0m 2ms/step - loss: 1.3253 - root_mean_squared_error: 0.5906 - val_loss: 1.5120 - val_root_mean_squared_error: 0.6853 - learning_rate: 5.0000e-05\n",
            "Epoch 45/250\n",
            "\u001b[1m30/30\u001b[0m \u001b[32m━━━━━━━━━━━━━━━━━━━━\u001b[0m\u001b[37m\u001b[0m \u001b[1m0s\u001b[0m 3ms/step - loss: 1.2798 - root_mean_squared_error: 0.5886 - val_loss: 1.4687 - val_root_mean_squared_error: 0.6845 - learning_rate: 5.0000e-05\n",
            "Epoch 46/250\n",
            "\u001b[1m30/30\u001b[0m \u001b[32m━━━━━━━━━━━━━━━━━━━━\u001b[0m\u001b[37m\u001b[0m \u001b[1m0s\u001b[0m 2ms/step - loss: 1.2397 - root_mean_squared_error: 0.5902 - val_loss: 1.4272 - val_root_mean_squared_error: 0.6837 - learning_rate: 5.0000e-05\n",
            "Epoch 47/250\n",
            "\u001b[1m30/30\u001b[0m \u001b[32m━━━━━━━━━━━━━━━━━━━━\u001b[0m\u001b[37m\u001b[0m \u001b[1m0s\u001b[0m 2ms/step - loss: 1.1970 - root_mean_squared_error: 0.5878 - val_loss: 1.3873 - val_root_mean_squared_error: 0.6829 - learning_rate: 5.0000e-05\n",
            "Epoch 48/250\n",
            "\u001b[1m30/30\u001b[0m \u001b[32m━━━━━━━━━━━━━━━━━━━━\u001b[0m\u001b[37m\u001b[0m \u001b[1m0s\u001b[0m 3ms/step - loss: 1.1583 - root_mean_squared_error: 0.5876 - val_loss: 1.3489 - val_root_mean_squared_error: 0.6821 - learning_rate: 5.0000e-05\n",
            "Epoch 49/250\n",
            "\u001b[1m30/30\u001b[0m \u001b[32m━━━━━━━━━━━━━━━━━━━━\u001b[0m\u001b[37m\u001b[0m \u001b[1m0s\u001b[0m 3ms/step - loss: 1.1184 - root_mean_squared_error: 0.5851 - val_loss: 1.3121 - val_root_mean_squared_error: 0.6813 - learning_rate: 5.0000e-05\n",
            "Epoch 50/250\n",
            "\u001b[1m30/30\u001b[0m \u001b[32m━━━━━━━━━━━━━━━━━━━━\u001b[0m\u001b[37m\u001b[0m \u001b[1m0s\u001b[0m 3ms/step - loss: 1.0828 - root_mean_squared_error: 0.5850 - val_loss: 1.2769 - val_root_mean_squared_error: 0.6805 - learning_rate: 5.0000e-05\n",
            "Epoch 51/250\n",
            "\u001b[1m30/30\u001b[0m \u001b[32m━━━━━━━━━━━━━━━━━━━━\u001b[0m\u001b[37m\u001b[0m \u001b[1m0s\u001b[0m 2ms/step - loss: 1.0503 - root_mean_squared_error: 0.5860 - val_loss: 1.2430 - val_root_mean_squared_error: 0.6797 - learning_rate: 5.0000e-05\n",
            "Epoch 52/250\n",
            "\u001b[1m30/30\u001b[0m \u001b[32m━━━━━━━━━━━━━━━━━━━━\u001b[0m\u001b[37m\u001b[0m \u001b[1m0s\u001b[0m 2ms/step - loss: 1.0156 - root_mean_squared_error: 0.5841 - val_loss: 1.2105 - val_root_mean_squared_error: 0.6789 - learning_rate: 5.0000e-05\n",
            "Epoch 53/250\n",
            "\u001b[1m30/30\u001b[0m \u001b[32m━━━━━━━━━━━━━━━━━━━━\u001b[0m\u001b[37m\u001b[0m \u001b[1m0s\u001b[0m 2ms/step - loss: 0.9844 - root_mean_squared_error: 0.5839 - val_loss: 1.1794 - val_root_mean_squared_error: 0.6781 - learning_rate: 5.0000e-05\n",
            "Epoch 54/250\n",
            "\u001b[1m30/30\u001b[0m \u001b[32m━━━━━━━━━━━━━━━━━━━━\u001b[0m\u001b[37m\u001b[0m \u001b[1m0s\u001b[0m 3ms/step - loss: 0.9523 - root_mean_squared_error: 0.5826 - val_loss: 1.1496 - val_root_mean_squared_error: 0.6773 - learning_rate: 5.0000e-05\n",
            "Epoch 55/250\n",
            "\u001b[1m30/30\u001b[0m \u001b[32m━━━━━━━━━━━━━━━━━━━━\u001b[0m\u001b[37m\u001b[0m \u001b[1m0s\u001b[0m 2ms/step - loss: 0.9226 - root_mean_squared_error: 0.5809 - val_loss: 1.1210 - val_root_mean_squared_error: 0.6764 - learning_rate: 5.0000e-05\n",
            "Epoch 56/250\n",
            "\u001b[1m30/30\u001b[0m \u001b[32m━━━━━━━━━━━━━━━━━━━━\u001b[0m\u001b[37m\u001b[0m \u001b[1m0s\u001b[0m 2ms/step - loss: 0.8916 - root_mean_squared_error: 0.5776 - val_loss: 1.0935 - val_root_mean_squared_error: 0.6756 - learning_rate: 5.0000e-05\n",
            "Epoch 57/250\n",
            "\u001b[1m30/30\u001b[0m \u001b[32m━━━━━━━━━━━━━━━━━━━━\u001b[0m\u001b[37m\u001b[0m \u001b[1m0s\u001b[0m 2ms/step - loss: 0.8693 - root_mean_squared_error: 0.5806 - val_loss: 1.0673 - val_root_mean_squared_error: 0.6748 - learning_rate: 5.0000e-05\n",
            "Epoch 58/250\n",
            "\u001b[1m30/30\u001b[0m \u001b[32m━━━━━━━━━━━━━━━━━━━━\u001b[0m\u001b[37m\u001b[0m \u001b[1m0s\u001b[0m 2ms/step - loss: 0.8424 - root_mean_squared_error: 0.5793 - val_loss: 1.0422 - val_root_mean_squared_error: 0.6739 - learning_rate: 5.0000e-05\n",
            "Epoch 59/250\n",
            "\u001b[1m30/30\u001b[0m \u001b[32m━━━━━━━━━━━━━━━━━━━━\u001b[0m\u001b[37m\u001b[0m \u001b[1m0s\u001b[0m 3ms/step - loss: 0.8188 - root_mean_squared_error: 0.5788 - val_loss: 1.0181 - val_root_mean_squared_error: 0.6731 - learning_rate: 5.0000e-05\n",
            "Epoch 60/250\n",
            "\u001b[1m30/30\u001b[0m \u001b[32m━━━━━━━━━━━━━━━━━━━━\u001b[0m\u001b[37m\u001b[0m \u001b[1m0s\u001b[0m 3ms/step - loss: 0.7958 - root_mean_squared_error: 0.5787 - val_loss: 0.9951 - val_root_mean_squared_error: 0.6723 - learning_rate: 5.0000e-05\n",
            "Epoch 61/250\n",
            "\u001b[1m30/30\u001b[0m \u001b[32m━━━━━━━━━━━━━━━━━━━━\u001b[0m\u001b[37m\u001b[0m \u001b[1m0s\u001b[0m 3ms/step - loss: 0.7710 - root_mean_squared_error: 0.5763 - val_loss: 0.9730 - val_root_mean_squared_error: 0.6714 - learning_rate: 5.0000e-05\n",
            "Epoch 62/250\n",
            "\u001b[1m30/30\u001b[0m \u001b[32m━━━━━━━━━━━━━━━━━━━━\u001b[0m\u001b[37m\u001b[0m \u001b[1m0s\u001b[0m 3ms/step - loss: 0.7518 - root_mean_squared_error: 0.5774 - val_loss: 0.9519 - val_root_mean_squared_error: 0.6706 - learning_rate: 5.0000e-05\n",
            "Epoch 63/250\n",
            "\u001b[1m30/30\u001b[0m \u001b[32m━━━━━━━━━━━━━━━━━━━━\u001b[0m\u001b[37m\u001b[0m \u001b[1m0s\u001b[0m 3ms/step - loss: 0.7298 - root_mean_squared_error: 0.5756 - val_loss: 0.9317 - val_root_mean_squared_error: 0.6697 - learning_rate: 5.0000e-05\n",
            "Epoch 64/250\n",
            "\u001b[1m30/30\u001b[0m \u001b[32m━━━━━━━━━━━━━━━━━━━━\u001b[0m\u001b[37m\u001b[0m \u001b[1m0s\u001b[0m 3ms/step - loss: 0.7108 - root_mean_squared_error: 0.5753 - val_loss: 0.9124 - val_root_mean_squared_error: 0.6688 - learning_rate: 5.0000e-05\n",
            "Epoch 65/250\n",
            "\u001b[1m30/30\u001b[0m \u001b[32m━━━━━━━━━━━━━━━━━━━━\u001b[0m\u001b[37m\u001b[0m \u001b[1m0s\u001b[0m 3ms/step - loss: 0.6902 - root_mean_squared_error: 0.5731 - val_loss: 0.8940 - val_root_mean_squared_error: 0.6679 - learning_rate: 5.0000e-05\n",
            "Epoch 66/250\n",
            "\u001b[1m30/30\u001b[0m \u001b[32m━━━━━━━━━━━━━━━━━━━━\u001b[0m\u001b[37m\u001b[0m \u001b[1m0s\u001b[0m 3ms/step - loss: 0.6732 - root_mean_squared_error: 0.5729 - val_loss: 0.8763 - val_root_mean_squared_error: 0.6670 - learning_rate: 5.0000e-05\n",
            "Epoch 67/250\n",
            "\u001b[1m30/30\u001b[0m \u001b[32m━━━━━━━━━━━━━━━━━━━━\u001b[0m\u001b[37m\u001b[0m \u001b[1m0s\u001b[0m 3ms/step - loss: 0.6560 - root_mean_squared_error: 0.5725 - val_loss: 0.8595 - val_root_mean_squared_error: 0.6661 - learning_rate: 5.0000e-05\n",
            "Epoch 68/250\n",
            "\u001b[1m30/30\u001b[0m \u001b[32m━━━━━━━━━━━━━━━━━━━━\u001b[0m\u001b[37m\u001b[0m \u001b[1m0s\u001b[0m 3ms/step - loss: 0.6402 - root_mean_squared_error: 0.5717 - val_loss: 0.8434 - val_root_mean_squared_error: 0.6652 - learning_rate: 5.0000e-05\n",
            "Epoch 69/250\n",
            "\u001b[1m30/30\u001b[0m \u001b[32m━━━━━━━━━━━━━━━━━━━━\u001b[0m\u001b[37m\u001b[0m \u001b[1m0s\u001b[0m 4ms/step - loss: 0.6214 - root_mean_squared_error: 0.5683 - val_loss: 0.8280 - val_root_mean_squared_error: 0.6643 - learning_rate: 5.0000e-05\n",
            "Epoch 70/250\n",
            "\u001b[1m30/30\u001b[0m \u001b[32m━━━━━━━━━━━━━━━━━━━━\u001b[0m\u001b[37m\u001b[0m \u001b[1m0s\u001b[0m 3ms/step - loss: 0.6086 - root_mean_squared_error: 0.5693 - val_loss: 0.8134 - val_root_mean_squared_error: 0.6634 - learning_rate: 5.0000e-05\n",
            "Epoch 71/250\n",
            "\u001b[1m30/30\u001b[0m \u001b[32m━━━━━━━━━━━━━━━━━━━━\u001b[0m\u001b[37m\u001b[0m \u001b[1m0s\u001b[0m 4ms/step - loss: 0.5937 - root_mean_squared_error: 0.5682 - val_loss: 0.7994 - val_root_mean_squared_error: 0.6625 - learning_rate: 5.0000e-05\n",
            "Epoch 72/250\n",
            "\u001b[1m30/30\u001b[0m \u001b[32m━━━━━━━━━━━━━━━━━━━━\u001b[0m\u001b[37m\u001b[0m \u001b[1m0s\u001b[0m 2ms/step - loss: 0.5803 - root_mean_squared_error: 0.5673 - val_loss: 0.7860 - val_root_mean_squared_error: 0.6616 - learning_rate: 5.0000e-05\n",
            "Epoch 73/250\n",
            "\u001b[1m30/30\u001b[0m \u001b[32m━━━━━━━━━━━━━━━━━━━━\u001b[0m\u001b[37m\u001b[0m \u001b[1m0s\u001b[0m 3ms/step - loss: 0.5670 - root_mean_squared_error: 0.5660 - val_loss: 0.7732 - val_root_mean_squared_error: 0.6607 - learning_rate: 5.0000e-05\n",
            "Epoch 74/250\n",
            "\u001b[1m30/30\u001b[0m \u001b[32m━━━━━━━━━━━━━━━━━━━━\u001b[0m\u001b[37m\u001b[0m \u001b[1m0s\u001b[0m 2ms/step - loss: 0.5551 - root_mean_squared_error: 0.5652 - val_loss: 0.7611 - val_root_mean_squared_error: 0.6597 - learning_rate: 5.0000e-05\n",
            "Epoch 75/250\n",
            "\u001b[1m30/30\u001b[0m \u001b[32m━━━━━━━━━━━━━━━━━━━━\u001b[0m\u001b[37m\u001b[0m \u001b[1m0s\u001b[0m 3ms/step - loss: 0.5429 - root_mean_squared_error: 0.5643 - val_loss: 0.7494 - val_root_mean_squared_error: 0.6587 - learning_rate: 5.0000e-05\n",
            "Epoch 76/250\n",
            "\u001b[1m30/30\u001b[0m \u001b[32m━━━━━━━━━━━━━━━━━━━━\u001b[0m\u001b[37m\u001b[0m \u001b[1m0s\u001b[0m 3ms/step - loss: 0.5341 - root_mean_squared_error: 0.5656 - val_loss: 0.7384 - val_root_mean_squared_error: 0.6578 - learning_rate: 5.0000e-05\n",
            "Epoch 77/250\n",
            "\u001b[1m30/30\u001b[0m \u001b[32m━━━━━━━━━━━━━━━━━━━━\u001b[0m\u001b[37m\u001b[0m \u001b[1m0s\u001b[0m 2ms/step - loss: 0.5206 - root_mean_squared_error: 0.5622 - val_loss: 0.7278 - val_root_mean_squared_error: 0.6568 - learning_rate: 5.0000e-05\n",
            "Epoch 78/250\n",
            "\u001b[1m30/30\u001b[0m \u001b[32m━━━━━━━━━━━━━━━━━━━━\u001b[0m\u001b[37m\u001b[0m \u001b[1m0s\u001b[0m 2ms/step - loss: 0.5105 - root_mean_squared_error: 0.5621 - val_loss: 0.7177 - val_root_mean_squared_error: 0.6558 - learning_rate: 5.0000e-05\n",
            "Epoch 79/250\n",
            "\u001b[1m30/30\u001b[0m \u001b[32m━━━━━━━━━━━━━━━━━━━━\u001b[0m\u001b[37m\u001b[0m \u001b[1m0s\u001b[0m 5ms/step - loss: 0.5002 - root_mean_squared_error: 0.5601 - val_loss: 0.7080 - val_root_mean_squared_error: 0.6548 - learning_rate: 5.0000e-05\n",
            "Epoch 80/250\n",
            "\u001b[1m30/30\u001b[0m \u001b[32m━━━━━━━━━━━━━━━━━━━━\u001b[0m\u001b[37m\u001b[0m \u001b[1m0s\u001b[0m 2ms/step - loss: 0.4897 - root_mean_squared_error: 0.5583 - val_loss: 0.6988 - val_root_mean_squared_error: 0.6538 - learning_rate: 5.0000e-05\n",
            "Epoch 81/250\n",
            "\u001b[1m30/30\u001b[0m \u001b[32m━━━━━━━━━━━━━━━━━━━━\u001b[0m\u001b[37m\u001b[0m \u001b[1m0s\u001b[0m 2ms/step - loss: 0.4836 - root_mean_squared_error: 0.5597 - val_loss: 0.6901 - val_root_mean_squared_error: 0.6528 - learning_rate: 5.0000e-05\n",
            "Epoch 82/250\n",
            "\u001b[1m30/30\u001b[0m \u001b[32m━━━━━━━━━━━━━━━━━━━━\u001b[0m\u001b[37m\u001b[0m \u001b[1m0s\u001b[0m 4ms/step - loss: 0.4735 - root_mean_squared_error: 0.5568 - val_loss: 0.6817 - val_root_mean_squared_error: 0.6517 - learning_rate: 5.0000e-05\n",
            "Epoch 83/250\n",
            "\u001b[1m30/30\u001b[0m \u001b[32m━━━━━━━━━━━━━━━━━━━━\u001b[0m\u001b[37m\u001b[0m \u001b[1m0s\u001b[0m 3ms/step - loss: 0.4669 - root_mean_squared_error: 0.5573 - val_loss: 0.6738 - val_root_mean_squared_error: 0.6507 - learning_rate: 5.0000e-05\n",
            "Epoch 84/250\n",
            "\u001b[1m30/30\u001b[0m \u001b[32m━━━━━━━━━━━━━━━━━━━━\u001b[0m\u001b[37m\u001b[0m \u001b[1m0s\u001b[0m 2ms/step - loss: 0.4584 - root_mean_squared_error: 0.5551 - val_loss: 0.6662 - val_root_mean_squared_error: 0.6497 - learning_rate: 5.0000e-05\n",
            "Epoch 85/250\n",
            "\u001b[1m30/30\u001b[0m \u001b[32m━━━━━━━━━━━━━━━━━━━━\u001b[0m\u001b[37m\u001b[0m \u001b[1m0s\u001b[0m 3ms/step - loss: 0.4530 - root_mean_squared_error: 0.5555 - val_loss: 0.6590 - val_root_mean_squared_error: 0.6487 - learning_rate: 5.0000e-05\n",
            "Epoch 86/250\n",
            "\u001b[1m30/30\u001b[0m \u001b[32m━━━━━━━━━━━━━━━━━━━━\u001b[0m\u001b[37m\u001b[0m \u001b[1m0s\u001b[0m 3ms/step - loss: 0.4444 - root_mean_squared_error: 0.5539 - val_loss: 0.6521 - val_root_mean_squared_error: 0.6476 - learning_rate: 5.0000e-05\n",
            "Epoch 87/250\n",
            "\u001b[1m30/30\u001b[0m \u001b[32m━━━━━━━━━━━━━━━━━━━━\u001b[0m\u001b[37m\u001b[0m \u001b[1m0s\u001b[0m 3ms/step - loss: 0.4389 - root_mean_squared_error: 0.5534 - val_loss: 0.6456 - val_root_mean_squared_error: 0.6466 - learning_rate: 5.0000e-05\n",
            "Epoch 88/250\n",
            "\u001b[1m30/30\u001b[0m \u001b[32m━━━━━━━━━━━━━━━━━━━━\u001b[0m\u001b[37m\u001b[0m \u001b[1m0s\u001b[0m 3ms/step - loss: 0.4339 - root_mean_squared_error: 0.5535 - val_loss: 0.6393 - val_root_mean_squared_error: 0.6455 - learning_rate: 5.0000e-05\n",
            "Epoch 89/250\n",
            "\u001b[1m30/30\u001b[0m \u001b[32m━━━━━━━━━━━━━━━━━━━━\u001b[0m\u001b[37m\u001b[0m \u001b[1m0s\u001b[0m 4ms/step - loss: 0.4219 - root_mean_squared_error: 0.5473 - val_loss: 0.6333 - val_root_mean_squared_error: 0.6444 - learning_rate: 5.0000e-05\n",
            "Epoch 90/250\n",
            "\u001b[1m30/30\u001b[0m \u001b[32m━━━━━━━━━━━━━━━━━━━━\u001b[0m\u001b[37m\u001b[0m \u001b[1m0s\u001b[0m 3ms/step - loss: 0.4198 - root_mean_squared_error: 0.5489 - val_loss: 0.6276 - val_root_mean_squared_error: 0.6432 - learning_rate: 5.0000e-05\n",
            "Epoch 91/250\n",
            "\u001b[1m30/30\u001b[0m \u001b[32m━━━━━━━━━━━━━━━━━━━━\u001b[0m\u001b[37m\u001b[0m \u001b[1m0s\u001b[0m 3ms/step - loss: 0.4134 - root_mean_squared_error: 0.5472 - val_loss: 0.6221 - val_root_mean_squared_error: 0.6421 - learning_rate: 5.0000e-05\n",
            "Epoch 92/250\n",
            "\u001b[1m30/30\u001b[0m \u001b[32m━━━━━━━━━━━━━━━━━━━━\u001b[0m\u001b[37m\u001b[0m \u001b[1m0s\u001b[0m 3ms/step - loss: 0.4093 - root_mean_squared_error: 0.5470 - val_loss: 0.6169 - val_root_mean_squared_error: 0.6409 - learning_rate: 5.0000e-05\n",
            "Epoch 93/250\n",
            "\u001b[1m30/30\u001b[0m \u001b[32m━━━━━━━━━━━━━━━━━━━━\u001b[0m\u001b[37m\u001b[0m \u001b[1m0s\u001b[0m 3ms/step - loss: 0.4062 - root_mean_squared_error: 0.5476 - val_loss: 0.6119 - val_root_mean_squared_error: 0.6398 - learning_rate: 5.0000e-05\n",
            "Epoch 94/250\n",
            "\u001b[1m30/30\u001b[0m \u001b[32m━━━━━━━━━━━━━━━━━━━━\u001b[0m\u001b[37m\u001b[0m \u001b[1m0s\u001b[0m 3ms/step - loss: 0.4000 - root_mean_squared_error: 0.5452 - val_loss: 0.6072 - val_root_mean_squared_error: 0.6387 - learning_rate: 5.0000e-05\n",
            "Epoch 95/250\n",
            "\u001b[1m30/30\u001b[0m \u001b[32m━━━━━━━━━━━━━━━━━━━━\u001b[0m\u001b[37m\u001b[0m \u001b[1m0s\u001b[0m 3ms/step - loss: 0.3947 - root_mean_squared_error: 0.5435 - val_loss: 0.6027 - val_root_mean_squared_error: 0.6375 - learning_rate: 5.0000e-05\n",
            "Epoch 96/250\n",
            "\u001b[1m30/30\u001b[0m \u001b[32m━━━━━━━━━━━━━━━━━━━━\u001b[0m\u001b[37m\u001b[0m \u001b[1m0s\u001b[0m 3ms/step - loss: 0.3939 - root_mean_squared_error: 0.5455 - val_loss: 0.5983 - val_root_mean_squared_error: 0.6364 - learning_rate: 5.0000e-05\n",
            "Epoch 97/250\n",
            "\u001b[1m30/30\u001b[0m \u001b[32m━━━━━━━━━━━━━━━━━━━━\u001b[0m\u001b[37m\u001b[0m \u001b[1m0s\u001b[0m 3ms/step - loss: 0.3842 - root_mean_squared_error: 0.5392 - val_loss: 0.5942 - val_root_mean_squared_error: 0.6352 - learning_rate: 5.0000e-05\n",
            "Epoch 98/250\n",
            "\u001b[1m30/30\u001b[0m \u001b[32m━━━━━━━━━━━━━━━━━━━━\u001b[0m\u001b[37m\u001b[0m \u001b[1m0s\u001b[0m 2ms/step - loss: 0.3799 - root_mean_squared_error: 0.5374 - val_loss: 0.5902 - val_root_mean_squared_error: 0.6340 - learning_rate: 5.0000e-05\n",
            "Epoch 99/250\n",
            "\u001b[1m30/30\u001b[0m \u001b[32m━━━━━━━━━━━━━━━━━━━━\u001b[0m\u001b[37m\u001b[0m \u001b[1m0s\u001b[0m 3ms/step - loss: 0.3764 - root_mean_squared_error: 0.5373 - val_loss: 0.5863 - val_root_mean_squared_error: 0.6327 - learning_rate: 5.0000e-05\n",
            "Epoch 100/250\n",
            "\u001b[1m30/30\u001b[0m \u001b[32m━━━━━━━━━━━━━━━━━━━━\u001b[0m\u001b[37m\u001b[0m \u001b[1m0s\u001b[0m 3ms/step - loss: 0.3792 - root_mean_squared_error: 0.5407 - val_loss: 0.5827 - val_root_mean_squared_error: 0.6316 - learning_rate: 5.0000e-05\n",
            "Epoch 101/250\n",
            "\u001b[1m30/30\u001b[0m \u001b[32m━━━━━━━━━━━━━━━━━━━━\u001b[0m\u001b[37m\u001b[0m \u001b[1m0s\u001b[0m 2ms/step - loss: 0.3761 - root_mean_squared_error: 0.5393 - val_loss: 0.5792 - val_root_mean_squared_error: 0.6304 - learning_rate: 5.0000e-05\n",
            "Epoch 102/250\n",
            "\u001b[1m30/30\u001b[0m \u001b[32m━━━━━━━━━━━━━━━━━━━━\u001b[0m\u001b[37m\u001b[0m \u001b[1m0s\u001b[0m 2ms/step - loss: 0.3705 - root_mean_squared_error: 0.5366 - val_loss: 0.5759 - val_root_mean_squared_error: 0.6292 - learning_rate: 5.0000e-05\n",
            "Epoch 103/250\n",
            "\u001b[1m30/30\u001b[0m \u001b[32m━━━━━━━━━━━━━━━━━━━━\u001b[0m\u001b[37m\u001b[0m \u001b[1m0s\u001b[0m 2ms/step - loss: 0.3701 - root_mean_squared_error: 0.5377 - val_loss: 0.5726 - val_root_mean_squared_error: 0.6280 - learning_rate: 5.0000e-05\n",
            "Epoch 104/250\n",
            "\u001b[1m30/30\u001b[0m \u001b[32m━━━━━━━━━━━━━━━━━━━━\u001b[0m\u001b[37m\u001b[0m \u001b[1m0s\u001b[0m 2ms/step - loss: 0.3645 - root_mean_squared_error: 0.5339 - val_loss: 0.5696 - val_root_mean_squared_error: 0.6268 - learning_rate: 5.0000e-05\n",
            "Epoch 105/250\n",
            "\u001b[1m30/30\u001b[0m \u001b[32m━━━━━━━━━━━━━━━━━━━━\u001b[0m\u001b[37m\u001b[0m \u001b[1m0s\u001b[0m 3ms/step - loss: 0.3586 - root_mean_squared_error: 0.5303 - val_loss: 0.5666 - val_root_mean_squared_error: 0.6256 - learning_rate: 5.0000e-05\n",
            "Epoch 106/250\n",
            "\u001b[1m30/30\u001b[0m \u001b[32m━━━━━━━━━━━━━━━━━━━━\u001b[0m\u001b[37m\u001b[0m \u001b[1m0s\u001b[0m 2ms/step - loss: 0.3602 - root_mean_squared_error: 0.5325 - val_loss: 0.5637 - val_root_mean_squared_error: 0.6243 - learning_rate: 5.0000e-05\n",
            "Epoch 107/250\n",
            "\u001b[1m30/30\u001b[0m \u001b[32m━━━━━━━━━━━━━━━━━━━━\u001b[0m\u001b[37m\u001b[0m \u001b[1m0s\u001b[0m 3ms/step - loss: 0.3564 - root_mean_squared_error: 0.5309 - val_loss: 0.5609 - val_root_mean_squared_error: 0.6231 - learning_rate: 5.0000e-05\n",
            "Epoch 108/250\n",
            "\u001b[1m30/30\u001b[0m \u001b[32m━━━━━━━━━━━━━━━━━━━━\u001b[0m\u001b[37m\u001b[0m \u001b[1m0s\u001b[0m 2ms/step - loss: 0.3536 - root_mean_squared_error: 0.5287 - val_loss: 0.5582 - val_root_mean_squared_error: 0.6218 - learning_rate: 5.0000e-05\n",
            "Epoch 109/250\n",
            "\u001b[1m30/30\u001b[0m \u001b[32m━━━━━━━━━━━━━━━━━━━━\u001b[0m\u001b[37m\u001b[0m \u001b[1m0s\u001b[0m 3ms/step - loss: 0.3502 - root_mean_squared_error: 0.5263 - val_loss: 0.5556 - val_root_mean_squared_error: 0.6205 - learning_rate: 5.0000e-05\n",
            "Epoch 110/250\n",
            "\u001b[1m30/30\u001b[0m \u001b[32m━━━━━━━━━━━━━━━━━━━━\u001b[0m\u001b[37m\u001b[0m \u001b[1m0s\u001b[0m 2ms/step - loss: 0.3484 - root_mean_squared_error: 0.5254 - val_loss: 0.5530 - val_root_mean_squared_error: 0.6191 - learning_rate: 5.0000e-05\n",
            "Epoch 111/250\n",
            "\u001b[1m30/30\u001b[0m \u001b[32m━━━━━━━━━━━━━━━━━━━━\u001b[0m\u001b[37m\u001b[0m \u001b[1m0s\u001b[0m 3ms/step - loss: 0.3425 - root_mean_squared_error: 0.5219 - val_loss: 0.5506 - val_root_mean_squared_error: 0.6178 - learning_rate: 5.0000e-05\n",
            "Epoch 112/250\n",
            "\u001b[1m30/30\u001b[0m \u001b[32m━━━━━━━━━━━━━━━━━━━━\u001b[0m\u001b[37m\u001b[0m \u001b[1m0s\u001b[0m 3ms/step - loss: 0.3453 - root_mean_squared_error: 0.5257 - val_loss: 0.5482 - val_root_mean_squared_error: 0.6165 - learning_rate: 5.0000e-05\n",
            "Epoch 113/250\n",
            "\u001b[1m30/30\u001b[0m \u001b[32m━━━━━━━━━━━━━━━━━━━━\u001b[0m\u001b[37m\u001b[0m \u001b[1m0s\u001b[0m 2ms/step - loss: 0.3438 - root_mean_squared_error: 0.5234 - val_loss: 0.5459 - val_root_mean_squared_error: 0.6152 - learning_rate: 5.0000e-05\n",
            "Epoch 114/250\n",
            "\u001b[1m30/30\u001b[0m \u001b[32m━━━━━━━━━━━━━━━━━━━━\u001b[0m\u001b[37m\u001b[0m \u001b[1m0s\u001b[0m 2ms/step - loss: 0.3437 - root_mean_squared_error: 0.5244 - val_loss: 0.5437 - val_root_mean_squared_error: 0.6139 - learning_rate: 5.0000e-05\n",
            "Epoch 115/250\n",
            "\u001b[1m30/30\u001b[0m \u001b[32m━━━━━━━━━━━━━━━━━━━━\u001b[0m\u001b[37m\u001b[0m \u001b[1m0s\u001b[0m 3ms/step - loss: 0.3418 - root_mean_squared_error: 0.5238 - val_loss: 0.5416 - val_root_mean_squared_error: 0.6126 - learning_rate: 5.0000e-05\n",
            "Epoch 116/250\n",
            "\u001b[1m30/30\u001b[0m \u001b[32m━━━━━━━━━━━━━━━━━━━━\u001b[0m\u001b[37m\u001b[0m \u001b[1m0s\u001b[0m 4ms/step - loss: 0.3355 - root_mean_squared_error: 0.5182 - val_loss: 0.5394 - val_root_mean_squared_error: 0.6113 - learning_rate: 5.0000e-05\n",
            "Epoch 117/250\n",
            "\u001b[1m30/30\u001b[0m \u001b[32m━━━━━━━━━━━━━━━━━━━━\u001b[0m\u001b[37m\u001b[0m \u001b[1m0s\u001b[0m 3ms/step - loss: 0.3308 - root_mean_squared_error: 0.5143 - val_loss: 0.5373 - val_root_mean_squared_error: 0.6099 - learning_rate: 5.0000e-05\n",
            "Epoch 118/250\n",
            "\u001b[1m30/30\u001b[0m \u001b[32m━━━━━━━━━━━━━━━━━━━━\u001b[0m\u001b[37m\u001b[0m \u001b[1m0s\u001b[0m 3ms/step - loss: 0.3353 - root_mean_squared_error: 0.5178 - val_loss: 0.5353 - val_root_mean_squared_error: 0.6085 - learning_rate: 5.0000e-05\n",
            "Epoch 119/250\n",
            "\u001b[1m30/30\u001b[0m \u001b[32m━━━━━━━━━━━━━━━━━━━━\u001b[0m\u001b[37m\u001b[0m \u001b[1m0s\u001b[0m 3ms/step - loss: 0.3359 - root_mean_squared_error: 0.5192 - val_loss: 0.5333 - val_root_mean_squared_error: 0.6071 - learning_rate: 5.0000e-05\n",
            "Epoch 120/250\n",
            "\u001b[1m30/30\u001b[0m \u001b[32m━━━━━━━━━━━━━━━━━━━━\u001b[0m\u001b[37m\u001b[0m \u001b[1m0s\u001b[0m 2ms/step - loss: 0.3292 - root_mean_squared_error: 0.5131 - val_loss: 0.5313 - val_root_mean_squared_error: 0.6057 - learning_rate: 5.0000e-05\n",
            "Epoch 121/250\n",
            "\u001b[1m30/30\u001b[0m \u001b[32m━━━━━━━━━━━━━━━━━━━━\u001b[0m\u001b[37m\u001b[0m \u001b[1m0s\u001b[0m 3ms/step - loss: 0.3318 - root_mean_squared_error: 0.5159 - val_loss: 0.5294 - val_root_mean_squared_error: 0.6043 - learning_rate: 5.0000e-05\n",
            "Epoch 122/250\n",
            "\u001b[1m30/30\u001b[0m \u001b[32m━━━━━━━━━━━━━━━━━━━━\u001b[0m\u001b[37m\u001b[0m \u001b[1m0s\u001b[0m 2ms/step - loss: 0.3261 - root_mean_squared_error: 0.5108 - val_loss: 0.5275 - val_root_mean_squared_error: 0.6029 - learning_rate: 5.0000e-05\n",
            "Epoch 123/250\n",
            "\u001b[1m30/30\u001b[0m \u001b[32m━━━━━━━━━━━━━━━━━━━━\u001b[0m\u001b[37m\u001b[0m \u001b[1m0s\u001b[0m 2ms/step - loss: 0.3251 - root_mean_squared_error: 0.5101 - val_loss: 0.5256 - val_root_mean_squared_error: 0.6014 - learning_rate: 5.0000e-05\n",
            "Epoch 124/250\n",
            "\u001b[1m30/30\u001b[0m \u001b[32m━━━━━━━━━━━━━━━━━━━━\u001b[0m\u001b[37m\u001b[0m \u001b[1m0s\u001b[0m 2ms/step - loss: 0.3173 - root_mean_squared_error: 0.5037 - val_loss: 0.5237 - val_root_mean_squared_error: 0.5999 - learning_rate: 5.0000e-05\n",
            "Epoch 125/250\n",
            "\u001b[1m30/30\u001b[0m \u001b[32m━━━━━━━━━━━━━━━━━━━━\u001b[0m\u001b[37m\u001b[0m \u001b[1m0s\u001b[0m 3ms/step - loss: 0.3173 - root_mean_squared_error: 0.5032 - val_loss: 0.5218 - val_root_mean_squared_error: 0.5983 - learning_rate: 5.0000e-05\n",
            "Epoch 126/250\n",
            "\u001b[1m30/30\u001b[0m \u001b[32m━━━━━━━━━━━━━━━━━━━━\u001b[0m\u001b[37m\u001b[0m \u001b[1m0s\u001b[0m 3ms/step - loss: 0.3188 - root_mean_squared_error: 0.5042 - val_loss: 0.5200 - val_root_mean_squared_error: 0.5968 - learning_rate: 5.0000e-05\n",
            "Epoch 127/250\n",
            "\u001b[1m30/30\u001b[0m \u001b[32m━━━━━━━━━━━━━━━━━━━━\u001b[0m\u001b[37m\u001b[0m \u001b[1m0s\u001b[0m 5ms/step - loss: 0.3179 - root_mean_squared_error: 0.5034 - val_loss: 0.5182 - val_root_mean_squared_error: 0.5953 - learning_rate: 5.0000e-05\n",
            "Epoch 128/250\n",
            "\u001b[1m30/30\u001b[0m \u001b[32m━━━━━━━━━━━━━━━━━━━━\u001b[0m\u001b[37m\u001b[0m \u001b[1m0s\u001b[0m 3ms/step - loss: 0.3186 - root_mean_squared_error: 0.5033 - val_loss: 0.5165 - val_root_mean_squared_error: 0.5938 - learning_rate: 5.0000e-05\n",
            "Epoch 129/250\n",
            "\u001b[1m30/30\u001b[0m \u001b[32m━━━━━━━━━━━━━━━━━━━━\u001b[0m\u001b[37m\u001b[0m \u001b[1m0s\u001b[0m 4ms/step - loss: 0.3195 - root_mean_squared_error: 0.5051 - val_loss: 0.5148 - val_root_mean_squared_error: 0.5923 - learning_rate: 5.0000e-05\n",
            "Epoch 130/250\n",
            "\u001b[1m30/30\u001b[0m \u001b[32m━━━━━━━━━━━━━━━━━━━━\u001b[0m\u001b[37m\u001b[0m \u001b[1m0s\u001b[0m 4ms/step - loss: 0.3130 - root_mean_squared_error: 0.4983 - val_loss: 0.5130 - val_root_mean_squared_error: 0.5908 - learning_rate: 5.0000e-05\n",
            "Epoch 131/250\n",
            "\u001b[1m30/30\u001b[0m \u001b[32m━━━━━━━━━━━━━━━━━━━━\u001b[0m\u001b[37m\u001b[0m \u001b[1m0s\u001b[0m 3ms/step - loss: 0.3145 - root_mean_squared_error: 0.4996 - val_loss: 0.5113 - val_root_mean_squared_error: 0.5893 - learning_rate: 5.0000e-05\n",
            "Epoch 132/250\n",
            "\u001b[1m30/30\u001b[0m \u001b[32m━━━━━━━━━━━━━━━━━━━━\u001b[0m\u001b[37m\u001b[0m \u001b[1m0s\u001b[0m 3ms/step - loss: 0.3108 - root_mean_squared_error: 0.4958 - val_loss: 0.5096 - val_root_mean_squared_error: 0.5877 - learning_rate: 5.0000e-05\n",
            "Epoch 133/250\n",
            "\u001b[1m30/30\u001b[0m \u001b[32m━━━━━━━━━━━━━━━━━━━━\u001b[0m\u001b[37m\u001b[0m \u001b[1m0s\u001b[0m 3ms/step - loss: 0.3137 - root_mean_squared_error: 0.4978 - val_loss: 0.5079 - val_root_mean_squared_error: 0.5862 - learning_rate: 5.0000e-05\n",
            "Epoch 134/250\n",
            "\u001b[1m30/30\u001b[0m \u001b[32m━━━━━━━━━━━━━━━━━━━━\u001b[0m\u001b[37m\u001b[0m \u001b[1m0s\u001b[0m 3ms/step - loss: 0.3111 - root_mean_squared_error: 0.4954 - val_loss: 0.5063 - val_root_mean_squared_error: 0.5846 - learning_rate: 5.0000e-05\n",
            "Epoch 135/250\n",
            "\u001b[1m30/30\u001b[0m \u001b[32m━━━━━━━━━━━━━━━━━━━━\u001b[0m\u001b[37m\u001b[0m \u001b[1m0s\u001b[0m 3ms/step - loss: 0.3076 - root_mean_squared_error: 0.4921 - val_loss: 0.5046 - val_root_mean_squared_error: 0.5830 - learning_rate: 5.0000e-05\n",
            "Epoch 136/250\n",
            "\u001b[1m30/30\u001b[0m \u001b[32m━━━━━━━━━━━━━━━━━━━━\u001b[0m\u001b[37m\u001b[0m \u001b[1m0s\u001b[0m 6ms/step - loss: 0.3066 - root_mean_squared_error: 0.4924 - val_loss: 0.5029 - val_root_mean_squared_error: 0.5814 - learning_rate: 5.0000e-05\n",
            "Epoch 137/250\n",
            "\u001b[1m30/30\u001b[0m \u001b[32m━━━━━━━━━━━━━━━━━━━━\u001b[0m\u001b[37m\u001b[0m \u001b[1m0s\u001b[0m 3ms/step - loss: 0.3003 - root_mean_squared_error: 0.4860 - val_loss: 0.5013 - val_root_mean_squared_error: 0.5798 - learning_rate: 5.0000e-05\n",
            "Epoch 138/250\n",
            "\u001b[1m30/30\u001b[0m \u001b[32m━━━━━━━━━━━━━━━━━━━━\u001b[0m\u001b[37m\u001b[0m \u001b[1m0s\u001b[0m 3ms/step - loss: 0.3019 - root_mean_squared_error: 0.4866 - val_loss: 0.4996 - val_root_mean_squared_error: 0.5782 - learning_rate: 5.0000e-05\n",
            "Epoch 139/250\n",
            "\u001b[1m30/30\u001b[0m \u001b[32m━━━━━━━━━━━━━━━━━━━━\u001b[0m\u001b[37m\u001b[0m \u001b[1m0s\u001b[0m 3ms/step - loss: 0.3037 - root_mean_squared_error: 0.4873 - val_loss: 0.4980 - val_root_mean_squared_error: 0.5767 - learning_rate: 5.0000e-05\n",
            "Epoch 140/250\n",
            "\u001b[1m30/30\u001b[0m \u001b[32m━━━━━━━━━━━━━━━━━━━━\u001b[0m\u001b[37m\u001b[0m \u001b[1m0s\u001b[0m 2ms/step - loss: 0.3007 - root_mean_squared_error: 0.4842 - val_loss: 0.4964 - val_root_mean_squared_error: 0.5751 - learning_rate: 5.0000e-05\n",
            "Epoch 141/250\n",
            "\u001b[1m30/30\u001b[0m \u001b[32m━━━━━━━━━━━━━━━━━━━━\u001b[0m\u001b[37m\u001b[0m \u001b[1m0s\u001b[0m 2ms/step - loss: 0.2959 - root_mean_squared_error: 0.4797 - val_loss: 0.4947 - val_root_mean_squared_error: 0.5734 - learning_rate: 5.0000e-05\n",
            "Epoch 142/250\n",
            "\u001b[1m30/30\u001b[0m \u001b[32m━━━━━━━━━━━━━━━━━━━━\u001b[0m\u001b[37m\u001b[0m \u001b[1m0s\u001b[0m 2ms/step - loss: 0.2997 - root_mean_squared_error: 0.4821 - val_loss: 0.4930 - val_root_mean_squared_error: 0.5717 - learning_rate: 5.0000e-05\n",
            "Epoch 143/250\n",
            "\u001b[1m30/30\u001b[0m \u001b[32m━━━━━━━━━━━━━━━━━━━━\u001b[0m\u001b[37m\u001b[0m \u001b[1m0s\u001b[0m 2ms/step - loss: 0.2991 - root_mean_squared_error: 0.4815 - val_loss: 0.4914 - val_root_mean_squared_error: 0.5700 - learning_rate: 5.0000e-05\n",
            "Epoch 144/250\n",
            "\u001b[1m30/30\u001b[0m \u001b[32m━━━━━━━━━━━━━━━━━━━━\u001b[0m\u001b[37m\u001b[0m \u001b[1m0s\u001b[0m 3ms/step - loss: 0.2941 - root_mean_squared_error: 0.4764 - val_loss: 0.4898 - val_root_mean_squared_error: 0.5684 - learning_rate: 5.0000e-05\n",
            "Epoch 145/250\n",
            "\u001b[1m30/30\u001b[0m \u001b[32m━━━━━━━━━━━━━━━━━━━━\u001b[0m\u001b[37m\u001b[0m \u001b[1m0s\u001b[0m 3ms/step - loss: 0.2925 - root_mean_squared_error: 0.4752 - val_loss: 0.4881 - val_root_mean_squared_error: 0.5667 - learning_rate: 5.0000e-05\n",
            "Epoch 146/250\n",
            "\u001b[1m30/30\u001b[0m \u001b[32m━━━━━━━━━━━━━━━━━━━━\u001b[0m\u001b[37m\u001b[0m \u001b[1m0s\u001b[0m 3ms/step - loss: 0.2930 - root_mean_squared_error: 0.4741 - val_loss: 0.4865 - val_root_mean_squared_error: 0.5650 - learning_rate: 5.0000e-05\n",
            "Epoch 147/250\n",
            "\u001b[1m30/30\u001b[0m \u001b[32m━━━━━━━━━━━━━━━━━━━━\u001b[0m\u001b[37m\u001b[0m \u001b[1m0s\u001b[0m 2ms/step - loss: 0.2923 - root_mean_squared_error: 0.4738 - val_loss: 0.4849 - val_root_mean_squared_error: 0.5634 - learning_rate: 5.0000e-05\n",
            "Epoch 148/250\n",
            "\u001b[1m30/30\u001b[0m \u001b[32m━━━━━━━━━━━━━━━━━━━━\u001b[0m\u001b[37m\u001b[0m \u001b[1m0s\u001b[0m 3ms/step - loss: 0.2866 - root_mean_squared_error: 0.4684 - val_loss: 0.4833 - val_root_mean_squared_error: 0.5617 - learning_rate: 5.0000e-05\n",
            "Epoch 149/250\n",
            "\u001b[1m30/30\u001b[0m \u001b[32m━━━━━━━━━━━━━━━━━━━━\u001b[0m\u001b[37m\u001b[0m \u001b[1m0s\u001b[0m 4ms/step - loss: 0.2928 - root_mean_squared_error: 0.4722 - val_loss: 0.4817 - val_root_mean_squared_error: 0.5600 - learning_rate: 5.0000e-05\n",
            "Epoch 150/250\n",
            "\u001b[1m30/30\u001b[0m \u001b[32m━━━━━━━━━━━━━━━━━━━━\u001b[0m\u001b[37m\u001b[0m \u001b[1m0s\u001b[0m 3ms/step - loss: 0.2912 - root_mean_squared_error: 0.4708 - val_loss: 0.4802 - val_root_mean_squared_error: 0.5584 - learning_rate: 5.0000e-05\n",
            "Epoch 151/250\n",
            "\u001b[1m30/30\u001b[0m \u001b[32m━━━━━━━━━━━━━━━━━━━━\u001b[0m\u001b[37m\u001b[0m \u001b[1m0s\u001b[0m 3ms/step - loss: 0.2940 - root_mean_squared_error: 0.4749 - val_loss: 0.4786 - val_root_mean_squared_error: 0.5568 - learning_rate: 5.0000e-05\n",
            "Epoch 152/250\n",
            "\u001b[1m30/30\u001b[0m \u001b[32m━━━━━━━━━━━━━━━━━━━━\u001b[0m\u001b[37m\u001b[0m \u001b[1m0s\u001b[0m 2ms/step - loss: 0.2849 - root_mean_squared_error: 0.4663 - val_loss: 0.4770 - val_root_mean_squared_error: 0.5551 - learning_rate: 5.0000e-05\n",
            "Epoch 153/250\n",
            "\u001b[1m30/30\u001b[0m \u001b[32m━━━━━━━━━━━━━━━━━━━━\u001b[0m\u001b[37m\u001b[0m \u001b[1m0s\u001b[0m 2ms/step - loss: 0.2850 - root_mean_squared_error: 0.4639 - val_loss: 0.4754 - val_root_mean_squared_error: 0.5533 - learning_rate: 5.0000e-05\n",
            "Epoch 154/250\n",
            "\u001b[1m30/30\u001b[0m \u001b[32m━━━━━━━━━━━━━━━━━━━━\u001b[0m\u001b[37m\u001b[0m \u001b[1m0s\u001b[0m 3ms/step - loss: 0.2796 - root_mean_squared_error: 0.4583 - val_loss: 0.4737 - val_root_mean_squared_error: 0.5516 - learning_rate: 5.0000e-05\n",
            "Epoch 155/250\n",
            "\u001b[1m30/30\u001b[0m \u001b[32m━━━━━━━━━━━━━━━━━━━━\u001b[0m\u001b[37m\u001b[0m \u001b[1m0s\u001b[0m 3ms/step - loss: 0.2845 - root_mean_squared_error: 0.4637 - val_loss: 0.4722 - val_root_mean_squared_error: 0.5499 - learning_rate: 5.0000e-05\n",
            "Epoch 156/250\n",
            "\u001b[1m30/30\u001b[0m \u001b[32m━━━━━━━━━━━━━━━━━━━━\u001b[0m\u001b[37m\u001b[0m \u001b[1m0s\u001b[0m 3ms/step - loss: 0.2833 - root_mean_squared_error: 0.4606 - val_loss: 0.4706 - val_root_mean_squared_error: 0.5482 - learning_rate: 5.0000e-05\n",
            "Epoch 157/250\n",
            "\u001b[1m30/30\u001b[0m \u001b[32m━━━━━━━━━━━━━━━━━━━━\u001b[0m\u001b[37m\u001b[0m \u001b[1m0s\u001b[0m 3ms/step - loss: 0.2792 - root_mean_squared_error: 0.4569 - val_loss: 0.4691 - val_root_mean_squared_error: 0.5466 - learning_rate: 5.0000e-05\n",
            "Epoch 158/250\n",
            "\u001b[1m30/30\u001b[0m \u001b[32m━━━━━━━━━━━━━━━━━━━━\u001b[0m\u001b[37m\u001b[0m \u001b[1m0s\u001b[0m 2ms/step - loss: 0.2776 - root_mean_squared_error: 0.4547 - val_loss: 0.4676 - val_root_mean_squared_error: 0.5448 - learning_rate: 5.0000e-05\n",
            "Epoch 159/250\n",
            "\u001b[1m30/30\u001b[0m \u001b[32m━━━━━━━━━━━━━━━━━━━━\u001b[0m\u001b[37m\u001b[0m \u001b[1m0s\u001b[0m 3ms/step - loss: 0.2742 - root_mean_squared_error: 0.4515 - val_loss: 0.4660 - val_root_mean_squared_error: 0.5431 - learning_rate: 5.0000e-05\n",
            "Epoch 160/250\n",
            "\u001b[1m30/30\u001b[0m \u001b[32m━━━━━━━━━━━━━━━━━━━━\u001b[0m\u001b[37m\u001b[0m \u001b[1m0s\u001b[0m 2ms/step - loss: 0.2705 - root_mean_squared_error: 0.4473 - val_loss: 0.4644 - val_root_mean_squared_error: 0.5414 - learning_rate: 5.0000e-05\n",
            "Epoch 161/250\n",
            "\u001b[1m30/30\u001b[0m \u001b[32m━━━━━━━━━━━━━━━━━━━━\u001b[0m\u001b[37m\u001b[0m \u001b[1m0s\u001b[0m 3ms/step - loss: 0.2782 - root_mean_squared_error: 0.4539 - val_loss: 0.4630 - val_root_mean_squared_error: 0.5397 - learning_rate: 5.0000e-05\n",
            "Epoch 162/250\n",
            "\u001b[1m30/30\u001b[0m \u001b[32m━━━━━━━━━━━━━━━━━━━━\u001b[0m\u001b[37m\u001b[0m \u001b[1m0s\u001b[0m 3ms/step - loss: 0.2717 - root_mean_squared_error: 0.4476 - val_loss: 0.4614 - val_root_mean_squared_error: 0.5380 - learning_rate: 5.0000e-05\n",
            "Epoch 163/250\n",
            "\u001b[1m30/30\u001b[0m \u001b[32m━━━━━━━━━━━━━━━━━━━━\u001b[0m\u001b[37m\u001b[0m \u001b[1m0s\u001b[0m 2ms/step - loss: 0.2711 - root_mean_squared_error: 0.4464 - val_loss: 0.4598 - val_root_mean_squared_error: 0.5361 - learning_rate: 5.0000e-05\n",
            "Epoch 164/250\n",
            "\u001b[1m30/30\u001b[0m \u001b[32m━━━━━━━━━━━━━━━━━━━━\u001b[0m\u001b[37m\u001b[0m \u001b[1m0s\u001b[0m 3ms/step - loss: 0.2720 - root_mean_squared_error: 0.4469 - val_loss: 0.4583 - val_root_mean_squared_error: 0.5345 - learning_rate: 5.0000e-05\n",
            "Epoch 165/250\n",
            "\u001b[1m30/30\u001b[0m \u001b[32m━━━━━━━━━━━━━━━━━━━━\u001b[0m\u001b[37m\u001b[0m \u001b[1m0s\u001b[0m 2ms/step - loss: 0.2724 - root_mean_squared_error: 0.4451 - val_loss: 0.4568 - val_root_mean_squared_error: 0.5328 - learning_rate: 5.0000e-05\n",
            "Epoch 166/250\n",
            "\u001b[1m30/30\u001b[0m \u001b[32m━━━━━━━━━━━━━━━━━━━━\u001b[0m\u001b[37m\u001b[0m \u001b[1m0s\u001b[0m 2ms/step - loss: 0.2739 - root_mean_squared_error: 0.4462 - val_loss: 0.4553 - val_root_mean_squared_error: 0.5311 - learning_rate: 5.0000e-05\n",
            "Epoch 167/250\n",
            "\u001b[1m30/30\u001b[0m \u001b[32m━━━━━━━━━━━━━━━━━━━━\u001b[0m\u001b[37m\u001b[0m \u001b[1m0s\u001b[0m 4ms/step - loss: 0.2687 - root_mean_squared_error: 0.4422 - val_loss: 0.4539 - val_root_mean_squared_error: 0.5295 - learning_rate: 5.0000e-05\n",
            "Epoch 168/250\n",
            "\u001b[1m30/30\u001b[0m \u001b[32m━━━━━━━━━━━━━━━━━━━━\u001b[0m\u001b[37m\u001b[0m \u001b[1m0s\u001b[0m 2ms/step - loss: 0.2737 - root_mean_squared_error: 0.4478 - val_loss: 0.4524 - val_root_mean_squared_error: 0.5278 - learning_rate: 5.0000e-05\n",
            "Epoch 169/250\n",
            "\u001b[1m30/30\u001b[0m \u001b[32m━━━━━━━━━━━━━━━━━━━━\u001b[0m\u001b[37m\u001b[0m \u001b[1m0s\u001b[0m 2ms/step - loss: 0.2688 - root_mean_squared_error: 0.4400 - val_loss: 0.4509 - val_root_mean_squared_error: 0.5261 - learning_rate: 5.0000e-05\n",
            "Epoch 170/250\n",
            "\u001b[1m30/30\u001b[0m \u001b[32m━━━━━━━━━━━━━━━━━━━━\u001b[0m\u001b[37m\u001b[0m \u001b[1m0s\u001b[0m 3ms/step - loss: 0.2587 - root_mean_squared_error: 0.4307 - val_loss: 0.4494 - val_root_mean_squared_error: 0.5244 - learning_rate: 5.0000e-05\n",
            "Epoch 171/250\n",
            "\u001b[1m30/30\u001b[0m \u001b[32m━━━━━━━━━━━━━━━━━━━━\u001b[0m\u001b[37m\u001b[0m \u001b[1m0s\u001b[0m 3ms/step - loss: 0.2633 - root_mean_squared_error: 0.4335 - val_loss: 0.4480 - val_root_mean_squared_error: 0.5228 - learning_rate: 5.0000e-05\n",
            "Epoch 172/250\n",
            "\u001b[1m30/30\u001b[0m \u001b[32m━━━━━━━━━━━━━━━━━━━━\u001b[0m\u001b[37m\u001b[0m \u001b[1m0s\u001b[0m 3ms/step - loss: 0.2681 - root_mean_squared_error: 0.4374 - val_loss: 0.4466 - val_root_mean_squared_error: 0.5212 - learning_rate: 5.0000e-05\n",
            "Epoch 173/250\n",
            "\u001b[1m30/30\u001b[0m \u001b[32m━━━━━━━━━━━━━━━━━━━━\u001b[0m\u001b[37m\u001b[0m \u001b[1m0s\u001b[0m 3ms/step - loss: 0.2674 - root_mean_squared_error: 0.4377 - val_loss: 0.4452 - val_root_mean_squared_error: 0.5196 - learning_rate: 5.0000e-05\n",
            "Epoch 174/250\n",
            "\u001b[1m30/30\u001b[0m \u001b[32m━━━━━━━━━━━━━━━━━━━━\u001b[0m\u001b[37m\u001b[0m \u001b[1m0s\u001b[0m 3ms/step - loss: 0.2640 - root_mean_squared_error: 0.4331 - val_loss: 0.4439 - val_root_mean_squared_error: 0.5181 - learning_rate: 5.0000e-05\n",
            "Epoch 175/250\n",
            "\u001b[1m30/30\u001b[0m \u001b[32m━━━━━━━━━━━━━━━━━━━━\u001b[0m\u001b[37m\u001b[0m \u001b[1m0s\u001b[0m 2ms/step - loss: 0.2595 - root_mean_squared_error: 0.4287 - val_loss: 0.4424 - val_root_mean_squared_error: 0.5164 - learning_rate: 5.0000e-05\n",
            "Epoch 176/250\n",
            "\u001b[1m30/30\u001b[0m \u001b[32m━━━━━━━━━━━━━━━━━━━━\u001b[0m\u001b[37m\u001b[0m \u001b[1m0s\u001b[0m 2ms/step - loss: 0.2632 - root_mean_squared_error: 0.4325 - val_loss: 0.4410 - val_root_mean_squared_error: 0.5146 - learning_rate: 5.0000e-05\n",
            "Epoch 177/250\n",
            "\u001b[1m30/30\u001b[0m \u001b[32m━━━━━━━━━━━━━━━━━━━━\u001b[0m\u001b[37m\u001b[0m \u001b[1m0s\u001b[0m 2ms/step - loss: 0.2569 - root_mean_squared_error: 0.4247 - val_loss: 0.4396 - val_root_mean_squared_error: 0.5130 - learning_rate: 5.0000e-05\n",
            "Epoch 178/250\n",
            "\u001b[1m30/30\u001b[0m \u001b[32m━━━━━━━━━━━━━━━━━━━━\u001b[0m\u001b[37m\u001b[0m \u001b[1m0s\u001b[0m 3ms/step - loss: 0.2532 - root_mean_squared_error: 0.4199 - val_loss: 0.4381 - val_root_mean_squared_error: 0.5113 - learning_rate: 5.0000e-05\n",
            "Epoch 179/250\n",
            "\u001b[1m30/30\u001b[0m \u001b[32m━━━━━━━━━━━━━━━━━━━━\u001b[0m\u001b[37m\u001b[0m \u001b[1m0s\u001b[0m 3ms/step - loss: 0.2542 - root_mean_squared_error: 0.4192 - val_loss: 0.4367 - val_root_mean_squared_error: 0.5096 - learning_rate: 5.0000e-05\n",
            "Epoch 180/250\n",
            "\u001b[1m30/30\u001b[0m \u001b[32m━━━━━━━━━━━━━━━━━━━━\u001b[0m\u001b[37m\u001b[0m \u001b[1m0s\u001b[0m 3ms/step - loss: 0.2558 - root_mean_squared_error: 0.4238 - val_loss: 0.4353 - val_root_mean_squared_error: 0.5079 - learning_rate: 5.0000e-05\n",
            "Epoch 181/250\n",
            "\u001b[1m30/30\u001b[0m \u001b[32m━━━━━━━━━━━━━━━━━━━━\u001b[0m\u001b[37m\u001b[0m \u001b[1m0s\u001b[0m 3ms/step - loss: 0.2554 - root_mean_squared_error: 0.4209 - val_loss: 0.4340 - val_root_mean_squared_error: 0.5065 - learning_rate: 5.0000e-05\n",
            "Epoch 182/250\n",
            "\u001b[1m30/30\u001b[0m \u001b[32m━━━━━━━━━━━━━━━━━━━━\u001b[0m\u001b[37m\u001b[0m \u001b[1m0s\u001b[0m 3ms/step - loss: 0.2525 - root_mean_squared_error: 0.4191 - val_loss: 0.4327 - val_root_mean_squared_error: 0.5049 - learning_rate: 5.0000e-05\n",
            "Epoch 183/250\n",
            "\u001b[1m30/30\u001b[0m \u001b[32m━━━━━━━━━━━━━━━━━━━━\u001b[0m\u001b[37m\u001b[0m \u001b[1m0s\u001b[0m 3ms/step - loss: 0.2551 - root_mean_squared_error: 0.4188 - val_loss: 0.4314 - val_root_mean_squared_error: 0.5034 - learning_rate: 5.0000e-05\n",
            "Epoch 184/250\n",
            "\u001b[1m30/30\u001b[0m \u001b[32m━━━━━━━━━━━━━━━━━━━━\u001b[0m\u001b[37m\u001b[0m \u001b[1m0s\u001b[0m 4ms/step - loss: 0.2559 - root_mean_squared_error: 0.4225 - val_loss: 0.4301 - val_root_mean_squared_error: 0.5019 - learning_rate: 5.0000e-05\n",
            "Epoch 185/250\n",
            "\u001b[1m30/30\u001b[0m \u001b[32m━━━━━━━━━━━━━━━━━━━━\u001b[0m\u001b[37m\u001b[0m \u001b[1m0s\u001b[0m 3ms/step - loss: 0.2504 - root_mean_squared_error: 0.4142 - val_loss: 0.4288 - val_root_mean_squared_error: 0.5003 - learning_rate: 5.0000e-05\n",
            "Epoch 186/250\n",
            "\u001b[1m30/30\u001b[0m \u001b[32m━━━━━━━━━━━━━━━━━━━━\u001b[0m\u001b[37m\u001b[0m \u001b[1m0s\u001b[0m 3ms/step - loss: 0.2506 - root_mean_squared_error: 0.4135 - val_loss: 0.4275 - val_root_mean_squared_error: 0.4991 - learning_rate: 5.0000e-05\n",
            "Epoch 187/250\n",
            "\u001b[1m30/30\u001b[0m \u001b[32m━━━━━━━━━━━━━━━━━━━━\u001b[0m\u001b[37m\u001b[0m \u001b[1m0s\u001b[0m 3ms/step - loss: 0.2510 - root_mean_squared_error: 0.4145 - val_loss: 0.4262 - val_root_mean_squared_error: 0.4981 - learning_rate: 5.0000e-05\n",
            "Epoch 188/250\n",
            "\u001b[1m30/30\u001b[0m \u001b[32m━━━━━━━━━━━━━━━━━━━━\u001b[0m\u001b[37m\u001b[0m \u001b[1m0s\u001b[0m 3ms/step - loss: 0.2472 - root_mean_squared_error: 0.4097 - val_loss: 0.4249 - val_root_mean_squared_error: 0.4970 - learning_rate: 5.0000e-05\n",
            "Epoch 189/250\n",
            "\u001b[1m30/30\u001b[0m \u001b[32m━━━━━━━━━━━━━━━━━━━━\u001b[0m\u001b[37m\u001b[0m \u001b[1m0s\u001b[0m 3ms/step - loss: 0.2493 - root_mean_squared_error: 0.4105 - val_loss: 0.4237 - val_root_mean_squared_error: 0.4960 - learning_rate: 5.0000e-05\n",
            "Epoch 190/250\n",
            "\u001b[1m30/30\u001b[0m \u001b[32m━━━━━━━━━━━━━━━━━━━━\u001b[0m\u001b[37m\u001b[0m \u001b[1m0s\u001b[0m 3ms/step - loss: 0.2496 - root_mean_squared_error: 0.4092 - val_loss: 0.4225 - val_root_mean_squared_error: 0.4950 - learning_rate: 5.0000e-05\n",
            "Epoch 191/250\n",
            "\u001b[1m30/30\u001b[0m \u001b[32m━━━━━━━━━━━━━━━━━━━━\u001b[0m\u001b[37m\u001b[0m \u001b[1m0s\u001b[0m 2ms/step - loss: 0.2383 - root_mean_squared_error: 0.3989 - val_loss: 0.4211 - val_root_mean_squared_error: 0.4939 - learning_rate: 5.0000e-05\n",
            "Epoch 192/250\n",
            "\u001b[1m30/30\u001b[0m \u001b[32m━━━━━━━━━━━━━━━━━━━━\u001b[0m\u001b[37m\u001b[0m \u001b[1m0s\u001b[0m 2ms/step - loss: 0.2411 - root_mean_squared_error: 0.4002 - val_loss: 0.4199 - val_root_mean_squared_error: 0.4929 - learning_rate: 5.0000e-05\n",
            "Epoch 193/250\n",
            "\u001b[1m30/30\u001b[0m \u001b[32m━━━━━━━━━━━━━━━━━━━━\u001b[0m\u001b[37m\u001b[0m \u001b[1m0s\u001b[0m 3ms/step - loss: 0.2486 - root_mean_squared_error: 0.4108 - val_loss: 0.4186 - val_root_mean_squared_error: 0.4919 - learning_rate: 5.0000e-05\n",
            "Epoch 194/250\n",
            "\u001b[1m30/30\u001b[0m \u001b[32m━━━━━━━━━━━━━━━━━━━━\u001b[0m\u001b[37m\u001b[0m \u001b[1m0s\u001b[0m 3ms/step - loss: 0.2496 - root_mean_squared_error: 0.4086 - val_loss: 0.4174 - val_root_mean_squared_error: 0.4909 - learning_rate: 5.0000e-05\n",
            "Epoch 195/250\n",
            "\u001b[1m30/30\u001b[0m \u001b[32m━━━━━━━━━━━━━━━━━━━━\u001b[0m\u001b[37m\u001b[0m \u001b[1m0s\u001b[0m 3ms/step - loss: 0.2475 - root_mean_squared_error: 0.4085 - val_loss: 0.4163 - val_root_mean_squared_error: 0.4900 - learning_rate: 5.0000e-05\n",
            "Epoch 196/250\n",
            "\u001b[1m30/30\u001b[0m \u001b[32m━━━━━━━━━━━━━━━━━━━━\u001b[0m\u001b[37m\u001b[0m \u001b[1m0s\u001b[0m 3ms/step - loss: 0.2422 - root_mean_squared_error: 0.4013 - val_loss: 0.4152 - val_root_mean_squared_error: 0.4891 - learning_rate: 5.0000e-05\n",
            "Epoch 197/250\n",
            "\u001b[1m30/30\u001b[0m \u001b[32m━━━━━━━━━━━━━━━━━━━━\u001b[0m\u001b[37m\u001b[0m \u001b[1m0s\u001b[0m 2ms/step - loss: 0.2346 - root_mean_squared_error: 0.3915 - val_loss: 0.4140 - val_root_mean_squared_error: 0.4882 - learning_rate: 5.0000e-05\n",
            "Epoch 198/250\n",
            "\u001b[1m30/30\u001b[0m \u001b[32m━━━━━━━━━━━━━━━━━━━━\u001b[0m\u001b[37m\u001b[0m \u001b[1m0s\u001b[0m 3ms/step - loss: 0.2420 - root_mean_squared_error: 0.4008 - val_loss: 0.4129 - val_root_mean_squared_error: 0.4873 - learning_rate: 5.0000e-05\n",
            "Epoch 199/250\n",
            "\u001b[1m30/30\u001b[0m \u001b[32m━━━━━━━━━━━━━━━━━━━━\u001b[0m\u001b[37m\u001b[0m \u001b[1m0s\u001b[0m 3ms/step - loss: 0.2409 - root_mean_squared_error: 0.3982 - val_loss: 0.4117 - val_root_mean_squared_error: 0.4864 - learning_rate: 5.0000e-05\n",
            "Epoch 200/250\n",
            "\u001b[1m30/30\u001b[0m \u001b[32m━━━━━━━━━━━━━━━━━━━━\u001b[0m\u001b[37m\u001b[0m \u001b[1m0s\u001b[0m 4ms/step - loss: 0.2404 - root_mean_squared_error: 0.3972 - val_loss: 0.4106 - val_root_mean_squared_error: 0.4855 - learning_rate: 5.0000e-05\n",
            "Epoch 201/250\n",
            "\u001b[1m30/30\u001b[0m \u001b[32m━━━━━━━━━━━━━━━━━━━━\u001b[0m\u001b[37m\u001b[0m \u001b[1m0s\u001b[0m 2ms/step - loss: 0.2377 - root_mean_squared_error: 0.3922 - val_loss: 0.4095 - val_root_mean_squared_error: 0.4845 - learning_rate: 5.0000e-05\n",
            "Epoch 202/250\n",
            "\u001b[1m30/30\u001b[0m \u001b[32m━━━━━━━━━━━━━━━━━━━━\u001b[0m\u001b[37m\u001b[0m \u001b[1m0s\u001b[0m 2ms/step - loss: 0.2393 - root_mean_squared_error: 0.3949 - val_loss: 0.4084 - val_root_mean_squared_error: 0.4837 - learning_rate: 5.0000e-05\n",
            "Epoch 203/250\n",
            "\u001b[1m30/30\u001b[0m \u001b[32m━━━━━━━━━━━━━━━━━━━━\u001b[0m\u001b[37m\u001b[0m \u001b[1m0s\u001b[0m 3ms/step - loss: 0.2342 - root_mean_squared_error: 0.3903 - val_loss: 0.4073 - val_root_mean_squared_error: 0.4828 - learning_rate: 5.0000e-05\n",
            "Epoch 204/250\n",
            "\u001b[1m30/30\u001b[0m \u001b[32m━━━━━━━━━━━━━━━━━━━━\u001b[0m\u001b[37m\u001b[0m \u001b[1m0s\u001b[0m 2ms/step - loss: 0.2279 - root_mean_squared_error: 0.3827 - val_loss: 0.4063 - val_root_mean_squared_error: 0.4819 - learning_rate: 5.0000e-05\n",
            "Epoch 205/250\n",
            "\u001b[1m30/30\u001b[0m \u001b[32m━━━━━━━━━━━━━━━━━━━━\u001b[0m\u001b[37m\u001b[0m \u001b[1m0s\u001b[0m 3ms/step - loss: 0.2342 - root_mean_squared_error: 0.3898 - val_loss: 0.4052 - val_root_mean_squared_error: 0.4810 - learning_rate: 5.0000e-05\n",
            "Epoch 206/250\n",
            "\u001b[1m30/30\u001b[0m \u001b[32m━━━━━━━━━━━━━━━━━━━━\u001b[0m\u001b[37m\u001b[0m \u001b[1m0s\u001b[0m 3ms/step - loss: 0.2336 - root_mean_squared_error: 0.3886 - val_loss: 0.4042 - val_root_mean_squared_error: 0.4802 - learning_rate: 5.0000e-05\n",
            "Epoch 207/250\n",
            "\u001b[1m30/30\u001b[0m \u001b[32m━━━━━━━━━━━━━━━━━━━━\u001b[0m\u001b[37m\u001b[0m \u001b[1m0s\u001b[0m 3ms/step - loss: 0.2344 - root_mean_squared_error: 0.3909 - val_loss: 0.4031 - val_root_mean_squared_error: 0.4794 - learning_rate: 5.0000e-05\n",
            "Epoch 208/250\n",
            "\u001b[1m30/30\u001b[0m \u001b[32m━━━━━━━━━━━━━━━━━━━━\u001b[0m\u001b[37m\u001b[0m \u001b[1m0s\u001b[0m 3ms/step - loss: 0.2327 - root_mean_squared_error: 0.3877 - val_loss: 0.4021 - val_root_mean_squared_error: 0.4785 - learning_rate: 5.0000e-05\n",
            "Epoch 209/250\n",
            "\u001b[1m30/30\u001b[0m \u001b[32m━━━━━━━━━━━━━━━━━━━━\u001b[0m\u001b[37m\u001b[0m \u001b[1m0s\u001b[0m 3ms/step - loss: 0.2275 - root_mean_squared_error: 0.3784 - val_loss: 0.4010 - val_root_mean_squared_error: 0.4776 - learning_rate: 5.0000e-05\n",
            "Epoch 210/250\n",
            "\u001b[1m30/30\u001b[0m \u001b[32m━━━━━━━━━━━━━━━━━━━━\u001b[0m\u001b[37m\u001b[0m \u001b[1m0s\u001b[0m 3ms/step - loss: 0.2351 - root_mean_squared_error: 0.3895 - val_loss: 0.4000 - val_root_mean_squared_error: 0.4768 - learning_rate: 5.0000e-05\n",
            "Epoch 211/250\n",
            "\u001b[1m30/30\u001b[0m \u001b[32m━━━━━━━━━━━━━━━━━━━━\u001b[0m\u001b[37m\u001b[0m \u001b[1m0s\u001b[0m 2ms/step - loss: 0.2297 - root_mean_squared_error: 0.3833 - val_loss: 0.3990 - val_root_mean_squared_error: 0.4760 - learning_rate: 5.0000e-05\n",
            "Epoch 212/250\n",
            "\u001b[1m30/30\u001b[0m \u001b[32m━━━━━━━━━━━━━━━━━━━━\u001b[0m\u001b[37m\u001b[0m \u001b[1m0s\u001b[0m 2ms/step - loss: 0.2228 - root_mean_squared_error: 0.3745 - val_loss: 0.3980 - val_root_mean_squared_error: 0.4752 - learning_rate: 5.0000e-05\n",
            "Epoch 213/250\n",
            "\u001b[1m30/30\u001b[0m \u001b[32m━━━━━━━━━━━━━━━━━━━━\u001b[0m\u001b[37m\u001b[0m \u001b[1m0s\u001b[0m 3ms/step - loss: 0.2248 - root_mean_squared_error: 0.3763 - val_loss: 0.3970 - val_root_mean_squared_error: 0.4744 - learning_rate: 5.0000e-05\n",
            "Epoch 214/250\n",
            "\u001b[1m30/30\u001b[0m \u001b[32m━━━━━━━━━━━━━━━━━━━━\u001b[0m\u001b[37m\u001b[0m \u001b[1m0s\u001b[0m 2ms/step - loss: 0.2275 - root_mean_squared_error: 0.3780 - val_loss: 0.3961 - val_root_mean_squared_error: 0.4736 - learning_rate: 5.0000e-05\n",
            "Epoch 215/250\n",
            "\u001b[1m30/30\u001b[0m \u001b[32m━━━━━━━━━━━━━━━━━━━━\u001b[0m\u001b[37m\u001b[0m \u001b[1m0s\u001b[0m 4ms/step - loss: 0.2215 - root_mean_squared_error: 0.3707 - val_loss: 0.3951 - val_root_mean_squared_error: 0.4728 - learning_rate: 5.0000e-05\n",
            "Epoch 216/250\n",
            "\u001b[1m30/30\u001b[0m \u001b[32m━━━━━━━━━━━━━━━━━━━━\u001b[0m\u001b[37m\u001b[0m \u001b[1m0s\u001b[0m 4ms/step - loss: 0.2245 - root_mean_squared_error: 0.3734 - val_loss: 0.3941 - val_root_mean_squared_error: 0.4720 - learning_rate: 5.0000e-05\n",
            "Epoch 217/250\n",
            "\u001b[1m30/30\u001b[0m \u001b[32m━━━━━━━━━━━━━━━━━━━━\u001b[0m\u001b[37m\u001b[0m \u001b[1m0s\u001b[0m 3ms/step - loss: 0.2210 - root_mean_squared_error: 0.3709 - val_loss: 0.3932 - val_root_mean_squared_error: 0.4712 - learning_rate: 5.0000e-05\n",
            "Epoch 218/250\n",
            "\u001b[1m30/30\u001b[0m \u001b[32m━━━━━━━━━━━━━━━━━━━━\u001b[0m\u001b[37m\u001b[0m \u001b[1m0s\u001b[0m 3ms/step - loss: 0.2278 - root_mean_squared_error: 0.3792 - val_loss: 0.3923 - val_root_mean_squared_error: 0.4705 - learning_rate: 5.0000e-05\n",
            "Epoch 219/250\n",
            "\u001b[1m30/30\u001b[0m \u001b[32m━━━━━━━━━━━━━━━━━━━━\u001b[0m\u001b[37m\u001b[0m \u001b[1m0s\u001b[0m 2ms/step - loss: 0.2201 - root_mean_squared_error: 0.3703 - val_loss: 0.3913 - val_root_mean_squared_error: 0.4697 - learning_rate: 5.0000e-05\n",
            "Epoch 220/250\n",
            "\u001b[1m30/30\u001b[0m \u001b[32m━━━━━━━━━━━━━━━━━━━━\u001b[0m\u001b[37m\u001b[0m \u001b[1m0s\u001b[0m 2ms/step - loss: 0.2188 - root_mean_squared_error: 0.3677 - val_loss: 0.3905 - val_root_mean_squared_error: 0.4690 - learning_rate: 5.0000e-05\n",
            "Epoch 221/250\n",
            "\u001b[1m30/30\u001b[0m \u001b[32m━━━━━━━━━━━━━━━━━━━━\u001b[0m\u001b[37m\u001b[0m \u001b[1m0s\u001b[0m 2ms/step - loss: 0.2219 - root_mean_squared_error: 0.3716 - val_loss: 0.3895 - val_root_mean_squared_error: 0.4683 - learning_rate: 5.0000e-05\n",
            "Epoch 222/250\n",
            "\u001b[1m30/30\u001b[0m \u001b[32m━━━━━━━━━━━━━━━━━━━━\u001b[0m\u001b[37m\u001b[0m \u001b[1m0s\u001b[0m 3ms/step - loss: 0.2169 - root_mean_squared_error: 0.3654 - val_loss: 0.3887 - val_root_mean_squared_error: 0.4676 - learning_rate: 5.0000e-05\n",
            "Epoch 223/250\n",
            "\u001b[1m30/30\u001b[0m \u001b[32m━━━━━━━━━━━━━━━━━━━━\u001b[0m\u001b[37m\u001b[0m \u001b[1m0s\u001b[0m 4ms/step - loss: 0.2195 - root_mean_squared_error: 0.3668 - val_loss: 0.3878 - val_root_mean_squared_error: 0.4669 - learning_rate: 5.0000e-05\n",
            "Epoch 224/250\n",
            "\u001b[1m30/30\u001b[0m \u001b[32m━━━━━━━━━━━━━━━━━━━━\u001b[0m\u001b[37m\u001b[0m \u001b[1m0s\u001b[0m 2ms/step - loss: 0.2180 - root_mean_squared_error: 0.3660 - val_loss: 0.3869 - val_root_mean_squared_error: 0.4662 - learning_rate: 5.0000e-05\n",
            "Epoch 225/250\n",
            "\u001b[1m30/30\u001b[0m \u001b[32m━━━━━━━━━━━━━━━━━━━━\u001b[0m\u001b[37m\u001b[0m \u001b[1m0s\u001b[0m 3ms/step - loss: 0.2207 - root_mean_squared_error: 0.3681 - val_loss: 0.3860 - val_root_mean_squared_error: 0.4655 - learning_rate: 5.0000e-05\n",
            "Epoch 226/250\n",
            "\u001b[1m30/30\u001b[0m \u001b[32m━━━━━━━━━━━━━━━━━━━━\u001b[0m\u001b[37m\u001b[0m \u001b[1m0s\u001b[0m 3ms/step - loss: 0.2175 - root_mean_squared_error: 0.3618 - val_loss: 0.3852 - val_root_mean_squared_error: 0.4648 - learning_rate: 5.0000e-05\n",
            "Epoch 227/250\n",
            "\u001b[1m30/30\u001b[0m \u001b[32m━━━━━━━━━━━━━━━━━━━━\u001b[0m\u001b[37m\u001b[0m \u001b[1m0s\u001b[0m 3ms/step - loss: 0.2177 - root_mean_squared_error: 0.3622 - val_loss: 0.3844 - val_root_mean_squared_error: 0.4642 - learning_rate: 5.0000e-05\n",
            "Epoch 228/250\n",
            "\u001b[1m30/30\u001b[0m \u001b[32m━━━━━━━━━━━━━━━━━━━━\u001b[0m\u001b[37m\u001b[0m \u001b[1m0s\u001b[0m 4ms/step - loss: 0.2161 - root_mean_squared_error: 0.3651 - val_loss: 0.3835 - val_root_mean_squared_error: 0.4636 - learning_rate: 5.0000e-05\n",
            "Epoch 229/250\n",
            "\u001b[1m30/30\u001b[0m \u001b[32m━━━━━━━━━━━━━━━━━━━━\u001b[0m\u001b[37m\u001b[0m \u001b[1m0s\u001b[0m 3ms/step - loss: 0.2114 - root_mean_squared_error: 0.3573 - val_loss: 0.3827 - val_root_mean_squared_error: 0.4629 - learning_rate: 5.0000e-05\n",
            "Epoch 230/250\n",
            "\u001b[1m30/30\u001b[0m \u001b[32m━━━━━━━━━━━━━━━━━━━━\u001b[0m\u001b[37m\u001b[0m \u001b[1m0s\u001b[0m 2ms/step - loss: 0.2145 - root_mean_squared_error: 0.3607 - val_loss: 0.3819 - val_root_mean_squared_error: 0.4622 - learning_rate: 5.0000e-05\n",
            "Epoch 231/250\n",
            "\u001b[1m30/30\u001b[0m \u001b[32m━━━━━━━━━━━━━━━━━━━━\u001b[0m\u001b[37m\u001b[0m \u001b[1m0s\u001b[0m 2ms/step - loss: 0.2230 - root_mean_squared_error: 0.3674 - val_loss: 0.3811 - val_root_mean_squared_error: 0.4615 - learning_rate: 5.0000e-05\n",
            "Epoch 232/250\n",
            "\u001b[1m30/30\u001b[0m \u001b[32m━━━━━━━━━━━━━━━━━━━━\u001b[0m\u001b[37m\u001b[0m \u001b[1m0s\u001b[0m 3ms/step - loss: 0.2133 - root_mean_squared_error: 0.3577 - val_loss: 0.3803 - val_root_mean_squared_error: 0.4609 - learning_rate: 5.0000e-05\n",
            "Epoch 233/250\n",
            "\u001b[1m30/30\u001b[0m \u001b[32m━━━━━━━━━━━━━━━━━━━━\u001b[0m\u001b[37m\u001b[0m \u001b[1m0s\u001b[0m 2ms/step - loss: 0.2132 - root_mean_squared_error: 0.3605 - val_loss: 0.3795 - val_root_mean_squared_error: 0.4602 - learning_rate: 5.0000e-05\n",
            "Epoch 234/250\n",
            "\u001b[1m30/30\u001b[0m \u001b[32m━━━━━━━━━━━━━━━━━━━━\u001b[0m\u001b[37m\u001b[0m \u001b[1m0s\u001b[0m 3ms/step - loss: 0.2122 - root_mean_squared_error: 0.3554 - val_loss: 0.3787 - val_root_mean_squared_error: 0.4595 - learning_rate: 5.0000e-05\n",
            "Epoch 235/250\n",
            "\u001b[1m30/30\u001b[0m \u001b[32m━━━━━━━━━━━━━━━━━━━━\u001b[0m\u001b[37m\u001b[0m \u001b[1m0s\u001b[0m 3ms/step - loss: 0.2127 - root_mean_squared_error: 0.3566 - val_loss: 0.3779 - val_root_mean_squared_error: 0.4589 - learning_rate: 5.0000e-05\n",
            "Epoch 236/250\n",
            "\u001b[1m30/30\u001b[0m \u001b[32m━━━━━━━━━━━━━━━━━━━━\u001b[0m\u001b[37m\u001b[0m \u001b[1m0s\u001b[0m 4ms/step - loss: 0.2174 - root_mean_squared_error: 0.3621 - val_loss: 0.3772 - val_root_mean_squared_error: 0.4583 - learning_rate: 5.0000e-05\n",
            "Epoch 237/250\n",
            "\u001b[1m30/30\u001b[0m \u001b[32m━━━━━━━━━━━━━━━━━━━━\u001b[0m\u001b[37m\u001b[0m \u001b[1m0s\u001b[0m 4ms/step - loss: 0.2082 - root_mean_squared_error: 0.3525 - val_loss: 0.3764 - val_root_mean_squared_error: 0.4577 - learning_rate: 5.0000e-05\n",
            "Epoch 238/250\n",
            "\u001b[1m30/30\u001b[0m \u001b[32m━━━━━━━━━━━━━━━━━━━━\u001b[0m\u001b[37m\u001b[0m \u001b[1m0s\u001b[0m 3ms/step - loss: 0.2051 - root_mean_squared_error: 0.3428 - val_loss: 0.3756 - val_root_mean_squared_error: 0.4571 - learning_rate: 5.0000e-05\n",
            "Epoch 239/250\n",
            "\u001b[1m30/30\u001b[0m \u001b[32m━━━━━━━━━━━━━━━━━━━━\u001b[0m\u001b[37m\u001b[0m \u001b[1m0s\u001b[0m 2ms/step - loss: 0.2086 - root_mean_squared_error: 0.3531 - val_loss: 0.3749 - val_root_mean_squared_error: 0.4566 - learning_rate: 5.0000e-05\n",
            "Epoch 240/250\n",
            "\u001b[1m30/30\u001b[0m \u001b[32m━━━━━━━━━━━━━━━━━━━━\u001b[0m\u001b[37m\u001b[0m \u001b[1m0s\u001b[0m 3ms/step - loss: 0.2026 - root_mean_squared_error: 0.3422 - val_loss: 0.3742 - val_root_mean_squared_error: 0.4561 - learning_rate: 5.0000e-05\n",
            "Epoch 241/250\n",
            "\u001b[1m30/30\u001b[0m \u001b[32m━━━━━━━━━━━━━━━━━━━━\u001b[0m\u001b[37m\u001b[0m \u001b[1m0s\u001b[0m 3ms/step - loss: 0.2068 - root_mean_squared_error: 0.3493 - val_loss: 0.3735 - val_root_mean_squared_error: 0.4555 - learning_rate: 5.0000e-05\n",
            "Epoch 242/250\n",
            "\u001b[1m30/30\u001b[0m \u001b[32m━━━━━━━━━━━━━━━━━━━━\u001b[0m\u001b[37m\u001b[0m \u001b[1m0s\u001b[0m 3ms/step - loss: 0.2092 - root_mean_squared_error: 0.3531 - val_loss: 0.3727 - val_root_mean_squared_error: 0.4549 - learning_rate: 5.0000e-05\n",
            "Epoch 243/250\n",
            "\u001b[1m30/30\u001b[0m \u001b[32m━━━━━━━━━━━━━━━━━━━━\u001b[0m\u001b[37m\u001b[0m \u001b[1m0s\u001b[0m 2ms/step - loss: 0.2071 - root_mean_squared_error: 0.3477 - val_loss: 0.3720 - val_root_mean_squared_error: 0.4543 - learning_rate: 5.0000e-05\n",
            "Epoch 244/250\n",
            "\u001b[1m30/30\u001b[0m \u001b[32m━━━━━━━━━━━━━━━━━━━━\u001b[0m\u001b[37m\u001b[0m \u001b[1m0s\u001b[0m 3ms/step - loss: 0.2082 - root_mean_squared_error: 0.3492 - val_loss: 0.3713 - val_root_mean_squared_error: 0.4537 - learning_rate: 5.0000e-05\n",
            "Epoch 245/250\n",
            "\u001b[1m30/30\u001b[0m \u001b[32m━━━━━━━━━━━━━━━━━━━━\u001b[0m\u001b[37m\u001b[0m \u001b[1m0s\u001b[0m 3ms/step - loss: 0.2049 - root_mean_squared_error: 0.3485 - val_loss: 0.3706 - val_root_mean_squared_error: 0.4531 - learning_rate: 5.0000e-05\n",
            "Epoch 246/250\n",
            "\u001b[1m30/30\u001b[0m \u001b[32m━━━━━━━━━━━━━━━━━━━━\u001b[0m\u001b[37m\u001b[0m \u001b[1m0s\u001b[0m 3ms/step - loss: 0.2008 - root_mean_squared_error: 0.3402 - val_loss: 0.3699 - val_root_mean_squared_error: 0.4526 - learning_rate: 5.0000e-05\n",
            "Epoch 247/250\n",
            "\u001b[1m30/30\u001b[0m \u001b[32m━━━━━━━━━━━━━━━━━━━━\u001b[0m\u001b[37m\u001b[0m \u001b[1m0s\u001b[0m 2ms/step - loss: 0.2047 - root_mean_squared_error: 0.3423 - val_loss: 0.3692 - val_root_mean_squared_error: 0.4521 - learning_rate: 5.0000e-05\n",
            "Epoch 248/250\n",
            "\u001b[1m30/30\u001b[0m \u001b[32m━━━━━━━━━━━━━━━━━━━━\u001b[0m\u001b[37m\u001b[0m \u001b[1m0s\u001b[0m 3ms/step - loss: 0.2104 - root_mean_squared_error: 0.3516 - val_loss: 0.3685 - val_root_mean_squared_error: 0.4516 - learning_rate: 5.0000e-05\n",
            "Epoch 249/250\n",
            "\u001b[1m30/30\u001b[0m \u001b[32m━━━━━━━━━━━━━━━━━━━━\u001b[0m\u001b[37m\u001b[0m \u001b[1m0s\u001b[0m 3ms/step - loss: 0.2019 - root_mean_squared_error: 0.3416 - val_loss: 0.3679 - val_root_mean_squared_error: 0.4510 - learning_rate: 5.0000e-05\n",
            "Epoch 250/250\n",
            "\u001b[1m30/30\u001b[0m \u001b[32m━━━━━━━━━━━━━━━━━━━━\u001b[0m\u001b[37m\u001b[0m \u001b[1m0s\u001b[0m 2ms/step - loss: 0.2047 - root_mean_squared_error: 0.3449 - val_loss: 0.3672 - val_root_mean_squared_error: 0.4505 - learning_rate: 5.0000e-05\n"
          ]
        }
      ],
      "source": [
        "from tensorflow.keras.optimizers import Adam\n",
        "from tensorflow.keras.layers import LSTM, Dense, Dropout\n",
        "from tensorflow.keras.regularizers import l2\n",
        "from tensorflow.keras.models import Sequential\n",
        "from tensorflow.keras.callbacks import EarlyStopping\n",
        "from tensorflow.keras.callbacks import ReduceLROnPlateau\n",
        "\n",
        "import tensorflow as tf\n",
        "from keras import backend as K\n",
        "\n",
        "# Definir la función personalizada para RMSE\n",
        "def root_mean_squared_error(y_true, y_pred):\n",
        "    rmse = tf.math.sqrt(tf.math.reduce_mean(tf.square(y_pred-y_true)))\n",
        "    return rmse\n",
        "\n",
        "#5e-5\n",
        "learning_rate = 5e-5\n",
        "dropout = 0.4\n",
        "kernelreg = 0.02\n",
        "act = 'sigmoid'\n",
        "\n",
        "# Definir el optimizador Adam con un valor de aprendizaje modificado\n",
        "optimizer = Adam(learning_rate=learning_rate)\n",
        "\n",
        "# Modificar el modelo añadiendo regularización L2 y mayor dropout\n",
        "model = Sequential()\n",
        "# Primera capa LSTM\n",
        "model.add(LSTM(126, input_shape=(X_train.shape[1], X_train.shape[2]), kernel_regularizer=l2(kernelreg), return_sequences=True))\n",
        "model.add(Dropout(dropout))\n",
        "\n",
        "# Segunda capa LSTM\n",
        "model.add(LSTM(66, kernel_regularizer=l2(kernelreg)))  # Puedes ajustar el número de unidades\n",
        "model.add(Dropout(dropout))\n",
        "\n",
        "# Capa densa final para la salida\n",
        "model.add(Dense(1, activation=act, kernel_regularizer=l2(kernelreg)))\n",
        "\n",
        "# Compilar el modelo\n",
        "model.compile(loss='mean_squared_error', optimizer=optimizer, metrics=[root_mean_squared_error])\n",
        "\n",
        "\n",
        "\n",
        "\n",
        "reduce_lr = ReduceLROnPlateau(monitor='val_loss', factor=0.2, patience=5, min_lr=1e-6)\n",
        "\n",
        "# Añadir Early Stopping\n",
        "early_stopping = EarlyStopping(monitor='val_loss', patience=5, restore_best_weights=True)\n",
        "\n",
        "\n",
        "history = model.fit(\n",
        "    X_train, y_train, \n",
        "    epochs=250, \n",
        "    batch_size=1, \n",
        "    verbose=1, \n",
        "    shuffle=False, \n",
        "    validation_data=(X_test, y_test), \n",
        "    callbacks=[early_stopping, reduce_lr]\n",
        ")\n",
        "\n"
      ]
    },
    {
      "cell_type": "code",
      "execution_count": 114,
      "metadata": {},
      "outputs": [
        {
          "data": {
            "image/png": "[encoded data removed]",
            "text/plain": [
              "<Figure size 640x480 with 1 Axes>"
            ]
          },
          "metadata": {},
          "output_type": "display_data"
        }
      ],
      "source": [
        "\n",
        "epochs_used  = (len(history.history['loss']))\n",
        "# Graficar las pérdidas de entrenamiento y validación\n",
        "plt.plot(history.history['loss'], label=f'Train Loss Item:{idItem}')\n",
        "plt.plot(history.history['val_loss'], label=f'Validation Loss Item:{idItem}')\n",
        "plt.title(f'Learning Rate:{learning_rate}, Dropout:{dropout}, KernelReg:{kernelreg}')\n",
        "plt.xlabel(f'Epochs: {epochs_used}')\n",
        "plt.ylabel(f'Loss; activation {act}')\n",
        "plt.legend()\n",
        "plt.show()"
      ]
    },
    {
      "cell_type": "code",
      "execution_count": 115,
      "metadata": {},
      "outputs": [
        {
          "data": {
            "image/png": "[encoded data removed]",
            "text/plain": [
              "<Figure size 640x480 with 1 Axes>"
            ]
          },
          "metadata": {},
          "output_type": "display_data"
        }
      ],
      "source": [
        " # Graficar curvas de entrenamiento y validación\n",
        " # para verificar que no existe overfitting\n",
        "plt.plot(history.history['loss'],label=f'Train Loss with Dropout {dropout}:, item= {idItem}')\n",
        "plt.plot(history.history['val_loss'],label=f'Val Loss with Dropout , item= {idItem}')\n",
        "\n",
        "plt.xlabel('Iteración')\n",
        "plt.ylabel('RMSE')\n",
        "plt.legend();"
      ]
    },
    {
      "cell_type": "code",
      "execution_count": 230,
      "metadata": {},
      "outputs": [
        {
          "data": {
            "image/png": "[encoded data removed]",
            "text/plain": [
              "<Figure size 640x480 with 1 Axes>"
            ]
          },
          "metadata": {},
          "output_type": "display_data"
        }
      ],
      "source": [
        "\n",
        "epochs_used  = (len(history.history['loss']))\n",
        "# Graficar las pérdidas de entrenamiento y validación\n",
        "plt.plot(history.history['loss'], label=f'Train Loss Item:{idItem}')\n",
        "plt.plot(history.history['val_loss'], label=f'Validation Loss Item:{idItem}')\n",
        "plt.title(f'Learning Rate:{learning_rate}, Dropout:{dropout}, KernelReg:{kernelreg}')\n",
        "plt.xlabel(f'Epochs: {epochs_used}')\n",
        "plt.ylabel('Loss')\n",
        "plt.legend()\n",
        "plt.show()"
      ]
    },
    {
      "cell_type": "code",
      "execution_count": 109,
      "metadata": {},
      "outputs": [
        {
          "name": "stdout",
          "output_type": "stream",
          "text": [
            "\u001b[1m6/6\u001b[0m \u001b[32m━━━━━━━━━━━━━━━━━━━━\u001b[0m\u001b[37m\u001b[0m \u001b[1m0s\u001b[0m 1ms/step  \n"
          ]
        }
      ],
      "source": [
        "y_pred = model.predict(X_test,batch_size=1)\n",
        "#for multistep prediction, you need to replace X_test values with the predictions coming from t-1\n",
        "#reshape y_pred\n",
        "y_pred = y_pred.reshape(y_pred.shape[0], 1, y_pred.shape[1])\n",
        "#rebuild test set for inverse transform\n",
        "pred_test_set = []\n",
        "for index in range(0,len(y_pred)):\n",
        "    np.concatenate([y_pred[index],X_test[index]],axis=1)\n",
        "    pred_test_set.append(np.concatenate([y_pred[index],X_test[index]],axis=1))\n",
        "#reshape pred_test_set\n",
        "pred_test_set = np.array(pred_test_set)\n",
        "pred_test_set = pred_test_set.reshape(pred_test_set.shape[0], pred_test_set.shape[2])\n",
        "#inverse transform\n",
        "pred_test_set_inverted = scaler.inverse_transform(pred_test_set)\n",
        "#create dataframe that shows the predicted sales\n",
        "result_list = []\n",
        "sales_dates = list(df_sales[-7:].Fecha)\n",
        "act_sales = list(df_sales[-7:].cantidad_frac)\n",
        "for index in range(0,len(pred_test_set_inverted)):\n",
        "    result_dict = {}\n",
        "    result_dict['cantidad_frac'] = int(pred_test_set_inverted[index][0] + act_sales[index])\n",
        "    result_dict['Fecha'] = sales_dates[index+1]\n",
        "    result_list.append(result_dict)\n",
        "df_result = pd.DataFrame(result_list)\n",
        "#for multistep prediction, replace act_sales with the predicted sales"
      ]
    },
    {
      "cell_type": "code",
      "execution_count": 110,
      "metadata": {},
      "outputs": [],
      "source": [
        "df_result1 = df_result"
      ]
    },
    {
      "cell_type": "code",
      "execution_count": 90,
      "metadata": {},
      "outputs": [],
      "source": [
        "df_result2 = df_result"
      ]
    },
    {
      "cell_type": "code",
      "execution_count": null,
      "metadata": {},
      "outputs": [],
      "source": [
        "df_result3 = df_result"
      ]
    },
    {
      "cell_type": "code",
      "execution_count": 44,
      "metadata": {},
      "outputs": [
        {
          "data": {
            "text/html": [
              "        <script type=\"text/javascript\">\n",
              "        window.PlotlyConfig = {MathJaxConfig: 'local'};\n",
              "        if (window.MathJax && window.MathJax.Hub && window.MathJax.Hub.Config) {window.MathJax.Hub.Config({SVG: {font: \"STIX-Web\"}});}\n",
              "        if (typeof require !== 'undefined') {\n",
              "        require.undef(\"plotly\");\n",
              "        requirejs.config({\n",
              "            paths: {\n",
              "                'plotly': ['https://cdn.plot.ly/plotly-2.34.0.min']\n",
              "            }\n",
              "        });\n",
              "        require(['plotly'], function(Plotly) {\n",
              "            window._Plotly = Plotly;\n",
              "        });\n",
              "        }\n",
              "        </script>\n",
              "        "
            ]
          },
          "metadata": {},
          "output_type": "display_data"
        }
      ],
      "source": [
        "import plotly.graph_objs as go\n",
        "from plotly.offline import iplot, init_notebook_mode\n",
        "\n",
        "# Inicializar el modo offline en Jupyter Notebook\n",
        "init_notebook_mode(connected=True)\n"
      ]
    },
    {
      "cell_type": "code",
      "execution_count": null,
      "metadata": {},
      "outputs": [],
      "source": [
        "df_result"
      ]
    },
    {
      "cell_type": "code",
      "execution_count": null,
      "metadata": {},
      "outputs": [],
      "source": [
        "# Merge con los datos de ventas reales\n",
        "df_sales_pred = pd.merge(df_sales, df_result, on='Fecha', how='left')\n",
        "\n",
        "# Crear los datos de la gráfica\n",
        "plot_data = [\n",
        "    go.Scatter(\n",
        "        x=df_sales_pred['Fecha'],\n",
        "        y=df_sales_pred['cantidad_frac_x']/100,\n",
        "        name='Actual Sales'\n",
        "    ),\n",
        "    go.Scatter(\n",
        "        x=df_sales_pred['Fecha'] - pd.DateOffset(months=1),\n",
        "        y=df_sales_pred['cantidad_frac_y']/100 ,\n",
        "        name='Predicted Sales'\n",
        "    )\n",
        "]\n",
        "\n",
        "# Definir el layout de la gráfica\n",
        "plot_layout = go.Layout(\n",
        "    title=f'Sales Prediction {idItem}'\n",
        ")\n",
        "\n",
        "# Crear la figura\n",
        "fig = go.Figure(data=plot_data, layout=plot_layout)\n",
        "\n",
        "# Mostrar la gráfica en el notebook\n",
        "iplot(fig)\n",
        "\n"
      ]
    },
    {
      "cell_type": "code",
      "execution_count": null,
      "metadata": {},
      "outputs": [],
      "source": [
        "rmse90765\n",
        "rmse79680\n"
      ]
    },
    {
      "cell_type": "code",
      "execution_count": 91,
      "metadata": {},
      "outputs": [
        {
          "name": "stdout",
          "output_type": "stream",
          "text": [
            "root_mean_squared_error item 79680: 2.080779358531811\n"
          ]
        }
      ],
      "source": [
        "\n",
        "\n",
        "# Calcular el Mean Squared Error\n",
        "rmse = root_mean_squared_error(y_test, y_pred)\n",
        "\n",
        "print(f\"root_mean_squared_error item {idItem}: {rmse}\")"
      ]
    },
    {
      "cell_type": "code",
      "execution_count": 101,
      "metadata": {},
      "outputs": [],
      "source": [
        "# Función para agregar nuevas predicciones al gráfico\n",
        "def agregar_prediccion(df_sales, df_result, nombre_prediccion, plot_data):\n",
        "    # Merge con los datos de ventas reales y predichas\n",
        "    df_sales_pred = pd.merge(df_sales, df_result, on='Fecha', how='left')\n",
        "\n",
        "    # Añadir la nueva serie de predicciones al gráfico\n",
        "    plot_data.append(\n",
        "        go.Scatter(\n",
        "            x=df_sales_pred['Fecha'] - pd.DateOffset(months=1), \n",
        "            y=df_sales_pred['cantidad_frac_y'] / 28, \n",
        "            name=nombre_prediccion\n",
        "        )\n",
        "    )\n",
        "\n",
        "# Crear los datos iniciales de la gráfica con las ventas reales\n",
        "plot_data = [\n",
        "    go.Scatter(\n",
        "        x=df_sales['Fecha'],\n",
        "        y=df_sales['cantidad_frac'] / 28,\n",
        "        name='Actual Sales'\n",
        "    )\n",
        "]\n",
        "\n",
        "\n"
      ]
    },
    {
      "cell_type": "code",
      "execution_count": 111,
      "metadata": {},
      "outputs": [
        {
          "data": {
            "application/vnd.plotly.v1+json": {
              "config": {
                "linkText": "Export to plot.ly",
                "plotlyServerURL": "https://plot.ly",
                "showLink": false
              },
              "data": [
                {
                  "name": "Actual Sales",
                  "type": "scatter",
                  "x": [
                    "2016-01-01T00:00:00",
                    "2016-02-01T00:00:00",
                    "2016-03-01T00:00:00",
                    "2016-04-01T00:00:00",
                    "2016-05-01T00:00:00",
                    "2016-06-01T00:00:00",
                    "2016-07-01T00:00:00",
                    "2016-08-01T00:00:00",
                    "2016-09-01T00:00:00",
                    "2016-10-01T00:00:00",
                    "2016-11-01T00:00:00",
                    "2016-12-01T00:00:00",
                    "2017-01-01T00:00:00",
                    "2017-02-01T00:00:00",
                    "2017-03-01T00:00:00",
                    "2017-04-01T00:00:00",
                    "2017-05-01T00:00:00",
                    "2017-06-01T00:00:00",
                    "2017-07-01T00:00:00",
                    "2017-08-01T00:00:00",
                    "2017-09-01T00:00:00",
                    "2017-10-01T00:00:00",
                    "2017-11-01T00:00:00",
                    "2017-12-01T00:00:00",
                    "2018-01-01T00:00:00",
                    "2018-02-01T00:00:00",
                    "2018-03-01T00:00:00",
                    "2018-04-01T00:00:00",
                    "2018-05-01T00:00:00",
                    "2018-06-01T00:00:00",
                    "2018-07-01T00:00:00",
                    "2018-08-01T00:00:00",
                    "2018-09-01T00:00:00",
                    "2018-10-01T00:00:00",
                    "2018-11-01T00:00:00",
                    "2018-12-01T00:00:00",
                    "2019-01-01T00:00:00",
                    "2019-02-01T00:00:00",
                    "2019-03-01T00:00:00",
                    "2019-04-01T00:00:00",
                    "2019-05-01T00:00:00",
                    "2019-06-01T00:00:00",
                    "2019-07-01T00:00:00",
                    "2019-08-01T00:00:00",
                    "2019-09-01T00:00:00",
                    "2019-10-01T00:00:00",
                    "2019-11-01T00:00:00",
                    "2019-12-01T00:00:00",
                    "2020-01-01T00:00:00",
                    "2020-02-01T00:00:00",
                    "2020-03-01T00:00:00",
                    "2020-04-01T00:00:00",
                    "2020-05-01T00:00:00",
                    "2020-06-01T00:00:00",
                    "2020-07-01T00:00:00",
                    "2020-08-01T00:00:00",
                    "2020-09-01T00:00:00",
                    "2020-10-01T00:00:00",
                    "2020-11-01T00:00:00",
                    "2020-12-01T00:00:00",
                    "2021-01-01T00:00:00",
                    "2021-02-01T00:00:00",
                    "2021-03-01T00:00:00",
                    "2021-04-01T00:00:00",
                    "2021-05-01T00:00:00",
                    "2021-06-01T00:00:00",
                    "2021-07-01T00:00:00",
                    "2021-08-01T00:00:00",
                    "2021-09-01T00:00:00",
                    "2021-10-01T00:00:00",
                    "2021-11-01T00:00:00",
                    "2021-12-01T00:00:00",
                    "2022-01-01T00:00:00",
                    "2022-02-01T00:00:00",
                    "2022-03-01T00:00:00",
                    "2022-04-01T00:00:00",
                    "2022-05-01T00:00:00",
                    "2022-06-01T00:00:00",
                    "2022-07-01T00:00:00",
                    "2022-08-01T00:00:00",
                    "2022-09-01T00:00:00",
                    "2022-10-01T00:00:00",
                    "2022-11-01T00:00:00",
                    "2022-12-01T00:00:00",
                    "2023-01-01T00:00:00",
                    "2023-02-01T00:00:00",
                    "2023-03-01T00:00:00",
                    "2023-04-01T00:00:00",
                    "2023-05-01T00:00:00",
                    "2023-06-01T00:00:00",
                    "2023-07-01T00:00:00",
                    "2023-08-01T00:00:00",
                    "2023-09-01T00:00:00",
                    "2023-10-01T00:00:00",
                    "2023-11-01T00:00:00",
                    "2023-12-01T00:00:00",
                    "2024-01-01T00:00:00",
                    "2024-02-01T00:00:00",
                    "2024-03-01T00:00:00",
                    "2024-04-01T00:00:00",
                    "2024-05-01T00:00:00",
                    "2024-06-01T00:00:00",
                    "2024-07-01T00:00:00"
                  ],
                  "y": [
                    1477,
                    1429.4642857142858,
                    1579.8214285714287,
                    1650.2142857142858,
                    1594.5357142857142,
                    1578.142857142857,
                    1534.5714285714287,
                    1805.107142857143,
                    1583.892857142857,
                    1686.392857142857,
                    1576.107142857143,
                    1630,
                    1595.7857142857142,
                    1493,
                    1675.357142857143,
                    1532.4285714285713,
                    1676.892857142857,
                    1614.1785714285713,
                    1593.75,
                    1573.0357142857142,
                    1708.107142857143,
                    1618.7857142857142,
                    1667.7857142857142,
                    1752.7142857142858,
                    1779.0357142857142,
                    1684.25,
                    1848.5357142857142,
                    1802,
                    1856,
                    1686.607142857143,
                    1775.8214285714287,
                    1789.892857142857,
                    1618.392857142857,
                    1733.2857142857142,
                    1640.25,
                    1662.892857142857,
                    1677.392857142857,
                    1598.392857142857,
                    1718.642857142857,
                    1654.7142857142858,
                    1733.5714285714287,
                    1614.7142857142858,
                    1649,
                    1645.142857142857,
                    1581.9285714285713,
                    1654.8214285714287,
                    1485.857142857143,
                    1547.7142857142858,
                    1645.392857142857,
                    1516.107142857143,
                    1933.642857142857,
                    1591.107142857143,
                    1497.3214285714287,
                    1515.9285714285713,
                    1702.857142857143,
                    1640.892857142857,
                    1597.0714285714287,
                    1723.3214285714287,
                    1562.607142857143,
                    1505.7142857142858,
                    1594.5,
                    1441.107142857143,
                    1692.607142857143,
                    1645,
                    1587.2857142857142,
                    1611.75,
                    1753.5714285714287,
                    1690.0357142857142,
                    1542.2857142857142,
                    1683.8214285714287,
                    1605.0357142857142,
                    1614.1785714285713,
                    1584.857142857143,
                    1568.607142857143,
                    1582.142857142857,
                    1573.5,
                    1542.4285714285713,
                    1440.0714285714287,
                    1422.25,
                    1508,
                    1454.642857142857,
                    1476.6785714285713,
                    1550.2142857142858,
                    1604.7142857142858,
                    1760.1785714285713,
                    1556.357142857143,
                    1863.107142857143,
                    1778.642857142857,
                    1818.8214285714287,
                    1234.7142857142858,
                    891.9285714285714,
                    1593.9642857142858,
                    1639.3214285714287,
                    1682.9642857142858,
                    1670.7142857142858,
                    1849.2857142857142,
                    1876.4285714285713,
                    1706.8214285714287,
                    1944.142857142857,
                    1927.7142857142858,
                    1904.0714285714287,
                    1891.607142857143,
                    1360.892857142857
                  ]
                },
                {
                  "name": "Predicted Config act:sigmoid, dropout:0.4, learningrat:0.0002",
                  "type": "scatter",
                  "x": [
                    "2015-12-01T00:00:00",
                    "2016-01-01T00:00:00",
                    "2016-02-01T00:00:00",
                    "2016-03-01T00:00:00",
                    "2016-04-01T00:00:00",
                    "2016-05-01T00:00:00",
                    "2016-06-01T00:00:00",
                    "2016-07-01T00:00:00",
                    "2016-08-01T00:00:00",
                    "2016-09-01T00:00:00",
                    "2016-10-01T00:00:00",
                    "2016-11-01T00:00:00",
                    "2016-12-01T00:00:00",
                    "2017-01-01T00:00:00",
                    "2017-02-01T00:00:00",
                    "2017-03-01T00:00:00",
                    "2017-04-01T00:00:00",
                    "2017-05-01T00:00:00",
                    "2017-06-01T00:00:00",
                    "2017-07-01T00:00:00",
                    "2017-08-01T00:00:00",
                    "2017-09-01T00:00:00",
                    "2017-10-01T00:00:00",
                    "2017-11-01T00:00:00",
                    "2017-12-01T00:00:00",
                    "2018-01-01T00:00:00",
                    "2018-02-01T00:00:00",
                    "2018-03-01T00:00:00",
                    "2018-04-01T00:00:00",
                    "2018-05-01T00:00:00",
                    "2018-06-01T00:00:00",
                    "2018-07-01T00:00:00",
                    "2018-08-01T00:00:00",
                    "2018-09-01T00:00:00",
                    "2018-10-01T00:00:00",
                    "2018-11-01T00:00:00",
                    "2018-12-01T00:00:00",
                    "2019-01-01T00:00:00",
                    "2019-02-01T00:00:00",
                    "2019-03-01T00:00:00",
                    "2019-04-01T00:00:00",
                    "2019-05-01T00:00:00",
                    "2019-06-01T00:00:00",
                    "2019-07-01T00:00:00",
                    "2019-08-01T00:00:00",
                    "2019-09-01T00:00:00",
                    "2019-10-01T00:00:00",
                    "2019-11-01T00:00:00",
                    "2019-12-01T00:00:00",
                    "2020-01-01T00:00:00",
                    "2020-02-01T00:00:00",
                    "2020-03-01T00:00:00",
                    "2020-04-01T00:00:00",
                    "2020-05-01T00:00:00",
                    "2020-06-01T00:00:00",
                    "2020-07-01T00:00:00",
                    "2020-08-01T00:00:00",
                    "2020-09-01T00:00:00",
                    "2020-10-01T00:00:00",
                    "2020-11-01T00:00:00",
                    "2020-12-01T00:00:00",
                    "2021-01-01T00:00:00",
                    "2021-02-01T00:00:00",
                    "2021-03-01T00:00:00",
                    "2021-04-01T00:00:00",
                    "2021-05-01T00:00:00",
                    "2021-06-01T00:00:00",
                    "2021-07-01T00:00:00",
                    "2021-08-01T00:00:00",
                    "2021-09-01T00:00:00",
                    "2021-10-01T00:00:00",
                    "2021-11-01T00:00:00",
                    "2021-12-01T00:00:00",
                    "2022-01-01T00:00:00",
                    "2022-02-01T00:00:00",
                    "2022-03-01T00:00:00",
                    "2022-04-01T00:00:00",
                    "2022-05-01T00:00:00",
                    "2022-06-01T00:00:00",
                    "2022-07-01T00:00:00",
                    "2022-08-01T00:00:00",
                    "2022-09-01T00:00:00",
                    "2022-10-01T00:00:00",
                    "2022-11-01T00:00:00",
                    "2022-12-01T00:00:00",
                    "2023-01-01T00:00:00",
                    "2023-02-01T00:00:00",
                    "2023-03-01T00:00:00",
                    "2023-04-01T00:00:00",
                    "2023-05-01T00:00:00",
                    "2023-06-01T00:00:00",
                    "2023-07-01T00:00:00",
                    "2023-08-01T00:00:00",
                    "2023-09-01T00:00:00",
                    "2023-10-01T00:00:00",
                    "2023-11-01T00:00:00",
                    "2023-12-01T00:00:00",
                    "2024-01-01T00:00:00",
                    "2024-02-01T00:00:00",
                    "2024-03-01T00:00:00",
                    "2024-04-01T00:00:00",
                    "2024-05-01T00:00:00",
                    "2024-06-01T00:00:00"
                  ],
                  "y": [
                    null,
                    null,
                    null,
                    null,
                    null,
                    null,
                    null,
                    null,
                    null,
                    null,
                    null,
                    null,
                    null,
                    null,
                    null,
                    null,
                    null,
                    null,
                    null,
                    null,
                    null,
                    null,
                    null,
                    null,
                    null,
                    null,
                    null,
                    null,
                    null,
                    null,
                    null,
                    null,
                    null,
                    null,
                    null,
                    null,
                    null,
                    null,
                    null,
                    null,
                    null,
                    null,
                    null,
                    null,
                    null,
                    null,
                    null,
                    null,
                    null,
                    null,
                    null,
                    null,
                    null,
                    null,
                    null,
                    null,
                    null,
                    null,
                    null,
                    null,
                    null,
                    null,
                    null,
                    null,
                    null,
                    null,
                    null,
                    null,
                    null,
                    null,
                    null,
                    null,
                    null,
                    null,
                    null,
                    null,
                    null,
                    null,
                    null,
                    null,
                    null,
                    null,
                    null,
                    null,
                    null,
                    null,
                    null,
                    null,
                    null,
                    null,
                    null,
                    null,
                    null,
                    null,
                    null,
                    null,
                    null,
                    1978.5714285714287,
                    1809.0357142857142,
                    2046.2857142857142,
                    2029.9285714285713,
                    2006.25,
                    1993.75
                  ]
                },
                {
                  "name": "Predicted Config act:sigmoid, dropout:0.4, learningrat:5e-05",
                  "type": "scatter",
                  "x": [
                    "2015-12-01T00:00:00",
                    "2016-01-01T00:00:00",
                    "2016-02-01T00:00:00",
                    "2016-03-01T00:00:00",
                    "2016-04-01T00:00:00",
                    "2016-05-01T00:00:00",
                    "2016-06-01T00:00:00",
                    "2016-07-01T00:00:00",
                    "2016-08-01T00:00:00",
                    "2016-09-01T00:00:00",
                    "2016-10-01T00:00:00",
                    "2016-11-01T00:00:00",
                    "2016-12-01T00:00:00",
                    "2017-01-01T00:00:00",
                    "2017-02-01T00:00:00",
                    "2017-03-01T00:00:00",
                    "2017-04-01T00:00:00",
                    "2017-05-01T00:00:00",
                    "2017-06-01T00:00:00",
                    "2017-07-01T00:00:00",
                    "2017-08-01T00:00:00",
                    "2017-09-01T00:00:00",
                    "2017-10-01T00:00:00",
                    "2017-11-01T00:00:00",
                    "2017-12-01T00:00:00",
                    "2018-01-01T00:00:00",
                    "2018-02-01T00:00:00",
                    "2018-03-01T00:00:00",
                    "2018-04-01T00:00:00",
                    "2018-05-01T00:00:00",
                    "2018-06-01T00:00:00",
                    "2018-07-01T00:00:00",
                    "2018-08-01T00:00:00",
                    "2018-09-01T00:00:00",
                    "2018-10-01T00:00:00",
                    "2018-11-01T00:00:00",
                    "2018-12-01T00:00:00",
                    "2019-01-01T00:00:00",
                    "2019-02-01T00:00:00",
                    "2019-03-01T00:00:00",
                    "2019-04-01T00:00:00",
                    "2019-05-01T00:00:00",
                    "2019-06-01T00:00:00",
                    "2019-07-01T00:00:00",
                    "2019-08-01T00:00:00",
                    "2019-09-01T00:00:00",
                    "2019-10-01T00:00:00",
                    "2019-11-01T00:00:00",
                    "2019-12-01T00:00:00",
                    "2020-01-01T00:00:00",
                    "2020-02-01T00:00:00",
                    "2020-03-01T00:00:00",
                    "2020-04-01T00:00:00",
                    "2020-05-01T00:00:00",
                    "2020-06-01T00:00:00",
                    "2020-07-01T00:00:00",
                    "2020-08-01T00:00:00",
                    "2020-09-01T00:00:00",
                    "2020-10-01T00:00:00",
                    "2020-11-01T00:00:00",
                    "2020-12-01T00:00:00",
                    "2021-01-01T00:00:00",
                    "2021-02-01T00:00:00",
                    "2021-03-01T00:00:00",
                    "2021-04-01T00:00:00",
                    "2021-05-01T00:00:00",
                    "2021-06-01T00:00:00",
                    "2021-07-01T00:00:00",
                    "2021-08-01T00:00:00",
                    "2021-09-01T00:00:00",
                    "2021-10-01T00:00:00",
                    "2021-11-01T00:00:00",
                    "2021-12-01T00:00:00",
                    "2022-01-01T00:00:00",
                    "2022-02-01T00:00:00",
                    "2022-03-01T00:00:00",
                    "2022-04-01T00:00:00",
                    "2022-05-01T00:00:00",
                    "2022-06-01T00:00:00",
                    "2022-07-01T00:00:00",
                    "2022-08-01T00:00:00",
                    "2022-09-01T00:00:00",
                    "2022-10-01T00:00:00",
                    "2022-11-01T00:00:00",
                    "2022-12-01T00:00:00",
                    "2023-01-01T00:00:00",
                    "2023-02-01T00:00:00",
                    "2023-03-01T00:00:00",
                    "2023-04-01T00:00:00",
                    "2023-05-01T00:00:00",
                    "2023-06-01T00:00:00",
                    "2023-07-01T00:00:00",
                    "2023-08-01T00:00:00",
                    "2023-09-01T00:00:00",
                    "2023-10-01T00:00:00",
                    "2023-11-01T00:00:00",
                    "2023-12-01T00:00:00",
                    "2024-01-01T00:00:00",
                    "2024-02-01T00:00:00",
                    "2024-03-01T00:00:00",
                    "2024-04-01T00:00:00",
                    "2024-05-01T00:00:00",
                    "2024-06-01T00:00:00"
                  ],
                  "y": [
                    null,
                    null,
                    null,
                    null,
                    null,
                    null,
                    null,
                    null,
                    null,
                    null,
                    null,
                    null,
                    null,
                    null,
                    null,
                    null,
                    null,
                    null,
                    null,
                    null,
                    null,
                    null,
                    null,
                    null,
                    null,
                    null,
                    null,
                    null,
                    null,
                    null,
                    null,
                    null,
                    null,
                    null,
                    null,
                    null,
                    null,
                    null,
                    null,
                    null,
                    null,
                    null,
                    null,
                    null,
                    null,
                    null,
                    null,
                    null,
                    null,
                    null,
                    null,
                    null,
                    null,
                    null,
                    null,
                    null,
                    null,
                    null,
                    null,
                    null,
                    null,
                    null,
                    null,
                    null,
                    null,
                    null,
                    null,
                    null,
                    null,
                    null,
                    null,
                    null,
                    null,
                    null,
                    null,
                    null,
                    null,
                    null,
                    null,
                    null,
                    null,
                    null,
                    null,
                    null,
                    null,
                    null,
                    null,
                    null,
                    null,
                    null,
                    null,
                    null,
                    null,
                    null,
                    null,
                    null,
                    null,
                    1978.5714285714287,
                    1809.0357142857142,
                    2046.2857142857142,
                    2029.9285714285713,
                    2006.25,
                    1993.75
                  ]
                },
                {
                  "name": "Predicted Config act:sigmoid, dropout:0, learningrat:5e-05",
                  "type": "scatter",
                  "x": [
                    "2015-12-01T00:00:00",
                    "2016-01-01T00:00:00",
                    "2016-02-01T00:00:00",
                    "2016-03-01T00:00:00",
                    "2016-04-01T00:00:00",
                    "2016-05-01T00:00:00",
                    "2016-06-01T00:00:00",
                    "2016-07-01T00:00:00",
                    "2016-08-01T00:00:00",
                    "2016-09-01T00:00:00",
                    "2016-10-01T00:00:00",
                    "2016-11-01T00:00:00",
                    "2016-12-01T00:00:00",
                    "2017-01-01T00:00:00",
                    "2017-02-01T00:00:00",
                    "2017-03-01T00:00:00",
                    "2017-04-01T00:00:00",
                    "2017-05-01T00:00:00",
                    "2017-06-01T00:00:00",
                    "2017-07-01T00:00:00",
                    "2017-08-01T00:00:00",
                    "2017-09-01T00:00:00",
                    "2017-10-01T00:00:00",
                    "2017-11-01T00:00:00",
                    "2017-12-01T00:00:00",
                    "2018-01-01T00:00:00",
                    "2018-02-01T00:00:00",
                    "2018-03-01T00:00:00",
                    "2018-04-01T00:00:00",
                    "2018-05-01T00:00:00",
                    "2018-06-01T00:00:00",
                    "2018-07-01T00:00:00",
                    "2018-08-01T00:00:00",
                    "2018-09-01T00:00:00",
                    "2018-10-01T00:00:00",
                    "2018-11-01T00:00:00",
                    "2018-12-01T00:00:00",
                    "2019-01-01T00:00:00",
                    "2019-02-01T00:00:00",
                    "2019-03-01T00:00:00",
                    "2019-04-01T00:00:00",
                    "2019-05-01T00:00:00",
                    "2019-06-01T00:00:00",
                    "2019-07-01T00:00:00",
                    "2019-08-01T00:00:00",
                    "2019-09-01T00:00:00",
                    "2019-10-01T00:00:00",
                    "2019-11-01T00:00:00",
                    "2019-12-01T00:00:00",
                    "2020-01-01T00:00:00",
                    "2020-02-01T00:00:00",
                    "2020-03-01T00:00:00",
                    "2020-04-01T00:00:00",
                    "2020-05-01T00:00:00",
                    "2020-06-01T00:00:00",
                    "2020-07-01T00:00:00",
                    "2020-08-01T00:00:00",
                    "2020-09-01T00:00:00",
                    "2020-10-01T00:00:00",
                    "2020-11-01T00:00:00",
                    "2020-12-01T00:00:00",
                    "2021-01-01T00:00:00",
                    "2021-02-01T00:00:00",
                    "2021-03-01T00:00:00",
                    "2021-04-01T00:00:00",
                    "2021-05-01T00:00:00",
                    "2021-06-01T00:00:00",
                    "2021-07-01T00:00:00",
                    "2021-08-01T00:00:00",
                    "2021-09-01T00:00:00",
                    "2021-10-01T00:00:00",
                    "2021-11-01T00:00:00",
                    "2021-12-01T00:00:00",
                    "2022-01-01T00:00:00",
                    "2022-02-01T00:00:00",
                    "2022-03-01T00:00:00",
                    "2022-04-01T00:00:00",
                    "2022-05-01T00:00:00",
                    "2022-06-01T00:00:00",
                    "2022-07-01T00:00:00",
                    "2022-08-01T00:00:00",
                    "2022-09-01T00:00:00",
                    "2022-10-01T00:00:00",
                    "2022-11-01T00:00:00",
                    "2022-12-01T00:00:00",
                    "2023-01-01T00:00:00",
                    "2023-02-01T00:00:00",
                    "2023-03-01T00:00:00",
                    "2023-04-01T00:00:00",
                    "2023-05-01T00:00:00",
                    "2023-06-01T00:00:00",
                    "2023-07-01T00:00:00",
                    "2023-08-01T00:00:00",
                    "2023-09-01T00:00:00",
                    "2023-10-01T00:00:00",
                    "2023-11-01T00:00:00",
                    "2023-12-01T00:00:00",
                    "2024-01-01T00:00:00",
                    "2024-02-01T00:00:00",
                    "2024-03-01T00:00:00",
                    "2024-04-01T00:00:00",
                    "2024-05-01T00:00:00",
                    "2024-06-01T00:00:00"
                  ],
                  "y": [
                    null,
                    null,
                    null,
                    null,
                    null,
                    null,
                    null,
                    null,
                    null,
                    null,
                    null,
                    null,
                    null,
                    null,
                    null,
                    null,
                    null,
                    null,
                    null,
                    null,
                    null,
                    null,
                    null,
                    null,
                    null,
                    null,
                    null,
                    null,
                    null,
                    null,
                    null,
                    null,
                    null,
                    null,
                    null,
                    null,
                    null,
                    null,
                    null,
                    null,
                    null,
                    null,
                    null,
                    null,
                    null,
                    null,
                    null,
                    null,
                    null,
                    null,
                    null,
                    null,
                    null,
                    null,
                    null,
                    null,
                    null,
                    null,
                    null,
                    null,
                    null,
                    null,
                    null,
                    null,
                    null,
                    null,
                    null,
                    null,
                    null,
                    null,
                    null,
                    null,
                    null,
                    null,
                    null,
                    null,
                    null,
                    null,
                    null,
                    null,
                    null,
                    null,
                    null,
                    null,
                    null,
                    null,
                    null,
                    null,
                    null,
                    null,
                    null,
                    null,
                    null,
                    null,
                    null,
                    null,
                    null,
                    2028.607142857143,
                    1863.6785714285713,
                    2097.9285714285716,
                    2085.5714285714284,
                    2059.0714285714284,
                    2043.9285714285713
                  ]
                }
              ],
              "layout": {
                "template": {
                  "data": {
                    "bar": [
                      {
                        "error_x": {
                          "color": "#2a3f5f"
                        },
                        "error_y": {
                          "color": "#2a3f5f"
                        },
                        "marker": {
                          "line": {
                            "color": "#E5ECF6",
                            "width": 0.5
                          },
                          "pattern": {
                            "fillmode": "overlay",
                            "size": 10,
                            "solidity": 0.2
                          }
                        },
                        "type": "bar"
                      }
                    ],
                    "barpolar": [
                      {
                        "marker": {
                          "line": {
                            "color": "#E5ECF6",
                            "width": 0.5
                          },
                          "pattern": {
                            "fillmode": "overlay",
                            "size": 10,
                            "solidity": 0.2
                          }
                        },
                        "type": "barpolar"
                      }
                    ],
                    "carpet": [
                      {
                        "aaxis": {
                          "endlinecolor": "#2a3f5f",
                          "gridcolor": "white",
                          "linecolor": "white",
                          "minorgridcolor": "white",
                          "startlinecolor": "#2a3f5f"
                        },
                        "baxis": {
                          "endlinecolor": "#2a3f5f",
                          "gridcolor": "white",
                          "linecolor": "white",
                          "minorgridcolor": "white",
                          "startlinecolor": "#2a3f5f"
                        },
                        "type": "carpet"
                      }
                    ],
                    "choropleth": [
                      {
                        "colorbar": {
                          "outlinewidth": 0,
                          "ticks": ""
                        },
                        "type": "choropleth"
                      }
                    ],
                    "contour": [
                      {
                        "colorbar": {
                          "outlinewidth": 0,
                          "ticks": ""
                        },
                        "colorscale": [
                          [
                            0,
                            "#0d0887"
                          ],
                          [
                            0.1111111111111111,
                            "#46039f"
                          ],
                          [
                            0.2222222222222222,
                            "#7201a8"
                          ],
                          [
                            0.3333333333333333,
                            "#9c179e"
                          ],
                          [
                            0.4444444444444444,
                            "#bd3786"
                          ],
                          [
                            0.5555555555555556,
                            "#d8576b"
                          ],
                          [
                            0.6666666666666666,
                            "#ed7953"
                          ],
                          [
                            0.7777777777777778,
                            "#fb9f3a"
                          ],
                          [
                            0.8888888888888888,
                            "#fdca26"
                          ],
                          [
                            1,
                            "#f0f921"
                          ]
                        ],
                        "type": "contour"
                      }
                    ],
                    "contourcarpet": [
                      {
                        "colorbar": {
                          "outlinewidth": 0,
                          "ticks": ""
                        },
                        "type": "contourcarpet"
                      }
                    ],
                    "heatmap": [
                      {
                        "colorbar": {
                          "outlinewidth": 0,
                          "ticks": ""
                        },
                        "colorscale": [
                          [
                            0,
                            "#0d0887"
                          ],
                          [
                            0.1111111111111111,
                            "#46039f"
                          ],
                          [
                            0.2222222222222222,
                            "#7201a8"
                          ],
                          [
                            0.3333333333333333,
                            "#9c179e"
                          ],
                          [
                            0.4444444444444444,
                            "#bd3786"
                          ],
                          [
                            0.5555555555555556,
                            "#d8576b"
                          ],
                          [
                            0.6666666666666666,
                            "#ed7953"
                          ],
                          [
                            0.7777777777777778,
                            "#fb9f3a"
                          ],
                          [
                            0.8888888888888888,
                            "#fdca26"
                          ],
                          [
                            1,
                            "#f0f921"
                          ]
                        ],
                        "type": "heatmap"
                      }
                    ],
                    "heatmapgl": [
                      {
                        "colorbar": {
                          "outlinewidth": 0,
                          "ticks": ""
                        },
                        "colorscale": [
                          [
                            0,
                            "#0d0887"
                          ],
                          [
                            0.1111111111111111,
                            "#46039f"
                          ],
                          [
                            0.2222222222222222,
                            "#7201a8"
                          ],
                          [
                            0.3333333333333333,
                            "#9c179e"
                          ],
                          [
                            0.4444444444444444,
                            "#bd3786"
                          ],
                          [
                            0.5555555555555556,
                            "#d8576b"
                          ],
                          [
                            0.6666666666666666,
                            "#ed7953"
                          ],
                          [
                            0.7777777777777778,
                            "#fb9f3a"
                          ],
                          [
                            0.8888888888888888,
                            "#fdca26"
                          ],
                          [
                            1,
                            "#f0f921"
                          ]
                        ],
                        "type": "heatmapgl"
                      }
                    ],
                    "histogram": [
                      {
                        "marker": {
                          "pattern": {
                            "fillmode": "overlay",
                            "size": 10,
                            "solidity": 0.2
                          }
                        },
                        "type": "histogram"
                      }
                    ],
                    "histogram2d": [
                      {
                        "colorbar": {
                          "outlinewidth": 0,
                          "ticks": ""
                        },
                        "colorscale": [
                          [
                            0,
                            "#0d0887"
                          ],
                          [
                            0.1111111111111111,
                            "#46039f"
                          ],
                          [
                            0.2222222222222222,
                            "#7201a8"
                          ],
                          [
                            0.3333333333333333,
                            "#9c179e"
                          ],
                          [
                            0.4444444444444444,
                            "#bd3786"
                          ],
                          [
                            0.5555555555555556,
                            "#d8576b"
                          ],
                          [
                            0.6666666666666666,
                            "#ed7953"
                          ],
                          [
                            0.7777777777777778,
                            "#fb9f3a"
                          ],
                          [
                            0.8888888888888888,
                            "#fdca26"
                          ],
                          [
                            1,
                            "#f0f921"
                          ]
                        ],
                        "type": "histogram2d"
                      }
                    ],
                    "histogram2dcontour": [
                      {
                        "colorbar": {
                          "outlinewidth": 0,
                          "ticks": ""
                        },
                        "colorscale": [
                          [
                            0,
                            "#0d0887"
                          ],
                          [
                            0.1111111111111111,
                            "#46039f"
                          ],
                          [
                            0.2222222222222222,
                            "#7201a8"
                          ],
                          [
                            0.3333333333333333,
                            "#9c179e"
                          ],
                          [
                            0.4444444444444444,
                            "#bd3786"
                          ],
                          [
                            0.5555555555555556,
                            "#d8576b"
                          ],
                          [
                            0.6666666666666666,
                            "#ed7953"
                          ],
                          [
                            0.7777777777777778,
                            "#fb9f3a"
                          ],
                          [
                            0.8888888888888888,
                            "#fdca26"
                          ],
                          [
                            1,
                            "#f0f921"
                          ]
                        ],
                        "type": "histogram2dcontour"
                      }
                    ],
                    "mesh3d": [
                      {
                        "colorbar": {
                          "outlinewidth": 0,
                          "ticks": ""
                        },
                        "type": "mesh3d"
                      }
                    ],
                    "parcoords": [
                      {
                        "line": {
                          "colorbar": {
                            "outlinewidth": 0,
                            "ticks": ""
                          }
                        },
                        "type": "parcoords"
                      }
                    ],
                    "pie": [
                      {
                        "automargin": true,
                        "type": "pie"
                      }
                    ],
                    "scatter": [
                      {
                        "fillpattern": {
                          "fillmode": "overlay",
                          "size": 10,
                          "solidity": 0.2
                        },
                        "type": "scatter"
                      }
                    ],
                    "scatter3d": [
                      {
                        "line": {
                          "colorbar": {
                            "outlinewidth": 0,
                            "ticks": ""
                          }
                        },
                        "marker": {
                          "colorbar": {
                            "outlinewidth": 0,
                            "ticks": ""
                          }
                        },
                        "type": "scatter3d"
                      }
                    ],
                    "scattercarpet": [
                      {
                        "marker": {
                          "colorbar": {
                            "outlinewidth": 0,
                            "ticks": ""
                          }
                        },
                        "type": "scattercarpet"
                      }
                    ],
                    "scattergeo": [
                      {
                        "marker": {
                          "colorbar": {
                            "outlinewidth": 0,
                            "ticks": ""
                          }
                        },
                        "type": "scattergeo"
                      }
                    ],
                    "scattergl": [
                      {
                        "marker": {
                          "colorbar": {
                            "outlinewidth": 0,
                            "ticks": ""
                          }
                        },
                        "type": "scattergl"
                      }
                    ],
                    "scattermapbox": [
                      {
                        "marker": {
                          "colorbar": {
                            "outlinewidth": 0,
                            "ticks": ""
                          }
                        },
                        "type": "scattermapbox"
                      }
                    ],
                    "scatterpolar": [
                      {
                        "marker": {
                          "colorbar": {
                            "outlinewidth": 0,
                            "ticks": ""
                          }
                        },
                        "type": "scatterpolar"
                      }
                    ],
                    "scatterpolargl": [
                      {
                        "marker": {
                          "colorbar": {
                            "outlinewidth": 0,
                            "ticks": ""
                          }
                        },
                        "type": "scatterpolargl"
                      }
                    ],
                    "scatterternary": [
                      {
                        "marker": {
                          "colorbar": {
                            "outlinewidth": 0,
                            "ticks": ""
                          }
                        },
                        "type": "scatterternary"
                      }
                    ],
                    "surface": [
                      {
                        "colorbar": {
                          "outlinewidth": 0,
                          "ticks": ""
                        },
                        "colorscale": [
                          [
                            0,
                            "#0d0887"
                          ],
                          [
                            0.1111111111111111,
                            "#46039f"
                          ],
                          [
                            0.2222222222222222,
                            "#7201a8"
                          ],
                          [
                            0.3333333333333333,
                            "#9c179e"
                          ],
                          [
                            0.4444444444444444,
                            "#bd3786"
                          ],
                          [
                            0.5555555555555556,
                            "#d8576b"
                          ],
                          [
                            0.6666666666666666,
                            "#ed7953"
                          ],
                          [
                            0.7777777777777778,
                            "#fb9f3a"
                          ],
                          [
                            0.8888888888888888,
                            "#fdca26"
                          ],
                          [
                            1,
                            "#f0f921"
                          ]
                        ],
                        "type": "surface"
                      }
                    ],
                    "table": [
                      {
                        "cells": {
                          "fill": {
                            "color": "#EBF0F8"
                          },
                          "line": {
                            "color": "white"
                          }
                        },
                        "header": {
                          "fill": {
                            "color": "#C8D4E3"
                          },
                          "line": {
                            "color": "white"
                          }
                        },
                        "type": "table"
                      }
                    ]
                  },
                  "layout": {
                    "annotationdefaults": {
                      "arrowcolor": "#2a3f5f",
                      "arrowhead": 0,
                      "arrowwidth": 1
                    },
                    "autotypenumbers": "strict",
                    "coloraxis": {
                      "colorbar": {
                        "outlinewidth": 0,
                        "ticks": ""
                      }
                    },
                    "colorscale": {
                      "diverging": [
                        [
                          0,
                          "#8e0152"
                        ],
                        [
                          0.1,
                          "#c51b7d"
                        ],
                        [
                          0.2,
                          "#de77ae"
                        ],
                        [
                          0.3,
                          "#f1b6da"
                        ],
                        [
                          0.4,
                          "#fde0ef"
                        ],
                        [
                          0.5,
                          "#f7f7f7"
                        ],
                        [
                          0.6,
                          "#e6f5d0"
                        ],
                        [
                          0.7,
                          "#b8e186"
                        ],
                        [
                          0.8,
                          "#7fbc41"
                        ],
                        [
                          0.9,
                          "#4d9221"
                        ],
                        [
                          1,
                          "#276419"
                        ]
                      ],
                      "sequential": [
                        [
                          0,
                          "#0d0887"
                        ],
                        [
                          0.1111111111111111,
                          "#46039f"
                        ],
                        [
                          0.2222222222222222,
                          "#7201a8"
                        ],
                        [
                          0.3333333333333333,
                          "#9c179e"
                        ],
                        [
                          0.4444444444444444,
                          "#bd3786"
                        ],
                        [
                          0.5555555555555556,
                          "#d8576b"
                        ],
                        [
                          0.6666666666666666,
                          "#ed7953"
                        ],
                        [
                          0.7777777777777778,
                          "#fb9f3a"
                        ],
                        [
                          0.8888888888888888,
                          "#fdca26"
                        ],
                        [
                          1,
                          "#f0f921"
                        ]
                      ],
                      "sequentialminus": [
                        [
                          0,
                          "#0d0887"
                        ],
                        [
                          0.1111111111111111,
                          "#46039f"
                        ],
                        [
                          0.2222222222222222,
                          "#7201a8"
                        ],
                        [
                          0.3333333333333333,
                          "#9c179e"
                        ],
                        [
                          0.4444444444444444,
                          "#bd3786"
                        ],
                        [
                          0.5555555555555556,
                          "#d8576b"
                        ],
                        [
                          0.6666666666666666,
                          "#ed7953"
                        ],
                        [
                          0.7777777777777778,
                          "#fb9f3a"
                        ],
                        [
                          0.8888888888888888,
                          "#fdca26"
                        ],
                        [
                          1,
                          "#f0f921"
                        ]
                      ]
                    },
                    "colorway": [
                      "#636efa",
                      "#EF553B",
                      "#00cc96",
                      "#ab63fa",
                      "#FFA15A",
                      "#19d3f3",
                      "#FF6692",
                      "#B6E880",
                      "#FF97FF",
                      "#FECB52"
                    ],
                    "font": {
                      "color": "#2a3f5f"
                    },
                    "geo": {
                      "bgcolor": "white",
                      "lakecolor": "white",
                      "landcolor": "#E5ECF6",
                      "showlakes": true,
                      "showland": true,
                      "subunitcolor": "white"
                    },
                    "hoverlabel": {
                      "align": "left"
                    },
                    "hovermode": "closest",
                    "mapbox": {
                      "style": "light"
                    },
                    "paper_bgcolor": "white",
                    "plot_bgcolor": "#E5ECF6",
                    "polar": {
                      "angularaxis": {
                        "gridcolor": "white",
                        "linecolor": "white",
                        "ticks": ""
                      },
                      "bgcolor": "#E5ECF6",
                      "radialaxis": {
                        "gridcolor": "white",
                        "linecolor": "white",
                        "ticks": ""
                      }
                    },
                    "scene": {
                      "xaxis": {
                        "backgroundcolor": "#E5ECF6",
                        "gridcolor": "white",
                        "gridwidth": 2,
                        "linecolor": "white",
                        "showbackground": true,
                        "ticks": "",
                        "zerolinecolor": "white"
                      },
                      "yaxis": {
                        "backgroundcolor": "#E5ECF6",
                        "gridcolor": "white",
                        "gridwidth": 2,
                        "linecolor": "white",
                        "showbackground": true,
                        "ticks": "",
                        "zerolinecolor": "white"
                      },
                      "zaxis": {
                        "backgroundcolor": "#E5ECF6",
                        "gridcolor": "white",
                        "gridwidth": 2,
                        "linecolor": "white",
                        "showbackground": true,
                        "ticks": "",
                        "zerolinecolor": "white"
                      }
                    },
                    "shapedefaults": {
                      "line": {
                        "color": "#2a3f5f"
                      }
                    },
                    "ternary": {
                      "aaxis": {
                        "gridcolor": "white",
                        "linecolor": "white",
                        "ticks": ""
                      },
                      "baxis": {
                        "gridcolor": "white",
                        "linecolor": "white",
                        "ticks": ""
                      },
                      "bgcolor": "#E5ECF6",
                      "caxis": {
                        "gridcolor": "white",
                        "linecolor": "white",
                        "ticks": ""
                      }
                    },
                    "title": {
                      "x": 0.05
                    },
                    "xaxis": {
                      "automargin": true,
                      "gridcolor": "white",
                      "linecolor": "white",
                      "ticks": "",
                      "title": {
                        "standoff": 15
                      },
                      "zerolinecolor": "white",
                      "zerolinewidth": 2
                    },
                    "yaxis": {
                      "automargin": true,
                      "gridcolor": "white",
                      "linecolor": "white",
                      "ticks": "",
                      "title": {
                        "standoff": 15
                      },
                      "zerolinecolor": "white",
                      "zerolinewidth": 2
                    }
                  }
                },
                "title": {
                  "text": "Monthly Sales Diff 88275"
                }
              }
            },
            "text/html": [
              "<div>                            <div id=\"6ab8d657-15a7-4fa1-a803-c3d0d343563b\" class=\"plotly-graph-div\" style=\"height:525px; width:100%;\"></div>            <script type=\"text/javascript\">                require([\"plotly\"], function(Plotly) {                    window.PLOTLYENV=window.PLOTLYENV || {};                                    if (document.getElementById(\"6ab8d657-15a7-4fa1-a803-c3d0d343563b\")) {                    Plotly.newPlot(                        \"6ab8d657-15a7-4fa1-a803-c3d0d343563b\",                        [{\"name\":\"Actual Sales\",\"x\":[\"2016-01-01T00:00:00\",\"2016-02-01T00:00:00\",\"2016-03-01T00:00:00\",\"2016-04-01T00:00:00\",\"2016-05-01T00:00:00\",\"2016-06-01T00:00:00\",\"2016-07-01T00:00:00\",\"2016-08-01T00:00:00\",\"2016-09-01T00:00:00\",\"2016-10-01T00:00:00\",\"2016-11-01T00:00:00\",\"2016-12-01T00:00:00\",\"2017-01-01T00:00:00\",\"2017-02-01T00:00:00\",\"2017-03-01T00:00:00\",\"2017-04-01T00:00:00\",\"2017-05-01T00:00:00\",\"2017-06-01T00:00:00\",\"2017-07-01T00:00:00\",\"2017-08-01T00:00:00\",\"2017-09-01T00:00:00\",\"2017-10-01T00:00:00\",\"2017-11-01T00:00:00\",\"2017-12-01T00:00:00\",\"2018-01-01T00:00:00\",\"2018-02-01T00:00:00\",\"2018-03-01T00:00:00\",\"2018-04-01T00:00:00\",\"2018-05-01T00:00:00\",\"2018-06-01T00:00:00\",\"2018-07-01T00:00:00\",\"2018-08-01T00:00:00\",\"2018-09-01T00:00:00\",\"2018-10-01T00:00:00\",\"2018-11-01T00:00:00\",\"2018-12-01T00:00:00\",\"2019-01-01T00:00:00\",\"2019-02-01T00:00:00\",\"2019-03-01T00:00:00\",\"2019-04-01T00:00:00\",\"2019-05-01T00:00:00\",\"2019-06-01T00:00:00\",\"2019-07-01T00:00:00\",\"2019-08-01T00:00:00\",\"2019-09-01T00:00:00\",\"2019-10-01T00:00:00\",\"2019-11-01T00:00:00\",\"2019-12-01T00:00:00\",\"2020-01-01T00:00:00\",\"2020-02-01T00:00:00\",\"2020-03-01T00:00:00\",\"2020-04-01T00:00:00\",\"2020-05-01T00:00:00\",\"2020-06-01T00:00:00\",\"2020-07-01T00:00:00\",\"2020-08-01T00:00:00\",\"2020-09-01T00:00:00\",\"2020-10-01T00:00:00\",\"2020-11-01T00:00:00\",\"2020-12-01T00:00:00\",\"2021-01-01T00:00:00\",\"2021-02-01T00:00:00\",\"2021-03-01T00:00:00\",\"2021-04-01T00:00:00\",\"2021-05-01T00:00:00\",\"2021-06-01T00:00:00\",\"2021-07-01T00:00:00\",\"2021-08-01T00:00:00\",\"2021-09-01T00:00:00\",\"2021-10-01T00:00:00\",\"2021-11-01T00:00:00\",\"2021-12-01T00:00:00\",\"2022-01-01T00:00:00\",\"2022-02-01T00:00:00\",\"2022-03-01T00:00:00\",\"2022-04-01T00:00:00\",\"2022-05-01T00:00:00\",\"2022-06-01T00:00:00\",\"2022-07-01T00:00:00\",\"2022-08-01T00:00:00\",\"2022-09-01T00:00:00\",\"2022-10-01T00:00:00\",\"2022-11-01T00:00:00\",\"2022-12-01T00:00:00\",\"2023-01-01T00:00:00\",\"2023-02-01T00:00:00\",\"2023-03-01T00:00:00\",\"2023-04-01T00:00:00\",\"2023-05-01T00:00:00\",\"2023-06-01T00:00:00\",\"2023-07-01T00:00:00\",\"2023-08-01T00:00:00\",\"2023-09-01T00:00:00\",\"2023-10-01T00:00:00\",\"2023-11-01T00:00:00\",\"2023-12-01T00:00:00\",\"2024-01-01T00:00:00\",\"2024-02-01T00:00:00\",\"2024-03-01T00:00:00\",\"2024-04-01T00:00:00\",\"2024-05-01T00:00:00\",\"2024-06-01T00:00:00\",\"2024-07-01T00:00:00\"],\"y\":[1477.0,1429.4642857142858,1579.8214285714287,1650.2142857142858,1594.5357142857142,1578.142857142857,1534.5714285714287,1805.107142857143,1583.892857142857,1686.392857142857,1576.107142857143,1630.0,1595.7857142857142,1493.0,1675.357142857143,1532.4285714285713,1676.892857142857,1614.1785714285713,1593.75,1573.0357142857142,1708.107142857143,1618.7857142857142,1667.7857142857142,1752.7142857142858,1779.0357142857142,1684.25,1848.5357142857142,1802.0,1856.0,1686.607142857143,1775.8214285714287,1789.892857142857,1618.392857142857,1733.2857142857142,1640.25,1662.892857142857,1677.392857142857,1598.392857142857,1718.642857142857,1654.7142857142858,1733.5714285714287,1614.7142857142858,1649.0,1645.142857142857,1581.9285714285713,1654.8214285714287,1485.857142857143,1547.7142857142858,1645.392857142857,1516.107142857143,1933.642857142857,1591.107142857143,1497.3214285714287,1515.9285714285713,1702.857142857143,1640.892857142857,1597.0714285714287,1723.3214285714287,1562.607142857143,1505.7142857142858,1594.5,1441.107142857143,1692.607142857143,1645.0,1587.2857142857142,1611.75,1753.5714285714287,1690.0357142857142,1542.2857142857142,1683.8214285714287,1605.0357142857142,1614.1785714285713,1584.857142857143,1568.607142857143,1582.142857142857,1573.5,1542.4285714285713,1440.0714285714287,1422.25,1508.0,1454.642857142857,1476.6785714285713,1550.2142857142858,1604.7142857142858,1760.1785714285713,1556.357142857143,1863.107142857143,1778.642857142857,1818.8214285714287,1234.7142857142858,891.9285714285714,1593.9642857142858,1639.3214285714287,1682.9642857142858,1670.7142857142858,1849.2857142857142,1876.4285714285713,1706.8214285714287,1944.142857142857,1927.7142857142858,1904.0714285714287,1891.607142857143,1360.892857142857],\"type\":\"scatter\"},{\"name\":\"Predicted Config act:sigmoid, dropout:0.4, learningrat:0.0002\",\"x\":[\"2015-12-01T00:00:00\",\"2016-01-01T00:00:00\",\"2016-02-01T00:00:00\",\"2016-03-01T00:00:00\",\"2016-04-01T00:00:00\",\"2016-05-01T00:00:00\",\"2016-06-01T00:00:00\",\"2016-07-01T00:00:00\",\"2016-08-01T00:00:00\",\"2016-09-01T00:00:00\",\"2016-10-01T00:00:00\",\"2016-11-01T00:00:00\",\"2016-12-01T00:00:00\",\"2017-01-01T00:00:00\",\"2017-02-01T00:00:00\",\"2017-03-01T00:00:00\",\"2017-04-01T00:00:00\",\"2017-05-01T00:00:00\",\"2017-06-01T00:00:00\",\"2017-07-01T00:00:00\",\"2017-08-01T00:00:00\",\"2017-09-01T00:00:00\",\"2017-10-01T00:00:00\",\"2017-11-01T00:00:00\",\"2017-12-01T00:00:00\",\"2018-01-01T00:00:00\",\"2018-02-01T00:00:00\",\"2018-03-01T00:00:00\",\"2018-04-01T00:00:00\",\"2018-05-01T00:00:00\",\"2018-06-01T00:00:00\",\"2018-07-01T00:00:00\",\"2018-08-01T00:00:00\",\"2018-09-01T00:00:00\",\"2018-10-01T00:00:00\",\"2018-11-01T00:00:00\",\"2018-12-01T00:00:00\",\"2019-01-01T00:00:00\",\"2019-02-01T00:00:00\",\"2019-03-01T00:00:00\",\"2019-04-01T00:00:00\",\"2019-05-01T00:00:00\",\"2019-06-01T00:00:00\",\"2019-07-01T00:00:00\",\"2019-08-01T00:00:00\",\"2019-09-01T00:00:00\",\"2019-10-01T00:00:00\",\"2019-11-01T00:00:00\",\"2019-12-01T00:00:00\",\"2020-01-01T00:00:00\",\"2020-02-01T00:00:00\",\"2020-03-01T00:00:00\",\"2020-04-01T00:00:00\",\"2020-05-01T00:00:00\",\"2020-06-01T00:00:00\",\"2020-07-01T00:00:00\",\"2020-08-01T00:00:00\",\"2020-09-01T00:00:00\",\"2020-10-01T00:00:00\",\"2020-11-01T00:00:00\",\"2020-12-01T00:00:00\",\"2021-01-01T00:00:00\",\"2021-02-01T00:00:00\",\"2021-03-01T00:00:00\",\"2021-04-01T00:00:00\",\"2021-05-01T00:00:00\",\"2021-06-01T00:00:00\",\"2021-07-01T00:00:00\",\"2021-08-01T00:00:00\",\"2021-09-01T00:00:00\",\"2021-10-01T00:00:00\",\"2021-11-01T00:00:00\",\"2021-12-01T00:00:00\",\"2022-01-01T00:00:00\",\"2022-02-01T00:00:00\",\"2022-03-01T00:00:00\",\"2022-04-01T00:00:00\",\"2022-05-01T00:00:00\",\"2022-06-01T00:00:00\",\"2022-07-01T00:00:00\",\"2022-08-01T00:00:00\",\"2022-09-01T00:00:00\",\"2022-10-01T00:00:00\",\"2022-11-01T00:00:00\",\"2022-12-01T00:00:00\",\"2023-01-01T00:00:00\",\"2023-02-01T00:00:00\",\"2023-03-01T00:00:00\",\"2023-04-01T00:00:00\",\"2023-05-01T00:00:00\",\"2023-06-01T00:00:00\",\"2023-07-01T00:00:00\",\"2023-08-01T00:00:00\",\"2023-09-01T00:00:00\",\"2023-10-01T00:00:00\",\"2023-11-01T00:00:00\",\"2023-12-01T00:00:00\",\"2024-01-01T00:00:00\",\"2024-02-01T00:00:00\",\"2024-03-01T00:00:00\",\"2024-04-01T00:00:00\",\"2024-05-01T00:00:00\",\"2024-06-01T00:00:00\"],\"y\":[null,null,null,null,null,null,null,null,null,null,null,null,null,null,null,null,null,null,null,null,null,null,null,null,null,null,null,null,null,null,null,null,null,null,null,null,null,null,null,null,null,null,null,null,null,null,null,null,null,null,null,null,null,null,null,null,null,null,null,null,null,null,null,null,null,null,null,null,null,null,null,null,null,null,null,null,null,null,null,null,null,null,null,null,null,null,null,null,null,null,null,null,null,null,null,null,null,1978.5714285714287,1809.0357142857142,2046.2857142857142,2029.9285714285713,2006.25,1993.75],\"type\":\"scatter\"},{\"name\":\"Predicted Config act:sigmoid, dropout:0.4, learningrat:5e-05\",\"x\":[\"2015-12-01T00:00:00\",\"2016-01-01T00:00:00\",\"2016-02-01T00:00:00\",\"2016-03-01T00:00:00\",\"2016-04-01T00:00:00\",\"2016-05-01T00:00:00\",\"2016-06-01T00:00:00\",\"2016-07-01T00:00:00\",\"2016-08-01T00:00:00\",\"2016-09-01T00:00:00\",\"2016-10-01T00:00:00\",\"2016-11-01T00:00:00\",\"2016-12-01T00:00:00\",\"2017-01-01T00:00:00\",\"2017-02-01T00:00:00\",\"2017-03-01T00:00:00\",\"2017-04-01T00:00:00\",\"2017-05-01T00:00:00\",\"2017-06-01T00:00:00\",\"2017-07-01T00:00:00\",\"2017-08-01T00:00:00\",\"2017-09-01T00:00:00\",\"2017-10-01T00:00:00\",\"2017-11-01T00:00:00\",\"2017-12-01T00:00:00\",\"2018-01-01T00:00:00\",\"2018-02-01T00:00:00\",\"2018-03-01T00:00:00\",\"2018-04-01T00:00:00\",\"2018-05-01T00:00:00\",\"2018-06-01T00:00:00\",\"2018-07-01T00:00:00\",\"2018-08-01T00:00:00\",\"2018-09-01T00:00:00\",\"2018-10-01T00:00:00\",\"2018-11-01T00:00:00\",\"2018-12-01T00:00:00\",\"2019-01-01T00:00:00\",\"2019-02-01T00:00:00\",\"2019-03-01T00:00:00\",\"2019-04-01T00:00:00\",\"2019-05-01T00:00:00\",\"2019-06-01T00:00:00\",\"2019-07-01T00:00:00\",\"2019-08-01T00:00:00\",\"2019-09-01T00:00:00\",\"2019-10-01T00:00:00\",\"2019-11-01T00:00:00\",\"2019-12-01T00:00:00\",\"2020-01-01T00:00:00\",\"2020-02-01T00:00:00\",\"2020-03-01T00:00:00\",\"2020-04-01T00:00:00\",\"2020-05-01T00:00:00\",\"2020-06-01T00:00:00\",\"2020-07-01T00:00:00\",\"2020-08-01T00:00:00\",\"2020-09-01T00:00:00\",\"2020-10-01T00:00:00\",\"2020-11-01T00:00:00\",\"2020-12-01T00:00:00\",\"2021-01-01T00:00:00\",\"2021-02-01T00:00:00\",\"2021-03-01T00:00:00\",\"2021-04-01T00:00:00\",\"2021-05-01T00:00:00\",\"2021-06-01T00:00:00\",\"2021-07-01T00:00:00\",\"2021-08-01T00:00:00\",\"2021-09-01T00:00:00\",\"2021-10-01T00:00:00\",\"2021-11-01T00:00:00\",\"2021-12-01T00:00:00\",\"2022-01-01T00:00:00\",\"2022-02-01T00:00:00\",\"2022-03-01T00:00:00\",\"2022-04-01T00:00:00\",\"2022-05-01T00:00:00\",\"2022-06-01T00:00:00\",\"2022-07-01T00:00:00\",\"2022-08-01T00:00:00\",\"2022-09-01T00:00:00\",\"2022-10-01T00:00:00\",\"2022-11-01T00:00:00\",\"2022-12-01T00:00:00\",\"2023-01-01T00:00:00\",\"2023-02-01T00:00:00\",\"2023-03-01T00:00:00\",\"2023-04-01T00:00:00\",\"2023-05-01T00:00:00\",\"2023-06-01T00:00:00\",\"2023-07-01T00:00:00\",\"2023-08-01T00:00:00\",\"2023-09-01T00:00:00\",\"2023-10-01T00:00:00\",\"2023-11-01T00:00:00\",\"2023-12-01T00:00:00\",\"2024-01-01T00:00:00\",\"2024-02-01T00:00:00\",\"2024-03-01T00:00:00\",\"2024-04-01T00:00:00\",\"2024-05-01T00:00:00\",\"2024-06-01T00:00:00\"],\"y\":[null,null,null,null,null,null,null,null,null,null,null,null,null,null,null,null,null,null,null,null,null,null,null,null,null,null,null,null,null,null,null,null,null,null,null,null,null,null,null,null,null,null,null,null,null,null,null,null,null,null,null,null,null,null,null,null,null,null,null,null,null,null,null,null,null,null,null,null,null,null,null,null,null,null,null,null,null,null,null,null,null,null,null,null,null,null,null,null,null,null,null,null,null,null,null,null,null,1978.5714285714287,1809.0357142857142,2046.2857142857142,2029.9285714285713,2006.25,1993.75],\"type\":\"scatter\"},{\"name\":\"Predicted Config act:sigmoid, dropout:0, learningrat:5e-05\",\"x\":[\"2015-12-01T00:00:00\",\"2016-01-01T00:00:00\",\"2016-02-01T00:00:00\",\"2016-03-01T00:00:00\",\"2016-04-01T00:00:00\",\"2016-05-01T00:00:00\",\"2016-06-01T00:00:00\",\"2016-07-01T00:00:00\",\"2016-08-01T00:00:00\",\"2016-09-01T00:00:00\",\"2016-10-01T00:00:00\",\"2016-11-01T00:00:00\",\"2016-12-01T00:00:00\",\"2017-01-01T00:00:00\",\"2017-02-01T00:00:00\",\"2017-03-01T00:00:00\",\"2017-04-01T00:00:00\",\"2017-05-01T00:00:00\",\"2017-06-01T00:00:00\",\"2017-07-01T00:00:00\",\"2017-08-01T00:00:00\",\"2017-09-01T00:00:00\",\"2017-10-01T00:00:00\",\"2017-11-01T00:00:00\",\"2017-12-01T00:00:00\",\"2018-01-01T00:00:00\",\"2018-02-01T00:00:00\",\"2018-03-01T00:00:00\",\"2018-04-01T00:00:00\",\"2018-05-01T00:00:00\",\"2018-06-01T00:00:00\",\"2018-07-01T00:00:00\",\"2018-08-01T00:00:00\",\"2018-09-01T00:00:00\",\"2018-10-01T00:00:00\",\"2018-11-01T00:00:00\",\"2018-12-01T00:00:00\",\"2019-01-01T00:00:00\",\"2019-02-01T00:00:00\",\"2019-03-01T00:00:00\",\"2019-04-01T00:00:00\",\"2019-05-01T00:00:00\",\"2019-06-01T00:00:00\",\"2019-07-01T00:00:00\",\"2019-08-01T00:00:00\",\"2019-09-01T00:00:00\",\"2019-10-01T00:00:00\",\"2019-11-01T00:00:00\",\"2019-12-01T00:00:00\",\"2020-01-01T00:00:00\",\"2020-02-01T00:00:00\",\"2020-03-01T00:00:00\",\"2020-04-01T00:00:00\",\"2020-05-01T00:00:00\",\"2020-06-01T00:00:00\",\"2020-07-01T00:00:00\",\"2020-08-01T00:00:00\",\"2020-09-01T00:00:00\",\"2020-10-01T00:00:00\",\"2020-11-01T00:00:00\",\"2020-12-01T00:00:00\",\"2021-01-01T00:00:00\",\"2021-02-01T00:00:00\",\"2021-03-01T00:00:00\",\"2021-04-01T00:00:00\",\"2021-05-01T00:00:00\",\"2021-06-01T00:00:00\",\"2021-07-01T00:00:00\",\"2021-08-01T00:00:00\",\"2021-09-01T00:00:00\",\"2021-10-01T00:00:00\",\"2021-11-01T00:00:00\",\"2021-12-01T00:00:00\",\"2022-01-01T00:00:00\",\"2022-02-01T00:00:00\",\"2022-03-01T00:00:00\",\"2022-04-01T00:00:00\",\"2022-05-01T00:00:00\",\"2022-06-01T00:00:00\",\"2022-07-01T00:00:00\",\"2022-08-01T00:00:00\",\"2022-09-01T00:00:00\",\"2022-10-01T00:00:00\",\"2022-11-01T00:00:00\",\"2022-12-01T00:00:00\",\"2023-01-01T00:00:00\",\"2023-02-01T00:00:00\",\"2023-03-01T00:00:00\",\"2023-04-01T00:00:00\",\"2023-05-01T00:00:00\",\"2023-06-01T00:00:00\",\"2023-07-01T00:00:00\",\"2023-08-01T00:00:00\",\"2023-09-01T00:00:00\",\"2023-10-01T00:00:00\",\"2023-11-01T00:00:00\",\"2023-12-01T00:00:00\",\"2024-01-01T00:00:00\",\"2024-02-01T00:00:00\",\"2024-03-01T00:00:00\",\"2024-04-01T00:00:00\",\"2024-05-01T00:00:00\",\"2024-06-01T00:00:00\"],\"y\":[null,null,null,null,null,null,null,null,null,null,null,null,null,null,null,null,null,null,null,null,null,null,null,null,null,null,null,null,null,null,null,null,null,null,null,null,null,null,null,null,null,null,null,null,null,null,null,null,null,null,null,null,null,null,null,null,null,null,null,null,null,null,null,null,null,null,null,null,null,null,null,null,null,null,null,null,null,null,null,null,null,null,null,null,null,null,null,null,null,null,null,null,null,null,null,null,null,2028.607142857143,1863.6785714285713,2097.9285714285716,2085.5714285714284,2059.0714285714284,2043.9285714285713],\"type\":\"scatter\"}],                        {\"template\":{\"data\":{\"barpolar\":[{\"marker\":{\"line\":{\"color\":\"#E5ECF6\",\"width\":0.5},\"pattern\":{\"fillmode\":\"overlay\",\"size\":10,\"solidity\":0.2}},\"type\":\"barpolar\"}],\"bar\":[{\"error_x\":{\"color\":\"#2a3f5f\"},\"error_y\":{\"color\":\"#2a3f5f\"},\"marker\":{\"line\":{\"color\":\"#E5ECF6\",\"width\":0.5},\"pattern\":{\"fillmode\":\"overlay\",\"size\":10,\"solidity\":0.2}},\"type\":\"bar\"}],\"carpet\":[{\"aaxis\":{\"endlinecolor\":\"#2a3f5f\",\"gridcolor\":\"white\",\"linecolor\":\"white\",\"minorgridcolor\":\"white\",\"startlinecolor\":\"#2a3f5f\"},\"baxis\":{\"endlinecolor\":\"#2a3f5f\",\"gridcolor\":\"white\",\"linecolor\":\"white\",\"minorgridcolor\":\"white\",\"startlinecolor\":\"#2a3f5f\"},\"type\":\"carpet\"}],\"choropleth\":[{\"colorbar\":{\"outlinewidth\":0,\"ticks\":\"\"},\"type\":\"choropleth\"}],\"contourcarpet\":[{\"colorbar\":{\"outlinewidth\":0,\"ticks\":\"\"},\"type\":\"contourcarpet\"}],\"contour\":[{\"colorbar\":{\"outlinewidth\":0,\"ticks\":\"\"},\"colorscale\":[[0.0,\"#0d0887\"],[0.1111111111111111,\"#46039f\"],[0.2222222222222222,\"#7201a8\"],[0.3333333333333333,\"#9c179e\"],[0.4444444444444444,\"#bd3786\"],[0.5555555555555556,\"#d8576b\"],[0.6666666666666666,\"#ed7953\"],[0.7777777777777778,\"#fb9f3a\"],[0.8888888888888888,\"#fdca26\"],[1.0,\"#f0f921\"]],\"type\":\"contour\"}],\"heatmapgl\":[{\"colorbar\":{\"outlinewidth\":0,\"ticks\":\"\"},\"colorscale\":[[0.0,\"#0d0887\"],[0.1111111111111111,\"#46039f\"],[0.2222222222222222,\"#7201a8\"],[0.3333333333333333,\"#9c179e\"],[0.4444444444444444,\"#bd3786\"],[0.5555555555555556,\"#d8576b\"],[0.6666666666666666,\"#ed7953\"],[0.7777777777777778,\"#fb9f3a\"],[0.8888888888888888,\"#fdca26\"],[1.0,\"#f0f921\"]],\"type\":\"heatmapgl\"}],\"heatmap\":[{\"colorbar\":{\"outlinewidth\":0,\"ticks\":\"\"},\"colorscale\":[[0.0,\"#0d0887\"],[0.1111111111111111,\"#46039f\"],[0.2222222222222222,\"#7201a8\"],[0.3333333333333333,\"#9c179e\"],[0.4444444444444444,\"#bd3786\"],[0.5555555555555556,\"#d8576b\"],[0.6666666666666666,\"#ed7953\"],[0.7777777777777778,\"#fb9f3a\"],[0.8888888888888888,\"#fdca26\"],[1.0,\"#f0f921\"]],\"type\":\"heatmap\"}],\"histogram2dcontour\":[{\"colorbar\":{\"outlinewidth\":0,\"ticks\":\"\"},\"colorscale\":[[0.0,\"#0d0887\"],[0.1111111111111111,\"#46039f\"],[0.2222222222222222,\"#7201a8\"],[0.3333333333333333,\"#9c179e\"],[0.4444444444444444,\"#bd3786\"],[0.5555555555555556,\"#d8576b\"],[0.6666666666666666,\"#ed7953\"],[0.7777777777777778,\"#fb9f3a\"],[0.8888888888888888,\"#fdca26\"],[1.0,\"#f0f921\"]],\"type\":\"histogram2dcontour\"}],\"histogram2d\":[{\"colorbar\":{\"outlinewidth\":0,\"ticks\":\"\"},\"colorscale\":[[0.0,\"#0d0887\"],[0.1111111111111111,\"#46039f\"],[0.2222222222222222,\"#7201a8\"],[0.3333333333333333,\"#9c179e\"],[0.4444444444444444,\"#bd3786\"],[0.5555555555555556,\"#d8576b\"],[0.6666666666666666,\"#ed7953\"],[0.7777777777777778,\"#fb9f3a\"],[0.8888888888888888,\"#fdca26\"],[1.0,\"#f0f921\"]],\"type\":\"histogram2d\"}],\"histogram\":[{\"marker\":{\"pattern\":{\"fillmode\":\"overlay\",\"size\":10,\"solidity\":0.2}},\"type\":\"histogram\"}],\"mesh3d\":[{\"colorbar\":{\"outlinewidth\":0,\"ticks\":\"\"},\"type\":\"mesh3d\"}],\"parcoords\":[{\"line\":{\"colorbar\":{\"outlinewidth\":0,\"ticks\":\"\"}},\"type\":\"parcoords\"}],\"pie\":[{\"automargin\":true,\"type\":\"pie\"}],\"scatter3d\":[{\"line\":{\"colorbar\":{\"outlinewidth\":0,\"ticks\":\"\"}},\"marker\":{\"colorbar\":{\"outlinewidth\":0,\"ticks\":\"\"}},\"type\":\"scatter3d\"}],\"scattercarpet\":[{\"marker\":{\"colorbar\":{\"outlinewidth\":0,\"ticks\":\"\"}},\"type\":\"scattercarpet\"}],\"scattergeo\":[{\"marker\":{\"colorbar\":{\"outlinewidth\":0,\"ticks\":\"\"}},\"type\":\"scattergeo\"}],\"scattergl\":[{\"marker\":{\"colorbar\":{\"outlinewidth\":0,\"ticks\":\"\"}},\"type\":\"scattergl\"}],\"scattermapbox\":[{\"marker\":{\"colorbar\":{\"outlinewidth\":0,\"ticks\":\"\"}},\"type\":\"scattermapbox\"}],\"scatterpolargl\":[{\"marker\":{\"colorbar\":{\"outlinewidth\":0,\"ticks\":\"\"}},\"type\":\"scatterpolargl\"}],\"scatterpolar\":[{\"marker\":{\"colorbar\":{\"outlinewidth\":0,\"ticks\":\"\"}},\"type\":\"scatterpolar\"}],\"scatter\":[{\"fillpattern\":{\"fillmode\":\"overlay\",\"size\":10,\"solidity\":0.2},\"type\":\"scatter\"}],\"scatterternary\":[{\"marker\":{\"colorbar\":{\"outlinewidth\":0,\"ticks\":\"\"}},\"type\":\"scatterternary\"}],\"surface\":[{\"colorbar\":{\"outlinewidth\":0,\"ticks\":\"\"},\"colorscale\":[[0.0,\"#0d0887\"],[0.1111111111111111,\"#46039f\"],[0.2222222222222222,\"#7201a8\"],[0.3333333333333333,\"#9c179e\"],[0.4444444444444444,\"#bd3786\"],[0.5555555555555556,\"#d8576b\"],[0.6666666666666666,\"#ed7953\"],[0.7777777777777778,\"#fb9f3a\"],[0.8888888888888888,\"#fdca26\"],[1.0,\"#f0f921\"]],\"type\":\"surface\"}],\"table\":[{\"cells\":{\"fill\":{\"color\":\"#EBF0F8\"},\"line\":{\"color\":\"white\"}},\"header\":{\"fill\":{\"color\":\"#C8D4E3\"},\"line\":{\"color\":\"white\"}},\"type\":\"table\"}]},\"layout\":{\"annotationdefaults\":{\"arrowcolor\":\"#2a3f5f\",\"arrowhead\":0,\"arrowwidth\":1},\"autotypenumbers\":\"strict\",\"coloraxis\":{\"colorbar\":{\"outlinewidth\":0,\"ticks\":\"\"}},\"colorscale\":{\"diverging\":[[0,\"#8e0152\"],[0.1,\"#c51b7d\"],[0.2,\"#de77ae\"],[0.3,\"#f1b6da\"],[0.4,\"#fde0ef\"],[0.5,\"#f7f7f7\"],[0.6,\"#e6f5d0\"],[0.7,\"#b8e186\"],[0.8,\"#7fbc41\"],[0.9,\"#4d9221\"],[1,\"#276419\"]],\"sequential\":[[0.0,\"#0d0887\"],[0.1111111111111111,\"#46039f\"],[0.2222222222222222,\"#7201a8\"],[0.3333333333333333,\"#9c179e\"],[0.4444444444444444,\"#bd3786\"],[0.5555555555555556,\"#d8576b\"],[0.6666666666666666,\"#ed7953\"],[0.7777777777777778,\"#fb9f3a\"],[0.8888888888888888,\"#fdca26\"],[1.0,\"#f0f921\"]],\"sequentialminus\":[[0.0,\"#0d0887\"],[0.1111111111111111,\"#46039f\"],[0.2222222222222222,\"#7201a8\"],[0.3333333333333333,\"#9c179e\"],[0.4444444444444444,\"#bd3786\"],[0.5555555555555556,\"#d8576b\"],[0.6666666666666666,\"#ed7953\"],[0.7777777777777778,\"#fb9f3a\"],[0.8888888888888888,\"#fdca26\"],[1.0,\"#f0f921\"]]},\"colorway\":[\"#636efa\",\"#EF553B\",\"#00cc96\",\"#ab63fa\",\"#FFA15A\",\"#19d3f3\",\"#FF6692\",\"#B6E880\",\"#FF97FF\",\"#FECB52\"],\"font\":{\"color\":\"#2a3f5f\"},\"geo\":{\"bgcolor\":\"white\",\"lakecolor\":\"white\",\"landcolor\":\"#E5ECF6\",\"showlakes\":true,\"showland\":true,\"subunitcolor\":\"white\"},\"hoverlabel\":{\"align\":\"left\"},\"hovermode\":\"closest\",\"mapbox\":{\"style\":\"light\"},\"paper_bgcolor\":\"white\",\"plot_bgcolor\":\"#E5ECF6\",\"polar\":{\"angularaxis\":{\"gridcolor\":\"white\",\"linecolor\":\"white\",\"ticks\":\"\"},\"bgcolor\":\"#E5ECF6\",\"radialaxis\":{\"gridcolor\":\"white\",\"linecolor\":\"white\",\"ticks\":\"\"}},\"scene\":{\"xaxis\":{\"backgroundcolor\":\"#E5ECF6\",\"gridcolor\":\"white\",\"gridwidth\":2,\"linecolor\":\"white\",\"showbackground\":true,\"ticks\":\"\",\"zerolinecolor\":\"white\"},\"yaxis\":{\"backgroundcolor\":\"#E5ECF6\",\"gridcolor\":\"white\",\"gridwidth\":2,\"linecolor\":\"white\",\"showbackground\":true,\"ticks\":\"\",\"zerolinecolor\":\"white\"},\"zaxis\":{\"backgroundcolor\":\"#E5ECF6\",\"gridcolor\":\"white\",\"gridwidth\":2,\"linecolor\":\"white\",\"showbackground\":true,\"ticks\":\"\",\"zerolinecolor\":\"white\"}},\"shapedefaults\":{\"line\":{\"color\":\"#2a3f5f\"}},\"ternary\":{\"aaxis\":{\"gridcolor\":\"white\",\"linecolor\":\"white\",\"ticks\":\"\"},\"baxis\":{\"gridcolor\":\"white\",\"linecolor\":\"white\",\"ticks\":\"\"},\"bgcolor\":\"#E5ECF6\",\"caxis\":{\"gridcolor\":\"white\",\"linecolor\":\"white\",\"ticks\":\"\"}},\"title\":{\"x\":0.05},\"xaxis\":{\"automargin\":true,\"gridcolor\":\"white\",\"linecolor\":\"white\",\"ticks\":\"\",\"title\":{\"standoff\":15},\"zerolinecolor\":\"white\",\"zerolinewidth\":2},\"yaxis\":{\"automargin\":true,\"gridcolor\":\"white\",\"linecolor\":\"white\",\"ticks\":\"\",\"title\":{\"standoff\":15},\"zerolinecolor\":\"white\",\"zerolinewidth\":2}}},\"title\":{\"text\":\"Monthly Sales Diff 88275\"}},                        {\"responsive\": true}                    ).then(function(){\n",
              "                            \n",
              "var gd = document.getElementById('6ab8d657-15a7-4fa1-a803-c3d0d343563b');\n",
              "var x = new MutationObserver(function (mutations, observer) {{\n",
              "        var display = window.getComputedStyle(gd).display;\n",
              "        if (!display || display === 'none') {{\n",
              "            console.log([gd, 'removed!']);\n",
              "            Plotly.purge(gd);\n",
              "            observer.disconnect();\n",
              "        }}\n",
              "}});\n",
              "\n",
              "// Listen for the removal of the full notebook cells\n",
              "var notebookContainer = gd.closest('#notebook-container');\n",
              "if (notebookContainer) {{\n",
              "    x.observe(notebookContainer, {childList: true});\n",
              "}}\n",
              "\n",
              "// Listen for the clearing of the current output cell\n",
              "var outputEl = gd.closest('.output');\n",
              "if (outputEl) {{\n",
              "    x.observe(outputEl, {childList: true});\n",
              "}}\n",
              "\n",
              "                        })                };                });            </script>        </div>"
            ]
          },
          "metadata": {},
          "output_type": "display_data"
        }
      ],
      "source": [
        "# Ejemplo de agregar predicciones de diferentes configuraciones del modelo\n",
        "# Aquí puedes ir pasando df_result para cada una de tus configuraciones\n",
        "\n",
        "# Primera configuración del modelo\n",
        "agregar_prediccion(df_sales, df_result1, f'Predicted Config act:{act}, dropout:{dropout}, learningrat:{learning_rate}', plot_data)\n",
        "\n",
        "# Crear la figura con todas las predicciones\n",
        "fig = go.Figure(data=plot_data, layout=plot_layout)\n",
        "\n",
        "# Mostrar la gráfica en el notebook\n",
        "iplot(fig)"
      ]
    },
    {
      "cell_type": "code",
      "execution_count": null,
      "metadata": {},
      "outputs": [],
      "source": []
    },
    {
      "cell_type": "code",
      "execution_count": null,
      "metadata": {},
      "outputs": [],
      "source": [
        "# Asegúrate de que 'Fecha' esté en formato de fecha\n",
        "df_sales_pred['Fecha'] = pd.to_datetime(df_sales_pred['Fecha'])\n",
        "\n",
        "# Filtrar los datos para obtener solo el último mes\n",
        "last_month = df_sales_pred['Fecha'].max() - pd.DateOffset(months=6)\n",
        "df_last_month = df_sales_pred[df_sales_pred['Fecha'] >= last_month]\n"
      ]
    },
    {
      "cell_type": "code",
      "execution_count": null,
      "metadata": {},
      "outputs": [],
      "source": [
        "# Crear los datos de la gráfica usando solo el último mes\n",
        "plot_data = [\n",
        "    go.Scatter(\n",
        "        x=df_last_month['Fecha'],  # Actual Sales no se mueve\n",
        "        y=df_last_month['cantidad_frac_x'] / 100,\n",
        "        name='Actual Sales'\n",
        "    ),\n",
        "    go.Scatter(\n",
        "        x=pd.to_datetime(df_last_month['Fecha']) - pd.DateOffset(months=1),  # Desplaza Predicted Sales un mes atrás\n",
        "        y=df_last_month['cantidad_frac_y'] / 100,\n",
        "        name='Predicted Sales'\n",
        "    )\n",
        "]\n",
        "\n",
        "# Definir el layout de la gráfica\n",
        "plot_layout = go.Layout(\n",
        "    title='Sales Prediction (Last Month)',\n",
        "    xaxis_title='Date',\n",
        "    yaxis_title='Sales'\n",
        ")\n",
        "\n",
        "# Crear la figura\n",
        "fig = go.Figure(data=plot_data, layout=plot_layout)\n",
        "\n",
        "# Mostrar la gráfica en el notebook\n",
        "iplot(fig)"
      ]
    },
    {
      "cell_type": "markdown",
      "metadata": {},
      "source": [
        "# EXTRA"
      ]
    },
    {
      "cell_type": "code",
      "execution_count": null,
      "metadata": {},
      "outputs": [],
      "source": []
    },
    {
      "cell_type": "markdown",
      "metadata": {
        "id": "tuUo30jRg-Sv"
      },
      "source": [
        "### 3.2. Partición del set de entrenamiento y prueba"
      ]
    },
    {
      "cell_type": "markdown",
      "metadata": {
        "id": "7nWRWMQcg-Su"
      },
      "source": [
        "1. Partición en train/val/test (80%, 10%, 10%)\n",
        "2. Generación del dataset supervisado: entrada y salida del modelo\n",
        "3. Escalamiento"
      ]
    },
    {
      "cell_type": "markdown",
      "metadata": {
        "id": "VbYUlHaig-Sv"
      },
      "source": [
        "A diferencia de otros modelos de Machine Learning, en el caso de series de tiempo **se debe garantizar que se generan las particiones sin mezclar aleatoriamente los datos**.\n",
        "\n",
        "Recordemos además que:\n",
        "- El set de entrenamiento (*train*) se usará para encontrar los parámetros del modelo\n",
        "- El set de validación (*val*) para verificar que no haya *under/over-fitting* del modelo y para ajustar sus hiperparámetros\n",
        "- El set de prueba (*test*) para poner a prueba el mejor modelo encontrado durante el entrenamiento/validación"
      ]
    },
    {
      "cell_type": "markdown",
      "metadata": {
        "id": "pyhCXyksg-Sv"
      },
      "source": []
    },
    {
      "cell_type": "code",
      "execution_count": null,
      "metadata": {},
      "outputs": [],
      "source": [
        "df_sales = df2.groupby('Fecha').cantidad_frac.sum().reset_index()\n",
        "#represent month in date field as its first day\n",
        "df_sales['Fecha'] = df_sales['Fecha'].dt.year.astype('str') + '-' + df_sales['Fecha'].dt.month.astype('str') + '-01'\n",
        "df_sales['Fecha'] = pd.to_datetime(df_sales['Fecha'])\n",
        "#groupby date and sum the sales\n",
        "df_sales = df_sales.groupby('Fecha').cantidad_frac.sum().reset_index()\n",
        "\n",
        "df_sales"
      ]
    },
    {
      "cell_type": "code",
      "execution_count": null,
      "metadata": {},
      "outputs": [],
      "source": [
        "df = df_sales"
      ]
    },
    {
      "cell_type": "code",
      "execution_count": null,
      "metadata": {},
      "outputs": [],
      "source": [
        "df2"
      ]
    },
    {
      "cell_type": "code",
      "execution_count": null,
      "metadata": {
        "colab": {
          "base_uri": "https://localhost:8080/"
        },
        "id": "I1qi1yePg-Sv",
        "outputId": "4a464cb6-e8e2-4072-edb2-d4155383fac7"
      },
      "outputs": [],
      "source": [
        "# Función para generar las particiones preservando las características\n",
        "# de la serie de tiempo\n",
        "\n",
        "#tr_size = 0.8 80% para el entrenamiento\n",
        "#vl_size = 0.1 10% para la validación\n",
        "#ts_size = 0.1 10% para el test\n",
        "\n",
        "\n",
        "def train_val_test_split(serie, tr_size=0.8, vl_size=0.1, ts_size=0.1 ):\n",
        "    # Definir número de datos en cada subserie\n",
        "    N = serie.shape[0]\n",
        "    Ntrain = int(tr_size*N)  # Número de datos de entrenamiento\n",
        "    Nval = int(vl_size*N)    # Número de datos de validación\n",
        "    Ntst = N - Ntrain - Nval # Número de datos de prueba\n",
        "\n",
        "    # Realizar partición\n",
        "    train = serie[0:Ntrain]\n",
        "    val = serie[Ntrain:Ntrain+Nval]\n",
        "    test = serie[Ntrain+Nval:]\n",
        "\n",
        "    return train, val, test\n",
        "\n",
        "# Prueba de la función\n",
        "tr, vl, ts = train_val_test_split(df2['cantidad_frac'])\n",
        "\n",
        "print(f'Tamaño set de entrenamiento: {tr.shape}')\n",
        "print(f'Tamaño set de validación: {vl.shape}')\n",
        "print(f'Tamaño set de prueba: {ts.shape}')"
      ]
    },
    {
      "cell_type": "code",
      "execution_count": null,
      "metadata": {
        "colab": {
          "base_uri": "https://localhost:8080/",
          "height": 445
        },
        "id": "ETUaEISRg-Sv",
        "outputId": "5b6aded4-0e26-40c4-b37d-2a946049a66d"
      },
      "outputs": [],
      "source": [
        "# Dibujemos los subsets\n",
        "fig, ax = plt.subplots(figsize = (16,5))\n",
        "ax.plot(tr, label='Train')\n",
        "ax.plot(vl, label='Val')\n",
        "ax.plot(ts, label='Test')\n",
        "plt.legend();"
      ]
    },
    {
      "cell_type": "markdown",
      "metadata": {
        "id": "zjNs7cnQg-Sv"
      },
      "source": [
        "### 3.3. Generación del dataset supervisado (entrada y salida del modelo)\n",
        "\n",
        "Debemos ajustar nuestro set de datos de acuerdo a lo especificado en la [documentación de las Redes LSTM en TensorFlow/Keras](https://www.tensorflow.)"
      ]
    },
    {
      "cell_type": "markdown",
      "metadata": {
        "id": "ebqf1hz_kgE0"
      },
      "source": [
        "![](https://drive.google.com/file/d/1ij9pIsJrWVYbwKrZZHY8KtNTlUs1o6AJ/view?usp=sharing)\n"
      ]
    },
    {
      "cell_type": "markdown",
      "metadata": {
        "id": "nDWtlND3g-Sv"
      },
      "source": [
        "se tiene 3 dimensiones para la entrada y salida. Como se puede ver en la figura se tiene n cantidad registros(BATCHES) que representan bloques, en la cual cada registro tiene 24 horas como periodo.\n",
        "\n",
        "Output_lenght: numero de horas que queremos predecir a futuro.\n",
        "\n",
        "Features(caracteristica) en este caso solo es 1 dado que nuestro modelo es univariado\n",
        "\n",
        "Output_lenght como es un modelo unistep solo es 1\n"
      ]
    },
    {
      "cell_type": "markdown",
      "metadata": {
        "id": "1z4WokL1g-Sw"
      },
      "source": [
        "![image-3.png](attachment:image-3.png)"
      ]
    },
    {
      "cell_type": "code",
      "execution_count": null,
      "metadata": {
        "id": "pwF3ewLqg-Sw"
      },
      "outputs": [],
      "source": [
        "def crear_dataset_supervisado(array, input_length, output_length):\n",
        "    '''Permite crear un dataset con las entradas (X) y salidas (Y)\n",
        "    requeridas por la Red LSTM.\n",
        "\n",
        "    Parámetros:\n",
        "    - array: arreglo numpy de tamaño N x features (N: cantidad de datos,\n",
        "      f: cantidad de features)\n",
        "    - input_length: instantes de tiempo consecutivos de la(s) serie(s) de tiempo\n",
        "      usados para alimentar el modelo\n",
        "    - output_length: instantes de tiempo a pronosticar (salida del modelo)\n",
        "    '''\n",
        "\n",
        "    # Inicialización\n",
        "    X, Y = [], []    # Listados que contendrán los datos de entrada y salida del modelo\n",
        "    shape = array.shape\n",
        "    if len(shape)==1: # Si tenemos sólo una serie (univariado)\n",
        "        fils, cols = array.shape[0], 1\n",
        "        array = array.reshape(fils,cols)\n",
        "    else: # Multivariado\n",
        "        fils, cols = array.shape\n",
        "\n",
        "    # Generar los arreglos\n",
        "    for i in range(fils-input_length-output_length):\n",
        "        X.append(array[i:i+INPUT_LENGTH,0:cols])\n",
        "        Y.append(array[i+input_length:i+input_length+output_length,-1].reshape(output_length,1))\n",
        "\n",
        "    # Convertir listas a arreglos de NumPy\n",
        "    X = np.array(X)\n",
        "    Y = np.array(Y)\n",
        "\n",
        "    return X, Y"
      ]
    },
    {
      "cell_type": "code",
      "execution_count": null,
      "metadata": {
        "colab": {
          "base_uri": "https://localhost:8080/"
        },
        "id": "nVRmVkivg-Sw",
        "outputId": "b10b86a4-ba2a-4e25-a361-f5fdebd3440e"
      },
      "outputs": [],
      "source": [
        "# Crear los datasets de entrenamiento, prueba y validación y verificar sus tamaños\n",
        "INPUT_LENGTH = 30    # Posteriormente afinaremos este hiperparámetro\n",
        "OUTPUT_LENGTH = 5    # Modelo uni-step\n",
        "\n",
        "x_tr, y_tr = crear_dataset_supervisado(tr.values, INPUT_LENGTH, OUTPUT_LENGTH)\n",
        "x_ts, y_ts = crear_dataset_supervisado(ts.values, INPUT_LENGTH, OUTPUT_LENGTH)\n",
        "x_vl, y_vl = crear_dataset_supervisado(vl.values, INPUT_LENGTH, OUTPUT_LENGTH)\n",
        "\n",
        "\n",
        "# Imprimir información en pantalla\n",
        "print('Tamaños entrada (BATCHES x INPUT_LENGTH x FEATURES) y de salida (BATCHES x OUTPUT_LENGTH x FEATURES)')\n",
        "print(f'Set de entrenamiento - x_tr: {x_tr.shape}, y_tr: {y_tr.shape}')\n",
        "print(f'Set de prueba - x_ts: {x_ts.shape}, y_ts: {y_ts.shape}')\n",
        "print(f'Set de validación - x_vl: {x_vl.shape}, y_vl: {y_vl.shape}')"
      ]
    },
    {
      "cell_type": "markdown",
      "metadata": {
        "id": "1-7dr2pqg-Sw"
      },
      "source": [
        "### 3.4. Escalamiento\n",
        "Es requerido para garantizar que todas las características se encuentran en el mismo rango de valores, lo que facilita el entrenamiento del modelo y las predicciones:"
      ]
    },
    {
      "cell_type": "markdown",
      "metadata": {
        "id": "3VIQEn1MtwAM"
      },
      "source": [
        "#### Detección de valores extremos usando el método de la desviación estándar\n",
        "La distribución Gaussiana se caracteriza por la media (𝜇) y la desviación estándar (𝜎). Conociendo los parámetros de esta distribución podemos establecer una serie de umbrales dentro de los cuales se encontrarán distriubidos nuestros datos, así:\n",
        "\n",
        "En el rango 𝜇±𝜎 tendremos el 68% de los datos\n",
        "En el rango 𝜇±2𝜎 tendremos el 95% de los datos\n",
        "En el rango 𝜇±3𝜎 tendremos el 99.7% de los datos\n"
      ]
    },
    {
      "cell_type": "code",
      "execution_count": null,
      "metadata": {
        "colab": {
          "base_uri": "https://localhost:8080/",
          "height": 542
        },
        "collapsed": true,
        "id": "TRFt5JxsrHl4",
        "outputId": "2ccb494c-8375-4817-f706-5e62e48a7bf9"
      },
      "outputs": [],
      "source": [
        "# import plotly.express as px\n",
        "# #Primero vamos a identificar el comportamiento de los outliers mediante una campana gaussiana para observar como está la distribución\n",
        "# fig = px.histogram(df, x='cantidad_frac', nbins=100)\n",
        "# fig.show()"
      ]
    },
    {
      "cell_type": "markdown",
      "metadata": {
        "id": "ucRLLNXnK1ZA"
      },
      "source": [
        "#### STANDARSCALER"
      ]
    },
    {
      "cell_type": "code",
      "execution_count": null,
      "metadata": {
        "id": "X3Ll5XM0Kipe"
      },
      "outputs": [],
      "source": [
        "from sklearn.preprocessing import StandardScaler\n",
        "\n",
        "def escalar_dataset(data_input):\n",
        "    '''Escala el dataset en el rango de -1 a 1.\n",
        "\n",
        "    Entradas:\n",
        "    data_input: diccionario con los dataset de entrada y salida del modelo\n",
        "    (data_input = {'x_tr':x_tr, 'y_tr':y_tr, 'x_vl':x_vl, 'y_vl':y_vl,\n",
        "                    'y_ts':y_ts})\n",
        "\n",
        "    Retorna:\n",
        "    - data_scaled: diccionario con los datasets de entrada y salida escalados\n",
        "      (tiene la misma estructura del diccionario de entrada)\n",
        "    - scaler: el escalador usado (requerido para las predicciones)\n",
        "    '''\n",
        "\n",
        "    NFEATS = data_input['x_tr'].shape[2]\n",
        "\n",
        "\n",
        "    # Generar listado con \"scalers\" (en este caso, por ser sólo 1 característica\n",
        "    # se tendrá sólo 1 escalador)\n",
        "    scalers = [StandardScaler() for i in range(NFEATS)]  # Remove feature_range\n",
        "    # Arreglos que contendrán los datasets escalados\n",
        "    x_tr_s = np.zeros(data_input['x_tr'].shape)\n",
        "    x_vl_s = np.zeros(data_input['x_vl'].shape)\n",
        "    x_ts_s = np.zeros(data_input['x_ts'].shape)\n",
        "    y_tr_s = np.zeros(data_input['y_tr'].shape)\n",
        "    y_vl_s = np.zeros(data_input['y_vl'].shape)\n",
        "    y_ts_s = np.zeros(data_input['y_ts'].shape)\n",
        "\n",
        "    # Escalamiento: se usarán los min/max del set de entrenamiento para\n",
        "    # escalar la totalidad de los datasets\n",
        "\n",
        "    # Escalamiento Xs: en este caso debemos garantizar que cada dato de entrada\n",
        "    # a fit_transform o transform debe ser de tamaño nsamples x nfeatures\n",
        "    # (en este caso 24x13)\n",
        "    print('NFEATS: '+ str(NFEATS))\n",
        "    for i in range(NFEATS):\n",
        "        x_tr_s[:,:,i] = scalers[i].fit_transform(x_tr[:,:,i])\n",
        "        x_vl_s[:,:,i] = scalers[i].transform(x_vl[:,:,i])\n",
        "        x_ts_s[:,:,i] = scalers[i].transform(x_ts[:,:,i])\n",
        "\n",
        "    # Escalamiento Ys\n",
        "    y_tr_s[:,:,0] = scalers[-1].fit_transform(y_tr[:,:,0].reshape(-1,1))\n",
        "    y_vl_s[:,:,0] = scalers[-1].transform(y_vl[:,:,0])\n",
        "    y_ts_s[:,:,0] = scalers[-1].transform(y_ts[:,:,0])\n",
        "\n",
        "    # Conformar diccionario de salida\n",
        "    data_scaled = {\n",
        "        'x_tr_s': x_tr_s, 'y_tr_s': y_tr_s,\n",
        "        'x_vl_s': x_vl_s, 'y_vl_s': y_vl_s,\n",
        "        'x_ts_s': x_ts_s, 'y_ts_s': y_ts_s,\n",
        "    }\n",
        "\n",
        "\n",
        "\n",
        "    return data_scaled, scalers[0]"
      ]
    },
    {
      "cell_type": "markdown",
      "metadata": {
        "id": "wKZvFSShSXxr"
      },
      "source": [
        "#### ROBUSTSCALER"
      ]
    },
    {
      "cell_type": "code",
      "execution_count": null,
      "metadata": {
        "collapsed": true,
        "id": "GrugRy9PU3T-"
      },
      "outputs": [],
      "source": [
        "from sklearn.preprocessing import RobustScaler\n",
        "import numpy as np\n",
        "\n",
        "def escalar_dataset(data_input):\n",
        "    '''Escala el dataset usando RobustScaler.\n",
        "\n",
        "    Entradas:\n",
        "    data_input: diccionario con los dataset de entrada y salida del modelo\n",
        "    (data_input = {'x_tr':x_tr, 'y_tr':y_tr, 'x_vl':x_vl, 'y_vl':y_vl,\n",
        "                    'y_ts':y_ts})\n",
        "\n",
        "    Retorna:\n",
        "    - data_scaled: diccionario con los datasets de entrada y salida escalados\n",
        "      (tiene la misma estructura del diccionario de entrada)\n",
        "    - scaler: el escalador usado (requerido para las predicciones)\n",
        "    '''\n",
        "\n",
        "    NFEATS = data_input['x_tr'].shape[2]\n",
        "\n",
        "    # Generar listado con \"scalers\" (en este caso, por ser sólo 1 característica\n",
        "    # se tendrá sólo 1 escalador)\n",
        "    scalers = [RobustScaler() for i in range(NFEATS)]\n",
        "\n",
        "    # Arreglos que contendrán los datasets escalados\n",
        "    x_tr_s = np.zeros(data_input['x_tr'].shape)\n",
        "    x_vl_s = np.zeros(data_input['x_vl'].shape)\n",
        "    x_ts_s = np.zeros(data_input['x_ts'].shape)\n",
        "    y_tr_s = np.zeros(data_input['y_tr'].shape)\n",
        "    y_vl_s = np.zeros(data_input['y_vl'].shape)\n",
        "    y_ts_s = np.zeros(data_input['y_ts'].shape)\n",
        "\n",
        "\n",
        "    # Escalamiento Xs: en este caso debemos garantizar que cada dato de entrada\n",
        "    # a fit_transform o transform debe ser de tamaño nsamples x nfeatures\n",
        "    # (en este caso 30x1)\n",
        "    for i in range(NFEATS):\n",
        "        x_tr_s[:,:,i] = scalers[i].fit_transform(data_input['x_tr'][:,:,i])\n",
        "        x_vl_s[:,:,i] = scalers[i].transform(data_input['x_vl'][:,:,i])\n",
        "        x_ts_s[:,:,i] = scalers[i].transform(data_input['x_ts'][:,:,i])\n",
        "\n",
        "    # Escalamiento Ys\n",
        "    y_tr_s[:,:,0] = scalers[-1].fit_transform(data_input['y_tr'][:,:,0].reshape(-1,1))\n",
        "    y_vl_s[:,:,0] = scalers[-1].transform(data_input['y_vl'][:,:,0])\n",
        "    y_ts_s[:,:,0] = scalers[-1].transform(data_input['y_ts'][:,:,0])\n",
        "\n",
        "    # Conformar diccionario de salida\n",
        "    data_scaled = {\n",
        "        'x_tr_s': x_tr_s, 'y_tr_s': y_tr_s,\n",
        "        'x_vl_s': x_vl_s, 'y_vl_s': y_vl_s,\n",
        "        'x_ts_s': x_ts_s, 'y_ts_s': y_ts_s,\n",
        "    }\n",
        "\n",
        "    return data_scaled, scalers[0]\n"
      ]
    },
    {
      "cell_type": "markdown",
      "metadata": {
        "id": "lOS0FqmQKjB5"
      },
      "source": [
        "#### MIN MAX SCALER"
      ]
    },
    {
      "cell_type": "code",
      "execution_count": null,
      "metadata": {
        "id": "CHlG3AN9g-Sw"
      },
      "outputs": [],
      "source": [
        "from sklearn.preprocessing import MinMaxScaler\n",
        "\n",
        "def escalar_dataset(data_input):\n",
        "    '''Escala el dataset en el rango de -1 a 1.\n",
        "\n",
        "    Entradas:\n",
        "    data_input: diccionario con los dataset de entrada y salida del modelo\n",
        "    (data_input = {'x_tr':x_tr, 'y_tr':y_tr, 'x_vl':x_vl, 'y_vl':y_vl,\n",
        "                    'y_ts':y_ts})\n",
        "\n",
        "    Retorna:\n",
        "    - data_scaled: diccionario con los datasets de entrada y salida escalados\n",
        "      (tiene la misma estructura del diccionario de entrada)\n",
        "    - scaler: el escalador usado (requerido para las predicciones)\n",
        "    '''\n",
        "\n",
        "    NFEATS = data_input['x_tr'].shape[2]\n",
        "\n",
        "\n",
        "    # Generar listado con \"scalers\" (en este caso, por ser sólo 1 característica\n",
        "    # se tendrá sólo 1 escalador)\n",
        "    scalers = [MinMaxScaler(feature_range=(-1,1)) for i in range(NFEATS)]\n",
        "\n",
        "    # Arreglos que contendrán los datasets escalados\n",
        "    x_tr_s = np.zeros(data_input['x_tr'].shape)\n",
        "    x_vl_s = np.zeros(data_input['x_vl'].shape)\n",
        "    x_ts_s = np.zeros(data_input['x_ts'].shape)\n",
        "    y_tr_s = np.zeros(data_input['y_tr'].shape)\n",
        "    y_vl_s = np.zeros(data_input['y_vl'].shape)\n",
        "    y_ts_s = np.zeros(data_input['y_ts'].shape)\n",
        "\n",
        "    # Escalamiento: se usarán los min/max del set de entrenamiento para\n",
        "    # escalar la totalidad de los datasets\n",
        "\n",
        "    # Escalamiento Xs: en este caso debemos garantizar que cada dato de entrada\n",
        "    # a fit_transform o transform debe ser de tamaño nsamples x nfeatures\n",
        "    # (en este caso 24x13)\n",
        "    for i in range(NFEATS):\n",
        "        x_tr_s[:,:,i] = scalers[i].fit_transform(x_tr[:,:,i])\n",
        "        x_vl_s[:,:,i] = scalers[i].transform(x_vl[:,:,i])\n",
        "        x_ts_s[:,:,i] = scalers[i].transform(x_ts[:,:,i])\n",
        "\n",
        "    # Escalamiento Ys\n",
        "    y_tr_s[:,:,0] = scalers[-1].fit_transform(y_tr[:,:,0])\n",
        "    y_vl_s[:,:,0] = scalers[-1].transform(y_vl[:,:,0])\n",
        "    y_ts_s[:,:,0] = scalers[-1].transform(y_ts[:,:,0])\n",
        "\n",
        "    # Conformar diccionario de salida\n",
        "    data_scaled = {\n",
        "        'x_tr_s': x_tr_s, 'y_tr_s': y_tr_s,\n",
        "        'x_vl_s': x_vl_s, 'y_vl_s': y_vl_s,\n",
        "        'x_ts_s': x_ts_s, 'y_ts_s': y_ts_s,\n",
        "    }\n",
        "\n",
        "    return data_scaled, scalers[0]"
      ]
    },
    {
      "cell_type": "code",
      "execution_count": null,
      "metadata": {
        "colab": {
          "base_uri": "https://localhost:8080/"
        },
        "id": "O-SHU-1Vg-Sw",
        "outputId": "13a72852-b113-4a72-dee2-1c6f6068483e"
      },
      "outputs": [],
      "source": [
        "# Escalamiento del dataset con la función anterior\n",
        "\n",
        "# Crear diccionario de entrada\n",
        "data_in = {\n",
        "    'x_tr': x_tr, 'y_tr': y_tr,\n",
        "    'x_vl': x_vl, 'y_vl': y_vl,\n",
        "    'x_ts': x_ts, 'y_ts': y_ts,\n",
        "}\n",
        "\n",
        "# Y escalar\n",
        "data_s, scaler = escalar_dataset(data_in)\n",
        "\n",
        "# Extraer subsets escalados\n",
        "x_tr_s, y_tr_s = data_s['x_tr_s'], data_s['y_tr_s']\n",
        "x_vl_s, y_vl_s = data_s['x_vl_s'], data_s['y_vl_s']\n",
        "x_ts_s, y_ts_s = data_s['x_ts_s'], data_s['y_ts_s']\n",
        "\n",
        "# Verificación\n",
        "print(f'Min x_tr/x_vl/x_ts sin escalamiento: {x_tr.min()}/{x_vl.min()}/{x_ts.min()}')\n",
        "print(f'Min x_tr/x_vl/x_ts con escalamiento: {x_tr_s.min()}/{x_vl_s.min()}/{x_ts_s.min()}')\n",
        "\n",
        "print(f'\\nMin y_tr/y_vl/y_ts sin escalamiento: {y_tr.min()}/{y_vl.min()}/{y_ts.min()}')\n",
        "print(f'Min y_tr/y_vl/y_ts con escalamiento: {y_tr_s.min()}/{y_vl_s.min()}/{y_ts_s.min()}')\n",
        "\n",
        "print(f'\\nMax x_tr/x_vl/x_ts sin escalamiento: {x_tr.max()}/{x_vl.max()}/{x_ts.max()}')\n",
        "print(f'Max x_tr/x_vl/x_ts con escalamiento: {x_tr_s.max()}/{x_vl_s.max()}/{x_ts_s.max()}')\n",
        "\n",
        "print(f'\\nMax y_tr/y_vl/y_ts sin escalamiento: {y_tr.max()}/{y_vl.max()}/{y_ts.max()}')\n",
        "print(f'Max y_tr/y_vl/y_ts con escalamiento: {y_tr_s.max()}/{y_vl_s.max()}/{y_ts_s.max()}')"
      ]
    },
    {
      "cell_type": "code",
      "execution_count": null,
      "metadata": {
        "id": "_YlZUl4RDOAG"
      },
      "outputs": [],
      "source": [
        "import pickle\n",
        "\n",
        "# Escalamiento del dataset\n",
        "data_s, scaler = escalar_dataset(data_in)\n",
        "\n",
        "# Guardar el scaler en un archivo .pkl\n",
        "with open(f'scaler_{idItem}.pkl', 'wb') as f:\n",
        "    pickle.dump(scaler, f)"
      ]
    },
    {
      "cell_type": "markdown",
      "metadata": {
        "id": "9Soq6m0Zg-Sx"
      },
      "source": [
        "## 4. Creación y entrenamieto del Modelo"
      ]
    },
    {
      "cell_type": "markdown",
      "metadata": {
        "id": "2d6qSH5yZqHI"
      },
      "source": [
        "### 4.1 DROPOUT"
      ]
    },
    {
      "cell_type": "code",
      "execution_count": null,
      "metadata": {
        "colab": {
          "base_uri": "https://localhost:8080/",
          "height": 303
        },
        "id": "tO3ywPxtg-Sx",
        "outputId": "50b7df6d-a848-4b4b-9141-6fa2f3a0c0c6"
      },
      "outputs": [],
      "source": [
        "# Creación del modelo\n",
        "from tensorflow.keras.models import Sequential\n",
        "from tensorflow.keras.layers import LSTM, Dense\n",
        "from tensorflow.keras.optimizers import RMSprop\n",
        "from tensorflow.keras.layers import Dense, Dropout\n",
        "\n",
        "import tensorflow as tf\n",
        "\n",
        "# Ajustar parámetros para reproducibilidad del entrenamiento\n",
        "tf.random.set_seed(123)\n",
        "tf.config.experimental.enable_op_determinism()\n",
        "\n",
        "# El modelo\n",
        "N_UNITS = 229 # Tamaño del estado oculto (h) y de la celda de memoria (c)\n",
        "INPUT_SHAPE = (x_tr_s.shape[1], x_tr_s.shape[2]) # 24 (días) x 1 (feature)\n",
        "DROPOUT_RATE = 0.1  # Tasa de dropout (ajústala según tus necesidades)\n",
        "\n",
        "\n",
        "modelo = Sequential()\n",
        "modelo.add(LSTM(N_UNITS, input_shape=INPUT_SHAPE, return_sequences=True)) # 'return_sequences=True' para añadir más capas LSTM\n",
        "modelo.add(Dropout(DROPOUT_RATE))  # Agregar capa Dropout\n",
        "\n",
        "\n",
        "# Segunda capa LSTM\n",
        "modelo.add(LSTM(N_UNITS, return_sequences=True))  # Mantener return_sequences para permitir agregar más capas\n",
        "modelo.add(Dropout(DROPOUT_RATE))  # Segunda capa Dropout\n",
        "\n",
        "\n",
        "# Tercera capa LSTM (sin return_sequences ya que es la última LSTM)\n",
        "modelo.add(LSTM(N_UNITS))\n",
        "modelo.add(Dropout(DROPOUT_RATE))  # Tercera capa Dropout\n",
        "\n",
        "modelo.add(Dense(OUTPUT_LENGTH, activation='linear')) # activation = 'linear' pues queremos pronosticar (regresión)\n",
        "\n",
        "# Pérdida: se usará el RMSE (root mean squared error) para el entrenamiento\n",
        "# pues permite tener errores en las mismas unidades de la temperatura\n",
        "def root_mean_squared_error(y_true, y_pred):\n",
        "    rmse = tf.math.sqrt(tf.math.reduce_mean(tf.square(y_pred-y_true)))\n",
        "    return rmse\n",
        "\n",
        "# Pérdida: se usará el MAE (mean absolute error) para el entrenamiento\n",
        "# pues permite medir el error absoluto promedio\n",
        "def mean_absolute_error(y_true, y_pred):\n",
        "    mae = tf.math.reduce_mean(tf.abs(y_pred - y_true))\n",
        "    return mae\n",
        "\n",
        "\n",
        "from tensorflow.keras.optimizers import Adam  \n",
        "# Compilación\n",
        "optimizador = Adam(learning_rate=1e-4) #5e-5\n",
        "modelo.compile(\n",
        "    optimizer = optimizador,\n",
        "    loss = root_mean_squared_error\n",
        ")\n",
        "\n",
        "# Mostrar la estructura del modelo\n",
        "modelo.summary()\n"
      ]
    },
    {
      "cell_type": "code",
      "execution_count": null,
      "metadata": {
        "colab": {
          "base_uri": "https://localhost:8080/"
        },
        "id": "qMpCFSU5u2Lj",
        "outputId": "90ec4d6f-72d1-4407-9bc6-47a4ddc2fc4d"
      },
      "outputs": [],
      "source": [
        "# Entrenamiento (aproximadamente 1 min usando GPU)\n",
        "EPOCHS = 10 # Hiperparámetro\n",
        "BATCH_SIZE = 256 # Hiperparámetro\n",
        "historia = modelo.fit(\n",
        "    x = x_tr_s,\n",
        "    y = y_tr_s,\n",
        "    batch_size = BATCH_SIZE,\n",
        "    epochs = EPOCHS,\n",
        "    validation_data = (x_vl_s, y_vl_s),\n",
        "    verbose=2\n",
        ")"
      ]
    },
    {
      "cell_type": "code",
      "execution_count": null,
      "metadata": {
        "colab": {
          "base_uri": "https://localhost:8080/",
          "height": 449
        },
        "id": "EEHyeQL-ufjm",
        "outputId": "3db2b19a-d5c8-4999-8705-17b77663c3ef"
      },
      "outputs": [],
      "source": [
        " # Graficar curvas de entrenamiento y validación\n",
        " # para verificar que no existe overfitting\n",
        "plt.plot(historia.history['loss'],label=f'Train Loss with Dropout, item= {idItem}')\n",
        "plt.plot(historia.history['val_loss'],label=f'Val Loss with Dropout, item= {idItem}')\n",
        "plt.xlabel('Iteración')\n",
        "plt.ylabel('RMSE')\n",
        "plt.legend();"
      ]
    },
    {
      "cell_type": "markdown",
      "metadata": {
        "id": "dY1Uq-QsJiEu"
      },
      "source": [
        "### 4.2 SIN DROPOUT"
      ]
    },
    {
      "cell_type": "code",
      "execution_count": null,
      "metadata": {
        "colab": {
          "base_uri": "https://localhost:8080/",
          "height": 200
        },
        "id": "O3ZqTpgkJkoh",
        "outputId": "9d6a1d55-ac04-495a-d009-973e13551d04"
      },
      "outputs": [],
      "source": [
        "# Creación del modelo\n",
        "from tensorflow.keras.models import Sequential\n",
        "from tensorflow.keras.layers import LSTM, Dense\n",
        "from tensorflow.keras.optimizers import RMSprop\n",
        "\n",
        "\n",
        "import tensorflow as tf\n",
        "\n",
        "# Ajustar parámetros para reproducibilidad del entrenamiento\n",
        "tf.random.set_seed(123)\n",
        "tf.config.experimental.enable_op_determinism()\n",
        "\n",
        "# El modelo\n",
        "N_UNITS = 129 # Tamaño del estado oculto (h) y de la celda de memoria (c)\n",
        "INPUT_SHAPE = (x_tr_s.shape[1], x_tr_s.shape[2]) # 30 (días) x 1 (feature)\n",
        "\n",
        "\n",
        "\n",
        "modelo_sin_dropout = Sequential()\n",
        "modelo_sin_dropout.add(LSTM(N_UNITS, input_shape=INPUT_SHAPE))\n",
        "\n",
        "modelo_sin_dropout.add(Dense(OUTPUT_LENGTH, activation='linear')) # activation = 'linear' pues queremos pronosticar (regresión)\n",
        "\n",
        "# Pérdida: se usará el RMSE (root mean squared error) para el entrenamiento\n",
        "# pues permite tener errores en las mismas unidades de la temperatura\n",
        "def root_mean_squared_error(y_true, y_pred):\n",
        "    rmse = tf.math.sqrt(tf.math.reduce_mean(tf.square(y_pred-y_true)))\n",
        "    return rmse\n",
        "\n",
        "# Pérdida: se usará el MAE (mean absolute error) para el entrenamiento\n",
        "# pues permite medir el error absoluto promedio\n",
        "def mean_absolute_error(y_true, y_pred):\n",
        "    mae = tf.math.reduce_mean(tf.abs(y_pred - y_true))\n",
        "    return mae\n",
        "\n",
        "\n",
        "\n",
        "# Compilación\n",
        "optimizador = RMSprop(learning_rate=5e-5)\n",
        "modelo_sin_dropout.compile(\n",
        "    optimizer = optimizador,\n",
        "    loss = root_mean_squared_error\n",
        ")\n",
        "\n",
        "# Mostrar la estructura del modelo\n",
        "modelo_sin_dropout.summary()"
      ]
    },
    {
      "cell_type": "code",
      "execution_count": null,
      "metadata": {
        "colab": {
          "base_uri": "https://localhost:8080/"
        },
        "collapsed": true,
        "id": "fLtTqgiWNktP",
        "outputId": "526531ad-bba3-41b8-8a95-ede13be2bb54"
      },
      "outputs": [],
      "source": [
        "# Entrenamiento (aproximadamente 1 min usando GPU)\n",
        "EPOCHS = 50 # Hiperparámetro\n",
        "BATCH_SIZE = 256 # Hiperparámetro\n",
        "historia_sin_dropout = modelo_sin_dropout.fit(\n",
        "    x = x_tr_s,\n",
        "    y = y_tr_s,\n",
        "    batch_size = BATCH_SIZE,\n",
        "    epochs = EPOCHS,\n",
        "    validation_data = (x_vl_s, y_vl_s),\n",
        "    verbose=2\n",
        ")"
      ]
    },
    {
      "cell_type": "code",
      "execution_count": null,
      "metadata": {
        "colab": {
          "base_uri": "https://localhost:8080/",
          "height": 566
        },
        "id": "ESMTN_uUx332",
        "outputId": "f3888b59-4369-4888-d611-ebe28eeb0306"
      },
      "outputs": [],
      "source": [
        "import matplotlib.pyplot as plt\n",
        "\n",
        "# Graficar el error de entrenamiento y validación para el modelo con Dropout\n",
        "plt.figure(figsize=(14, 6))\n",
        "\n",
        "# Gráfico de la pérdida\n",
        "plt.subplot(1, 2, 1)\n",
        "plt.plot(historia_sin_dropout.history['loss'], label=f'Train Loss without Dropout, iditem={idItem}')\n",
        "plt.plot(historia_sin_dropout.history['val_loss'], label=f'Val Loss without Dropout, iditem={idItem}')\n",
        "plt.title('Pérdida durante el Entrenamiento')\n",
        "plt.xlabel('Época')\n",
        "plt.ylabel('Pérdida')\n",
        "plt.legend()\n",
        "\n",
        "plt.show()\n"
      ]
    },
    {
      "cell_type": "code",
      "execution_count": null,
      "metadata": {},
      "outputs": [],
      "source": [
        "from tensorflow.keras.models import Sequential\n",
        "from tensorflow.keras.layers import LSTM, Dense\n",
        "from tensorflow.keras.optimizers import RMSprop\n",
        "import tensorflow as tf\n",
        "\n",
        "# Ajustar parámetros para reproducibilidad\n",
        "tf.keras.utils.set_random_seed(123)\n",
        "tf.config.experimental.enable_op_determinism()\n",
        "\n",
        "N_UNITS = 229\n",
        "INPUT_SHAPE = (x_tr_s.shape[1], x_tr_s.shape[2]) # 30 (días) x 1 (feature)\n",
        "\n",
        "# Crear el modelo\n",
        "modelo_sin_dropout = Sequential()\n",
        "modelo_sin_dropout.add(LSTM(N_UNITS, input_shape=INPUT_SHAPE))\n",
        "modelo_sin_dropout.add(Dense(OUTPUT_LENGTH, activation='linear'))\n",
        "\n",
        "# Definir función de pérdida personalizada (RMSE)\n",
        "def root_mean_squared_error(y_true, y_pred):\n",
        "    return tf.math.sqrt(tf.math.reduce_mean(tf.square(y_pred - y_true)))\n",
        "\n",
        "# Compilar el modelo\n",
        "optimizador = RMSprop(learning_rate=5e-5)\n",
        "modelo_sin_dropout.compile(\n",
        "    optimizer=optimizador,\n",
        "    loss=root_mean_squared_error\n",
        ")\n",
        "\n",
        "# Mostrar la estructura del modelo\n",
        "modelo_sin_dropout.summary()\n",
        "\n",
        "# Entrenamiento\n",
        "EPOCHS = 50\n",
        "BATCH_SIZE = 256\n",
        "historia_sin_dropout = modelo_sin_dropout.fit(\n",
        "    x=x_tr_s,\n",
        "    y=y_tr_s,\n",
        "    batch_size=BATCH_SIZE,\n",
        "    epochs=EPOCHS,\n",
        "    validation_data=(x_vl_s, y_vl_s),\n",
        "    verbose=2\n",
        ")\n",
        "\n",
        "# Graficar el error\n",
        "import matplotlib.pyplot as plt\n",
        "\n",
        "plt.plot(historia_sin_dropout.history['loss'], label=f'Train Loss without Dropout, iditem={idItem}')\n",
        "plt.plot(historia_sin_dropout.history['val_loss'], label=f'Val Loss without Dropout, iditem={idItem}')\n",
        "plt.title('Pérdida durante el Entrenamiento')\n",
        "plt.xlabel('Época')\n",
        "plt.ylabel('Pérdida')\n",
        "plt.legend()\n",
        "plt.show()\n"
      ]
    },
    {
      "cell_type": "markdown",
      "metadata": {
        "id": "nTkl1nl6nHde"
      },
      "source": [
        "## GUARDAR MODELO"
      ]
    },
    {
      "cell_type": "code",
      "execution_count": null,
      "metadata": {
        "id": "Q3az-Nz_nGsT"
      },
      "outputs": [],
      "source": [
        "# Guardar el modelo entrenado\n",
        "modelo.save(f'modelo_{idItem}.keras')\n",
        "#modelo.save(f'modelo_{idItem}.keras')"
      ]
    },
    {
      "cell_type": "markdown",
      "metadata": {
        "id": "0INtyfPvLgL1"
      },
      "source": [
        "# CARGAR MODELO 1"
      ]
    },
    {
      "cell_type": "code",
      "execution_count": null,
      "metadata": {
        "id": "e4EnKypAI7Ls"
      },
      "outputs": [],
      "source": [
        "# def preparar_datos_para_prediccion(df, id_item, input_length, output_length, scaler, modelo):\n",
        "#     \"\"\"\n",
        "#     Predice los valores de los próximos días a partir del último registro en el DataFrame.\n",
        "\n",
        "#     Args:\n",
        "#     df (pd.DataFrame): DataFrame que contiene las columnas 'fecha', 'id_item', 'cantidad_frac'.\n",
        "#     id_item (int/str): El ID del item para el cual se quieren hacer predicciones.\n",
        "#     input_length (int): El número de registros que el modelo necesita como entrada.\n",
        "#     output_length (int): El número de días a predecir.\n",
        "#     scaler: El objeto MinMaxScaler que se usó para escalar los datos durante el entrenamiento.\n",
        "#     modelo: El modelo LSTM cargado para hacer predicciones.\n",
        "\n",
        "#     Returns:\n",
        "#     np.array: Predicciones desescaladas para los próximos días.\n",
        "#     \"\"\"\n",
        "#     # Suponiendo que df es tu DataFrame original y quieres seleccionar solo ciertas columnas\n",
        "#     columnas_especificas = ['Fecha', 'id_item','cantidad_unid', 'cantidad_frac']\n",
        "#     df = df[columnas_especificas]\n",
        "\n",
        "\n",
        "#     # Filtrar el DataFrame para el id_item deseado\n",
        "#     df_item = df[df['id_item'] == id_item].copy()\n",
        "\n",
        "#     # Ordenar por fecha y tomar los últimos 'input_length' registros\n",
        "#     df_item = df_item.sort_values(by='Fecha').tail(input_length)\n",
        "\n",
        "#     # Asegurarse de que los datos estén en el formato correcto (n_samples, input_length, n_features)\n",
        "#     datos = df_item['cantidad_frac'].values.reshape(-1, 1)\n",
        "\n",
        "#     # Crear un array con las características que espera el scaler (relleno con ceros)\n",
        "#     datos_expandidos = np.zeros((input_length, scaler.n_features_in_))\n",
        "#     datos_expandidos[:, 0] = datos[:, 0]  # Copiar los valores en la primera columna\n",
        "\n",
        "#     # Escalar los datos\n",
        "#     datos_escalados = scaler.transform(datos_expandidos)\n",
        "\n",
        "#     # Seleccionar solo la primera columna escalada para la predicción\n",
        "#     datos_escalados = datos_escalados[:, 0].reshape(1, input_length, 1)\n",
        "\n",
        "#     predicciones = []\n",
        "\n",
        "#     # Iterativamente predecir los próximos días\n",
        "#     for _ in range(output_length):\n",
        "#         # Hacer la predicción\n",
        "#         prediccion = modelo.predict(datos_escalados)\n",
        "\n",
        "#         # Crear un array expandido para desescalado\n",
        "#         prediccion_expandidas = np.zeros((prediccion.shape[0], scaler.n_features_in_))\n",
        "#         prediccion_expandidas[:, 0] = prediccion[:, 0]\n",
        "\n",
        "#         # Invertir el escalado de la predicción\n",
        "#         prediccion_invertida = scaler.inverse_transform(prediccion_expandidas)\n",
        "\n",
        "#         # Agregar la primera columna a las predicciones finales\n",
        "#         predicciones.append(prediccion_invertida[0, 0])\n",
        "\n",
        "#         # Añadir la nueva predicción a los datos para predecir el siguiente día\n",
        "#         nueva_entrada = prediccion[0, 0].reshape(1, 1, 1)\n",
        "#         datos_escalados = np.append(datos_escalados[:, 1:, :], nueva_entrada, axis=1)\n",
        "\n",
        "#     return np.array(predicciones)\n"
      ]
    },
    {
      "cell_type": "code",
      "execution_count": null,
      "metadata": {
        "id": "4yH7l_k9JM5f"
      },
      "outputs": [],
      "source": [
        "\n",
        "# # Ejemplo de uso:\n",
        "# id_item = 13887  # Reemplaza con tu id_item específico\n",
        "# input_length = 24  # Este es el valor que usaste para entrenar tu modelo\n",
        "# output_length = 5  # Los 5 días que quieres predecir\n",
        "\n",
        "# # Realizar las predicciones\n",
        "# predicciones_5_dias = preparar_datos_para_prediccion(df3, id_item, input_length, output_length, scaler_cargado, modelo_cargado)\n",
        "\n",
        "# print(\"Predicciones para los próximos 5 días:\", predicciones_5_dias)"
      ]
    },
    {
      "cell_type": "markdown",
      "metadata": {
        "id": "vwqPscfVomH1"
      },
      "source": [
        "# CARGAR MODELO 2"
      ]
    },
    {
      "cell_type": "code",
      "execution_count": null,
      "metadata": {
        "id": "y_evkIyfolc5"
      },
      "outputs": [],
      "source": [
        "from tensorflow.keras.models import load_model\n",
        "from datetime import timedelta\n",
        "\n",
        "\n",
        "# Cargar el modelo guardado en formato Keras\n",
        "modelo_cargado = load_model(f'modelo_{idItem}.keras', custom_objects={'root_mean_squared_error': root_mean_squared_error})\n",
        "\n",
        "# Ahora puedes usar el modelo cargado para hacer predicciones\n",
        "# Por ejemplo, utilizando el mismo código que tenías antes para predecir futuros valores\n",
        "def predecir(x, model, scaler):\n",
        "    '''Genera la predicción de OUTPUT_LENGTH instantes\n",
        "    de tiempo a futuro con el modelo entrenado.\n",
        "\n",
        "    Entrada:\n",
        "    - x: batch (o batches) de datos para ingresar al modelo\n",
        "      (tamaño: BATCHES X INPUT_LENGTH X FEATURES)\n",
        "    - model: Red LSTM entrenada\n",
        "    - scaler: escalador (requerido para llevar la predicción a la escala original)\n",
        "\n",
        "    Salida:\n",
        "    - y_pred: la predicción en la escala original (tamaño: BATCHES X OUTPUT_LENGTH X FEATURES)\n",
        "    '''\n",
        "\n",
        "    # Calcular predicción escalada en el rango de -1 a 1\n",
        "    y_pred_s = model.predict(x, verbose=0)\n",
        "\n",
        "    # Llevar la predicción a la escala original\n",
        "    y_pred = scaler.inverse_transform(y_pred_s)\n",
        "\n",
        "    return y_pred.flatten()\n",
        "\n",
        "# Obtener la última fecha del conjunto de datos\n",
        "ultima_fecha = df.index[-1]\n",
        "\n",
        "# Generar un rango de fechas futuras\n",
        "num_predicciones = 4  # Número de días a predecir\n",
        "fechas_futuras = [ultima_fecha + timedelta(days=i) for i in range(1, num_predicciones + 1)]\n",
        "\n",
        "# Preparar el último segmento del conjunto de datos de entrada desde el conjunto de test\n",
        "ultimo_segmento = ts[-INPUT_LENGTH:].values\n",
        "ultimo_segmento = ultimo_segmento.reshape((1, INPUT_LENGTH, 1))\n",
        "\n",
        "# Obtener las predicciones futuras usando el modelo cargado\n",
        "predicciones_futuras = []\n",
        "segmento_actual = ultimo_segmento\n",
        "\n",
        "for _ in range(num_predicciones):\n",
        "    prediccion = predecir(segmento_actual, modelo_cargado, scaler)\n",
        "    predicciones_futuras.append(prediccion[0])\n",
        "\n",
        "    # Actualizar el segmento actual\n",
        "    nuevo_valor = np.array(prediccion[0]).reshape(1, 1, 1)\n",
        "    segmento_actual = np.append(segmento_actual[:, 1:, :], nuevo_valor, axis=1)\n",
        "\n",
        "\n",
        "# Crear un DataFrame con las predicciones futuras y sus fechas\n",
        "resultados_futuros = pd.DataFrame({\n",
        "    'Fecha': fechas_futuras,\n",
        "    'Predicción': predicciones_futuras\n",
        "})\n",
        "\n",
        "\n",
        "resultados_futuros"
      ]
    },
    {
      "cell_type": "code",
      "execution_count": null,
      "metadata": {
        "id": "iceZb4SZMYHD"
      },
      "outputs": [],
      "source": [
        "# from tensorflow.keras.models import load_model\n",
        "# from datetime import timedelta\n",
        "# import pandas as pd\n",
        "# import numpy as np\n",
        "\n",
        "# def predecir_con_modelo(df, modelo, scaler, input_length, num_predicciones, id_item):\n",
        "#     \"\"\"\n",
        "#     Transforma un DataFrame y genera predicciones futuras utilizando un modelo LSTM cargado.\n",
        "\n",
        "#     Args:\n",
        "#     df (pd.DataFrame): DataFrame que contiene las columnas 'fecha', 'id_item', 'cantidad_frac'.\n",
        "#     modelo: Modelo LSTM cargado desde un archivo .keras.\n",
        "#     scaler: Objeto MinMaxScaler utilizado para escalar los datos.\n",
        "#     input_length (int): Número de registros que el modelo necesita como entrada.\n",
        "#     num_predicciones (int): Número de días a predecir.\n",
        "#     id_item (int/str): El ID del item para el cual se quieren hacer predicciones.\n",
        "\n",
        "#     Returns:\n",
        "#     pd.DataFrame: DataFrame con las fechas futuras y sus correspondientes predicciones.\n",
        "#     \"\"\"\n",
        "\n",
        "#     # Filtrar el DataFrame para el id_item deseado\n",
        "#     df_item = df[df['id_item'] == id_item].copy()\n",
        "\n",
        "#     # Obtener la última fecha del conjunto de datos\n",
        "#     ultima_fecha = df_item['Fecha'].max()\n",
        "\n",
        "#     # Asegúrate de que 'ultima_fecha' sea un objeto datetime\n",
        "#     if isinstance(ultima_fecha, str):\n",
        "#         # Si es una cadena, conviértela a datetime\n",
        "#         # (Asumiendo que el formato de fecha es 'YYYY-MM-DD')\n",
        "#         ultima_fecha = pd.to_datetime(ultima_fecha)\n",
        "\n",
        "#     # Generar un rango de fechas futuras\n",
        "#     fechas_futuras = [ultima_fecha + timedelta(days=i) for i in range(1, num_predicciones + 1)]\n",
        "\n",
        "\n",
        "#     # Preparar el último segmento del conjunto de datos de entrada\n",
        "#     ultimo_segmento = df_item['cantidad_frac'].values[-input_length:]\n",
        "#     ultimo_segmento = ultimo_segmento.reshape((1, input_length, 1))\n",
        "\n",
        "#     # Escalar el último segmento\n",
        "#     ultimo_segmento_escalado = np.zeros((input_length, scaler.n_features_in_))\n",
        "#     ultimo_segmento_escalado[:, 0] = ultimo_segmento[:, 0, 0]\n",
        "#     ultimo_segmento_escalado = scaler.transform(ultimo_segmento_escalado)\n",
        "#     segmento_actual = ultimo_segmento_escalado[:, 0].reshape(1, input_length, 1)\n",
        "\n",
        "#     # Obtener las predicciones futuras usando el modelo cargado\n",
        "#     predicciones_futuras = []\n",
        "\n",
        "#     for _ in range(num_predicciones):\n",
        "#         prediccion = modelo.predict(segmento_actual, verbose=0)\n",
        "\n",
        "#         # Desescalar la predicción\n",
        "#         prediccion_expandidas = np.zeros((prediccion.shape[0], scaler.n_features_in_))\n",
        "#         prediccion_expandidas[:, 0] = prediccion[:, 0]\n",
        "#         prediccion_invertida = scaler.inverse_transform(prediccion_expandidas)\n",
        "\n",
        "#         # Agregar la primera columna a las predicciones finales\n",
        "#         predicciones_futuras.append(prediccion_invertida[0, 0])\n",
        "\n",
        "#         # Actualizar el segmento actual\n",
        "#         nuevo_valor = prediccion[0, 0].reshape(1, 1, 1)\n",
        "#         segmento_actual = np.append(segmento_actual[:, 1:, :], nuevo_valor, axis=1)\n",
        "\n",
        "#     # Crear un DataFrame con las predicciones futuras y sus fechas\n",
        "#     resultados_futuros = pd.DataFrame({\n",
        "#         'Fecha': fechas_futuras,\n",
        "#         'Predicción': predicciones_futuras\n",
        "#     })\n",
        "\n",
        "#     return resultados_futuros\n",
        "\n",
        "# # Ejemplo de uso:\n",
        "# #df = pd.read_csv('tu_archivo.csv')  # Reemplaza con tu archivo de datos\n",
        "# input_length = 24  # Este es el valor que usaste para entrenar tu modelo\n",
        "# num_predicciones = 4  # Número de días a predecir\n",
        "# id_item =13887  # Reemplaza con tu id_item específico\n",
        "\n",
        "# # Cargar el modelo guardado en formato Keras\n",
        "# modelo_cargado = load_model('modelo_ventas_insulina.keras', custom_objects={'root_mean_squared_error': root_mean_squared_error})\n",
        "\n",
        "# # Generar las predicciones usando la función\n",
        "# resultados_futuros = predecir_con_modelo(df3, modelo_cargado, scaler, input_length, num_predicciones, id_item)\n",
        "\n",
        "print(resultados_futuros)\n"
      ]
    },
    {
      "cell_type": "code",
      "execution_count": null,
      "metadata": {
        "id": "5XXvMBRLrJsO"
      },
      "outputs": [],
      "source": [
        "# print(\"Número de dimensiones:\", resultados_futuros.ndim)\n",
        "# print(\"Forma del arreglo:\", resultados_futuros.shape)\n",
        "# print(\"Número total de elementos:\", resultados_futuros.size)"
      ]
    },
    {
      "cell_type": "markdown",
      "metadata": {
        "id": "Go1RGDjbYito"
      },
      "source": [
        "# DESEMPEÑO DEL MODELO"
      ]
    },
    {
      "cell_type": "code",
      "execution_count": null,
      "metadata": {
        "colab": {
          "base_uri": "https://localhost:8080/"
        },
        "id": "wKCSkx7kYgbp",
        "outputId": "7a5e9f8f-8be0-447b-a617-e75f407d7659"
      },
      "outputs": [],
      "source": [
        "# Cálculo de rmses para train, val y test\n",
        "rmse_tr = modelo.evaluate(x=x_tr_s, y=y_tr_s, verbose=0)\n",
        "rmse_vl = modelo.evaluate(x=x_vl_s, y=y_vl_s, verbose=0)\n",
        "rmse_ts = modelo.evaluate(x=x_ts_s, y=y_ts_s, verbose=0)\n",
        "\n",
        "# Imprimir resultados en pantalla\n",
        "print('Comparativo desempeños con Dropout:')\n",
        "print(f'  RMSE train:\\t {rmse_tr:.3f}')\n",
        "print(f'  RMSE val:\\t {rmse_vl:.3f}')\n",
        "print(f'  RMSE test:\\t {rmse_ts:.3f}')"
      ]
    },
    {
      "cell_type": "markdown",
      "metadata": {
        "id": "6S8R6dH9jCfB"
      },
      "source": [
        "Los desempeños son comparables lo cual quiere decir que el modelo generaliza bastante bien."
      ]
    },
    {
      "cell_type": "code",
      "execution_count": null,
      "metadata": {
        "colab": {
          "base_uri": "https://localhost:8080/",
          "height": 450
        },
        "id": "pBu3jEd2zAjV",
        "outputId": "fbd9632e-f8fd-4e38-9c4c-1d94dfb3da2a"
      },
      "outputs": [],
      "source": [
        "# 1. Generar las predicciones sobre el set de prueba\n",
        "y_ts_pred_s = modelo.predict(x_ts_s, verbose=0)\n",
        "\n",
        "# 2. Realizar la transformación inversa de las predicciones para llevar sus\n",
        "# valores a la escala original\n",
        "y_ts_pred = scaler.inverse_transform(y_ts_pred_s)\n",
        "\n",
        "# 3. Calcular RMSE para cada instante de tiempo predicho\n",
        "diff_cuad = np.square(y_ts.squeeze()-y_ts_pred) # 284x5\n",
        "proms = np.mean(diff_cuad, axis=0) # 1x5\n",
        "rmse = np.sqrt(proms) # 1x5\n",
        "\n",
        "# Graficar rmse para cada timestep\n",
        "t = np.linspace(1,5,5) # Changed to match the length of rmse\n",
        "\n",
        "fig, ax = plt.subplots()\n",
        "ax.scatter(t,rmse)\n",
        "ax.set_xlabel('Día predicho')\n",
        "ax.set_ylabel(f'Error RMSE: {idItem} ')\n",
        "plt.xticks(ticks=t, labels=t)\n",
        "plt.grid();"
      ]
    },
    {
      "cell_type": "code",
      "execution_count": null,
      "metadata": {
        "id": "AaDUoZTA0pV1"
      },
      "outputs": [],
      "source": [
        "def predecir(x, model, scaler):\n",
        "    '''Genera la predicción de OUTPUT_LENGTH instantes\n",
        "    de tiempo a futuro con el modelo entrenado.\n",
        "\n",
        "    Entrada:\n",
        "    - x: batch (o batches) de datos para ingresar al modelo\n",
        "      (tamaño: BATCHES X INPUT_LENGTH X FEATURES)\n",
        "    - model: Red LSTM entrenada\n",
        "    - scaler: escalador (requerido para llevar la predicción a la escala original)\n",
        "\n",
        "    Salida:\n",
        "    - y_pred: la predicción en la escala original (tamaño: BATCHES X OUTPUT_LENGTH X FEATURES)\n",
        "    '''\n",
        "\n",
        "    # Calcular predicción escalada en el rango de -1 a 1\n",
        "    y_pred_s = model.predict(x,verbose=0)\n",
        "\n",
        "    # Llevar la predicción a la escala original\n",
        "    y_pred = scaler.inverse_transform(y_pred_s)\n",
        "\n",
        "    return y_pred.flatten()"
      ]
    },
    {
      "cell_type": "code",
      "execution_count": null,
      "metadata": {
        "id": "nDFcSjGY0qsS"
      },
      "outputs": [],
      "source": [
        "# Calcular predicciones sobre el set de prueba\n",
        "y_ts_pred = predecir(x_ts_s, modelo, scaler)"
      ]
    },
    {
      "cell_type": "code",
      "execution_count": null,
      "metadata": {
        "colab": {
          "base_uri": "https://localhost:8080/",
          "height": 430
        },
        "id": "TlVB-YJp0qm0",
        "outputId": "f35103d8-cace-4318-984f-2f9cc1d55456"
      },
      "outputs": [],
      "source": [
        "N = len(y_ts_pred)    # Número de predicciones\n",
        "ndato = np.linspace(1,N,N)\n",
        "\n",
        "# Cálculo de errores simples\n",
        "errores = y_ts.flatten()-y_ts_pred\n",
        "plt.plot(errores);"
      ]
    },
    {
      "cell_type": "code",
      "execution_count": null,
      "metadata": {},
      "outputs": [],
      "source": [
        "df2\n"
      ]
    },
    {
      "cell_type": "code",
      "execution_count": null,
      "metadata": {},
      "outputs": [],
      "source": [
        "# Asumiendo que quieres obtener los últimos N registros del DataFrame\n",
        "N = 10  # Número de registros que quieres extraer\n",
        "df_real_values = df2.tail(N)  # Obtiene los últimos N registros\n",
        "\n",
        "# Extraer los valores reales de 'cantidad_frac' (asumiendo que esta es la columna de valores reales)\n",
        "y_real = df_real_values['cantidad_frac'].values  # Extraer como array para comparación\n"
      ]
    },
    {
      "cell_type": "code",
      "execution_count": null,
      "metadata": {},
      "outputs": [],
      "source": [
        "# Generar las predicciones correspondientes\n",
        "y_pred = predecir(x_ts_s, modelo, scaler)  # Generar predicciones\n",
        "\n",
        "# Asegurarte de que solo estás comparando los últimos N registros de las predicciones\n",
        "y_pred_last = y_pred[-N:]  # Obtiene las últimas N predicciones\n",
        "y_pred_last"
      ]
    },
    {
      "cell_type": "code",
      "execution_count": null,
      "metadata": {},
      "outputs": [],
      "source": [
        "import matplotlib.pyplot as plt\n",
        "\n",
        "# Graficar los valores reales vs predicciones\n",
        "plt.figure(figsize=(10, 6))\n",
        "plt.plot(df_real_values.index, y_real, label='Valores Reales', marker='o')\n",
        "plt.plot(df_real_values.index, y_pred_last, label='Valores Predichos', linestyle='--', marker='x')\n",
        "plt.title('Comparación de Valores Reales y Predichos')\n",
        "plt.xlabel('Fecha')\n",
        "plt.ylabel('Cantidad')\n",
        "plt.legend()\n",
        "plt.xticks(rotation=45)\n",
        "plt.show()\n"
      ]
    },
    {
      "cell_type": "code",
      "execution_count": null,
      "metadata": {},
      "outputs": [],
      "source": [
        "import matplotlib.pyplot as plt\n",
        "\n",
        "# Graficar los últimos valores reales vs predicciones\n",
        "plt.figure(figsize=(10,6))\n",
        "plt.plot(y_real, label='Valores Reales (Últimos)')\n",
        "plt.plot(y_pred_last, label='Valores Predichos', linestyle='--')  # Comparar con las primeras predicciones\n",
        "plt.title('Comparación de los Últimos Valores Reales y Predichos')\n",
        "plt.xlabel('Tiempos')\n",
        "plt.ylabel('Valores')\n",
        "plt.legend()\n",
        "plt.show()\n"
      ]
    },
    {
      "cell_type": "code",
      "execution_count": null,
      "metadata": {},
      "outputs": [],
      "source": [
        "from sklearn.metrics import mean_squared_error, mean_absolute_error\n",
        "import numpy as np\n",
        "\n",
        "# Calcular RMSE y MAE para los últimos valores reales\n",
        "rmse = np.sqrt(mean_squared_error(y_real, y_pred[:OUTPUT_LENGTH]))\n",
        "mae = mean_absolute_error(y_real, y_pred[:OUTPUT_LENGTH])\n",
        "\n",
        "print(f\"RMSE: {rmse}\")\n",
        "print(f\"MAE: {mae}\")\n"
      ]
    },
    {
      "cell_type": "code",
      "execution_count": null,
      "metadata": {},
      "outputs": [],
      "source": []
    },
    {
      "cell_type": "code",
      "execution_count": null,
      "metadata": {},
      "outputs": [],
      "source": []
    },
    {
      "cell_type": "code",
      "execution_count": null,
      "metadata": {},
      "outputs": [],
      "source": [
        "import matplotlib.pyplot as plt\n",
        "\n",
        "# Graficar los valores reales vs predicciones\n",
        "plt.figure(figsize=(10,6))\n",
        "plt.plot(y_real, label='Valores Reales')\n",
        "plt.plot(y_pred, label='Valores Predichos', linestyle='--')\n",
        "plt.title('Comparación de Valores Reales y Predichos')\n",
        "plt.xlabel('Tiempos')\n",
        "plt.ylabel('Valores')\n",
        "plt.legend()\n",
        "plt.show()\n"
      ]
    },
    {
      "cell_type": "code",
      "execution_count": null,
      "metadata": {},
      "outputs": [],
      "source": [
        "df2.set_index('Fecha', inplace=True)"
      ]
    },
    {
      "cell_type": "code",
      "execution_count": null,
      "metadata": {
        "id": "85RfAwGKfd9b"
      },
      "outputs": [],
      "source": [
        "from datetime import timedelta\n",
        "\n",
        "# Obtener la última fecha del conjunto de datos\n",
        "ultima_fecha = df2.index[-1]\n",
        "\n",
        "# Generar un rango de fechas futuras\n",
        "\n",
        "fechas_futuras = [ultima_fecha + timedelta(days=i) for i in range(1, OUTPUT_LENGTH + 1)]\n",
        "\n",
        "# Preparar el último segmento del conjunto de datos de entrada desde el conjunto de test\n",
        "ultimo_segmento = ts[-INPUT_LENGTH:].values\n",
        "ultimo_segmento = ultimo_segmento.reshape((1, INPUT_LENGTH, 1))\n",
        "\n",
        "# Obtener las predicciones futuras\n",
        "predicciones_futuras = []\n",
        "segmento_actual = ultimo_segmento.copy()  # Create a copy to avoid modifying the original\n",
        "\n",
        "for _ in range(num_predicciones):\n",
        "    prediccion = predecir(segmento_actual, modelo, scaler)\n",
        "    predicciones_futuras.append(prediccion[0])\n",
        "\n",
        "    # Actualizar el segmento actual - Instead of appending and slicing,\n",
        "    # shift the values and insert the new prediction at the end\n",
        "    segmento_actual = np.roll(segmento_actual, -1, axis=1)\n",
        "    segmento_actual[0,-1,0] = prediccion[0]\n",
        "\n",
        "# Crear un DataFrame con las predicciones futuras y sus fechas\n",
        "resultados_futuros = pd.DataFrame({\n",
        "    'Fecha': fechas_futuras,\n",
        "    'Predicción': predicciones_futuras\n",
        "})\n",
        "\n",
        "resultados_futuros.set_index('Fecha', inplace=True)\n"
      ]
    },
    {
      "cell_type": "code",
      "execution_count": null,
      "metadata": {},
      "outputs": [],
      "source": [
        "print(resultados_futuros)"
      ]
    },
    {
      "cell_type": "code",
      "execution_count": null,
      "metadata": {},
      "outputs": [],
      "source": []
    }
  ],
  "metadata": {
    "accelerator": "GPU",
    "colab": {
      "collapsed_sections": [
        "ucRLLNXnK1ZA",
        "wKZvFSShSXxr"
      ],
      "gpuType": "T4",
      "provenance": []
    },
    "kernelspec": {
      "display_name": "Python 3",
      "name": "python3"
    },
    "language_info": {
      "codemirror_mode": {
        "name": "ipython",
        "version": 3
      },
      "file_extension": ".py",
      "mimetype": "text/x-python",
      "name": "python",
      "nbconvert_exporter": "python",
      "pygments_lexer": "ipython3",
      "version": "3.10.12"
    }
  },
  "nbformat": 4,
  "nbformat_minor": 0
}
